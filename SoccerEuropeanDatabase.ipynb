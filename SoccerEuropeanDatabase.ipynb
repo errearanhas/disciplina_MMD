{
 "cells": [
  {
   "cell_type": "markdown",
   "metadata": {},
   "source": [
    "# Notebook referente ao último trabalho: European Soccer Database\n",
    "\n",
    "https://www.kaggle.com/c/talkingdata-mobile-user-demographics\n",
    "\n",
    "## Disciplina: Mineração de Dados (Setembro/16)\n",
    "\n",
    "## Aluno: Renato Santos Aranha"
   ]
  },
  {
   "cell_type": "code",
   "execution_count": 2,
   "metadata": {
    "collapsed": false
   },
   "outputs": [
    {
     "data": {
      "text/html": [
       "\n",
       "    <div class=\"bk-banner\">\n",
       "        <a href=\"http://bokeh.pydata.org\" target=\"_blank\" class=\"bk-logo bk-logo-small bk-logo-notebook\"></a>\n",
       "        <span id=\"d24e02a0-ca40-49bd-8312-2d1f3bf23ce6\">Loading BokehJS ...</span>\n",
       "    </div>"
      ]
     },
     "metadata": {},
     "output_type": "display_data"
    },
    {
     "data": {
      "application/javascript": [
       "\n",
       "(function(global) {\n",
       "  function now() {\n",
       "    return new Date();\n",
       "  }\n",
       "\n",
       "  if (typeof (window._bokeh_onload_callbacks) === \"undefined\") {\n",
       "    window._bokeh_onload_callbacks = [];\n",
       "  }\n",
       "\n",
       "  function run_callbacks() {\n",
       "    window._bokeh_onload_callbacks.forEach(function(callback) { callback() });\n",
       "    delete window._bokeh_onload_callbacks\n",
       "    console.info(\"Bokeh: all callbacks have finished\");\n",
       "  }\n",
       "\n",
       "  function load_libs(js_urls, callback) {\n",
       "    window._bokeh_onload_callbacks.push(callback);\n",
       "    if (window._bokeh_is_loading > 0) {\n",
       "      console.log(\"Bokeh: BokehJS is being loaded, scheduling callback at\", now());\n",
       "      return null;\n",
       "    }\n",
       "    if (js_urls == null || js_urls.length === 0) {\n",
       "      run_callbacks();\n",
       "      return null;\n",
       "    }\n",
       "    console.log(\"Bokeh: BokehJS not loaded, scheduling load and callback at\", now());\n",
       "    window._bokeh_is_loading = js_urls.length;\n",
       "    for (var i = 0; i < js_urls.length; i++) {\n",
       "      var url = js_urls[i];\n",
       "      var s = document.createElement('script');\n",
       "      s.src = url;\n",
       "      s.async = false;\n",
       "      s.onreadystatechange = s.onload = function() {\n",
       "        window._bokeh_is_loading--;\n",
       "        if (window._bokeh_is_loading === 0) {\n",
       "          console.log(\"Bokeh: all BokehJS libraries loaded\");\n",
       "          run_callbacks()\n",
       "        }\n",
       "      };\n",
       "      s.onerror = function() {\n",
       "        console.warn(\"failed to load library \" + url);\n",
       "      };\n",
       "      console.log(\"Bokeh: injecting script tag for BokehJS library: \", url);\n",
       "      document.getElementsByTagName(\"head\")[0].appendChild(s);\n",
       "    }\n",
       "  };\n",
       "\n",
       "  var js_urls = ['https://cdn.pydata.org/bokeh/release/bokeh-0.11.1.min.js', 'https://cdn.pydata.org/bokeh/release/bokeh-widgets-0.11.1.min.js', 'https://cdn.pydata.org/bokeh/release/bokeh-compiler-0.11.1.min.js'];\n",
       "\n",
       "  var inline_js = [\n",
       "    function(Bokeh) {\n",
       "      Bokeh.set_log_level(\"info\");\n",
       "    },\n",
       "    \n",
       "    function(Bokeh) {\n",
       "      Bokeh.$(\"#d24e02a0-ca40-49bd-8312-2d1f3bf23ce6\").text(\"BokehJS successfully loaded\");\n",
       "    },\n",
       "    function(Bokeh) {\n",
       "      console.log(\"Bokeh: injecting CSS: https://cdn.pydata.org/bokeh/release/bokeh-0.11.1.min.css\");\n",
       "      Bokeh.embed.inject_css(\"https://cdn.pydata.org/bokeh/release/bokeh-0.11.1.min.css\");\n",
       "      console.log(\"Bokeh: injecting CSS: https://cdn.pydata.org/bokeh/release/bokeh-widgets-0.11.1.min.css\");\n",
       "      Bokeh.embed.inject_css(\"https://cdn.pydata.org/bokeh/release/bokeh-widgets-0.11.1.min.css\");\n",
       "    }\n",
       "  ];\n",
       "\n",
       "  function run_inline_js() {\n",
       "    for (var i = 0; i < inline_js.length; i++) {\n",
       "      inline_js[i](window.Bokeh);\n",
       "    }\n",
       "  }\n",
       "\n",
       "  if (window._bokeh_is_loading === 0) {\n",
       "    console.log(\"Bokeh: BokehJS loaded, going straight to plotting\");\n",
       "    run_inline_js();\n",
       "  } else {\n",
       "    load_libs(js_urls, function() {\n",
       "      console.log(\"Bokeh: BokehJS plotting callback run at\", now());\n",
       "      run_inline_js();\n",
       "    });\n",
       "  }\n",
       "}(this));"
      ]
     },
     "metadata": {},
     "output_type": "display_data"
    }
   ],
   "source": [
    "import sqlite3\n",
    "import pandas as pd\n",
    "import numpy as np\n",
    "from sklearn.manifold import TSNE\n",
    "from sklearn.preprocessing import StandardScaler\n",
    "from bokeh.plotting import figure, ColumnDataSource, show\n",
    "from bokeh.models import HoverTool\n",
    "from bokeh.io import output_notebook\n",
    "import matplotlib.pyplot as plt\n",
    "import seaborn as sns\n",
    "\n",
    "%matplotlib inline\n",
    "output_notebook()"
   ]
  },
  {
   "cell_type": "markdown",
   "metadata": {},
   "source": [
    "# Agenda:\n",
    "* Carregando e verificando os dados;\n",
    "\n",
    "\n",
    "* Perguntas;\n",
    "    * Como é a distribuição de partidas por diferença de gol?\n",
    "    * Qual percentual de partidas são vencidas pelo time da casa (por país)?\n",
    "    * Qual percentual de partidas são empates (por país)?\n",
    "    * Jogadores de mesma posição possuem semelhança nos scouts? (T-SNE dos scouts dos jogadores)\n",
    "    * Como ocorreu a evolução anual dos melhores jogadores?\n"
   ]
  },
  {
   "cell_type": "markdown",
   "metadata": {},
   "source": [
    "## Carregando e verificando os dados:"
   ]
  },
  {
   "cell_type": "code",
   "execution_count": 3,
   "metadata": {
    "collapsed": false
   },
   "outputs": [],
   "source": [
    "#database = '/Users/Renato Aranha/Documents/Python Scripts/database.sqlite'\n",
    "database = '/Users/renato.aranha/Desktop/git/MMD/database.sqlite'"
   ]
  },
  {
   "cell_type": "code",
   "execution_count": 4,
   "metadata": {
    "collapsed": false
   },
   "outputs": [],
   "source": [
    "conn = sqlite3.connect(database)"
   ]
  },
  {
   "cell_type": "code",
   "execution_count": 5,
   "metadata": {
    "collapsed": false
   },
   "outputs": [
    {
     "data": {
      "text/html": [
       "<div>\n",
       "<table border=\"1\" class=\"dataframe\">\n",
       "  <thead>\n",
       "    <tr style=\"text-align: right;\">\n",
       "      <th></th>\n",
       "      <th>name</th>\n",
       "    </tr>\n",
       "  </thead>\n",
       "  <tbody>\n",
       "    <tr>\n",
       "      <th>0</th>\n",
       "      <td>Country</td>\n",
       "    </tr>\n",
       "    <tr>\n",
       "      <th>1</th>\n",
       "      <td>sqlite_sequence</td>\n",
       "    </tr>\n",
       "    <tr>\n",
       "      <th>2</th>\n",
       "      <td>League</td>\n",
       "    </tr>\n",
       "    <tr>\n",
       "      <th>3</th>\n",
       "      <td>Match</td>\n",
       "    </tr>\n",
       "    <tr>\n",
       "      <th>4</th>\n",
       "      <td>Player</td>\n",
       "    </tr>\n",
       "    <tr>\n",
       "      <th>5</th>\n",
       "      <td>Player_Stats</td>\n",
       "    </tr>\n",
       "    <tr>\n",
       "      <th>6</th>\n",
       "      <td>Team</td>\n",
       "    </tr>\n",
       "  </tbody>\n",
       "</table>\n",
       "</div>"
      ],
      "text/plain": [
       "              name\n",
       "0          Country\n",
       "1  sqlite_sequence\n",
       "2           League\n",
       "3            Match\n",
       "4           Player\n",
       "5     Player_Stats\n",
       "6             Team"
      ]
     },
     "execution_count": 5,
     "metadata": {},
     "output_type": "execute_result"
    }
   ],
   "source": [
    "query = \"SELECT name FROM sqlite_master WHERE type='table';\"\n",
    "pd.read_sql(query, conn)"
   ]
  },
  {
   "cell_type": "code",
   "execution_count": 6,
   "metadata": {
    "collapsed": false
   },
   "outputs": [],
   "source": [
    "country = pd.read_sql_query(\"select * from Country\", conn, index_col='id')\n",
    "match = pd.read_sql_query(\"select * from Match\", conn)\n",
    "league = pd.read_sql_query(\"select * from League\", conn)\n",
    "team = pd.read_sql_query(\"select * from Team\", conn)\n",
    "Player = pd.read_sql(\"SELECT * FROM Player\", conn)\n",
    "Player_Stats = pd.read_sql(\"SELECT * FROM Player_Stats\", conn)"
   ]
  },
  {
   "cell_type": "code",
   "execution_count": 7,
   "metadata": {
    "collapsed": false
   },
   "outputs": [
    {
     "data": {
      "text/html": [
       "<div>\n",
       "<table border=\"1\" class=\"dataframe\">\n",
       "  <thead>\n",
       "    <tr style=\"text-align: right;\">\n",
       "      <th></th>\n",
       "      <th>name</th>\n",
       "    </tr>\n",
       "    <tr>\n",
       "      <th>id</th>\n",
       "      <th></th>\n",
       "    </tr>\n",
       "  </thead>\n",
       "  <tbody>\n",
       "    <tr>\n",
       "      <th>1</th>\n",
       "      <td>Belgium</td>\n",
       "    </tr>\n",
       "    <tr>\n",
       "      <th>1729</th>\n",
       "      <td>England</td>\n",
       "    </tr>\n",
       "    <tr>\n",
       "      <th>4735</th>\n",
       "      <td>France</td>\n",
       "    </tr>\n",
       "    <tr>\n",
       "      <th>7775</th>\n",
       "      <td>Germany</td>\n",
       "    </tr>\n",
       "    <tr>\n",
       "      <th>10223</th>\n",
       "      <td>Italy</td>\n",
       "    </tr>\n",
       "    <tr>\n",
       "      <th>13240</th>\n",
       "      <td>Netherlands</td>\n",
       "    </tr>\n",
       "    <tr>\n",
       "      <th>15688</th>\n",
       "      <td>Poland</td>\n",
       "    </tr>\n",
       "    <tr>\n",
       "      <th>17608</th>\n",
       "      <td>Portugal</td>\n",
       "    </tr>\n",
       "    <tr>\n",
       "      <th>19660</th>\n",
       "      <td>Scotland</td>\n",
       "    </tr>\n",
       "    <tr>\n",
       "      <th>21484</th>\n",
       "      <td>Spain</td>\n",
       "    </tr>\n",
       "    <tr>\n",
       "      <th>24524</th>\n",
       "      <td>Switzerland</td>\n",
       "    </tr>\n",
       "  </tbody>\n",
       "</table>\n",
       "</div>"
      ],
      "text/plain": [
       "              name\n",
       "id                \n",
       "1          Belgium\n",
       "1729       England\n",
       "4735        France\n",
       "7775       Germany\n",
       "10223        Italy\n",
       "13240  Netherlands\n",
       "15688       Poland\n",
       "17608     Portugal\n",
       "19660     Scotland\n",
       "21484        Spain\n",
       "24524  Switzerland"
      ]
     },
     "execution_count": 7,
     "metadata": {},
     "output_type": "execute_result"
    }
   ],
   "source": [
    "country"
   ]
  },
  {
   "cell_type": "code",
   "execution_count": 8,
   "metadata": {
    "collapsed": false
   },
   "outputs": [
    {
     "data": {
      "text/plain": [
       "array([    1,  1729,  4735,  7775, 10223, 13240, 15688, 17608, 19660,\n",
       "       21484, 24524], dtype=int64)"
      ]
     },
     "execution_count": 8,
     "metadata": {},
     "output_type": "execute_result"
    }
   ],
   "source": [
    "match['country_id'].unique()"
   ]
  },
  {
   "cell_type": "code",
   "execution_count": 9,
   "metadata": {
    "collapsed": false
   },
   "outputs": [
    {
     "data": {
      "text/html": [
       "<div>\n",
       "<table border=\"1\" class=\"dataframe\">\n",
       "  <thead>\n",
       "    <tr style=\"text-align: right;\">\n",
       "      <th></th>\n",
       "      <th>id</th>\n",
       "      <th>country_id</th>\n",
       "      <th>league_id</th>\n",
       "      <th>season</th>\n",
       "      <th>stage</th>\n",
       "      <th>date</th>\n",
       "      <th>match_api_id</th>\n",
       "      <th>home_team_api_id</th>\n",
       "      <th>away_team_api_id</th>\n",
       "      <th>home_team_goal</th>\n",
       "      <th>...</th>\n",
       "      <th>SJA</th>\n",
       "      <th>VCH</th>\n",
       "      <th>VCD</th>\n",
       "      <th>VCA</th>\n",
       "      <th>GBH</th>\n",
       "      <th>GBD</th>\n",
       "      <th>GBA</th>\n",
       "      <th>BSH</th>\n",
       "      <th>BSD</th>\n",
       "      <th>BSA</th>\n",
       "    </tr>\n",
       "  </thead>\n",
       "  <tbody>\n",
       "    <tr>\n",
       "      <th>0</th>\n",
       "      <td>1</td>\n",
       "      <td>1</td>\n",
       "      <td>1</td>\n",
       "      <td>2008/2009</td>\n",
       "      <td>1</td>\n",
       "      <td>2008-08-17 00:00:00</td>\n",
       "      <td>492473</td>\n",
       "      <td>9987</td>\n",
       "      <td>9993</td>\n",
       "      <td>1</td>\n",
       "      <td>...</td>\n",
       "      <td>4.0</td>\n",
       "      <td>1.65</td>\n",
       "      <td>3.40</td>\n",
       "      <td>4.50</td>\n",
       "      <td>1.78</td>\n",
       "      <td>3.25</td>\n",
       "      <td>4.00</td>\n",
       "      <td>1.73</td>\n",
       "      <td>3.40</td>\n",
       "      <td>4.2</td>\n",
       "    </tr>\n",
       "    <tr>\n",
       "      <th>1</th>\n",
       "      <td>2</td>\n",
       "      <td>1</td>\n",
       "      <td>1</td>\n",
       "      <td>2008/2009</td>\n",
       "      <td>1</td>\n",
       "      <td>2008-08-16 00:00:00</td>\n",
       "      <td>492474</td>\n",
       "      <td>10000</td>\n",
       "      <td>9994</td>\n",
       "      <td>0</td>\n",
       "      <td>...</td>\n",
       "      <td>3.8</td>\n",
       "      <td>2.00</td>\n",
       "      <td>3.25</td>\n",
       "      <td>3.25</td>\n",
       "      <td>1.85</td>\n",
       "      <td>3.25</td>\n",
       "      <td>3.75</td>\n",
       "      <td>1.91</td>\n",
       "      <td>3.25</td>\n",
       "      <td>3.6</td>\n",
       "    </tr>\n",
       "    <tr>\n",
       "      <th>2</th>\n",
       "      <td>3</td>\n",
       "      <td>1</td>\n",
       "      <td>1</td>\n",
       "      <td>2008/2009</td>\n",
       "      <td>1</td>\n",
       "      <td>2008-08-16 00:00:00</td>\n",
       "      <td>492475</td>\n",
       "      <td>9984</td>\n",
       "      <td>8635</td>\n",
       "      <td>0</td>\n",
       "      <td>...</td>\n",
       "      <td>NaN</td>\n",
       "      <td>NaN</td>\n",
       "      <td>NaN</td>\n",
       "      <td>NaN</td>\n",
       "      <td>NaN</td>\n",
       "      <td>NaN</td>\n",
       "      <td>NaN</td>\n",
       "      <td>NaN</td>\n",
       "      <td>NaN</td>\n",
       "      <td>NaN</td>\n",
       "    </tr>\n",
       "  </tbody>\n",
       "</table>\n",
       "<p>3 rows × 115 columns</p>\n",
       "</div>"
      ],
      "text/plain": [
       "   id  country_id  league_id     season  stage                 date  \\\n",
       "0   1           1          1  2008/2009      1  2008-08-17 00:00:00   \n",
       "1   2           1          1  2008/2009      1  2008-08-16 00:00:00   \n",
       "2   3           1          1  2008/2009      1  2008-08-16 00:00:00   \n",
       "\n",
       "   match_api_id  home_team_api_id  away_team_api_id  home_team_goal ...   SJA  \\\n",
       "0        492473              9987              9993               1 ...   4.0   \n",
       "1        492474             10000              9994               0 ...   3.8   \n",
       "2        492475              9984              8635               0 ...   NaN   \n",
       "\n",
       "    VCH   VCD   VCA   GBH   GBD   GBA   BSH   BSD  BSA  \n",
       "0  1.65  3.40  4.50  1.78  3.25  4.00  1.73  3.40  4.2  \n",
       "1  2.00  3.25  3.25  1.85  3.25  3.75  1.91  3.25  3.6  \n",
       "2   NaN   NaN   NaN   NaN   NaN   NaN   NaN   NaN  NaN  \n",
       "\n",
       "[3 rows x 115 columns]"
      ]
     },
     "execution_count": 9,
     "metadata": {},
     "output_type": "execute_result"
    }
   ],
   "source": [
    "match.head(3)"
   ]
  },
  {
   "cell_type": "code",
   "execution_count": 10,
   "metadata": {
    "collapsed": false
   },
   "outputs": [
    {
     "data": {
      "text/html": [
       "<div>\n",
       "<table border=\"1\" class=\"dataframe\">\n",
       "  <thead>\n",
       "    <tr style=\"text-align: right;\">\n",
       "      <th></th>\n",
       "      <th>id</th>\n",
       "      <th>country_id</th>\n",
       "      <th>name</th>\n",
       "    </tr>\n",
       "  </thead>\n",
       "  <tbody>\n",
       "    <tr>\n",
       "      <th>0</th>\n",
       "      <td>1</td>\n",
       "      <td>1</td>\n",
       "      <td>Belgium Jupiler League</td>\n",
       "    </tr>\n",
       "    <tr>\n",
       "      <th>1</th>\n",
       "      <td>1729</td>\n",
       "      <td>1729</td>\n",
       "      <td>England Premier League</td>\n",
       "    </tr>\n",
       "    <tr>\n",
       "      <th>2</th>\n",
       "      <td>4735</td>\n",
       "      <td>4735</td>\n",
       "      <td>France Ligue 1</td>\n",
       "    </tr>\n",
       "  </tbody>\n",
       "</table>\n",
       "</div>"
      ],
      "text/plain": [
       "     id  country_id                    name\n",
       "0     1           1  Belgium Jupiler League\n",
       "1  1729        1729  England Premier League\n",
       "2  4735        4735          France Ligue 1"
      ]
     },
     "execution_count": 10,
     "metadata": {},
     "output_type": "execute_result"
    }
   ],
   "source": [
    "league.head(3)"
   ]
  },
  {
   "cell_type": "code",
   "execution_count": 11,
   "metadata": {
    "collapsed": false
   },
   "outputs": [
    {
     "data": {
      "text/html": [
       "<div>\n",
       "<table border=\"1\" class=\"dataframe\">\n",
       "  <thead>\n",
       "    <tr style=\"text-align: right;\">\n",
       "      <th></th>\n",
       "      <th>id</th>\n",
       "      <th>team_api_id</th>\n",
       "      <th>team_long_name</th>\n",
       "      <th>team_short_name</th>\n",
       "    </tr>\n",
       "  </thead>\n",
       "  <tbody>\n",
       "    <tr>\n",
       "      <th>0</th>\n",
       "      <td>1</td>\n",
       "      <td>9987</td>\n",
       "      <td>Genk</td>\n",
       "      <td>GEN</td>\n",
       "    </tr>\n",
       "    <tr>\n",
       "      <th>1</th>\n",
       "      <td>2</td>\n",
       "      <td>9993</td>\n",
       "      <td>Beerschot AC</td>\n",
       "      <td>BAC</td>\n",
       "    </tr>\n",
       "    <tr>\n",
       "      <th>2</th>\n",
       "      <td>3</td>\n",
       "      <td>10000</td>\n",
       "      <td>Zulte-Waregem</td>\n",
       "      <td>ZUL</td>\n",
       "    </tr>\n",
       "  </tbody>\n",
       "</table>\n",
       "</div>"
      ],
      "text/plain": [
       "   id  team_api_id team_long_name team_short_name\n",
       "0   1         9987           Genk             GEN\n",
       "1   2         9993   Beerschot AC             BAC\n",
       "2   3        10000  Zulte-Waregem             ZUL"
      ]
     },
     "execution_count": 11,
     "metadata": {},
     "output_type": "execute_result"
    }
   ],
   "source": [
    "team.head(3)"
   ]
  },
  {
   "cell_type": "code",
   "execution_count": 12,
   "metadata": {
    "collapsed": false
   },
   "outputs": [
    {
     "data": {
      "text/html": [
       "<div>\n",
       "<table border=\"1\" class=\"dataframe\">\n",
       "  <thead>\n",
       "    <tr style=\"text-align: right;\">\n",
       "      <th></th>\n",
       "      <th>id</th>\n",
       "      <th>player_api_id</th>\n",
       "      <th>player_name</th>\n",
       "      <th>player_fifa_api_id</th>\n",
       "      <th>birthday</th>\n",
       "      <th>height</th>\n",
       "      <th>weight</th>\n",
       "    </tr>\n",
       "  </thead>\n",
       "  <tbody>\n",
       "    <tr>\n",
       "      <th>0</th>\n",
       "      <td>1</td>\n",
       "      <td>505942</td>\n",
       "      <td>Aaron Appindangoye</td>\n",
       "      <td>218353</td>\n",
       "      <td>1992-02-29 00:00:00</td>\n",
       "      <td>182.88</td>\n",
       "      <td>187</td>\n",
       "    </tr>\n",
       "    <tr>\n",
       "      <th>1</th>\n",
       "      <td>2</td>\n",
       "      <td>155782</td>\n",
       "      <td>Aaron Cresswell</td>\n",
       "      <td>189615</td>\n",
       "      <td>1989-12-15 00:00:00</td>\n",
       "      <td>170.18</td>\n",
       "      <td>146</td>\n",
       "    </tr>\n",
       "    <tr>\n",
       "      <th>2</th>\n",
       "      <td>3</td>\n",
       "      <td>162549</td>\n",
       "      <td>Aaron Doran</td>\n",
       "      <td>186170</td>\n",
       "      <td>1991-05-13 00:00:00</td>\n",
       "      <td>170.18</td>\n",
       "      <td>163</td>\n",
       "    </tr>\n",
       "  </tbody>\n",
       "</table>\n",
       "</div>"
      ],
      "text/plain": [
       "   id  player_api_id         player_name  player_fifa_api_id  \\\n",
       "0   1         505942  Aaron Appindangoye              218353   \n",
       "1   2         155782     Aaron Cresswell              189615   \n",
       "2   3         162549         Aaron Doran              186170   \n",
       "\n",
       "              birthday  height  weight  \n",
       "0  1992-02-29 00:00:00  182.88     187  \n",
       "1  1989-12-15 00:00:00  170.18     146  \n",
       "2  1991-05-13 00:00:00  170.18     163  "
      ]
     },
     "execution_count": 12,
     "metadata": {},
     "output_type": "execute_result"
    }
   ],
   "source": [
    "Player.head(3)"
   ]
  },
  {
   "cell_type": "code",
   "execution_count": 13,
   "metadata": {
    "collapsed": false
   },
   "outputs": [
    {
     "data": {
      "text/html": [
       "<div>\n",
       "<table border=\"1\" class=\"dataframe\">\n",
       "  <thead>\n",
       "    <tr style=\"text-align: right;\">\n",
       "      <th></th>\n",
       "      <th>id</th>\n",
       "      <th>player_fifa_api_id</th>\n",
       "      <th>player_api_id</th>\n",
       "      <th>date_stat</th>\n",
       "      <th>overall_rating</th>\n",
       "      <th>potential</th>\n",
       "      <th>preferred_foot</th>\n",
       "      <th>attacking_work_rate</th>\n",
       "      <th>defensive_work_rate</th>\n",
       "      <th>crossing</th>\n",
       "      <th>...</th>\n",
       "      <th>vision</th>\n",
       "      <th>penalties</th>\n",
       "      <th>marking</th>\n",
       "      <th>standing_tackle</th>\n",
       "      <th>sliding_tackle</th>\n",
       "      <th>gk_diving</th>\n",
       "      <th>gk_handling</th>\n",
       "      <th>gk_kicking</th>\n",
       "      <th>gk_positioning</th>\n",
       "      <th>gk_reflexes</th>\n",
       "    </tr>\n",
       "  </thead>\n",
       "  <tbody>\n",
       "    <tr>\n",
       "      <th>0</th>\n",
       "      <td>1</td>\n",
       "      <td>218353</td>\n",
       "      <td>505942</td>\n",
       "      <td>2016-02-18 00:00:00</td>\n",
       "      <td>67.0</td>\n",
       "      <td>71.0</td>\n",
       "      <td>right</td>\n",
       "      <td>medium</td>\n",
       "      <td>medium</td>\n",
       "      <td>49.0</td>\n",
       "      <td>...</td>\n",
       "      <td>54.0</td>\n",
       "      <td>48.0</td>\n",
       "      <td>65.0</td>\n",
       "      <td>69.0</td>\n",
       "      <td>69.0</td>\n",
       "      <td>6.0</td>\n",
       "      <td>11.0</td>\n",
       "      <td>10.0</td>\n",
       "      <td>8.0</td>\n",
       "      <td>8.0</td>\n",
       "    </tr>\n",
       "    <tr>\n",
       "      <th>1</th>\n",
       "      <td>2</td>\n",
       "      <td>218353</td>\n",
       "      <td>505942</td>\n",
       "      <td>2015-11-19 00:00:00</td>\n",
       "      <td>67.0</td>\n",
       "      <td>71.0</td>\n",
       "      <td>right</td>\n",
       "      <td>medium</td>\n",
       "      <td>medium</td>\n",
       "      <td>49.0</td>\n",
       "      <td>...</td>\n",
       "      <td>54.0</td>\n",
       "      <td>48.0</td>\n",
       "      <td>65.0</td>\n",
       "      <td>69.0</td>\n",
       "      <td>69.0</td>\n",
       "      <td>6.0</td>\n",
       "      <td>11.0</td>\n",
       "      <td>10.0</td>\n",
       "      <td>8.0</td>\n",
       "      <td>8.0</td>\n",
       "    </tr>\n",
       "    <tr>\n",
       "      <th>2</th>\n",
       "      <td>3</td>\n",
       "      <td>218353</td>\n",
       "      <td>505942</td>\n",
       "      <td>2015-09-21 00:00:00</td>\n",
       "      <td>62.0</td>\n",
       "      <td>66.0</td>\n",
       "      <td>right</td>\n",
       "      <td>medium</td>\n",
       "      <td>medium</td>\n",
       "      <td>49.0</td>\n",
       "      <td>...</td>\n",
       "      <td>54.0</td>\n",
       "      <td>48.0</td>\n",
       "      <td>65.0</td>\n",
       "      <td>66.0</td>\n",
       "      <td>69.0</td>\n",
       "      <td>6.0</td>\n",
       "      <td>11.0</td>\n",
       "      <td>10.0</td>\n",
       "      <td>8.0</td>\n",
       "      <td>8.0</td>\n",
       "    </tr>\n",
       "  </tbody>\n",
       "</table>\n",
       "<p>3 rows × 42 columns</p>\n",
       "</div>"
      ],
      "text/plain": [
       "   id  player_fifa_api_id  player_api_id            date_stat  overall_rating  \\\n",
       "0   1              218353         505942  2016-02-18 00:00:00            67.0   \n",
       "1   2              218353         505942  2015-11-19 00:00:00            67.0   \n",
       "2   3              218353         505942  2015-09-21 00:00:00            62.0   \n",
       "\n",
       "   potential preferred_foot attacking_work_rate defensive_work_rate  crossing  \\\n",
       "0       71.0          right              medium              medium      49.0   \n",
       "1       71.0          right              medium              medium      49.0   \n",
       "2       66.0          right              medium              medium      49.0   \n",
       "\n",
       "      ...       vision  penalties  marking  standing_tackle  sliding_tackle  \\\n",
       "0     ...         54.0       48.0     65.0             69.0            69.0   \n",
       "1     ...         54.0       48.0     65.0             69.0            69.0   \n",
       "2     ...         54.0       48.0     65.0             66.0            69.0   \n",
       "\n",
       "   gk_diving  gk_handling  gk_kicking  gk_positioning  gk_reflexes  \n",
       "0        6.0         11.0        10.0             8.0          8.0  \n",
       "1        6.0         11.0        10.0             8.0          8.0  \n",
       "2        6.0         11.0        10.0             8.0          8.0  \n",
       "\n",
       "[3 rows x 42 columns]"
      ]
     },
     "execution_count": 13,
     "metadata": {},
     "output_type": "execute_result"
    }
   ],
   "source": [
    "Player_Stats.head(3)"
   ]
  },
  {
   "cell_type": "code",
   "execution_count": 14,
   "metadata": {
    "collapsed": false
   },
   "outputs": [
    {
     "data": {
      "text/plain": [
       "id                    11060\n",
       "player_api_id         11060\n",
       "player_name           11060\n",
       "player_fifa_api_id    11060\n",
       "birthday              11060\n",
       "height                11060\n",
       "weight                11060\n",
       "dtype: int64"
      ]
     },
     "execution_count": 14,
     "metadata": {},
     "output_type": "execute_result"
    }
   ],
   "source": [
    "Player.count()"
   ]
  },
  {
   "cell_type": "code",
   "execution_count": 16,
   "metadata": {
    "collapsed": true
   },
   "outputs": [],
   "source": [
    "match = pd.read_sql_query(\"select * from Match\", conn)"
   ]
  },
  {
   "cell_type": "code",
   "execution_count": 17,
   "metadata": {
    "collapsed": false
   },
   "outputs": [],
   "source": [
    "match = (match.merge(country[['name']], how='left',left_on='country_id',right_on='id',right_index=True))"
   ]
  },
  {
   "cell_type": "code",
   "execution_count": 19,
   "metadata": {
    "collapsed": false
   },
   "outputs": [],
   "source": [
    "match = match.rename(columns={'name': 'país'})"
   ]
  },
  {
   "cell_type": "code",
   "execution_count": 20,
   "metadata": {
    "collapsed": false
   },
   "outputs": [
    {
     "data": {
      "text/plain": [
       "array(['Belgium', 'England', 'France', 'Germany', 'Italy', 'Netherlands',\n",
       "       'Poland', 'Portugal', 'Scotland', 'Spain', 'Switzerland'], dtype=object)"
      ]
     },
     "execution_count": 20,
     "metadata": {},
     "output_type": "execute_result"
    }
   ],
   "source": [
    "match['país'].unique()"
   ]
  },
  {
   "cell_type": "markdown",
   "metadata": {},
   "source": [
    "## Perguntas:\n",
    "\n",
    "    * Como é a distribuição de partidas por gol de diferença?"
   ]
  },
  {
   "cell_type": "code",
   "execution_count": 134,
   "metadata": {
    "collapsed": false
   },
   "outputs": [
    {
     "name": "stdout",
     "output_type": "stream",
     "text": [
      "\n",
      "25.4 % das partidas terminam empatadas.\n",
      "( 6590 em  25945 jogos).\n",
      "\n",
      "37.0 % das partidas terminam com diferença de UM gol.\n",
      "( 9587 em  25945 jogos).\n",
      "\n",
      "22.1 % das partidas terminam com diferença de DOIS gols.\n",
      "( 5728 em  25945 jogos).\n"
     ]
    },
    {
     "data": {
      "image/png": "[encoded data removed]",
      "text/plain": [
       "<matplotlib.figure.Figure at 0x1d516cc0>"
      ]
     },
     "metadata": {},
     "output_type": "display_data"
    }
   ],
   "source": [
    "match['dif_gol'] = abs(pd.Series(match['home_team_goal'] - match['away_team_goal'])) #criando coluna com a diferença de gols\n",
    "\n",
    "jogos_dif_de_gols = match.groupby(['dif_gol']).count()['match_api_id']\n",
    "jogos_dif_de_gols.plot(kind='bar',figsize=(15,6),title='QUANTIDADE DE PARTIDAS POR DIFERENÇA DE GOLS', color = 'g')\n",
    "\n",
    "empate = jogos_dif_de_gols[0];\n",
    "um_gol_de_dif = jogos_dif_de_gols[1];\n",
    "dois_gols_de_dif = jogos_dif_de_gols[2];\n",
    "print ()\n",
    "print (round(100*(empate)/match.shape[0],1), \"% das partidas terminam empatadas.\")\n",
    "print (\"(\",empate,\"em \",match.shape[0],\"jogos).\")\n",
    "print ()\n",
    "print (round(100*(um_gol_de_dif)/match.shape[0],1), \"% das partidas terminam com diferença de UM gol.\")\n",
    "print (\"(\",um_gol_de_dif,\"em \",match.shape[0],\"jogos).\")\n",
    "print ()\n",
    "print (round(100*(dois_gols_de_dif)/match.shape[0],1), \"% das partidas terminam com diferença de DOIS gols.\")\n",
    "print (\"(\",dois_gols_de_dif,\"em \",match.shape[0],\"jogos).\")"
   ]
  },
  {
   "cell_type": "markdown",
   "metadata": {},
   "source": [
    "## e por país?"
   ]
  },
  {
   "cell_type": "code",
   "execution_count": 22,
   "metadata": {
    "collapsed": false
   },
   "outputs": [
    {
     "data": {
      "text/html": [
       "<div>\n",
       "<table border=\"1\" class=\"dataframe\">\n",
       "  <thead>\n",
       "    <tr style=\"text-align: right;\">\n",
       "      <th></th>\n",
       "      <th></th>\n",
       "      <th>match_api_id</th>\n",
       "    </tr>\n",
       "    <tr>\n",
       "      <th>país</th>\n",
       "      <th>dif_gol</th>\n",
       "      <th></th>\n",
       "    </tr>\n",
       "  </thead>\n",
       "  <tbody>\n",
       "    <tr>\n",
       "      <th rowspan=\"5\" valign=\"top\">Belgium</th>\n",
       "      <th>0</th>\n",
       "      <td>425</td>\n",
       "    </tr>\n",
       "    <tr>\n",
       "      <th>1</th>\n",
       "      <td>634</td>\n",
       "    </tr>\n",
       "    <tr>\n",
       "      <th>2</th>\n",
       "      <td>412</td>\n",
       "    </tr>\n",
       "    <tr>\n",
       "      <th>3</th>\n",
       "      <td>162</td>\n",
       "    </tr>\n",
       "    <tr>\n",
       "      <th>4</th>\n",
       "      <td>62</td>\n",
       "    </tr>\n",
       "  </tbody>\n",
       "</table>\n",
       "</div>"
      ],
      "text/plain": [
       "                 match_api_id\n",
       "país    dif_gol              \n",
       "Belgium 0                 425\n",
       "        1                 634\n",
       "        2                 412\n",
       "        3                 162\n",
       "        4                  62"
      ]
     },
     "execution_count": 22,
     "metadata": {},
     "output_type": "execute_result"
    }
   ],
   "source": [
    "jogos_dif_de_gols_pais = match.groupby(['país','dif_gol']).count()['match_api_id']\n",
    "test = pd.DataFrame(jogos_dif_de_gols_pais)\n",
    "test.head()"
   ]
  },
  {
   "cell_type": "code",
   "execution_count": 23,
   "metadata": {
    "collapsed": false
   },
   "outputs": [],
   "source": [
    "test = test.reset_index().rename(columns={'país': 'pais'})"
   ]
  },
  {
   "cell_type": "code",
   "execution_count": 24,
   "metadata": {
    "collapsed": false
   },
   "outputs": [
    {
     "data": {
      "text/html": [
       "<div>\n",
       "<table border=\"1\" class=\"dataframe\">\n",
       "  <thead>\n",
       "    <tr style=\"text-align: right;\">\n",
       "      <th></th>\n",
       "      <th>pais</th>\n",
       "      <th>dif_gol</th>\n",
       "      <th>match_api_id</th>\n",
       "    </tr>\n",
       "  </thead>\n",
       "  <tbody>\n",
       "    <tr>\n",
       "      <th>0</th>\n",
       "      <td>Belgium</td>\n",
       "      <td>0</td>\n",
       "      <td>425</td>\n",
       "    </tr>\n",
       "    <tr>\n",
       "      <th>1</th>\n",
       "      <td>Belgium</td>\n",
       "      <td>1</td>\n",
       "      <td>634</td>\n",
       "    </tr>\n",
       "    <tr>\n",
       "      <th>2</th>\n",
       "      <td>Belgium</td>\n",
       "      <td>2</td>\n",
       "      <td>412</td>\n",
       "    </tr>\n",
       "    <tr>\n",
       "      <th>3</th>\n",
       "      <td>Belgium</td>\n",
       "      <td>3</td>\n",
       "      <td>162</td>\n",
       "    </tr>\n",
       "    <tr>\n",
       "      <th>4</th>\n",
       "      <td>Belgium</td>\n",
       "      <td>4</td>\n",
       "      <td>62</td>\n",
       "    </tr>\n",
       "  </tbody>\n",
       "</table>\n",
       "</div>"
      ],
      "text/plain": [
       "      pais  dif_gol  match_api_id\n",
       "0  Belgium        0           425\n",
       "1  Belgium        1           634\n",
       "2  Belgium        2           412\n",
       "3  Belgium        3           162\n",
       "4  Belgium        4            62"
      ]
     },
     "execution_count": 24,
     "metadata": {},
     "output_type": "execute_result"
    }
   ],
   "source": [
    "test.head()"
   ]
  },
  {
   "cell_type": "code",
   "execution_count": 25,
   "metadata": {
    "collapsed": false
   },
   "outputs": [
    {
     "data": {
      "text/html": [
       "<div>\n",
       "<table border=\"1\" class=\"dataframe\">\n",
       "  <thead>\n",
       "    <tr style=\"text-align: right;\">\n",
       "      <th></th>\n",
       "      <th>match_api_id</th>\n",
       "    </tr>\n",
       "    <tr>\n",
       "      <th>pais</th>\n",
       "      <th></th>\n",
       "    </tr>\n",
       "  </thead>\n",
       "  <tbody>\n",
       "    <tr>\n",
       "      <th>Belgium</th>\n",
       "      <td>1728</td>\n",
       "    </tr>\n",
       "    <tr>\n",
       "      <th>England</th>\n",
       "      <td>3006</td>\n",
       "    </tr>\n",
       "    <tr>\n",
       "      <th>France</th>\n",
       "      <td>3040</td>\n",
       "    </tr>\n",
       "    <tr>\n",
       "      <th>Germany</th>\n",
       "      <td>2448</td>\n",
       "    </tr>\n",
       "    <tr>\n",
       "      <th>Italy</th>\n",
       "      <td>3017</td>\n",
       "    </tr>\n",
       "    <tr>\n",
       "      <th>Netherlands</th>\n",
       "      <td>2448</td>\n",
       "    </tr>\n",
       "    <tr>\n",
       "      <th>Poland</th>\n",
       "      <td>1920</td>\n",
       "    </tr>\n",
       "    <tr>\n",
       "      <th>Portugal</th>\n",
       "      <td>2052</td>\n",
       "    </tr>\n",
       "    <tr>\n",
       "      <th>Scotland</th>\n",
       "      <td>1824</td>\n",
       "    </tr>\n",
       "    <tr>\n",
       "      <th>Spain</th>\n",
       "      <td>3040</td>\n",
       "    </tr>\n",
       "    <tr>\n",
       "      <th>Switzerland</th>\n",
       "      <td>1422</td>\n",
       "    </tr>\n",
       "  </tbody>\n",
       "</table>\n",
       "</div>"
      ],
      "text/plain": [
       "             match_api_id\n",
       "pais                     \n",
       "Belgium              1728\n",
       "England              3006\n",
       "France               3040\n",
       "Germany              2448\n",
       "Italy                3017\n",
       "Netherlands          2448\n",
       "Poland               1920\n",
       "Portugal             2052\n",
       "Scotland             1824\n",
       "Spain                3040\n",
       "Switzerland          1422"
      ]
     },
     "execution_count": 25,
     "metadata": {},
     "output_type": "execute_result"
    }
   ],
   "source": [
    "a = test[['pais','match_api_id']].groupby('pais').sum()\n",
    "a"
   ]
  },
  {
   "cell_type": "code",
   "execution_count": 26,
   "metadata": {
    "collapsed": false
   },
   "outputs": [],
   "source": [
    "test = test.merge(a[['match_api_id']],how='left',left_on='pais',right_on='pais',right_index=True)"
   ]
  },
  {
   "cell_type": "code",
   "execution_count": 27,
   "metadata": {
    "collapsed": false
   },
   "outputs": [
    {
     "data": {
      "text/html": [
       "<div>\n",
       "<table border=\"1\" class=\"dataframe\">\n",
       "  <thead>\n",
       "    <tr style=\"text-align: right;\">\n",
       "      <th></th>\n",
       "      <th>pais</th>\n",
       "      <th>dif_gol</th>\n",
       "      <th>match_api_id_x</th>\n",
       "      <th>match_api_id_y</th>\n",
       "    </tr>\n",
       "  </thead>\n",
       "  <tbody>\n",
       "    <tr>\n",
       "      <th>0</th>\n",
       "      <td>Belgium</td>\n",
       "      <td>0</td>\n",
       "      <td>425</td>\n",
       "      <td>1728</td>\n",
       "    </tr>\n",
       "    <tr>\n",
       "      <th>1</th>\n",
       "      <td>Belgium</td>\n",
       "      <td>1</td>\n",
       "      <td>634</td>\n",
       "      <td>1728</td>\n",
       "    </tr>\n",
       "    <tr>\n",
       "      <th>2</th>\n",
       "      <td>Belgium</td>\n",
       "      <td>2</td>\n",
       "      <td>412</td>\n",
       "      <td>1728</td>\n",
       "    </tr>\n",
       "    <tr>\n",
       "      <th>3</th>\n",
       "      <td>Belgium</td>\n",
       "      <td>3</td>\n",
       "      <td>162</td>\n",
       "      <td>1728</td>\n",
       "    </tr>\n",
       "    <tr>\n",
       "      <th>4</th>\n",
       "      <td>Belgium</td>\n",
       "      <td>4</td>\n",
       "      <td>62</td>\n",
       "      <td>1728</td>\n",
       "    </tr>\n",
       "  </tbody>\n",
       "</table>\n",
       "</div>"
      ],
      "text/plain": [
       "      pais  dif_gol  match_api_id_x  match_api_id_y\n",
       "0  Belgium        0             425            1728\n",
       "1  Belgium        1             634            1728\n",
       "2  Belgium        2             412            1728\n",
       "3  Belgium        3             162            1728\n",
       "4  Belgium        4              62            1728"
      ]
     },
     "execution_count": 27,
     "metadata": {},
     "output_type": "execute_result"
    }
   ],
   "source": [
    "test.head()"
   ]
  },
  {
   "cell_type": "code",
   "execution_count": 28,
   "metadata": {
    "collapsed": false
   },
   "outputs": [],
   "source": [
    "test['percent'] = test['match_api_id_x']/test['match_api_id_y']\n",
    "test = test[['pais','dif_gol','percent']]"
   ]
  },
  {
   "cell_type": "code",
   "execution_count": 135,
   "metadata": {
    "collapsed": false
   },
   "outputs": [
    {
     "name": "stdout",
     "output_type": "stream",
     "text": [
      "\n",
      "\n",
      "45.9 % das partidas são vencidas pelo time da casa.\n",
      "\n",
      "28.7 % das partidas são vencidas pelo time visitante.\n",
      "\n",
      "25.4 % são empates.\n",
      "\n",
      "\n"
     ]
    }
   ],
   "source": [
    "match['dif_gol'] = pd.Series(match['home_team_goal'] - match['away_team_goal'])\n",
    "\n",
    "match_casa = match[match['dif_gol']>0][['país','dif_gol','match_api_id']]\n",
    "match_fora = match[match['dif_gol']<0][['país','dif_gol','match_api_id']]\n",
    "\n",
    "print ()\n",
    "print ()\n",
    "print (round(100*(match_casa['match_api_id'].count())/match.shape[0],1), \"% das partidas são vencidas pelo time da casa.\")\n",
    "print ()\n",
    "print (round(100*(match_fora['match_api_id'].count())/match.shape[0],1), \"% das partidas são vencidas pelo time visitante.\")\n",
    "print ()\n",
    "partidas_por_dif_de_gols = match.groupby('dif_gol').count()['match_api_id']\n",
    "print (round(100*partidas_por_dif_de_gols[0]/match.shape[0],1), \"% são empates.\" )\n",
    "print ()\n",
    "print ()"
   ]
  },
  {
   "cell_type": "code",
   "execution_count": 30,
   "metadata": {
    "collapsed": false
   },
   "outputs": [
    {
     "data": {
      "text/html": [
       "\n",
       "\n",
       "    <div class=\"plotdiv\" id=\"0307ee8c-7105-482c-b4c0-61b12f6796cf\"></div>\n",
       "<script type=\"text/javascript\">\n",
       "  \n",
       "  (function(global) {\n",
       "    function now() {\n",
       "      return new Date();\n",
       "    }\n",
       "  \n",
       "    if (typeof (window._bokeh_onload_callbacks) === \"undefined\") {\n",
       "      window._bokeh_onload_callbacks = [];\n",
       "    }\n",
       "  \n",
       "    function run_callbacks() {\n",
       "      window._bokeh_onload_callbacks.forEach(function(callback) { callback() });\n",
       "      delete window._bokeh_onload_callbacks\n",
       "      console.info(\"Bokeh: all callbacks have finished\");\n",
       "    }\n",
       "  \n",
       "    function load_libs(js_urls, callback) {\n",
       "      window._bokeh_onload_callbacks.push(callback);\n",
       "      if (window._bokeh_is_loading > 0) {\n",
       "        console.log(\"Bokeh: BokehJS is being loaded, scheduling callback at\", now());\n",
       "        return null;\n",
       "      }\n",
       "      if (js_urls == null || js_urls.length === 0) {\n",
       "        run_callbacks();\n",
       "        return null;\n",
       "      }\n",
       "      console.log(\"Bokeh: BokehJS not loaded, scheduling load and callback at\", now());\n",
       "      window._bokeh_is_loading = js_urls.length;\n",
       "      for (var i = 0; i < js_urls.length; i++) {\n",
       "        var url = js_urls[i];\n",
       "        var s = document.createElement('script');\n",
       "        s.src = url;\n",
       "        s.async = false;\n",
       "        s.onreadystatechange = s.onload = function() {\n",
       "          window._bokeh_is_loading--;\n",
       "          if (window._bokeh_is_loading === 0) {\n",
       "            console.log(\"Bokeh: all BokehJS libraries loaded\");\n",
       "            run_callbacks()\n",
       "          }\n",
       "        };\n",
       "        s.onerror = function() {\n",
       "          console.warn(\"failed to load library \" + url);\n",
       "        };\n",
       "        console.log(\"Bokeh: injecting script tag for BokehJS library: \", url);\n",
       "        document.getElementsByTagName(\"head\")[0].appendChild(s);\n",
       "      }\n",
       "    };var element = document.getElementById(\"0307ee8c-7105-482c-b4c0-61b12f6796cf\");\n",
       "    if (element == null) {\n",
       "      console.log(\"Bokeh: ERROR: autoload.js configured with elementid '0307ee8c-7105-482c-b4c0-61b12f6796cf' but no matching script tag was found. \")\n",
       "      return false;\n",
       "    }\n",
       "  \n",
       "    var js_urls = [];\n",
       "  \n",
       "    var inline_js = [\n",
       "      function(Bokeh) {\n",
       "        Bokeh.$(function() {\n",
       "            var docs_json = {\"25c21e48-d16e-4d63-9ebe-772503ab1d17\":{\"roots\":{\"references\":[{\"attributes\":{},\"id\":\"730d5aeb-265c-4251-b820-1e4ffad7a703\",\"type\":\"BasicTicker\"},{\"attributes\":{\"fill_color\":{\"value\":\"blue\"},\"size\":{\"units\":\"screen\",\"value\":20},\"x\":{\"field\":\"x\"},\"y\":{\"field\":\"y\"}},\"id\":\"852de2a2-90df-4891-9549-5ca1116cbb8d\",\"type\":\"Circle\"},{\"attributes\":{\"overlay\":{\"id\":\"fba906ec-0297-497b-97b2-bf755073c1fa\",\"type\":\"BoxAnnotation\"},\"plot\":{\"id\":\"eb39a05d-e073-44a3-9c12-4c7c8fe67e78\",\"subtype\":\"Figure\",\"type\":\"Plot\"}},\"id\":\"7625ee53-7fc1-4be1-8ed3-a291cd9a2f11\",\"type\":\"BoxZoomTool\"},{\"attributes\":{},\"id\":\"1cdd8443-3490-4e05-8099-2a1323838b71\",\"type\":\"BasicTickFormatter\"},{\"attributes\":{\"plot\":{\"id\":\"eb39a05d-e073-44a3-9c12-4c7c8fe67e78\",\"subtype\":\"Figure\",\"type\":\"Plot\"}},\"id\":\"1aa0aac9-a1d8-42b3-9cf4-4e8b614aeb55\",\"type\":\"ResetTool\"},{\"attributes\":{\"callback\":null,\"plot\":{\"id\":\"eb39a05d-e073-44a3-9c12-4c7c8fe67e78\",\"subtype\":\"Figure\",\"type\":\"Plot\"},\"tooltips\":[[\"pais\",\"@pais\"]]},\"id\":\"4256fdd6-3ba1-4cec-b0e6-835eec51eb71\",\"type\":\"HoverTool\"},{\"attributes\":{\"callback\":null},\"id\":\"691cf4c5-1158-4c77-b8b0-33a540f0309a\",\"type\":\"DataRange1d\"},{\"attributes\":{\"axis_label\":\"DIFERENCA DE GOLS\",\"formatter\":{\"id\":\"1cdd8443-3490-4e05-8099-2a1323838b71\",\"type\":\"BasicTickFormatter\"},\"plot\":{\"id\":\"eb39a05d-e073-44a3-9c12-4c7c8fe67e78\",\"subtype\":\"Figure\",\"type\":\"Plot\"},\"ticker\":{\"id\":\"730d5aeb-265c-4251-b820-1e4ffad7a703\",\"type\":\"BasicTicker\"}},\"id\":\"b1c9046a-e4bf-4c7b-a2c8-77650312c36d\",\"type\":\"LinearAxis\"},{\"attributes\":{\"bottom_units\":\"screen\",\"fill_alpha\":{\"value\":0.5},\"fill_color\":{\"value\":\"lightgrey\"},\"left_units\":\"screen\",\"level\":\"overlay\",\"line_alpha\":{\"value\":1.0},\"line_color\":{\"value\":\"black\"},\"line_dash\":[4,4],\"line_width\":{\"value\":2},\"plot\":null,\"render_mode\":\"css\",\"right_units\":\"screen\",\"top_units\":\"screen\"},\"id\":\"fba906ec-0297-497b-97b2-bf755073c1fa\",\"type\":\"BoxAnnotation\"},{\"attributes\":{\"below\":[{\"id\":\"b1c9046a-e4bf-4c7b-a2c8-77650312c36d\",\"type\":\"LinearAxis\"}],\"left\":[{\"id\":\"e9ee5e55-d02b-4463-ac00-d82e2610fcd1\",\"type\":\"LinearAxis\"}],\"renderers\":[{\"id\":\"b1c9046a-e4bf-4c7b-a2c8-77650312c36d\",\"type\":\"LinearAxis\"},{\"id\":\"24330e75-238b-4623-96db-b82991e4ddb7\",\"type\":\"Grid\"},{\"id\":\"e9ee5e55-d02b-4463-ac00-d82e2610fcd1\",\"type\":\"LinearAxis\"},{\"id\":\"c0405659-6e4c-488e-8f26-3a2faa7711b7\",\"type\":\"Grid\"},{\"id\":\"fba906ec-0297-497b-97b2-bf755073c1fa\",\"type\":\"BoxAnnotation\"},{\"id\":\"e88ccb3c-b358-4654-9368-5ad840285221\",\"type\":\"GlyphRenderer\"}],\"responsive\":true,\"title\":\"DIFEREN\\u00c7A DE GOLS POR PA\\u00cdS\",\"tool_events\":{\"id\":\"187d7afb-c2d4-4f8c-a911-de7f04415f08\",\"type\":\"ToolEvents\"},\"tools\":[{\"id\":\"7625ee53-7fc1-4be1-8ed3-a291cd9a2f11\",\"type\":\"BoxZoomTool\"},{\"id\":\"7dfffdd0-967e-4ec9-9624-7810dcc1ecaa\",\"type\":\"PanTool\"},{\"id\":\"a970e41b-881b-47c3-8a2f-2fb1b4b8f3b3\",\"type\":\"PreviewSaveTool\"},{\"id\":\"1aa0aac9-a1d8-42b3-9cf4-4e8b614aeb55\",\"type\":\"ResetTool\"},{\"id\":\"4256fdd6-3ba1-4cec-b0e6-835eec51eb71\",\"type\":\"HoverTool\"}],\"x_range\":{\"id\":\"f7fb92ae-1c1a-4b4b-846d-99ca04ef77ea\",\"type\":\"DataRange1d\"},\"y_range\":{\"id\":\"691cf4c5-1158-4c77-b8b0-33a540f0309a\",\"type\":\"DataRange1d\"}},\"id\":\"eb39a05d-e073-44a3-9c12-4c7c8fe67e78\",\"subtype\":\"Figure\",\"type\":\"Plot\"},{\"attributes\":{\"dimension\":1,\"plot\":{\"id\":\"eb39a05d-e073-44a3-9c12-4c7c8fe67e78\",\"subtype\":\"Figure\",\"type\":\"Plot\"},\"ticker\":{\"id\":\"eb38328b-2004-48b1-aeb4-3e83b856e85c\",\"type\":\"BasicTicker\"}},\"id\":\"c0405659-6e4c-488e-8f26-3a2faa7711b7\",\"type\":\"Grid\"},{\"attributes\":{},\"id\":\"eb38328b-2004-48b1-aeb4-3e83b856e85c\",\"type\":\"BasicTicker\"},{\"attributes\":{\"callback\":null,\"column_names\":[\"percent\",\"index\",\"pais\",\"dif_gol\",\"y\",\"x\"],\"data\":{\"dif_gol\":[0,1,2,3,4,5,6,7,0,1,2,3,4,5,6,7,8,0,1,2,3,4,5,6,9,0,1,2,3,4,5,6,7,8,0,1,2,3,4,5,6,7,0,1,2,3,4,5,6,7,10,0,1,2,3,4,5,6,0,1,2,3,4,5,6,7,0,1,2,3,4,5,6,7,9,0,1,2,3,4,5,6,7,8,0,1,2,3,4,5,6,7],\"index\":[0,1,2,3,4,5,6,7,8,9,10,11,12,13,14,15,16,17,18,19,20,21,22,23,24,25,26,27,28,29,30,31,32,33,34,35,36,37,38,39,40,41,42,43,44,45,46,47,48,49,50,51,52,53,54,55,56,57,58,59,60,61,62,63,64,65,66,67,68,69,70,71,72,73,74,75,76,77,78,79,80,81,82,83,84,85,86,87,88,89,90,91],\"pais\":[\"Belgium\",\"Belgium\",\"Belgium\",\"Belgium\",\"Belgium\",\"Belgium\",\"Belgium\",\"Belgium\",\"England\",\"England\",\"England\",\"England\",\"England\",\"England\",\"England\",\"England\",\"England\",\"France\",\"France\",\"France\",\"France\",\"France\",\"France\",\"France\",\"France\",\"Germany\",\"Germany\",\"Germany\",\"Germany\",\"Germany\",\"Germany\",\"Germany\",\"Germany\",\"Germany\",\"Italy\",\"Italy\",\"Italy\",\"Italy\",\"Italy\",\"Italy\",\"Italy\",\"Italy\",\"Netherlands\",\"Netherlands\",\"Netherlands\",\"Netherlands\",\"Netherlands\",\"Netherlands\",\"Netherlands\",\"Netherlands\",\"Netherlands\",\"Poland\",\"Poland\",\"Poland\",\"Poland\",\"Poland\",\"Poland\",\"Poland\",\"Portugal\",\"Portugal\",\"Portugal\",\"Portugal\",\"Portugal\",\"Portugal\",\"Portugal\",\"Portugal\",\"Scotland\",\"Scotland\",\"Scotland\",\"Scotland\",\"Scotland\",\"Scotland\",\"Scotland\",\"Scotland\",\"Scotland\",\"Spain\",\"Spain\",\"Spain\",\"Spain\",\"Spain\",\"Spain\",\"Spain\",\"Spain\",\"Spain\",\"Switzerland\",\"Switzerland\",\"Switzerland\",\"Switzerland\",\"Switzerland\",\"Switzerland\",\"Switzerland\",\"Switzerland\"],\"percent\":[0.24594907407407407,0.36689814814814814,0.23842592592592593,0.09375,0.03587962962962963,0.011574074074074073,0.006944444444444444,0.0005787037037037037,0.25848303393213573,0.37791084497671323,0.20658682634730538,0.09880239520958084,0.03592814371257485,0.014970059880239521,0.0053226879574184965,0.0006653359946773121,0.0013306719893546241,0.2825657894736842,0.3819078947368421,0.21710526315789475,0.07730263157894737,0.03256578947368421,0.007236842105263158,0.000986842105263158,0.0003289473684210526,0.24387254901960784,0.3472222222222222,0.22794117647058823,0.11070261437908496,0.049019607843137254,0.014705882352941176,0.003676470588235294,0.0024509803921568627,0.0004084967320261438,0.2638382499171362,0.3788531653960888,0.23268147166059,0.09115014915478953,0.02684786211468346,0.004308916141862778,0.0009943652635067948,0.001325820351342393,0.23733660130718953,0.3002450980392157,0.24959150326797386,0.12826797385620914,0.056372549019607844,0.017973856209150325,0.007761437908496732,0.002042483660130719,0.0004084967320261438,0.2734375,0.39010416666666664,0.21041666666666667,0.0875,0.028645833333333332,0.0078125,0.0020833333333333333,0.2597465886939571,0.39035087719298245,0.21442495126705652,0.07943469785575048,0.037037037037037035,0.015594541910331383,0.0029239766081871343,0.0004873294346978557,0.2450657894736842,0.3925438596491228,0.20339912280701755,0.09649122807017543,0.044407894736842105,0.01206140350877193,0.003837719298245614,0.001644736842105263,0.0005482456140350877,0.23157894736842105,0.3832236842105263,0.20657894736842106,0.1006578947368421,0.05098684210526316,0.016776315789473684,0.00625,0.001973684210526316,0.001973684210526316,0.24331926863572434,0.349507735583685,0.22573839662447256,0.10759493670886076,0.05414908579465542,0.011954992967651195,0.005625879043600563,0.002109704641350211],\"x\":[0,1,2,3,4,5,6,7,0,1,2,3,4,5,6,7,8,0,1,2,3,4,5,6,9,0,1,2,3,4,5,6,7,8,0,1,2,3,4,5,6,7,0,1,2,3,4,5,6,7,10,0,1,2,3,4,5,6,0,1,2,3,4,5,6,7,0,1,2,3,4,5,6,7,9,0,1,2,3,4,5,6,7,8,0,1,2,3,4,5,6,7],\"y\":[0.24594907407407407,0.36689814814814814,0.23842592592592593,0.09375,0.03587962962962963,0.011574074074074073,0.006944444444444444,0.0005787037037037037,0.25848303393213573,0.37791084497671323,0.20658682634730538,0.09880239520958084,0.03592814371257485,0.014970059880239521,0.0053226879574184965,0.0006653359946773121,0.0013306719893546241,0.2825657894736842,0.3819078947368421,0.21710526315789475,0.07730263157894737,0.03256578947368421,0.007236842105263158,0.000986842105263158,0.0003289473684210526,0.24387254901960784,0.3472222222222222,0.22794117647058823,0.11070261437908496,0.049019607843137254,0.014705882352941176,0.003676470588235294,0.0024509803921568627,0.0004084967320261438,0.2638382499171362,0.3788531653960888,0.23268147166059,0.09115014915478953,0.02684786211468346,0.004308916141862778,0.0009943652635067948,0.001325820351342393,0.23733660130718953,0.3002450980392157,0.24959150326797386,0.12826797385620914,0.056372549019607844,0.017973856209150325,0.007761437908496732,0.002042483660130719,0.0004084967320261438,0.2734375,0.39010416666666664,0.21041666666666667,0.0875,0.028645833333333332,0.0078125,0.0020833333333333333,0.2597465886939571,0.39035087719298245,0.21442495126705652,0.07943469785575048,0.037037037037037035,0.015594541910331383,0.0029239766081871343,0.0004873294346978557,0.2450657894736842,0.3925438596491228,0.20339912280701755,0.09649122807017543,0.044407894736842105,0.01206140350877193,0.003837719298245614,0.001644736842105263,0.0005482456140350877,0.23157894736842105,0.3832236842105263,0.20657894736842106,0.1006578947368421,0.05098684210526316,0.016776315789473684,0.00625,0.001973684210526316,0.001973684210526316,0.24331926863572434,0.349507735583685,0.22573839662447256,0.10759493670886076,0.05414908579465542,0.011954992967651195,0.005625879043600563,0.002109704641350211]}},\"id\":\"b5cdf0fc-b3c7-4e56-876c-c9ea439feacb\",\"type\":\"ColumnDataSource\"},{\"attributes\":{\"data_source\":{\"id\":\"b5cdf0fc-b3c7-4e56-876c-c9ea439feacb\",\"type\":\"ColumnDataSource\"},\"glyph\":{\"id\":\"852de2a2-90df-4891-9549-5ca1116cbb8d\",\"type\":\"Circle\"},\"hover_glyph\":null,\"nonselection_glyph\":{\"id\":\"d8f3a640-8250-4cc4-9949-502f9f904581\",\"type\":\"Circle\"},\"selection_glyph\":null},\"id\":\"e88ccb3c-b358-4654-9368-5ad840285221\",\"type\":\"GlyphRenderer\"},{\"attributes\":{\"fill_alpha\":{\"value\":0.1},\"fill_color\":{\"value\":\"#1f77b4\"},\"line_alpha\":{\"value\":0.1},\"line_color\":{\"value\":\"#1f77b4\"},\"size\":{\"units\":\"screen\",\"value\":20},\"x\":{\"field\":\"x\"},\"y\":{\"field\":\"y\"}},\"id\":\"d8f3a640-8250-4cc4-9949-502f9f904581\",\"type\":\"Circle\"},{\"attributes\":{\"plot\":{\"id\":\"eb39a05d-e073-44a3-9c12-4c7c8fe67e78\",\"subtype\":\"Figure\",\"type\":\"Plot\"}},\"id\":\"a970e41b-881b-47c3-8a2f-2fb1b4b8f3b3\",\"type\":\"PreviewSaveTool\"},{\"attributes\":{\"plot\":{\"id\":\"eb39a05d-e073-44a3-9c12-4c7c8fe67e78\",\"subtype\":\"Figure\",\"type\":\"Plot\"}},\"id\":\"7dfffdd0-967e-4ec9-9624-7810dcc1ecaa\",\"type\":\"PanTool\"},{\"attributes\":{},\"id\":\"97621e69-6501-4451-b8c5-8a38a11b4450\",\"type\":\"BasicTickFormatter\"},{\"attributes\":{\"plot\":{\"id\":\"eb39a05d-e073-44a3-9c12-4c7c8fe67e78\",\"subtype\":\"Figure\",\"type\":\"Plot\"},\"ticker\":{\"id\":\"730d5aeb-265c-4251-b820-1e4ffad7a703\",\"type\":\"BasicTicker\"}},\"id\":\"24330e75-238b-4623-96db-b82991e4ddb7\",\"type\":\"Grid\"},{\"attributes\":{\"axis_label\":\"TOTAL DE PARTIDAS (PERCENTUAL)\",\"formatter\":{\"id\":\"97621e69-6501-4451-b8c5-8a38a11b4450\",\"type\":\"BasicTickFormatter\"},\"plot\":{\"id\":\"eb39a05d-e073-44a3-9c12-4c7c8fe67e78\",\"subtype\":\"Figure\",\"type\":\"Plot\"},\"ticker\":{\"id\":\"eb38328b-2004-48b1-aeb4-3e83b856e85c\",\"type\":\"BasicTicker\"}},\"id\":\"e9ee5e55-d02b-4463-ac00-d82e2610fcd1\",\"type\":\"LinearAxis\"},{\"attributes\":{\"callback\":null},\"id\":\"f7fb92ae-1c1a-4b4b-846d-99ca04ef77ea\",\"type\":\"DataRange1d\"},{\"attributes\":{},\"id\":\"187d7afb-c2d4-4f8c-a911-de7f04415f08\",\"type\":\"ToolEvents\"}],\"root_ids\":[\"eb39a05d-e073-44a3-9c12-4c7c8fe67e78\"]},\"title\":\"Bokeh Application\",\"version\":\"0.11.1\"}};\n",
       "            var render_items = [{\"docid\":\"25c21e48-d16e-4d63-9ebe-772503ab1d17\",\"elementid\":\"0307ee8c-7105-482c-b4c0-61b12f6796cf\",\"modelid\":\"eb39a05d-e073-44a3-9c12-4c7c8fe67e78\",\"notebook_comms_target\":\"ae1edaf1-a3a7-49b9-9689-302dcfe91b6e\"}];\n",
       "            \n",
       "            Bokeh.embed.embed_items(docs_json, render_items);\n",
       "        });\n",
       "      },\n",
       "      function(Bokeh) {\n",
       "      }\n",
       "    ];\n",
       "  \n",
       "    function run_inline_js() {\n",
       "      for (var i = 0; i < inline_js.length; i++) {\n",
       "        inline_js[i](window.Bokeh);\n",
       "      }\n",
       "    }\n",
       "  \n",
       "    if (window._bokeh_is_loading === 0) {\n",
       "      console.log(\"Bokeh: BokehJS loaded, going straight to plotting\");\n",
       "      run_inline_js();\n",
       "    } else {\n",
       "      load_libs(js_urls, function() {\n",
       "        console.log(\"Bokeh: BokehJS plotting callback run at\", now());\n",
       "        run_inline_js();\n",
       "      });\n",
       "    }\n",
       "  }(this));\n",
       "</script>"
      ]
     },
     "metadata": {},
     "output_type": "display_data"
    },
    {
     "data": {
      "text/html": [
       "<p><code>&lt;Bokeh Notebook handle for <strong>In[30]</strong>&gt;</code></p>"
      ],
      "text/plain": [
       "<bokeh.io._CommsHandle at 0x1911ca90>"
      ]
     },
     "execution_count": 30,
     "metadata": {},
     "output_type": "execute_result"
    }
   ],
   "source": [
    "tools = 'box_zoom, pan, save, reset'\n",
    "fig = figure(tools=tools, title='DIFERENÇA DE GOLS POR PAÍS', responsive=True,\n",
    "             x_axis_label='DIFERENCA DE GOLS', y_axis_label='TOTAL DE PARTIDAS (PERCENTUAL)')\n",
    "\n",
    "source = ColumnDataSource(test)\n",
    "hover = HoverTool()\n",
    "hover.tooltips=[('pais','@pais')]\n",
    "fig.scatter(test['dif_gol'], test['percent'], source=source, size=20, alpha=1, line_color='black', fill_color='blue')\n",
    "\n",
    "fig.add_tools(hover)\n",
    "\n",
    "show(fig)"
   ]
  },
  {
   "cell_type": "markdown",
   "metadata": {},
   "source": [
    "## Perguntas:\n",
    "\n",
    "    * Qual percentual de partidas são empates (e por país)?"
   ]
  },
  {
   "cell_type": "code",
   "execution_count": 31,
   "metadata": {
    "collapsed": false
   },
   "outputs": [],
   "source": [
    "a = pd.DataFrame(match.groupby(['país','dif_gol']).count()['match_api_id']).reset_index()\n",
    "b = pd.DataFrame(match.groupby(['país']).count()['match_api_id'])"
   ]
  },
  {
   "cell_type": "code",
   "execution_count": 32,
   "metadata": {
    "collapsed": false
   },
   "outputs": [
    {
     "data": {
      "text/html": [
       "<div>\n",
       "<table border=\"1\" class=\"dataframe\">\n",
       "  <thead>\n",
       "    <tr style=\"text-align: right;\">\n",
       "      <th></th>\n",
       "      <th>país</th>\n",
       "      <th>dif_gol</th>\n",
       "      <th>match_api_id</th>\n",
       "    </tr>\n",
       "  </thead>\n",
       "  <tbody>\n",
       "    <tr>\n",
       "      <th>0</th>\n",
       "      <td>Belgium</td>\n",
       "      <td>-6</td>\n",
       "      <td>4</td>\n",
       "    </tr>\n",
       "    <tr>\n",
       "      <th>1</th>\n",
       "      <td>Belgium</td>\n",
       "      <td>-5</td>\n",
       "      <td>3</td>\n",
       "    </tr>\n",
       "  </tbody>\n",
       "</table>\n",
       "</div>"
      ],
      "text/plain": [
       "      país  dif_gol  match_api_id\n",
       "0  Belgium       -6             4\n",
       "1  Belgium       -5             3"
      ]
     },
     "execution_count": 32,
     "metadata": {},
     "output_type": "execute_result"
    }
   ],
   "source": [
    "a.head(2)"
   ]
  },
  {
   "cell_type": "code",
   "execution_count": 33,
   "metadata": {
    "collapsed": false
   },
   "outputs": [],
   "source": [
    "novo = a.merge(b[['match_api_id']], how='left',left_on='país',right_on='país',right_index=True)"
   ]
  },
  {
   "cell_type": "code",
   "execution_count": 34,
   "metadata": {
    "collapsed": false
   },
   "outputs": [
    {
     "name": "stdout",
     "output_type": "stream",
     "text": [
      "\n",
      "Países com MAIOR incidência de empates: France e Poland\n",
      "\n",
      "Países com MENOR incidência de empates: Spain e Netherlands\n",
      "\n"
     ]
    },
    {
     "data": {
      "image/png": "[encoded data removed]",
      "text/plain": [
       "<matplotlib.figure.Figure at 0x1911c518>"
      ]
     },
     "metadata": {},
     "output_type": "display_data"
    }
   ],
   "source": [
    "novo['percent']=novo['match_api_id_x']/novo['match_api_id_y']\n",
    "graf = novo[novo['dif_gol']==0][['país','percent']]\n",
    "graf['dif'] = graf['percent']-0.254 #0,254 é o percentual total de empates em todas as ligas (aqui estou pegando os desvios)\n",
    "graf.plot(kind='bar',figsize=(15,6), color = 'b', x='país',y='dif')\n",
    "print()\n",
    "print(\"Países com MAIOR incidência de empates: France e Poland\")\n",
    "print()\n",
    "print(\"Países com MENOR incidência de empates: Spain e Netherlands\")\n",
    "print()"
   ]
  },
  {
   "cell_type": "code",
   "execution_count": 35,
   "metadata": {
    "collapsed": false
   },
   "outputs": [
    {
     "data": {
      "text/html": [
       "<div>\n",
       "<table border=\"1\" class=\"dataframe\">\n",
       "  <thead>\n",
       "    <tr style=\"text-align: right;\">\n",
       "      <th></th>\n",
       "      <th>país</th>\n",
       "      <th>percent</th>\n",
       "      <th>dif</th>\n",
       "    </tr>\n",
       "  </thead>\n",
       "  <tbody>\n",
       "    <tr>\n",
       "      <th>6</th>\n",
       "      <td>Belgium</td>\n",
       "      <td>0.245949</td>\n",
       "      <td>-0.008051</td>\n",
       "    </tr>\n",
       "    <tr>\n",
       "      <th>20</th>\n",
       "      <td>England</td>\n",
       "      <td>0.258483</td>\n",
       "      <td>0.004483</td>\n",
       "    </tr>\n",
       "    <tr>\n",
       "      <th>35</th>\n",
       "      <td>France</td>\n",
       "      <td>0.282566</td>\n",
       "      <td>0.028566</td>\n",
       "    </tr>\n",
       "    <tr>\n",
       "      <th>49</th>\n",
       "      <td>Germany</td>\n",
       "      <td>0.243873</td>\n",
       "      <td>-0.010127</td>\n",
       "    </tr>\n",
       "    <tr>\n",
       "      <th>64</th>\n",
       "      <td>Italy</td>\n",
       "      <td>0.263838</td>\n",
       "      <td>0.009838</td>\n",
       "    </tr>\n",
       "    <tr>\n",
       "      <th>78</th>\n",
       "      <td>Netherlands</td>\n",
       "      <td>0.237337</td>\n",
       "      <td>-0.016663</td>\n",
       "    </tr>\n",
       "    <tr>\n",
       "      <th>93</th>\n",
       "      <td>Poland</td>\n",
       "      <td>0.273438</td>\n",
       "      <td>0.019437</td>\n",
       "    </tr>\n",
       "    <tr>\n",
       "      <th>106</th>\n",
       "      <td>Portugal</td>\n",
       "      <td>0.259747</td>\n",
       "      <td>0.005747</td>\n",
       "    </tr>\n",
       "    <tr>\n",
       "      <th>120</th>\n",
       "      <td>Scotland</td>\n",
       "      <td>0.245066</td>\n",
       "      <td>-0.008934</td>\n",
       "    </tr>\n",
       "    <tr>\n",
       "      <th>137</th>\n",
       "      <td>Spain</td>\n",
       "      <td>0.231579</td>\n",
       "      <td>-0.022421</td>\n",
       "    </tr>\n",
       "    <tr>\n",
       "      <th>153</th>\n",
       "      <td>Switzerland</td>\n",
       "      <td>0.243319</td>\n",
       "      <td>-0.010681</td>\n",
       "    </tr>\n",
       "  </tbody>\n",
       "</table>\n",
       "</div>"
      ],
      "text/plain": [
       "            país   percent       dif\n",
       "6        Belgium  0.245949 -0.008051\n",
       "20       England  0.258483  0.004483\n",
       "35        France  0.282566  0.028566\n",
       "49       Germany  0.243873 -0.010127\n",
       "64         Italy  0.263838  0.009838\n",
       "78   Netherlands  0.237337 -0.016663\n",
       "93        Poland  0.273438  0.019437\n",
       "106     Portugal  0.259747  0.005747\n",
       "120     Scotland  0.245066 -0.008934\n",
       "137        Spain  0.231579 -0.022421\n",
       "153  Switzerland  0.243319 -0.010681"
      ]
     },
     "execution_count": 35,
     "metadata": {},
     "output_type": "execute_result"
    }
   ],
   "source": [
    "graf"
   ]
  },
  {
   "cell_type": "markdown",
   "metadata": {},
   "source": [
    "## T-SNE dos scouts dos jogadores:\n",
    "https://en.wikipedia.org/wiki/T-distributed_stochastic_neighbor_embedding"
   ]
  },
  {
   "cell_type": "code",
   "execution_count": 36,
   "metadata": {
    "collapsed": false
   },
   "outputs": [
    {
     "name": "stdout",
     "output_type": "stream",
     "text": [
      "<class 'pandas.core.frame.DataFrame'>\n",
      "Int64Index: 7676 entries, 1312 to 76345\n",
      "Data columns (total 38 columns):\n",
      "player_api_id         7676 non-null int64\n",
      "overall_rating        7676 non-null float64\n",
      "potential             7676 non-null float64\n",
      "crossing              7676 non-null float64\n",
      "finishing             7676 non-null float64\n",
      "heading_accuracy      7676 non-null float64\n",
      "short_passing         7676 non-null float64\n",
      "volleys               7676 non-null float64\n",
      "dribbling             7676 non-null float64\n",
      "curve                 7676 non-null float64\n",
      "free_kick_accuracy    7676 non-null float64\n",
      "long_passing          7676 non-null float64\n",
      "ball_control          7676 non-null float64\n",
      "acceleration          7676 non-null float64\n",
      "sprint_speed          7676 non-null float64\n",
      "agility               7676 non-null float64\n",
      "reactions             7676 non-null float64\n",
      "balance               7676 non-null float64\n",
      "shot_power            7676 non-null float64\n",
      "jumping               7676 non-null float64\n",
      "stamina               7676 non-null float64\n",
      "strength              7676 non-null float64\n",
      "long_shots            7676 non-null float64\n",
      "aggression            7676 non-null float64\n",
      "interceptions         7676 non-null float64\n",
      "positioning           7676 non-null float64\n",
      "vision                7676 non-null float64\n",
      "penalties             7676 non-null float64\n",
      "marking               7676 non-null float64\n",
      "standing_tackle       7676 non-null float64\n",
      "sliding_tackle        7676 non-null float64\n",
      "gk_diving             7676 non-null float64\n",
      "gk_handling           7676 non-null float64\n",
      "gk_kicking            7676 non-null float64\n",
      "gk_positioning        7676 non-null float64\n",
      "gk_reflexes           7676 non-null float64\n",
      "player_name           7676 non-null object\n",
      "p_id                  7676 non-null int64\n",
      "dtypes: float64(35), int64(2), object(1)\n",
      "memory usage: 2.3+ MB\n"
     ]
    }
   ],
   "source": [
    "query = \"\"\"SELECT * FROM Player_Stats a\n",
    "           INNER JOIN (SELECT player_name, player_api_id AS p_id FROM Player) b ON a.player_api_id = b.p_id;\"\"\"\n",
    "\n",
    "drop_cols = ['id','player_fifa_api_id','date_stat','preferred_foot','attacking_work_rate','defensive_work_rate']\n",
    "\n",
    "players = pd.read_sql(query, conn)\n",
    "players['date_stat'] = pd.to_datetime(players['date_stat'])\n",
    "players = players[players.date_stat > pd.datetime(2015,1,1)]\n",
    "players = players[~players.overall_rating.isnull()].sort_values('date_stat', ascending=False)\n",
    "players = players.drop_duplicates(subset='player_api_id', keep='first')\n",
    "players = players.drop(drop_cols, axis=1)\n",
    "\n",
    "players.info()"
   ]
  },
  {
   "cell_type": "code",
   "execution_count": 37,
   "metadata": {
    "collapsed": false
   },
   "outputs": [],
   "source": [
    "players = players.fillna(0)\n",
    "\n",
    "cols = ['player_api_id','player_name','overall_rating','potential']\n",
    "stats_cols = [col for col in players.columns if col not in (cols)]"
   ]
  },
  {
   "cell_type": "code",
   "execution_count": 38,
   "metadata": {
    "collapsed": true
   },
   "outputs": [],
   "source": [
    "ss = StandardScaler()\n",
    "tmp = ss.fit_transform(players[stats_cols])\n",
    "model = TSNE(n_components=2, random_state=0)\n",
    "tsne_comp = model.fit_transform(tmp)"
   ]
  },
  {
   "cell_type": "code",
   "execution_count": 12,
   "metadata": {
    "collapsed": false,
    "scrolled": false
   },
   "outputs": [
    {
     "name": "stderr",
     "output_type": "stream",
     "text": [
      "C:\\Users\\renato.aranha\\AppData\\Local\\Continuum\\Anaconda3\\lib\\site-packages\\ipykernel\\__main__.py:2: SettingWithCopyWarning: \n",
      "A value is trying to be set on a copy of a slice from a DataFrame.\n",
      "Try using .loc[row_indexer,col_indexer] = value instead\n",
      "\n",
      "See the caveats in the documentation: http://pandas.pydata.org/pandas-docs/stable/indexing.html#indexing-view-versus-copy\n",
      "  from ipykernel import kernelapp as app\n"
     ]
    },
    {
     "data": {
      "text/html": [
       "\n",
       "\n",
       "    <div class=\"plotdiv\" id=\"2c373fba-d4e3-4737-ac8b-a17bf2e7a5c3\"></div>\n",
       "<script type=\"text/javascript\">\n",
       "  \n",
       "  (function(global) {\n",
       "    function now() {\n",
       "      return new Date();\n",
       "    }\n",
       "  \n",
       "    if (typeof (window._bokeh_onload_callbacks) === \"undefined\") {\n",
       "      window._bokeh_onload_callbacks = [];\n",
       "    }\n",
       "  \n",
       "    function run_callbacks() {\n",
       "      window._bokeh_onload_callbacks.forEach(function(callback) { callback() });\n",
       "      delete window._bokeh_onload_callbacks\n",
       "      console.info(\"Bokeh: all callbacks have finished\");\n",
       "    }\n",
       "  \n",
       "    function load_libs(js_urls, callback) {\n",
       "      window._bokeh_onload_callbacks.push(callback);\n",
       "      if (window._bokeh_is_loading > 0) {\n",
       "        console.log(\"Bokeh: BokehJS is being loaded, scheduling callback at\", now());\n",
       "        return null;\n",
       "      }\n",
       "      if (js_urls == null || js_urls.length === 0) {\n",
       "        run_callbacks();\n",
       "        return null;\n",
       "      }\n",
       "      console.log(\"Bokeh: BokehJS not loaded, scheduling load and callback at\", now());\n",
       "      window._bokeh_is_loading = js_urls.length;\n",
       "      for (var i = 0; i < js_urls.length; i++) {\n",
       "        var url = js_urls[i];\n",
       "        var s = document.createElement('script');\n",
       "        s.src = url;\n",
       "        s.async = false;\n",
       "        s.onreadystatechange = s.onload = function() {\n",
       "          window._bokeh_is_loading--;\n",
       "          if (window._bokeh_is_loading === 0) {\n",
       "            console.log(\"Bokeh: all BokehJS libraries loaded\");\n",
       "            run_callbacks()\n",
       "          }\n",
       "        };\n",
       "        s.onerror = function() {\n",
       "          console.warn(\"failed to load library \" + url);\n",
       "        };\n",
       "        console.log(\"Bokeh: injecting script tag for BokehJS library: \", url);\n",
       "        document.getElementsByTagName(\"head\")[0].appendChild(s);\n",
       "      }\n",
       "    };var element = document.getElementById(\"2c373fba-d4e3-4737-ac8b-a17bf2e7a5c3\");\n",
       "    if (element == null) {\n",
       "      console.log(\"Bokeh: ERROR: autoload.js configured with elementid '2c373fba-d4e3-4737-ac8b-a17bf2e7a5c3' but no matching script tag was found. \")\n",
       "      return false;\n",
       "    }\n",
       "  \n",
       "    var js_urls = [];\n",
       "  \n",
       "    var inline_js = [\n",
       "      function(Bokeh) {\n",
       "        Bokeh.$(function() {\n",
       "            var docs_json = {\"81e941f5-20da-41fe-a908-4102a8760944\":{\"roots\":{\"references\":[{\"attributes\":{\"callback\":null},\"id\":\"9561dc75-86af-4e28-a306-0be6a3e71a2b\",\"type\":\"DataRange1d\"},{\"attributes\":{\"below\":[{\"id\":\"8f12c18b-75f9-433c-b8bb-0daefab9b9f6\",\"type\":\"LinearAxis\"}],\"left\":[{\"id\":\"0f0e4c03-78ad-4192-a807-0c91ad5e2e90\",\"type\":\"LinearAxis\"}],\"renderers\":[{\"id\":\"8f12c18b-75f9-433c-b8bb-0daefab9b9f6\",\"type\":\"LinearAxis\"},{\"id\":\"d93dc0e7-3327-4111-9f80-2fb14b3d2fb8\",\"type\":\"Grid\"},{\"id\":\"0f0e4c03-78ad-4192-a807-0c91ad5e2e90\",\"type\":\"LinearAxis\"},{\"id\":\"578334d2-6e0c-4165-9fde-754c50072fff\",\"type\":\"Grid\"},{\"id\":\"6ade6a01-440e-4d92-a322-e067009862e8\",\"type\":\"BoxAnnotation\"},{\"id\":\"5e263880-48eb-49c0-b2cb-6120858e695b\",\"type\":\"GlyphRenderer\"}],\"responsive\":true,\"title\":\"t-SNE\",\"tool_events\":{\"id\":\"9a566147-06a5-4cd9-b890-7d8cc1e30b85\",\"type\":\"ToolEvents\"},\"tools\":[{\"id\":\"0b2278c6-be87-4c37-af5a-45fa929c4aef\",\"type\":\"BoxZoomTool\"},{\"id\":\"ba8ca49b-19e6-4772-8bdb-e63062601cff\",\"type\":\"PanTool\"},{\"id\":\"222fc9b5-9ba6-4dcc-9a79-f322576d03c3\",\"type\":\"PreviewSaveTool\"},{\"id\":\"708790b5-70e9-4ff0-a6c1-68435726e96a\",\"type\":\"ResetTool\"},{\"id\":\"887fb88c-b701-4773-b220-1adee1782d10\",\"type\":\"HoverTool\"}],\"x_range\":{\"id\":\"2186f03e-07d4-440d-af7f-fda2178995a2\",\"type\":\"DataRange1d\"},\"y_range\":{\"id\":\"9561dc75-86af-4e28-a306-0be6a3e71a2b\",\"type\":\"DataRange1d\"}},\"id\":\"ea8942f2-275d-45bd-b306-3fb0d62b762b\",\"subtype\":\"Figure\",\"type\":\"Plot\"},{\"attributes\":{\"data_source\":{\"id\":\"4aa7a7fa-8dee-4106-9d0a-b6a61440df95\",\"type\":\"ColumnDataSource\"},\"glyph\":{\"id\":\"312da4b7-7777-4510-88e6-ebaf544255b2\",\"type\":\"Circle\"},\"hover_glyph\":null,\"nonselection_glyph\":{\"id\":\"1562f907-b0c4-4785-b278-15bd7a5ccf92\",\"type\":\"Circle\"},\"selection_glyph\":null},\"id\":\"5e263880-48eb-49c0-b2cb-6120858e695b\",\"type\":\"GlyphRenderer\"},{\"attributes\":{\"callback\":null,\"column_names\":[\"potential\",\"comp2\",\"index\",\"player_api_id\",\"comp1\",\"overall_rating\",\"player_name\",\"y\",\"x\"],\"data\":{\"comp1\":[-0.1661426482883903,-5.46742527882389,-6.59250720270939,-7.052851662780867,5.354494134929692,6.077693569171792,-4.693794538950861,-9.03391210540995,5.170613412898561,4.716575291743294,-8.483539917130807,-8.065812386320315,-8.11259634931794,5.157488750466202,4.222849464598395,1.639245658090301,3.3973593811557854,-0.4005572123125804,-5.5366935025448045,5.076291402377343,-6.82917531970357,-1.8286622323810655,5.934060144785347,3.3447401314308154,-0.2649210208903653,3.530312908799977,0.8538631440971793,5.441212809039271,2.416208219179342,-8.350810451510231,-8.756769927733313,2.9906673037925087,-0.29589809730878025,5.3359668614617055,5.324665847961429,-8.591035889326958,-8.655716960887144,-0.01223412233293234,-7.713418943040086,1.3843091027241956,-3.1572931157205204,4.248657561195648,0.3933577716420354,4.902602101358868,-8.079124972529373,-7.431867810218882,-6.276964370849744,3.809967870944484,2.047685459178809,1.0290788192607008,3.523480200039994,-5.41436168886299,-8.241405666503864,5.34938460670918,5.3096557678814325,-8.589768275156008,0.29723604865983505,-8.579865019967974,-7.828575736136238,4.689378219175487,-8.303664154722005,-0.37464300724526367,4.251204452939116,3.7861507743091494,-8.524512801043617,1.136863799563307,-8.734409426015914,-3.268143125442319,4.171654184605989,3.4779516279850533,5.454732543709941,-1.7155203559062253,4.9161725278044255,3.1273589100776986,-8.35072751301583,-5.485633034330485,-8.458397073012469,-5.777401267581899,3.892182971153698,-9.00290271902971,-8.59387625571092,-7.761415556700209,-8.718096108838623,-8.758993782660468,-8.07906180331511,-8.599974585503293,-5.174890388802927,-5.130838494713865,-8.531346068454456,-8.689788843748143,-8.50990406022389,-7.991325486343656,-5.5660396667833565,5.304474191767449,0.6631291767479737,-6.800065237973519,-8.541395402944733,3.845909839189884,-6.155759773327134,0.22469963349530217,1.300160693214864,-8.517627736953383,-8.586687557384195,3.5005133097095724,-5.439092663378136,-5.714034099164452,-7.729092495309341,-5.326390651831978,4.710101618332936,-6.499899237795232,-0.3590302365476863,3.684473733114058,4.667215203781743,-5.512565560151474,-8.222507203181703,-5.7946982945503045,3.844503010839475,5.160358021742154,3.08238490864761,5.070171826377758,5.439240663913137,-8.292305158621495,7.324600314842133,1.301483669199958,-8.183795756327443,-0.22556591911168933,-6.021453983100311,4.946115211826773,3.741895062006011,-8.427793993440547,4.1635555964276065,3.6031045422787504,-8.436802688357137,3.5790346611521264,-4.750544892020029,-5.761613075138124,3.404611473651476,-9.104721939166986,7.0731872940378056,4.800585752945294,0.6226283364053505,-9.104653238920218,5.01255757967188,4.239631360119659,1.3486993681744932,-8.131871863432785,3.770384848394252,-6.9269176040930205,5.6259848765706115,5.110719822902534,-8.537033967330412,-5.434850897023325,-8.514054016758507,-0.2649492978030273,-8.72935875837435,-5.452947830677902,4.090669511429915,1.2923468512886553,5.56006383431815,1.6394065239519269,4.88418987702154,-5.483969439382735,4.145468621980911,-0.1063605333735579,2.0485039498434285,0.033805192085620966,-8.951838127059222,-8.699848411658508,6.5743256384763,4.076492442777864,3.4921713365598053,4.928203345064394,3.6154200114799897,-8.254369989888978,2.1790385376568766,-8.031573145440783,-8.909186267899448,-0.2714745753002197,-8.503860438742858,-6.538743351209105,0.6255362435339114,1.0994354470193297,-7.915445840175019,4.996439002605304,3.9693560335646656,5.917807426890813,-8.430457283856747,3.448777707810035,4.675056351683975,-8.896334088791209,4.1539273036929965,-8.402839884038567,-5.721122596598879,-0.48493235633418164,1.160320513258324,-8.444907849616069,-0.3480329635718019,-8.632168328889573,3.5232582097624463,6.187957045319535,-5.715723574254079,0.06366019560395535,-8.627732993304331,4.84869636179157,-8.160555423452937,2.4252607483733435,5.188405765517252,-5.433787492840958,-6.5438595133610065,-8.241333117683226,-5.147800715702979,5.196964543811826,0.5614197137822121,4.057407212262022,-7.818904330378938,3.9716725922666813,-6.601616105670877,-0.0006820622618975942,-8.263690026223182,-8.630919437576237,3.5472239923166398,0.43519434024230047,-0.45446290287657076,-8.45973870025326,1.9842790760687936,-8.783908281976492,-5.484071137432649,4.762190046666868,-7.8781120420271025,3.27462987563844,-0.22961669625011108,-8.752243048349477,0.0028539365938368135,6.026461863999572,5.25105216913419,1.7971925771019224,-6.78415796750992,-8.687258844602004,5.3393980016480445,-8.350520796172836,4.091861110883501,-4.779060995837439,-8.759241698575316,1.4335845939418432,-5.815489632395851,0.1774981811315199,-7.910145372888278,-5.30814821122448,-5.656056170107502,-4.802599471453116,-8.222596781647917,3.9706950882835255,-8.172623777888768,-7.280190886222285,-6.054550088409001,-5.548101550396304,5.282141500530253,-8.72387048583455,-5.653226359699899,-0.3869118940509233,6.818418820032908,-1.6318876139265033,3.9196944907174185,-8.90989014242834,5.012159436823104,5.0715595224725405,-9.007959615099754,-8.01115622108453,4.697231501780347,1.5680044896660124,5.301249374802492,-7.452468727127686,-6.3360815534709465,-9.022016085300212,-8.07549533947113,0.5264000369795475,2.0999687166770196,-2.935661578876879,-0.38918107718170236,-0.6388860413771825,4.725400439993098,-7.541591049959452,-9.072200184387881,-5.797637684520506,-8.594997880836521,-8.173784200711516,0.8009902373776133,-5.7088644063290985,2.101842168983591,-7.576027136149664,-0.007902143911358166,-8.975079139844722,-5.318494665698426,-5.756312815549854,4.010647769367132,5.372051286112573,-4.58740594751863,-6.4047965587743825,0.37741074936476293,4.991003054289402,0.19700832054209708,-8.487209113751227,3.3941242955766953,1.9876053933433828,6.889028854977848,-0.40923862811024264,5.701667085690419,4.8909534334177645,-6.653639319296614,-5.339999870074735,-5.4546639656744595,5.077383786189496,-8.227604374451598,-4.8978695863359,5.590090622014405,-5.559154182981599,-8.149463237825959,-8.077940125407354,-9.129768306806191,-5.617623292931564,5.2246605341962535,-8.094109467675127,-5.28545156760822,-0.3643569711564495,-8.506312345898635,-8.628614395787897,7.49878133208958,-4.492854667584207,5.253052509841047,-0.6218540660596944,4.128731559426191,5.758278959045901,5.460553079544709,3.297415074644448,-0.04094540332967808,3.3341371599146976,-8.699456778967894,7.210073195848646,3.5899289960582577,-4.225741307354734,5.170597885676447,6.0430859335225335,-5.629894231873116,5.598226070680519,5.0420876655819145,-8.753583219622561,4.5674100823344235,-0.4726950524591616,7.9663611797731715,4.412721383658743,4.056904304712316,4.10338849771914,4.053273501759917,5.231481618801115,-8.575446680031511,4.458770952135138,4.770840209799243,5.464538779822914,-5.824399923857348,-7.304430507066368,5.619633620477044,-5.668186136759529,4.796379350730781,-5.836794572686392,-4.79869472535611,-5.540800298537432,4.156063677117022,-7.97247705487314,2.9302263937953508,3.516731427385248,4.233463158669157,-0.49277515531900185,-6.9418510173234464],\"comp2\":[-8.125117859399838,8.290344462704493,-7.629291831209408,-7.109010881004085,1.2873871158432224,-7.5623835466201434,6.885334688939409,-2.5116267575542435,-7.2946334203173135,2.539681565153713,-2.9471166774569566,-4.696171114804666,-4.034492573095165,0.37389981171272796,-7.50942317146581,-8.799449745031255,-6.845750805495809,-8.523010631413626,-7.980242203995795,-7.851995638220068,-7.319078572583258,-6.324262427935108,-7.620996251130531,-6.9558428079594155,-8.41997446119907,-8.490483484232213,-8.253796068320828,1.2435388374850151,-8.009068038242754,-4.247862560579051,-4.096020450043185,-7.319735742914635,-8.400451448365219,1.3289370865620254,0.7610745897998624,-4.0853867903093875,-2.303733428939832,-8.06517451151803,-3.3921727678146736,-8.514519247373228,-3.695025071581714,-8.238768063176074,-8.15950333400048,-5.846585004981686,-4.183173094207248,-5.709105812407831,-3.341930391660383,2.752476186172596,-8.325931929259257,-8.694351358441745,-8.533049179671501,7.7697888664529415,-1.2213365885070901,1.2192725165318319,1.6703757568106234,-4.088244591867122,-7.602637205926351,-3.173000004455693,-5.279119917759401,-7.100246348298925,-2.4667170605737216,-7.958182345862522,-7.164598230682808,2.8950546622106486,-2.355506329547794,-8.288430979052466,-1.1657226144920465,-3.7218718292878608,-7.724415665066971,-6.825372728940707,1.6223187298342763,-7.299307473209409,-6.973107158914057,-8.32036761628639,-3.167599500062394,8.242055093727819,-1.8539762716980381,8.326138165946855,-8.207562280124439,-1.2770148399391112,-4.39769106936464,-5.28782326711752,-0.8518321760794798,-2.646127634152021,-5.21130628237055,-2.3673182168577878,7.5225563705830485,7.876180715073919,-4.276078539566738,-2.6503267313841965,-2.2059638750111827,-1.1716415708382013,7.702222086909288,1.8140193178000252,-8.754384186145064,-7.422831664533407,-2.4249696096111304,3.2867534961177696,-7.649442735898542,-8.345577396935692,-8.642692470810989,-4.117117053742886,-2.426660135389014,-6.838329603365209,7.639881918130909,7.682570596721288,-5.397513820747629,7.5518707975538195,-7.162072035695272,-7.644858977000168,-8.096342933426294,-5.5157437508690075,-6.215680835815394,7.428716680228639,-2.4749911418529327,7.646269110771893,-6.601240634674574,-7.9067927287624915,-6.275632062071897,-4.846406179419491,1.3286096962037055,-2.690003514030003,-0.446777735586591,-8.758057940323756,-3.8216883706575113,-8.22259970271264,-7.597040268785144,-5.1144010744375255,-8.567462018205044,-2.6569550749816084,-6.175204208883831,3.5299726688835427,-1.6314962217167304,-6.552684064583608,6.919830392729955,-2.7639853083741186,-8.48579024491391,-1.5007209801821555,2.761529936549227,-5.2921352470419505,-8.435306378659083,-1.4976981610938345,-7.247026844807411,-8.077539207422722,-8.357314592639575,-3.318268072573223,-6.395661471368763,-2.9396669794244077,2.071007329211402,0.6323691807590829,-2.3966452445453714,7.426677656602597,-1.4681179659042167,-8.027972487635008,-2.057667607897185,7.871878241059368,-7.905679641029056,-8.624703146336163,1.838198554175171,-8.472988381904083,-4.398883310197207,7.534335180360372,-8.143620586817772,-8.1815493421813,-8.874346942354641,-8.10141802979562,-0.794670656630813,-3.7939708630009807,-0.9316743392312389,-7.37064116847178,-8.325468366807005,3.0612884442705472,-6.395146410464237,-3.9982825528909243,-8.410881854274349,-3.5978203045969526,-2.3133532343280736,-7.780734553422844,-1.5481609505550138,-7.5663205383144785,-8.351692241137462,-8.45160371167916,-2.0173057995024073,2.2033640457494026,-8.541970080199341,-7.538851136160125,-5.1537621833302,-6.75197534805036,-7.812422601711319,-2.3497532927730043,-8.064918107303415,-3.155811873469972,8.247580700564681,-8.132945773545133,-7.040333946073362,-3.553108793285017,-8.161467933520665,-2.1209361509004845,3.314861376550006,3.7639636648907504,8.317150247624264,-8.506090922727248,-3.9550061136420482,-5.285407252066396,-5.33970180458411,5.225656467198498,-7.036148201139285,7.65181302861158,-7.601691439992134,-2.864562092025265,7.604504814240338,-7.861113899001424,-8.464753632171048,-6.989443145495489,-3.0046087964634016,-8.324274822717884,-7.5946593804773554,-8.504180925452536,-2.0364382967095085,-1.837261545953103,3.3085951935140154,-8.519763993347318,-8.17486830182717,-3.937967558205535,-8.804621767533867,-3.874114769282791,8.286652598061755,3.7018699768377625,-5.109616811730552,5.340188143048742,-8.43108206584962,-1.1451162356551983,-8.330117769360221,3.3247679444215996,1.3226521253459405,-8.24758536662642,-7.444369469649895,-4.406239517429422,0.9868913052929678,-1.2534408365374974,-7.907544813905371,7.156762126459862,-2.3027956626507593,-8.617722977683723,8.33922537441491,-8.532433761797375,-3.600483742481363,7.32057628378278,7.933275647013547,7.375184102520437,-3.499291859554467,-7.487321489367028,-3.443019763542862,-2.9809669132487,-3.1710526049841405,7.761553640846228,1.349652718174318,-2.3695156080859565,7.9601828936052765,-8.455481886987908,2.655792961530815,-7.267842251425191,-6.318622164033456,-0.8018895029772488,-7.566112932094078,-3.717062757401013,-2.184934635237744,-1.7391063578669343,-7.591943539186943,-8.591844323512763,0.9548374126806352,-6.557538663638062,-7.428243502160156,-2.3866812251327567,-5.066793748836493,-8.208586396669686,-8.990569565331038,-3.0846811274322645,-8.491789796575228,-8.571829764494483,-6.364206630919799,-5.516381714458653,-2.4352539081128226,8.261655639184932,-4.5011117188352525,-4.658699977087677,-8.638920296215904,8.313934858686494,-8.988771404177065,-5.785867952016563,-8.320819981485307,-2.252149916725609,7.143993771544103,8.14594876946155,-6.332372695043074,0.9756410248601206,6.907200108394663,-7.414989646721212,-8.684919822260845,-6.763757574289338,-7.170251489825705,-2.4092940337193127,-6.988686501205685,-8.512866837790973,0.3036647963998808,-8.227461494230768,0.7292891834498076,-7.775228455862056,-7.089729317953969,7.540434330031014,7.983108918156482,4.434179598436556,-4.408632990095633,7.401363962512759,0.8879966591455511,7.680858552348519,-5.136212672047928,-5.040086689841664,-2.491559263084324,7.912165848443421,0.5265435405649793,-1.134851649425621,7.807258125640759,-8.415203504980155,-2.6175571293143665,-1.561186684679762,-0.0016194789530543348,7.00840204621092,0.24294845041469346,-8.144650529685524,-6.0619124586395605,1.460559312793184,1.3370245915325116,-7.1822626789702095,-8.587460237133934,-6.839911534958408,-4.319330955699348,-0.3923232572004985,-6.7444923022293075,6.850673350049976,0.5805658511842302,-1.3209899297440266,7.926573342484261,1.5511682546069943,-7.708345326970266,-4.329245436243246,-4.802918665832128,-8.536479177383342,-5.6939615828109424,3.317479724184198,-8.209125200492869,-6.368911249990973,-8.211808856192832,1.8683409113443514,-2.394864138720741,1.3198509330926493,3.6718168324541467,1.4937671231424399,7.917210404052619,-7.299518456751942,0.9981304756409474,7.5869371953,3.612118167750572,8.074297987430745,7.1214347249437635,7.770048668678267,-8.24581717102044,-3.623937908049458,-7.277831957436265,-6.726757907792994,-7.9740529709891215,-8.527838975901394,-7.40423624579084],\"index\":[51908,160138,43197,73039,163470,11923,49585,111416,125604,107729,180429,26509,40494,72572,71751,139677,106205,69719,47406,100612,113284,70062,179708,113110,22246,156018,108732,176194,111333,73778,26154,110151,126338,126397,116876,169965,89835,63106,1774,144296,89294,170168,150316,61342,165802,120311,150733,50606,95613,30929,24110,152172,149196,65507,11395,8156,82285,144057,25443,105610,147976,88651,98459,87943,88354,103849,102621,15256,120794,165061,64132,58622,167543,170603,45370,176234,127411,14374,36268,46303,70872,9525,161291,140103,65437,129545,124548,9215,142940,113160,180903,80970,77620,164176,60790,68609,93029,97123,96679,98518,38588,95846,46122,56263,119756,39006,58001,58034,36832,43532,35654,87921,78232,109370,80202,108509,26981,22890,24005,115465,60978,72945,70390,17303,68764,112430,113194,138542,168897,168707,9050,133290,136351,7204,145597,179132,130414,158722,2399,98636,10641,158480,178845,17925,55073,145197,136112,44505,179359,132393,141315,156082,142653,3328,180072,63520,156539,99980,146203,36951,118765,171259,160551,176352,146322,19925,117786,14914,37535,77759,122143,121352,86747,85044,128332,120467,90059,134249,145525,9567,65348,181154,144974,28576,175687,65999,47487,52968,171870,40224,76873,26212,70692,179972,10893,90899,96911,104078,92483,115981,123910,12683,8446,18374,144218,141667,142343,102852,11342,133863,11595,176572,269,137550,51056,10239,135306,16109,28932,156115,92316,82355,73890,150190,180804,160061,154180,87882,8239,84394,72326,72254,10217,77153,135706,34584,16284,178086,19965,21952,160220,43368,132172,148013,55467,111881,149373,95731,141561,152613,94774,127837,76031,177109,92248,150586,99037,121856,76693,27178,114482,62472,129251,81255,78202,34943,130834,62996,66741,59690,132434,74651,28765,47010,78147,59869,19495,178409,156978,13675,80181,102317,16383,43321,149822,31370,75942,95964,166298,44385,74594,58382,82922,72232,159796,43727,142182,152436,142540,80397,153029,163418,145730,18119,175499,173453,80691,118302,178585,165965,165334,130498,156385,147273,83180,21073,93057,35887,101978,180282,161415,62609,155717,168827,95418,52518,129445,20745,18166,78302,157990,162293,146056,21610,105683,20837,105468,52114,90469,17647,108910,34925,91582,18187,62654,33156,129905,12717,55343,164493,77783,31462,39683,17500,138809,115176,115917,141591,176537,182801,142319,36702,154920,30872,26608,169074,168976,79287,75847,99139,102280,179849,42033],\"overall_rating\":[81.0,81.0,81.0,80.0,83.0,81.0,80.0,86.0,80.0,81.0,80.0,80.0,81.0,80.0,80.0,86.0,80.0,85.0,80.0,83.0,82.0,80.0,84.0,80.0,82.0,81.0,80.0,80.0,80.0,81.0,85.0,83.0,84.0,85.0,81.0,86.0,81.0,80.0,80.0,83.0,80.0,80.0,80.0,81.0,80.0,80.0,81.0,80.0,80.0,84.0,81.0,80.0,81.0,81.0,85.0,83.0,80.0,80.0,82.0,83.0,80.0,80.0,82.0,81.0,81.0,81.0,82.0,81.0,80.0,82.0,86.0,80.0,82.0,80.0,81.0,81.0,80.0,82.0,82.0,81.0,84.0,80.0,82.0,81.0,86.0,82.0,80.0,80.0,84.0,84.0,82.0,80.0,81.0,81.0,87.0,82.0,82.0,83.0,81.0,80.0,85.0,80.0,83.0,82.0,81.0,87.0,80.0,80.0,80.0,85.0,82.0,80.0,83.0,82.0,81.0,90.0,82.0,80.0,80.0,80.0,82.0,84.0,80.0,85.0,82.0,82.0,81.0,81.0,82.0,81.0,80.0,80.0,82.0,82.0,83.0,83.0,83.0,82.0,80.0,82.0,80.0,82.0,81.0,80.0,80.0,81.0,80.0,83.0,80.0,80.0,83.0,84.0,84.0,80.0,82.0,84.0,80.0,82.0,81.0,80.0,81.0,81.0,87.0,80.0,81.0,80.0,80.0,84.0,80.0,80.0,80.0,83.0,84.0,83.0,80.0,81.0,83.0,81.0,81.0,81.0,81.0,80.0,80.0,83.0,81.0,82.0,85.0,80.0,82.0,86.0,82.0,81.0,85.0,80.0,80.0,82.0,83.0,81.0,82.0,80.0,80.0,81.0,86.0,80.0,82.0,83.0,80.0,80.0,81.0,82.0,80.0,85.0,82.0,82.0,80.0,81.0,82.0,83.0,83.0,82.0,80.0,83.0,85.0,82.0,85.0,88.0,81.0,81.0,80.0,84.0,84.0,80.0,81.0,80.0,81.0,84.0,82.0,85.0,83.0,80.0,86.0,80.0,83.0,82.0,82.0,84.0,80.0,82.0,81.0,80.0,86.0,82.0,87.0,81.0,81.0,80.0,84.0,88.0,82.0,86.0,80.0,80.0,80.0,80.0,84.0,82.0,90.0,80.0,82.0,80.0,84.0,83.0,80.0,88.0,82.0,81.0,85.0,82.0,85.0,86.0,82.0,80.0,89.0,82.0,88.0,80.0,80.0,82.0,81.0,80.0,81.0,86.0,84.0,82.0,81.0,86.0,86.0,82.0,87.0,82.0,80.0,81.0,80.0,81.0,80.0,87.0,87.0,86.0,80.0,83.0,83.0,81.0,80.0,80.0,81.0,83.0,86.0,83.0,94.0,82.0,82.0,80.0,82.0,83.0,80.0,80.0,84.0,81.0,81.0,84.0,81.0,80.0,82.0,84.0,87.0,81.0,90.0,83.0,81.0,82.0,80.0,80.0,82.0,83.0,85.0,93.0,80.0,88.0,80.0,81.0,80.0,80.0,83.0,81.0,81.0,81.0,81.0,84.0,81.0,89.0,81.0,81.0,80.0,83.0,80.0,86.0,88.0,80.0,80.0,80.0,82.0,86.0,82.0],\"player_api_id\":[108568,96623,30822,291219,39455,30731,41671,129944,182224,94043,354467,201939,30909,282676,112758,248453,13518,73167,15403,24235,75447,21446,30889,183185,38433,42346,268282,182921,73999,163670,38817,28467,96398,19327,113672,116772,155066,127460,37234,41433,147951,26005,210278,49970,92666,282770,30843,574200,114558,41890,42479,112978,278343,38458,30902,169193,300916,193174,166648,147729,38239,18518,37373,474589,150330,38393,193441,11685,182923,30474,41884,270774,37374,30871,364520,32657,292462,167035,30682,46104,20276,213501,144993,325916,25759,40945,33845,210164,150565,177714,103450,281085,212512,188555,31921,194165,208230,161683,36784,94916,121633,212893,156726,41167,181910,182917,241825,40672,240235,19243,75307,391058,38818,184554,33782,27299,72541,31306,267911,96616,23783,191315,94886,49939,26163,41658,27326,32569,26852,31013,188652,253088,128864,157865,49586,94086,115067,42116,361710,23988,164333,96540,257865,56916,40196,25819,181297,25496,35110,149962,150250,42422,184536,40930,179795,30717,210117,24846,34029,208077,46820,212815,30962,40193,33871,45749,40060,184138,38432,74747,34944,46875,150739,39122,41008,58346,41468,27365,246575,75310,27427,26160,38994,165823,111237,207236,49677,29590,160599,37459,37762,75342,26295,176300,361770,243164,184533,215299,150670,40735,37193,31045,50047,26111,22543,35606,186137,287894,38098,213486,39170,39027,75489,30509,174850,150323,46469,39792,157723,26181,210428,37549,25773,242709,36615,37412,40604,26552,46554,30627,178818,179772,164676,185945,109615,33988,33028,30829,68253,96643,154257,30820,164031,115591,56829,190972,24635,145550,30660,41087,169200,46893,164684,213805,41044,37623,46539,36378,177126,30613,30563,108038,38521,33991,37410,282674,19533,37950,154232,41199,174321,51360,148315,107417,70409,33635,30872,30878,37436,46509,26403,39987,30834,96613,93447,30956,38807,51949,30618,27430,143793,30924,31432,30657,195299,56678,30859,181276,30894,39990,215384,93480,79574,39591,46403,95078,36183,36388,143365,31293,41097,30865,33639,27424,171698,215168,26166,51553,30981,41618,184999,251925,27659,172949,26151,49836,28480,11319,192770,129391,77690,35112,230982,26419,31097,41092,40636,37581,38424,46518,195305,40940,30989,411617,37482,30893,157838,30955,33030,178955,41467,151063,52133,24948,192625,267365,22764,25921,25540,35724,23268,115184,40695,37421,26168,170323,80562,26437,101192,215798,26353,39854,35411],\"player_name\":[\"Ever Banega\",\"Sergio Asenjo\",\"Didier Drogba\",\"Islam Slimani\",\"Sokratis Papastathopoulos\",\"Andrea Pirlo\",\"Emiliano Viviano\",\"Marco Reus\",\"Mikel San Jose\",\"Mamadou Sakho\",\"Yannick Ferreira-Carrasco\",\"Cedric Bakambu\",\"David Villa\",\"Inigo Martinez\",\"Ignacio Camacho\",\"Paul Pogba\",\"Lukasz Piszczek\",\"Henrik Mkhitaryan\",\"Edin Dzeko\",\"Leonardo Bonucci\",\"Mario Mandzukic\",\"Hernanes\",\"Xabi Alonso\",\"Mario Gaspar\",\"Borja Valero\",\"Sami Khedira\",\"Manuel Trigueros\",\"Victor Ruiz\",\"Marco Parolo\",\"Ivan Perisic\",\"Carlos Tevez\",\"Marcelo\",\"Miralem Pjanic\",\"Miranda\",\"Mateo Pablo Musacchio\",\"Thomas Mueller\",\"Juan Cuadrado\",\"Giacomo Bonaventura\",\"Adam Lallana\",\"Radja Nainggolan\",\"Josip Ilicic\",\"Thomas Vermaelen\",\"Roberto Pereyra\",\"Gary Medel\",\"Stevan Jovetic\",\"Mauro Icardi\",\"Robin van Persie\",\"Eric Bertrand Bailly\",\"Kevin Strootman\",\"Claudio Marchisio\",\"Bruno Soriano\",\"Roman Buerki\",\"Riyad Mahrez\",\"Gonzalo Rodriguez\",\"Andrea Barzagli\",\"Alexandre Lacazette\",\"Joao Mario\",\"Quincy Promes\",\"Carlos Bacca\",\"Luiz Gustavo\",\"Ricardo Quaresma\",\"Jose Sosa\",\"Lars Bender\",\"Jose Gimenez\",\"Jose Maria Callejon\",\"Lucas Biglia\",\"Lorenzo Insigne\",\"Antonio Candreva\",\"Maxime Gonalons\",\"Stephan Lichtsteiner\",\"Giorgio Chiellini\",\"Franco Vazquez\",\"Sven Bender\",\"Tiago\",\"Domenico Berardi\",\"Victor Valdes\",\"Mohamed Salah\",\"Anthony Lopes\",\"Daniele De Rossi\",\"Dries Mertens\",\"Hulk\",\"Alvaro Morata\",\"Shinji Kagawa\",\"Paulo Dybala\",\"Gonzalo Higuain\",\"Nani\",\"Miguel Angel Moya\",\"Alphonse Areola\",\"Pierre-Emerick Aubameyang\",\"Mario Goetze\",\"Yevheniy Konoplyanka\",\"Jese Rodriguez\",\"Jasper Cillessen\",\"Stefan de Vrij\",\"Gareth Bale\",\"Harry Kane\",\"Karim Bellarabi\",\"Konstantinos Manolas\",\"Klaas Jan Huntelaar\",\"Lars Stindl\",\"David Alaba\",\"Kevin Volland\",\"Douglas Costa\",\"Filipe Luis\",\"Mattia Perin\",\"David De Gea\",\"Francisco Alcacer\",\"Francisco Casilla\",\"Danilo Pereira\",\"Diego Costa\",\"Daniel Parejo\",\"Jose Gaya\",\"Javier Mascherano\",\"Marc-Andre ter Stegen\",\"Jeremy Menez\",\"Manuel Neuer\",\"Cesar Azpilicueta\",\"Branislav Ivanovic\",\"Bruno Peres\",\"Martin Caceres\",\"Gary Cahill\",\"Isco\",\"Holger Badstuber\",\"Arturo Vidal\",\"Hatem Ben Arfa\",\"Marek Hamsik\",\"Mario Gomez\",\"Patrice Evra\",\"Thiago Motta\",\"Theo Walcott\",\"Allan\",\"Nikola Maksimovic\",\"Oscar\",\"Alex Sandro\",\"Ralf Faehrmann\",\"Willian\",\"Nemanja Matic\",\"Sebastian Meoli\",\"Aderlan Santos\",\"Lassana Diarra\",\"Andre Andre\",\"Sebastian Giovinco\",\"William Carvalho\",\"Aurelien Chedjou\",\"Fernandinho\",\"Raffael\",\"Oscar de Marcos\",\"Dimitri Payet\",\"Winston Reid\",\"Nicolas N'Koulou\",\"Pedro Rodriguez\",\"Samir Handanovic\",\"Philippe Coutinho\",\"Adrien Silva\",\"Yacine Brahimi\",\"Gianluigi Buffon\",\"Samuel Umtiti\",\"Leighton Baines\",\"Raul Albiol\",\"Danilo\",\"Matteo Darmian\",\"Timo Horn\",\"Sergio Ramos\",\"Vieirinha\",\"Raul Garcia\",\"Benat Etxebarria\",\"Mathieu Valbuena\",\"Antoine Griezmann\",\"Dante\",\"Javi Fuego\",\"Michael Carrick\",\"Mehdi Benatia\",\"Jordi Alba\",\"Jonas\",\"Moussa Dembele\",\"Max Kruse\",\"Juan Mata\",\"Nuri Sahin\",\"Raheem Sterling\",\"Alvaro Negredo\",\"Gonzalo Castro\",\"Yohan Cabaye\",\"Rafael\",\"Chris Smalling\",\"Vicente Iborra\",\"Granit Xhaka\",\"Edinson Cavani\",\"Fabio Coentrao\",\"Toby Alderweireld\",\"David Silva\",\"Jan Vertonghen\",\"Carlos Vela\",\"Hugo Lloris\",\"Xherdan Shaqiri\",\"Andre Gomes\",\"Julian Draxler\",\"Koke\",\"Lucas Moura\",\"Kamil Glik\",\"Martin Stranzl\",\"Michel Vorm\",\"Andres Guardado\",\"Alexis Sanchez\",\"Bacary Sagna\",\"Radamel Falcao\",\"Per Mertesacker\",\"Phil Jones\",\"Loris Karius\",\"Andre-Pierre Gignac\",\"Nolito\",\"Andrea Consigli\",\"Vincent Kompany\",\"Aaron Ramsey\",\"Pablo Zabaleta\",\"Erik Lamela\",\"Ander Iturraspe\",\"Olivier Giroud\",\"Arda Turan\",\"Christian Eriksen\",\"Samir Nasri\",\"Kalidou Koulibaly\",\"Joao Moutinho\",\"Ivan Rakitic\",\"Roberto Firmino\",\"Yaya Toure\",\"Sergio Aguero\",\"Rui Patricio\",\"Jose Fonte\",\"Alexandre Pato\",\"John Terry\",\"Ilkay Guendogan\",\"Iker Muniain\",\"Ander Herrera\",\"Jardel\",\"Omer Toprak\",\"Daniel Alves\",\"Aritz Aduriz\",\"Wayne Rooney\",\"Benedikt Hoewedes\",\"Bojan Krkic\",\"Sergio Busquets\",\"Diego Benaglio\",\"Nicolas Gaitan\",\"Ricardo Rodriguez\",\"Fernando Muslera\",\"Marco Verratti\",\"Robbie Keane\",\"Kevin Trapp\",\"Pepe Reina\",\"Ron-Robert Zieler\",\"Kevin de Bruyne\",\"Morgan Schneiderlin\",\"James Rodriguez\",\"Vitolo\",\"Kaka\",\"Roberto\",\"Laurent Koscielny\",\"Mesut Oezil\",\"Jan Oblak\",\"Cesc Fabregas\",\"Marko Basa\",\"Georginio Wijnaldum\",\"Nacho Monreal\",\"Jesus Navas\",\"Javier Martinez\",\"Daniel Carvajal\",\"Neymar\",\"Gervinho\",\"Grzegorz Krychowiak\",\"Fredy Guarin\",\"Nicolas Otamendi\",\"Jackson Martinez\",\"Christian Benteke\",\"Eden Hazard\",\"Javier Hernandez\",\"Gabi\",\"Bastian Schweinsteiger\",\"Wesley Sneijder\",\"Santi Cazorla\",\"Angel Di Maria\",\"Jeremy Mathieu\",\"Loic Remy\",\"Arjen Robben\",\"Diego Alves\",\"Robert Lewandowski\",\"Clint Dempsey\",\"James Milner\",\"Keylor Navas\",\"Steven Gerrard\",\"Dimitar Berbatov\",\"Jack Wilshere\",\"Franck Ribery\",\"Joe Hart\",\"Iker Casillas\",\"Serge Aurier\",\"Diego Godin\",\"Petr Cech\",\"Romelu Lukaku\",\"Philipp Lahm\",\"Jeremy Toulalan\",\"Ross Barkley\",\"Sofiane Feghouli\",\"Ramires\",\"Axel Witsel\",\"Vedran Corluka\",\"Toni Kroos\",\"Jerome Boateng\",\"Mats Hummels\",\"Wilfried Bony\",\"Steve Mandanda\",\"Stephane Ruffier\",\"Nemanja Vidic\",\"Samuel Eto'o\",\"Rene Adler\",\"Joel Matip\",\"Bernd Leno\",\"Karim Benzema\",\"Daniel Sturridge\",\"Lionel Messi\",\"Yann Sommer\",\"Shkodran Mustafi\",\"Gerard Deulofeu\",\"Salvatore Sirigu\",\"Thiago Alcantara\",\"Kevin Mirallas\",\"Fabian Orellana\",\"Naldo\",\"Benoit Costil\",\"Aymen Abdennour\",\"Javier Pastore\",\"Seamus Coleman\",\"Simon Kjaer\",\"Raphael Varane\",\"Blaise Matuidi\",\"Luka Modric\",\"Benoit Tremoulinas\",\"Luis Suarez\",\"Ezequiel Garay\",\"Juanfran\",\"Asmir Begovic\",\"Marc Bartra\",\"Daniel Carrico\",\"Julio Cesar\",\"Aymeric Laporte\",\"Gerard Pique\",\"Cristiano Ronaldo\",\"Nathaniel Clyne\",\"Andres Iniesta\",\"Fernando Llorente\",\"Stefan Savic\",\"Javi Garcia\",\"Coke\",\"David Luiz\",\"Ashley Williams\",\"Patrick Herrmann\",\"Marquinhos\",\"Martin Skrtel\",\"Pepe\",\"Vincent Enyeama\",\"Zlatan Ibrahimovic\",\"Phil Jagielka\",\"Danijel Subasic\",\"Ryan Shawcross\",\"Claudio Bravo\",\"Cedric Carrasso\",\"Thibaut Courtois\",\"Thiago Silva\",\"Jefferson Farfan\",\"James McCarthy\",\"Lavyin Kurzawa\",\"Loic Perrin\",\"Xavi Hernandez\",\"Demba Ba\"],\"potential\":[81.0,82.0,81.0,80.0,83.0,81.0,80.0,87.0,81.0,82.0,85.0,84.0,81.0,84.0,82.0,91.0,80.0,86.0,80.0,83.0,82.0,80.0,84.0,84.0,82.0,81.0,85.0,81.0,80.0,82.0,85.0,83.0,86.0,85.0,85.0,88.0,81.0,82.0,80.0,83.0,80.0,80.0,83.0,81.0,82.0,85.0,81.0,88.0,82.0,84.0,81.0,83.0,85.0,81.0,85.0,87.0,86.0,86.0,82.0,83.0,80.0,80.0,83.0,87.0,81.0,81.0,86.0,81.0,81.0,82.0,86.0,80.0,83.0,80.0,86.0,81.0,85.0,86.0,82.0,81.0,84.0,85.0,83.0,87.0,86.0,82.0,80.0,88.0,85.0,88.0,84.0,87.0,82.0,87.0,89.0,88.0,84.0,86.0,81.0,81.0,88.0,85.0,86.0,82.0,86.0,90.0,86.0,80.0,84.0,86.0,83.0,85.0,83.0,87.0,81.0,90.0,84.0,80.0,82.0,80.0,82.0,88.0,80.0,85.0,82.0,82.0,81.0,81.0,82.0,81.0,82.0,85.0,86.0,85.0,84.0,84.0,84.0,82.0,81.0,82.0,82.0,82.0,86.0,80.0,80.0,81.0,81.0,83.0,80.0,82.0,83.0,84.0,88.0,81.0,84.0,84.0,85.0,82.0,81.0,84.0,83.0,87.0,87.0,80.0,81.0,80.0,80.0,88.0,80.0,80.0,80.0,83.0,85.0,83.0,80.0,81.0,83.0,82.0,87.0,81.0,81.0,80.0,82.0,85.0,81.0,86.0,85.0,80.0,83.0,86.0,82.0,82.0,85.0,84.0,87.0,85.0,87.0,84.0,82.0,80.0,80.0,81.0,87.0,80.0,82.0,83.0,84.0,85.0,81.0,82.0,80.0,85.0,85.0,82.0,84.0,82.0,82.0,83.0,87.0,82.0,83.0,83.0,85.0,86.0,85.0,88.0,81.0,81.0,82.0,84.0,87.0,85.0,82.0,80.0,83.0,84.0,82.0,85.0,83.0,83.0,87.0,80.0,83.0,86.0,82.0,89.0,80.0,85.0,81.0,81.0,89.0,84.0,93.0,83.0,81.0,80.0,84.0,89.0,86.0,86.0,80.0,84.0,80.0,80.0,85.0,85.0,94.0,80.0,84.0,80.0,84.0,83.0,83.0,90.0,82.0,81.0,85.0,82.0,85.0,86.0,82.0,80.0,89.0,82.0,89.0,80.0,80.0,82.0,81.0,80.0,84.0,86.0,84.0,82.0,86.0,86.0,86.0,88.0,87.0,82.0,88.0,83.0,80.0,82.0,80.0,89.0,88.0,87.0,81.0,83.0,83.0,81.0,80.0,80.0,83.0,88.0,86.0,85.0,94.0,83.0,87.0,87.0,82.0,87.0,80.0,80.0,84.0,81.0,83.0,85.0,82.0,81.0,89.0,84.0,87.0,81.0,90.0,83.0,81.0,82.0,83.0,81.0,82.0,87.0,85.0,93.0,84.0,88.0,80.0,85.0,80.0,80.0,83.0,81.0,84.0,87.0,81.0,84.0,81.0,89.0,81.0,81.0,80.0,83.0,80.0,90.0,88.0,80.0,83.0,88.0,82.0,86.0,82.0],\"x\":[-0.1661426482883903,-5.46742527882389,-6.59250720270939,-7.052851662780867,5.354494134929692,6.077693569171792,-4.693794538950861,-9.03391210540995,5.170613412898561,4.716575291743294,-8.483539917130807,-8.065812386320315,-8.11259634931794,5.157488750466202,4.222849464598395,1.639245658090301,3.3973593811557854,-0.4005572123125804,-5.5366935025448045,5.076291402377343,-6.82917531970357,-1.8286622323810655,5.934060144785347,3.3447401314308154,-0.2649210208903653,3.530312908799977,0.8538631440971793,5.441212809039271,2.416208219179342,-8.350810451510231,-8.756769927733313,2.9906673037925087,-0.29589809730878025,5.3359668614617055,5.324665847961429,-8.591035889326958,-8.655716960887144,-0.01223412233293234,-7.713418943040086,1.3843091027241956,-3.1572931157205204,4.248657561195648,0.3933577716420354,4.902602101358868,-8.079124972529373,-7.431867810218882,-6.276964370849744,3.809967870944484,2.047685459178809,1.0290788192607008,3.523480200039994,-5.41436168886299,-8.241405666503864,5.34938460670918,5.3096557678814325,-8.589768275156008,0.29723604865983505,-8.579865019967974,-7.828575736136238,4.689378219175487,-8.303664154722005,-0.37464300724526367,4.251204452939116,3.7861507743091494,-8.524512801043617,1.136863799563307,-8.734409426015914,-3.268143125442319,4.171654184605989,3.4779516279850533,5.454732543709941,-1.7155203559062253,4.9161725278044255,3.1273589100776986,-8.35072751301583,-5.485633034330485,-8.458397073012469,-5.777401267581899,3.892182971153698,-9.00290271902971,-8.59387625571092,-7.761415556700209,-8.718096108838623,-8.758993782660468,-8.07906180331511,-8.599974585503293,-5.174890388802927,-5.130838494713865,-8.531346068454456,-8.689788843748143,-8.50990406022389,-7.991325486343656,-5.5660396667833565,5.304474191767449,0.6631291767479737,-6.800065237973519,-8.541395402944733,3.845909839189884,-6.155759773327134,0.22469963349530217,1.300160693214864,-8.517627736953383,-8.586687557384195,3.5005133097095724,-5.439092663378136,-5.714034099164452,-7.729092495309341,-5.326390651831978,4.710101618332936,-6.499899237795232,-0.3590302365476863,3.684473733114058,4.667215203781743,-5.512565560151474,-8.222507203181703,-5.7946982945503045,3.844503010839475,5.160358021742154,3.08238490864761,5.070171826377758,5.439240663913137,-8.292305158621495,7.324600314842133,1.301483669199958,-8.183795756327443,-0.22556591911168933,-6.021453983100311,4.946115211826773,3.741895062006011,-8.427793993440547,4.1635555964276065,3.6031045422787504,-8.436802688357137,3.5790346611521264,-4.750544892020029,-5.761613075138124,3.404611473651476,-9.104721939166986,7.0731872940378056,4.800585752945294,0.6226283364053505,-9.104653238920218,5.01255757967188,4.239631360119659,1.3486993681744932,-8.131871863432785,3.770384848394252,-6.9269176040930205,5.6259848765706115,5.110719822902534,-8.537033967330412,-5.434850897023325,-8.514054016758507,-0.2649492978030273,-8.72935875837435,-5.452947830677902,4.090669511429915,1.2923468512886553,5.56006383431815,1.6394065239519269,4.88418987702154,-5.483969439382735,4.145468621980911,-0.1063605333735579,2.0485039498434285,0.033805192085620966,-8.951838127059222,-8.699848411658508,6.5743256384763,4.076492442777864,3.4921713365598053,4.928203345064394,3.6154200114799897,-8.254369989888978,2.1790385376568766,-8.031573145440783,-8.909186267899448,-0.2714745753002197,-8.503860438742858,-6.538743351209105,0.6255362435339114,1.0994354470193297,-7.915445840175019,4.996439002605304,3.9693560335646656,5.917807426890813,-8.430457283856747,3.448777707810035,4.675056351683975,-8.896334088791209,4.1539273036929965,-8.402839884038567,-5.721122596598879,-0.48493235633418164,1.160320513258324,-8.444907849616069,-0.3480329635718019,-8.632168328889573,3.5232582097624463,6.187957045319535,-5.715723574254079,0.06366019560395535,-8.627732993304331,4.84869636179157,-8.160555423452937,2.4252607483733435,5.188405765517252,-5.433787492840958,-6.5438595133610065,-8.241333117683226,-5.147800715702979,5.196964543811826,0.5614197137822121,4.057407212262022,-7.818904330378938,3.9716725922666813,-6.601616105670877,-0.0006820622618975942,-8.263690026223182,-8.630919437576237,3.5472239923166398,0.43519434024230047,-0.45446290287657076,-8.45973870025326,1.9842790760687936,-8.783908281976492,-5.484071137432649,4.762190046666868,-7.8781120420271025,3.27462987563844,-0.22961669625011108,-8.752243048349477,0.0028539365938368135,6.026461863999572,5.25105216913419,1.7971925771019224,-6.78415796750992,-8.687258844602004,5.3393980016480445,-8.350520796172836,4.091861110883501,-4.779060995837439,-8.759241698575316,1.4335845939418432,-5.815489632395851,0.1774981811315199,-7.910145372888278,-5.30814821122448,-5.656056170107502,-4.802599471453116,-8.222596781647917,3.9706950882835255,-8.172623777888768,-7.280190886222285,-6.054550088409001,-5.548101550396304,5.282141500530253,-8.72387048583455,-5.653226359699899,-0.3869118940509233,6.818418820032908,-1.6318876139265033,3.9196944907174185,-8.90989014242834,5.012159436823104,5.0715595224725405,-9.007959615099754,-8.01115622108453,4.697231501780347,1.5680044896660124,5.301249374802492,-7.452468727127686,-6.3360815534709465,-9.022016085300212,-8.07549533947113,0.5264000369795475,2.0999687166770196,-2.935661578876879,-0.38918107718170236,-0.6388860413771825,4.725400439993098,-7.541591049959452,-9.072200184387881,-5.797637684520506,-8.594997880836521,-8.173784200711516,0.8009902373776133,-5.7088644063290985,2.101842168983591,-7.576027136149664,-0.007902143911358166,-8.975079139844722,-5.318494665698426,-5.756312815549854,4.010647769367132,5.372051286112573,-4.58740594751863,-6.4047965587743825,0.37741074936476293,4.991003054289402,0.19700832054209708,-8.487209113751227,3.3941242955766953,1.9876053933433828,6.889028854977848,-0.40923862811024264,5.701667085690419,4.8909534334177645,-6.653639319296614,-5.339999870074735,-5.4546639656744595,5.077383786189496,-8.227604374451598,-4.8978695863359,5.590090622014405,-5.559154182981599,-8.149463237825959,-8.077940125407354,-9.129768306806191,-5.617623292931564,5.2246605341962535,-8.094109467675127,-5.28545156760822,-0.3643569711564495,-8.506312345898635,-8.628614395787897,7.49878133208958,-4.492854667584207,5.253052509841047,-0.6218540660596944,4.128731559426191,5.758278959045901,5.460553079544709,3.297415074644448,-0.04094540332967808,3.3341371599146976,-8.699456778967894,7.210073195848646,3.5899289960582577,-4.225741307354734,5.170597885676447,6.0430859335225335,-5.629894231873116,5.598226070680519,5.0420876655819145,-8.753583219622561,4.5674100823344235,-0.4726950524591616,7.9663611797731715,4.412721383658743,4.056904304712316,4.10338849771914,4.053273501759917,5.231481618801115,-8.575446680031511,4.458770952135138,4.770840209799243,5.464538779822914,-5.824399923857348,-7.304430507066368,5.619633620477044,-5.668186136759529,4.796379350730781,-5.836794572686392,-4.79869472535611,-5.540800298537432,4.156063677117022,-7.97247705487314,2.9302263937953508,3.516731427385248,4.233463158669157,-0.49277515531900185,-6.9418510173234464],\"y\":[-8.125117859399838,8.290344462704493,-7.629291831209408,-7.109010881004085,1.2873871158432224,-7.5623835466201434,6.885334688939409,-2.5116267575542435,-7.2946334203173135,2.539681565153713,-2.9471166774569566,-4.696171114804666,-4.034492573095165,0.37389981171272796,-7.50942317146581,-8.799449745031255,-6.845750805495809,-8.523010631413626,-7.980242203995795,-7.851995638220068,-7.319078572583258,-6.324262427935108,-7.620996251130531,-6.9558428079594155,-8.41997446119907,-8.490483484232213,-8.253796068320828,1.2435388374850151,-8.009068038242754,-4.247862560579051,-4.096020450043185,-7.319735742914635,-8.400451448365219,1.3289370865620254,0.7610745897998624,-4.0853867903093875,-2.303733428939832,-8.06517451151803,-3.3921727678146736,-8.514519247373228,-3.695025071581714,-8.238768063176074,-8.15950333400048,-5.846585004981686,-4.183173094207248,-5.709105812407831,-3.341930391660383,2.752476186172596,-8.325931929259257,-8.694351358441745,-8.533049179671501,7.7697888664529415,-1.2213365885070901,1.2192725165318319,1.6703757568106234,-4.088244591867122,-7.602637205926351,-3.173000004455693,-5.279119917759401,-7.100246348298925,-2.4667170605737216,-7.958182345862522,-7.164598230682808,2.8950546622106486,-2.355506329547794,-8.288430979052466,-1.1657226144920465,-3.7218718292878608,-7.724415665066971,-6.825372728940707,1.6223187298342763,-7.299307473209409,-6.973107158914057,-8.32036761628639,-3.167599500062394,8.242055093727819,-1.8539762716980381,8.326138165946855,-8.207562280124439,-1.2770148399391112,-4.39769106936464,-5.28782326711752,-0.8518321760794798,-2.646127634152021,-5.21130628237055,-2.3673182168577878,7.5225563705830485,7.876180715073919,-4.276078539566738,-2.6503267313841965,-2.2059638750111827,-1.1716415708382013,7.702222086909288,1.8140193178000252,-8.754384186145064,-7.422831664533407,-2.4249696096111304,3.2867534961177696,-7.649442735898542,-8.345577396935692,-8.642692470810989,-4.117117053742886,-2.426660135389014,-6.838329603365209,7.639881918130909,7.682570596721288,-5.397513820747629,7.5518707975538195,-7.162072035695272,-7.644858977000168,-8.096342933426294,-5.5157437508690075,-6.215680835815394,7.428716680228639,-2.4749911418529327,7.646269110771893,-6.601240634674574,-7.9067927287624915,-6.275632062071897,-4.846406179419491,1.3286096962037055,-2.690003514030003,-0.446777735586591,-8.758057940323756,-3.8216883706575113,-8.22259970271264,-7.597040268785144,-5.1144010744375255,-8.567462018205044,-2.6569550749816084,-6.175204208883831,3.5299726688835427,-1.6314962217167304,-6.552684064583608,6.919830392729955,-2.7639853083741186,-8.48579024491391,-1.5007209801821555,2.761529936549227,-5.2921352470419505,-8.435306378659083,-1.4976981610938345,-7.247026844807411,-8.077539207422722,-8.357314592639575,-3.318268072573223,-6.395661471368763,-2.9396669794244077,2.071007329211402,0.6323691807590829,-2.3966452445453714,7.426677656602597,-1.4681179659042167,-8.027972487635008,-2.057667607897185,7.871878241059368,-7.905679641029056,-8.624703146336163,1.838198554175171,-8.472988381904083,-4.398883310197207,7.534335180360372,-8.143620586817772,-8.1815493421813,-8.874346942354641,-8.10141802979562,-0.794670656630813,-3.7939708630009807,-0.9316743392312389,-7.37064116847178,-8.325468366807005,3.0612884442705472,-6.395146410464237,-3.9982825528909243,-8.410881854274349,-3.5978203045969526,-2.3133532343280736,-7.780734553422844,-1.5481609505550138,-7.5663205383144785,-8.351692241137462,-8.45160371167916,-2.0173057995024073,2.2033640457494026,-8.541970080199341,-7.538851136160125,-5.1537621833302,-6.75197534805036,-7.812422601711319,-2.3497532927730043,-8.064918107303415,-3.155811873469972,8.247580700564681,-8.132945773545133,-7.040333946073362,-3.553108793285017,-8.161467933520665,-2.1209361509004845,3.314861376550006,3.7639636648907504,8.317150247624264,-8.506090922727248,-3.9550061136420482,-5.285407252066396,-5.33970180458411,5.225656467198498,-7.036148201139285,7.65181302861158,-7.601691439992134,-2.864562092025265,7.604504814240338,-7.861113899001424,-8.464753632171048,-6.989443145495489,-3.0046087964634016,-8.324274822717884,-7.5946593804773554,-8.504180925452536,-2.0364382967095085,-1.837261545953103,3.3085951935140154,-8.519763993347318,-8.17486830182717,-3.937967558205535,-8.804621767533867,-3.874114769282791,8.286652598061755,3.7018699768377625,-5.109616811730552,5.340188143048742,-8.43108206584962,-1.1451162356551983,-8.330117769360221,3.3247679444215996,1.3226521253459405,-8.24758536662642,-7.444369469649895,-4.406239517429422,0.9868913052929678,-1.2534408365374974,-7.907544813905371,7.156762126459862,-2.3027956626507593,-8.617722977683723,8.33922537441491,-8.532433761797375,-3.600483742481363,7.32057628378278,7.933275647013547,7.375184102520437,-3.499291859554467,-7.487321489367028,-3.443019763542862,-2.9809669132487,-3.1710526049841405,7.761553640846228,1.349652718174318,-2.3695156080859565,7.9601828936052765,-8.455481886987908,2.655792961530815,-7.267842251425191,-6.318622164033456,-0.8018895029772488,-7.566112932094078,-3.717062757401013,-2.184934635237744,-1.7391063578669343,-7.591943539186943,-8.591844323512763,0.9548374126806352,-6.557538663638062,-7.428243502160156,-2.3866812251327567,-5.066793748836493,-8.208586396669686,-8.990569565331038,-3.0846811274322645,-8.491789796575228,-8.571829764494483,-6.364206630919799,-5.516381714458653,-2.4352539081128226,8.261655639184932,-4.5011117188352525,-4.658699977087677,-8.638920296215904,8.313934858686494,-8.988771404177065,-5.785867952016563,-8.320819981485307,-2.252149916725609,7.143993771544103,8.14594876946155,-6.332372695043074,0.9756410248601206,6.907200108394663,-7.414989646721212,-8.684919822260845,-6.763757574289338,-7.170251489825705,-2.4092940337193127,-6.988686501205685,-8.512866837790973,0.3036647963998808,-8.227461494230768,0.7292891834498076,-7.775228455862056,-7.089729317953969,7.540434330031014,7.983108918156482,4.434179598436556,-4.408632990095633,7.401363962512759,0.8879966591455511,7.680858552348519,-5.136212672047928,-5.040086689841664,-2.491559263084324,7.912165848443421,0.5265435405649793,-1.134851649425621,7.807258125640759,-8.415203504980155,-2.6175571293143665,-1.561186684679762,-0.0016194789530543348,7.00840204621092,0.24294845041469346,-8.144650529685524,-6.0619124586395605,1.460559312793184,1.3370245915325116,-7.1822626789702095,-8.587460237133934,-6.839911534958408,-4.319330955699348,-0.3923232572004985,-6.7444923022293075,6.850673350049976,0.5805658511842302,-1.3209899297440266,7.926573342484261,1.5511682546069943,-7.708345326970266,-4.329245436243246,-4.802918665832128,-8.536479177383342,-5.6939615828109424,3.317479724184198,-8.209125200492869,-6.368911249990973,-8.211808856192832,1.8683409113443514,-2.394864138720741,1.3198509330926493,3.6718168324541467,1.4937671231424399,7.917210404052619,-7.299518456751942,0.9981304756409474,7.5869371953,3.612118167750572,8.074297987430745,7.1214347249437635,7.770048668678267,-8.24581717102044,-3.623937908049458,-7.277831957436265,-6.726757907792994,-7.9740529709891215,-8.527838975901394,-7.40423624579084]}},\"id\":\"4aa7a7fa-8dee-4106-9d0a-b6a61440df95\",\"type\":\"ColumnDataSource\"},{\"attributes\":{\"axis_label\":\"Component 1\",\"formatter\":{\"id\":\"c78fa2c5-0a10-49b8-bfc7-1b2aa35a2bff\",\"type\":\"BasicTickFormatter\"},\"plot\":{\"id\":\"ea8942f2-275d-45bd-b306-3fb0d62b762b\",\"subtype\":\"Figure\",\"type\":\"Plot\"},\"ticker\":{\"id\":\"a14e2703-12bf-41f8-8ad8-1569e197f371\",\"type\":\"BasicTicker\"}},\"id\":\"8f12c18b-75f9-433c-b8bb-0daefab9b9f6\",\"type\":\"LinearAxis\"},{\"attributes\":{},\"id\":\"9b0d3b91-0654-4fcb-802c-284b6777cf78\",\"type\":\"BasicTicker\"},{\"attributes\":{},\"id\":\"c78fa2c5-0a10-49b8-bfc7-1b2aa35a2bff\",\"type\":\"BasicTickFormatter\"},{\"attributes\":{\"plot\":{\"id\":\"ea8942f2-275d-45bd-b306-3fb0d62b762b\",\"subtype\":\"Figure\",\"type\":\"Plot\"}},\"id\":\"222fc9b5-9ba6-4dcc-9a79-f322576d03c3\",\"type\":\"PreviewSaveTool\"},{\"attributes\":{\"plot\":{\"id\":\"ea8942f2-275d-45bd-b306-3fb0d62b762b\",\"subtype\":\"Figure\",\"type\":\"Plot\"}},\"id\":\"708790b5-70e9-4ff0-a6c1-68435726e96a\",\"type\":\"ResetTool\"},{\"attributes\":{\"callback\":null,\"plot\":{\"id\":\"ea8942f2-275d-45bd-b306-3fb0d62b762b\",\"subtype\":\"Figure\",\"type\":\"Plot\"},\"tooltips\":[[\"atleta\",\"@player_name\"]]},\"id\":\"887fb88c-b701-4773-b220-1adee1782d10\",\"type\":\"HoverTool\"},{\"attributes\":{\"fill_alpha\":{\"value\":0.1},\"fill_color\":{\"value\":\"#1f77b4\"},\"line_alpha\":{\"value\":0.1},\"line_color\":{\"value\":\"#1f77b4\"},\"size\":{\"units\":\"screen\",\"value\":10},\"x\":{\"field\":\"x\"},\"y\":{\"field\":\"y\"}},\"id\":\"1562f907-b0c4-4785-b278-15bd7a5ccf92\",\"type\":\"Circle\"},{\"attributes\":{\"plot\":{\"id\":\"ea8942f2-275d-45bd-b306-3fb0d62b762b\",\"subtype\":\"Figure\",\"type\":\"Plot\"}},\"id\":\"ba8ca49b-19e6-4772-8bdb-e63062601cff\",\"type\":\"PanTool\"},{\"attributes\":{},\"id\":\"a14e2703-12bf-41f8-8ad8-1569e197f371\",\"type\":\"BasicTicker\"},{\"attributes\":{\"callback\":null},\"id\":\"2186f03e-07d4-440d-af7f-fda2178995a2\",\"type\":\"DataRange1d\"},{\"attributes\":{},\"id\":\"9a566147-06a5-4cd9-b890-7d8cc1e30b85\",\"type\":\"ToolEvents\"},{\"attributes\":{\"overlay\":{\"id\":\"6ade6a01-440e-4d92-a322-e067009862e8\",\"type\":\"BoxAnnotation\"},\"plot\":{\"id\":\"ea8942f2-275d-45bd-b306-3fb0d62b762b\",\"subtype\":\"Figure\",\"type\":\"Plot\"}},\"id\":\"0b2278c6-be87-4c37-af5a-45fa929c4aef\",\"type\":\"BoxZoomTool\"},{\"attributes\":{\"plot\":{\"id\":\"ea8942f2-275d-45bd-b306-3fb0d62b762b\",\"subtype\":\"Figure\",\"type\":\"Plot\"},\"ticker\":{\"id\":\"a14e2703-12bf-41f8-8ad8-1569e197f371\",\"type\":\"BasicTicker\"}},\"id\":\"d93dc0e7-3327-4111-9f80-2fb14b3d2fb8\",\"type\":\"Grid\"},{\"attributes\":{\"fill_color\":{\"value\":\"blue\"},\"line_color\":{\"value\":\"blue\"},\"size\":{\"units\":\"screen\",\"value\":10},\"x\":{\"field\":\"x\"},\"y\":{\"field\":\"y\"}},\"id\":\"312da4b7-7777-4510-88e6-ebaf544255b2\",\"type\":\"Circle\"},{\"attributes\":{\"axis_label\":\"Component 2\",\"formatter\":{\"id\":\"38afa638-0211-4308-b53b-b50653e85097\",\"type\":\"BasicTickFormatter\"},\"plot\":{\"id\":\"ea8942f2-275d-45bd-b306-3fb0d62b762b\",\"subtype\":\"Figure\",\"type\":\"Plot\"},\"ticker\":{\"id\":\"9b0d3b91-0654-4fcb-802c-284b6777cf78\",\"type\":\"BasicTicker\"}},\"id\":\"0f0e4c03-78ad-4192-a807-0c91ad5e2e90\",\"type\":\"LinearAxis\"},{\"attributes\":{},\"id\":\"38afa638-0211-4308-b53b-b50653e85097\",\"type\":\"BasicTickFormatter\"},{\"attributes\":{\"bottom_units\":\"screen\",\"fill_alpha\":{\"value\":0.5},\"fill_color\":{\"value\":\"lightgrey\"},\"left_units\":\"screen\",\"level\":\"overlay\",\"line_alpha\":{\"value\":1.0},\"line_color\":{\"value\":\"black\"},\"line_dash\":[4,4],\"line_width\":{\"value\":2},\"plot\":null,\"render_mode\":\"css\",\"right_units\":\"screen\",\"top_units\":\"screen\"},\"id\":\"6ade6a01-440e-4d92-a322-e067009862e8\",\"type\":\"BoxAnnotation\"},{\"attributes\":{\"dimension\":1,\"plot\":{\"id\":\"ea8942f2-275d-45bd-b306-3fb0d62b762b\",\"subtype\":\"Figure\",\"type\":\"Plot\"},\"ticker\":{\"id\":\"9b0d3b91-0654-4fcb-802c-284b6777cf78\",\"type\":\"BasicTicker\"}},\"id\":\"578334d2-6e0c-4165-9fde-754c50072fff\",\"type\":\"Grid\"}],\"root_ids\":[\"ea8942f2-275d-45bd-b306-3fb0d62b762b\"]},\"title\":\"Bokeh Application\",\"version\":\"0.11.1\"}};\n",
       "            var render_items = [{\"docid\":\"81e941f5-20da-41fe-a908-4102a8760944\",\"elementid\":\"2c373fba-d4e3-4737-ac8b-a17bf2e7a5c3\",\"modelid\":\"ea8942f2-275d-45bd-b306-3fb0d62b762b\",\"notebook_comms_target\":\"62a1cb72-4f6f-4b90-9ae9-ffebc6730c9a\"}];\n",
       "            \n",
       "            Bokeh.embed.embed_items(docs_json, render_items);\n",
       "        });\n",
       "      },\n",
       "      function(Bokeh) {\n",
       "      }\n",
       "    ];\n",
       "  \n",
       "    function run_inline_js() {\n",
       "      for (var i = 0; i < inline_js.length; i++) {\n",
       "        inline_js[i](window.Bokeh);\n",
       "      }\n",
       "    }\n",
       "  \n",
       "    if (window._bokeh_is_loading === 0) {\n",
       "      console.log(\"Bokeh: BokehJS loaded, going straight to plotting\");\n",
       "      run_inline_js();\n",
       "    } else {\n",
       "      load_libs(js_urls, function() {\n",
       "        console.log(\"Bokeh: BokehJS plotting callback run at\", now());\n",
       "        run_inline_js();\n",
       "      });\n",
       "    }\n",
       "  }(this));\n",
       "</script>"
      ]
     },
     "metadata": {},
     "output_type": "display_data"
    },
    {
     "data": {
      "text/html": [
       "<p><code>&lt;Bokeh Notebook handle for <strong>In[12]</strong>&gt;</code></p>"
      ],
      "text/plain": [
       "<bokeh.io._CommsHandle at 0x18d4b438>"
      ]
     },
     "execution_count": 12,
     "metadata": {},
     "output_type": "execute_result"
    }
   ],
   "source": [
    "tmp = players[cols]\n",
    "tmp['comp1'], tmp['comp2'] = tsne_comp[:,0], tsne_comp[:,1]\n",
    "tmp = tmp[tmp.overall_rating >= 80]\n",
    "\n",
    "tools = 'box_zoom, pan, save, reset'\n",
    "fig = figure(tools=tools, title='t-SNE', responsive=True,\n",
    "             x_axis_label='Component 1', y_axis_label='Component 2')\n",
    "\n",
    "source = ColumnDataSource(tmp)\n",
    "hover = HoverTool()\n",
    "hover.tooltips=[('atleta','@player_name')]\n",
    "fig.scatter(tmp['comp1'], tmp['comp2'], source=source, size=10, alpha=1, line_color='blue', fill_color='blue')\n",
    "\n",
    "fig.add_tools(hover)\n",
    "\n",
    "show(fig)"
   ]
  },
  {
   "cell_type": "code",
   "execution_count": 39,
   "metadata": {
    "collapsed": false
   },
   "outputs": [
    {
     "data": {
      "text/plain": [
       "<matplotlib.axes._subplots.AxesSubplot at 0x115196a0>"
      ]
     },
     "execution_count": 39,
     "metadata": {},
     "output_type": "execute_result"
    },
    {
     "data": {
      "image/png": "[encoded data removed]",
      "text/plain": [
       "<matplotlib.figure.Figure at 0x114f26a0>"
      ]
     },
     "metadata": {},
     "output_type": "display_data"
    }
   ],
   "source": [
    "sns.kdeplot(players.overall_rating, shade=True, color=\"b\")"
   ]
  },
  {
   "cell_type": "code",
   "execution_count": 40,
   "metadata": {
    "collapsed": false
   },
   "outputs": [
    {
     "data": {
      "text/plain": [
       "<matplotlib.axes._subplots.AxesSubplot at 0x448d9390>"
      ]
     },
     "execution_count": 40,
     "metadata": {},
     "output_type": "execute_result"
    },
    {
     "data": {
      "image/png": "[encoded data removed]",
      "text/plain": [
       "<matplotlib.figure.Figure at 0x446de0b8>"
      ]
     },
     "metadata": {},
     "output_type": "display_data"
    }
   ],
   "source": [
    "sns.kdeplot(players.potential, shade=True, color=\"b\")"
   ]
  },
  {
   "cell_type": "code",
   "execution_count": 41,
   "metadata": {
    "collapsed": false
   },
   "outputs": [
    {
     "data": {
      "text/plain": [
       "<matplotlib.axes._subplots.AxesSubplot at 0x445682b0>"
      ]
     },
     "execution_count": 41,
     "metadata": {},
     "output_type": "execute_result"
    },
    {
     "data": {
      "image/png": "[encoded data removed]",
      "text/plain": [
       "<matplotlib.figure.Figure at 0x114f2a20>"
      ]
     },
     "metadata": {},
     "output_type": "display_data"
    }
   ],
   "source": [
    "players['potential_growth'] = players.potential - players.overall_rating\n",
    "sns.kdeplot(players.potential_growth, shade=True, color=\"b\")"
   ]
  },
  {
   "cell_type": "code",
   "execution_count": 46,
   "metadata": {
    "collapsed": false
   },
   "outputs": [
    {
     "name": "stderr",
     "output_type": "stream",
     "text": [
      "C:\\Users\\renato.aranha\\AppData\\Local\\Continuum\\Anaconda3\\lib\\site-packages\\ipykernel\\__main__.py:1: FutureWarning: sort(columns=....) is deprecated, use sort_values(by=.....)\n",
      "  if __name__ == '__main__':\n"
     ]
    },
    {
     "data": {
      "text/html": [
       "<div>\n",
       "<table border=\"1\" class=\"dataframe\">\n",
       "  <thead>\n",
       "    <tr style=\"text-align: right;\">\n",
       "      <th></th>\n",
       "      <th>player_name</th>\n",
       "      <th>potential_growth</th>\n",
       "    </tr>\n",
       "  </thead>\n",
       "  <tbody>\n",
       "    <tr>\n",
       "      <th>172154</th>\n",
       "      <td>Tom Davies</td>\n",
       "      <td>22.0</td>\n",
       "    </tr>\n",
       "    <tr>\n",
       "      <th>68655</th>\n",
       "      <td>Harry Souttar</td>\n",
       "      <td>20.0</td>\n",
       "    </tr>\n",
       "    <tr>\n",
       "      <th>146698</th>\n",
       "      <td>Reece Oxford</td>\n",
       "      <td>20.0</td>\n",
       "    </tr>\n",
       "    <tr>\n",
       "      <th>98200</th>\n",
       "      <td>Kylian Mbappe Lottin</td>\n",
       "      <td>20.0</td>\n",
       "    </tr>\n",
       "    <tr>\n",
       "      <th>76538</th>\n",
       "      <td>Jan Bamert</td>\n",
       "      <td>19.0</td>\n",
       "    </tr>\n",
       "    <tr>\n",
       "      <th>54889</th>\n",
       "      <td>Felix Passlack</td>\n",
       "      <td>19.0</td>\n",
       "    </tr>\n",
       "    <tr>\n",
       "      <th>85512</th>\n",
       "      <td>Jonathan Leko</td>\n",
       "      <td>19.0</td>\n",
       "    </tr>\n",
       "    <tr>\n",
       "      <th>92541</th>\n",
       "      <td>Kamil Jozwiak</td>\n",
       "      <td>19.0</td>\n",
       "    </tr>\n",
       "    <tr>\n",
       "      <th>158105</th>\n",
       "      <td>Sean McKirdy</td>\n",
       "      <td>19.0</td>\n",
       "    </tr>\n",
       "    <tr>\n",
       "      <th>161823</th>\n",
       "      <td>Silvan Hefti</td>\n",
       "      <td>19.0</td>\n",
       "    </tr>\n",
       "  </tbody>\n",
       "</table>\n",
       "</div>"
      ],
      "text/plain": [
       "                 player_name  potential_growth\n",
       "172154            Tom Davies              22.0\n",
       "68655          Harry Souttar              20.0\n",
       "146698          Reece Oxford              20.0\n",
       "98200   Kylian Mbappe Lottin              20.0\n",
       "76538             Jan Bamert              19.0\n",
       "54889         Felix Passlack              19.0\n",
       "85512          Jonathan Leko              19.0\n",
       "92541          Kamil Jozwiak              19.0\n",
       "158105          Sean McKirdy              19.0\n",
       "161823          Silvan Hefti              19.0"
      ]
     },
     "execution_count": 46,
     "metadata": {},
     "output_type": "execute_result"
    }
   ],
   "source": [
    "players[['player_name','potential_growth']].sort('potential_growth',ascending=False).head(10)"
   ]
  },
  {
   "cell_type": "code",
   "execution_count": 152,
   "metadata": {
    "collapsed": false
   },
   "outputs": [
    {
     "data": {
      "text/html": [
       "<div>\n",
       "<table border=\"1\" class=\"dataframe\">\n",
       "  <thead>\n",
       "    <tr style=\"text-align: right;\">\n",
       "      <th></th>\n",
       "      <th>year</th>\n",
       "      <th>player_api_id</th>\n",
       "      <th>player_name</th>\n",
       "      <th>overall_rating</th>\n",
       "    </tr>\n",
       "  </thead>\n",
       "  <tbody>\n",
       "    <tr>\n",
       "      <th>93</th>\n",
       "      <td>2013</td>\n",
       "      <td>30981</td>\n",
       "      <td>Lionel Messi</td>\n",
       "      <td>94.000000</td>\n",
       "    </tr>\n",
       "    <tr>\n",
       "      <th>78</th>\n",
       "      <td>2012</td>\n",
       "      <td>30981</td>\n",
       "      <td>Lionel Messi</td>\n",
       "      <td>94.000000</td>\n",
       "    </tr>\n",
       "    <tr>\n",
       "      <th>123</th>\n",
       "      <td>2015</td>\n",
       "      <td>30981</td>\n",
       "      <td>Lionel Messi</td>\n",
       "      <td>93.428571</td>\n",
       "    </tr>\n",
       "    <tr>\n",
       "      <th>108</th>\n",
       "      <td>2014</td>\n",
       "      <td>30981</td>\n",
       "      <td>Lionel Messi</td>\n",
       "      <td>93.333333</td>\n",
       "    </tr>\n",
       "    <tr>\n",
       "      <th>121</th>\n",
       "      <td>2015</td>\n",
       "      <td>30893</td>\n",
       "      <td>Cristiano Ronaldo</td>\n",
       "      <td>92.600000</td>\n",
       "    </tr>\n",
       "    <tr>\n",
       "      <th>91</th>\n",
       "      <td>2013</td>\n",
       "      <td>30893</td>\n",
       "      <td>Cristiano Ronaldo</td>\n",
       "      <td>92.000000</td>\n",
       "    </tr>\n",
       "    <tr>\n",
       "      <th>106</th>\n",
       "      <td>2014</td>\n",
       "      <td>30893</td>\n",
       "      <td>Cristiano Ronaldo</td>\n",
       "      <td>92.000000</td>\n",
       "    </tr>\n",
       "    <tr>\n",
       "      <th>63</th>\n",
       "      <td>2011</td>\n",
       "      <td>30981</td>\n",
       "      <td>Lionel Messi</td>\n",
       "      <td>92.000000</td>\n",
       "    </tr>\n",
       "    <tr>\n",
       "      <th>76</th>\n",
       "      <td>2012</td>\n",
       "      <td>30893</td>\n",
       "      <td>Cristiano Ronaldo</td>\n",
       "      <td>92.000000</td>\n",
       "    </tr>\n",
       "    <tr>\n",
       "      <th>17</th>\n",
       "      <td>2008</td>\n",
       "      <td>30893</td>\n",
       "      <td>Cristiano Ronaldo</td>\n",
       "      <td>91.000000</td>\n",
       "    </tr>\n",
       "    <tr>\n",
       "      <th>61</th>\n",
       "      <td>2011</td>\n",
       "      <td>30893</td>\n",
       "      <td>Cristiano Ronaldo</td>\n",
       "      <td>90.500000</td>\n",
       "    </tr>\n",
       "    <tr>\n",
       "      <th>77</th>\n",
       "      <td>2012</td>\n",
       "      <td>30955</td>\n",
       "      <td>Andres Iniesta</td>\n",
       "      <td>90.500000</td>\n",
       "    </tr>\n",
       "    <tr>\n",
       "      <th>48</th>\n",
       "      <td>2010</td>\n",
       "      <td>30981</td>\n",
       "      <td>Lionel Messi</td>\n",
       "      <td>90.000000</td>\n",
       "    </tr>\n",
       "    <tr>\n",
       "      <th>120</th>\n",
       "      <td>2015</td>\n",
       "      <td>30834</td>\n",
       "      <td>Arjen Robben</td>\n",
       "      <td>90.000000</td>\n",
       "    </tr>\n",
       "    <tr>\n",
       "      <th>19</th>\n",
       "      <td>2008</td>\n",
       "      <td>30981</td>\n",
       "      <td>Lionel Messi</td>\n",
       "      <td>90.000000</td>\n",
       "    </tr>\n",
       "  </tbody>\n",
       "</table>\n",
       "</div>"
      ],
      "text/plain": [
       "     year  player_api_id        player_name  overall_rating\n",
       "93   2013          30981       Lionel Messi       94.000000\n",
       "78   2012          30981       Lionel Messi       94.000000\n",
       "123  2015          30981       Lionel Messi       93.428571\n",
       "108  2014          30981       Lionel Messi       93.333333\n",
       "121  2015          30893  Cristiano Ronaldo       92.600000\n",
       "91   2013          30893  Cristiano Ronaldo       92.000000\n",
       "106  2014          30893  Cristiano Ronaldo       92.000000\n",
       "63   2011          30981       Lionel Messi       92.000000\n",
       "76   2012          30893  Cristiano Ronaldo       92.000000\n",
       "17   2008          30893  Cristiano Ronaldo       91.000000\n",
       "61   2011          30893  Cristiano Ronaldo       90.500000\n",
       "77   2012          30955     Andres Iniesta       90.500000\n",
       "48   2010          30981       Lionel Messi       90.000000\n",
       "120  2015          30834       Arjen Robben       90.000000\n",
       "19   2008          30981       Lionel Messi       90.000000"
      ]
     },
     "execution_count": 152,
     "metadata": {},
     "output_type": "execute_result"
    }
   ],
   "source": [
    "players = players.sort_values('overall_rating', ascending=False)\n",
    "best_players = players[['player_api_id','player_name']].head(15)\n",
    "ids = tuple(best_players.player_api_id.unique())\n",
    "\n",
    "query = '''SELECT player_api_id, date_stat, overall_rating, potential\n",
    "           FROM Player_Stats WHERE player_api_id in %s''' % (ids,)\n",
    "\n",
    "evolution = pd.read_sql(query, conn)\n",
    "evolution = pd.merge(evolution, best_players)\n",
    "evolution['year'] = evolution.date_stat.str[:4].apply(int)\n",
    "evolution = evolution.groupby(['year','player_api_id','player_name']).overall_rating.mean()\n",
    "evolution = evolution.reset_index()\n",
    "\n",
    "evolution.sort_values('overall_rating', ascending=False).head(15)\n",
    "#best_players"
   ]
  },
  {
   "cell_type": "code",
   "execution_count": 146,
   "metadata": {
    "collapsed": false
   },
   "outputs": [
    {
     "data": {
      "text/html": [
       "<div>\n",
       "<table border=\"1\" class=\"dataframe\">\n",
       "  <thead>\n",
       "    <tr style=\"text-align: right;\">\n",
       "      <th></th>\n",
       "      <th>player_api_id</th>\n",
       "      <th>player_name</th>\n",
       "    </tr>\n",
       "  </thead>\n",
       "  <tbody>\n",
       "    <tr>\n",
       "      <th>101978</th>\n",
       "      <td>30981</td>\n",
       "      <td>Lionel Messi</td>\n",
       "    </tr>\n",
       "    <tr>\n",
       "      <th>33156</th>\n",
       "      <td>30893</td>\n",
       "      <td>Cristiano Ronaldo</td>\n",
       "    </tr>\n",
       "    <tr>\n",
       "      <th>130834</th>\n",
       "      <td>19533</td>\n",
       "      <td>Neymar</td>\n",
       "    </tr>\n",
       "    <tr>\n",
       "      <th>105468</th>\n",
       "      <td>40636</td>\n",
       "      <td>Luis Suarez</td>\n",
       "    </tr>\n",
       "    <tr>\n",
       "      <th>108509</th>\n",
       "      <td>27299</td>\n",
       "      <td>Manuel Neuer</td>\n",
       "    </tr>\n",
       "    <tr>\n",
       "      <th>16383</th>\n",
       "      <td>30834</td>\n",
       "      <td>Arjen Robben</td>\n",
       "    </tr>\n",
       "    <tr>\n",
       "      <th>182801</th>\n",
       "      <td>35724</td>\n",
       "      <td>Zlatan Ibrahimovic</td>\n",
       "    </tr>\n",
       "    <tr>\n",
       "      <th>12717</th>\n",
       "      <td>30955</td>\n",
       "      <td>Andres Iniesta</td>\n",
       "    </tr>\n",
       "    <tr>\n",
       "      <th>121856</th>\n",
       "      <td>36378</td>\n",
       "      <td>Mesut Oezil</td>\n",
       "    </tr>\n",
       "    <tr>\n",
       "      <th>47010</th>\n",
       "      <td>107417</td>\n",
       "      <td>Eden Hazard</td>\n",
       "    </tr>\n",
       "    <tr>\n",
       "      <th>168976</th>\n",
       "      <td>80562</td>\n",
       "      <td>Thiago Silva</td>\n",
       "    </tr>\n",
       "    <tr>\n",
       "      <th>160061</th>\n",
       "      <td>37412</td>\n",
       "      <td>Sergio Aguero</td>\n",
       "    </tr>\n",
       "    <tr>\n",
       "      <th>149822</th>\n",
       "      <td>93447</td>\n",
       "      <td>Robert Lewandowski</td>\n",
       "    </tr>\n",
       "    <tr>\n",
       "      <th>39006</th>\n",
       "      <td>182917</td>\n",
       "      <td>David De Gea</td>\n",
       "    </tr>\n",
       "    <tr>\n",
       "      <th>105683</th>\n",
       "      <td>31097</td>\n",
       "      <td>Luka Modric</td>\n",
       "    </tr>\n",
       "    <tr>\n",
       "      <th>60790</th>\n",
       "      <td>31921</td>\n",
       "      <td>Gareth Bale</td>\n",
       "    </tr>\n",
       "    <tr>\n",
       "      <th>173453</th>\n",
       "      <td>95078</td>\n",
       "      <td>Toni Kroos</td>\n",
       "    </tr>\n",
       "    <tr>\n",
       "      <th>160551</th>\n",
       "      <td>30962</td>\n",
       "      <td>Sergio Ramos</td>\n",
       "    </tr>\n",
       "    <tr>\n",
       "      <th>76031</th>\n",
       "      <td>164684</td>\n",
       "      <td>James Rodriguez</td>\n",
       "    </tr>\n",
       "    <tr>\n",
       "      <th>142540</th>\n",
       "      <td>30894</td>\n",
       "      <td>Philipp Lahm</td>\n",
       "    </tr>\n",
       "  </tbody>\n",
       "</table>\n",
       "</div>"
      ],
      "text/plain": [
       "        player_api_id         player_name\n",
       "101978          30981        Lionel Messi\n",
       "33156           30893   Cristiano Ronaldo\n",
       "130834          19533              Neymar\n",
       "105468          40636         Luis Suarez\n",
       "108509          27299        Manuel Neuer\n",
       "16383           30834        Arjen Robben\n",
       "182801          35724  Zlatan Ibrahimovic\n",
       "12717           30955      Andres Iniesta\n",
       "121856          36378         Mesut Oezil\n",
       "47010          107417         Eden Hazard\n",
       "168976          80562        Thiago Silva\n",
       "160061          37412       Sergio Aguero\n",
       "149822          93447  Robert Lewandowski\n",
       "39006          182917        David De Gea\n",
       "105683          31097         Luka Modric\n",
       "60790           31921         Gareth Bale\n",
       "173453          95078          Toni Kroos\n",
       "160551          30962        Sergio Ramos\n",
       "76031          164684     James Rodriguez\n",
       "142540          30894        Philipp Lahm"
      ]
     },
     "execution_count": 146,
     "metadata": {},
     "output_type": "execute_result"
    }
   ],
   "source": []
  },
  {
   "cell_type": "markdown",
   "metadata": {},
   "source": [
    "Evolução dos melhores jogadores:"
   ]
  },
  {
   "cell_type": "code",
   "execution_count": 153,
   "metadata": {
    "collapsed": false
   },
   "outputs": [
    {
     "data": {
      "image/png": "[encoded data removed]",
      "text/plain": [
       "<matplotlib.figure.Figure at 0x29e5f4a8>"
      ]
     },
     "metadata": {},
     "output_type": "display_data"
    }
   ],
   "source": [
    "a = sns.factorplot(data=evolution[evolution.player_api_id.isin(ids[0:8])], x='year',\n",
    "                   y='overall_rating', hue='player_name', size=6, aspect=2,kind='point',orient='v',legend_out=True)"
   ]
  },
  {
   "cell_type": "code",
   "execution_count": 124,
   "metadata": {
    "collapsed": false
   },
   "outputs": [
    {
     "data": {
      "image/png": "[encoded data removed]",
      "text/plain": [
       "<matplotlib.figure.Figure at 0x28cf8c88>"
      ]
     },
     "metadata": {},
     "output_type": "display_data"
    }
   ],
   "source": [
    "a = sns.factorplot(data=evolution[evolution.player_api_id.isin(ids[8:16])], x='year',\n",
    "                   y='overall_rating', hue='player_name', size=6, aspect=2,kind='point',orient='v',legend_out=True)"
   ]
  },
  {
   "cell_type": "code",
   "execution_count": 112,
   "metadata": {
    "collapsed": false
   },
   "outputs": [
    {
     "data": {
      "text/html": [
       "<div>\n",
       "<table border=\"1\" class=\"dataframe\">\n",
       "  <thead>\n",
       "    <tr style=\"text-align: right;\">\n",
       "      <th></th>\n",
       "      <th>id</th>\n",
       "      <th>player_api_id</th>\n",
       "      <th>player_name</th>\n",
       "      <th>player_fifa_api_id</th>\n",
       "      <th>birthday</th>\n",
       "      <th>height</th>\n",
       "      <th>weight</th>\n",
       "      <th>ano_nasc</th>\n",
       "      <th>idade</th>\n",
       "      <th>idade_em_2007</th>\n",
       "    </tr>\n",
       "  </thead>\n",
       "  <tbody>\n",
       "    <tr>\n",
       "      <th>0</th>\n",
       "      <td>1</td>\n",
       "      <td>505942</td>\n",
       "      <td>Aaron Appindangoye</td>\n",
       "      <td>218353</td>\n",
       "      <td>1992-02-29 00:00:00</td>\n",
       "      <td>182.88</td>\n",
       "      <td>187</td>\n",
       "      <td>1992</td>\n",
       "      <td>24</td>\n",
       "      <td>15</td>\n",
       "    </tr>\n",
       "    <tr>\n",
       "      <th>1</th>\n",
       "      <td>2</td>\n",
       "      <td>155782</td>\n",
       "      <td>Aaron Cresswell</td>\n",
       "      <td>189615</td>\n",
       "      <td>1989-12-15 00:00:00</td>\n",
       "      <td>170.18</td>\n",
       "      <td>146</td>\n",
       "      <td>1989</td>\n",
       "      <td>27</td>\n",
       "      <td>18</td>\n",
       "    </tr>\n",
       "    <tr>\n",
       "      <th>2</th>\n",
       "      <td>3</td>\n",
       "      <td>162549</td>\n",
       "      <td>Aaron Doran</td>\n",
       "      <td>186170</td>\n",
       "      <td>1991-05-13 00:00:00</td>\n",
       "      <td>170.18</td>\n",
       "      <td>163</td>\n",
       "      <td>1991</td>\n",
       "      <td>25</td>\n",
       "      <td>16</td>\n",
       "    </tr>\n",
       "    <tr>\n",
       "      <th>3</th>\n",
       "      <td>4</td>\n",
       "      <td>30572</td>\n",
       "      <td>Aaron Galindo</td>\n",
       "      <td>140161</td>\n",
       "      <td>1982-05-08 00:00:00</td>\n",
       "      <td>182.88</td>\n",
       "      <td>198</td>\n",
       "      <td>1982</td>\n",
       "      <td>34</td>\n",
       "      <td>25</td>\n",
       "    </tr>\n",
       "    <tr>\n",
       "      <th>4</th>\n",
       "      <td>5</td>\n",
       "      <td>23780</td>\n",
       "      <td>Aaron Hughes</td>\n",
       "      <td>17725</td>\n",
       "      <td>1979-11-08 00:00:00</td>\n",
       "      <td>182.88</td>\n",
       "      <td>154</td>\n",
       "      <td>1979</td>\n",
       "      <td>37</td>\n",
       "      <td>28</td>\n",
       "    </tr>\n",
       "  </tbody>\n",
       "</table>\n",
       "</div>"
      ],
      "text/plain": [
       "   id  player_api_id         player_name  player_fifa_api_id  \\\n",
       "0   1         505942  Aaron Appindangoye              218353   \n",
       "1   2         155782     Aaron Cresswell              189615   \n",
       "2   3         162549         Aaron Doran              186170   \n",
       "3   4          30572       Aaron Galindo              140161   \n",
       "4   5          23780        Aaron Hughes               17725   \n",
       "\n",
       "              birthday  height  weight  ano_nasc  idade  idade_em_2007  \n",
       "0  1992-02-29 00:00:00  182.88     187      1992     24             15  \n",
       "1  1989-12-15 00:00:00  170.18     146      1989     27             18  \n",
       "2  1991-05-13 00:00:00  170.18     163      1991     25             16  \n",
       "3  1982-05-08 00:00:00  182.88     198      1982     34             25  \n",
       "4  1979-11-08 00:00:00  182.88     154      1979     37             28  "
      ]
     },
     "execution_count": 112,
     "metadata": {},
     "output_type": "execute_result"
    }
   ],
   "source": [
    "Player['ano_nasc'] = Player.birthday.str[:4].apply(int)\n",
    "Player['idade'] = 2016 - Player['ano_nasc']\n",
    "Player['idade_em_2007'] = 2007 - Player['ano_nasc']\n",
    "Player.head()"
   ]
  },
  {
   "cell_type": "markdown",
   "metadata": {},
   "source": [
    "Evolução dos melhores jogadores (tentativa de abertura por idade):"
   ]
  },
  {
   "cell_type": "code",
   "execution_count": 65,
   "metadata": {
    "collapsed": false
   },
   "outputs": [
    {
     "name": "stderr",
     "output_type": "stream",
     "text": [
      "C:\\Users\\renato.aranha\\AppData\\Local\\Continuum\\Anaconda3\\lib\\site-packages\\ipykernel\\__main__.py:2: SettingWithCopyWarning: \n",
      "A value is trying to be set on a copy of a slice from a DataFrame.\n",
      "Try using .loc[row_indexer,col_indexer] = value instead\n",
      "\n",
      "See the caveats in the documentation: http://pandas.pydata.org/pandas-docs/stable/indexing.html#indexing-view-versus-copy\n",
      "  from ipykernel import kernelapp as app\n",
      "C:\\Users\\renato.aranha\\AppData\\Local\\Continuum\\Anaconda3\\lib\\site-packages\\ipykernel\\__main__.py:3: SettingWithCopyWarning: \n",
      "A value is trying to be set on a copy of a slice from a DataFrame.\n",
      "Try using .loc[row_indexer,col_indexer] = value instead\n",
      "\n",
      "See the caveats in the documentation: http://pandas.pydata.org/pandas-docs/stable/indexing.html#indexing-view-versus-copy\n",
      "  app.launch_new_instance()\n"
     ]
    },
    {
     "data": {
      "text/html": [
       "\n",
       "\n",
       "    <div class=\"plotdiv\" id=\"5849e711-228e-4ad5-8545-1fe1068f35d5\"></div>\n",
       "<script type=\"text/javascript\">\n",
       "  \n",
       "  (function(global) {\n",
       "    function now() {\n",
       "      return new Date();\n",
       "    }\n",
       "  \n",
       "    if (typeof (window._bokeh_onload_callbacks) === \"undefined\") {\n",
       "      window._bokeh_onload_callbacks = [];\n",
       "    }\n",
       "  \n",
       "    function run_callbacks() {\n",
       "      window._bokeh_onload_callbacks.forEach(function(callback) { callback() });\n",
       "      delete window._bokeh_onload_callbacks\n",
       "      console.info(\"Bokeh: all callbacks have finished\");\n",
       "    }\n",
       "  \n",
       "    function load_libs(js_urls, callback) {\n",
       "      window._bokeh_onload_callbacks.push(callback);\n",
       "      if (window._bokeh_is_loading > 0) {\n",
       "        console.log(\"Bokeh: BokehJS is being loaded, scheduling callback at\", now());\n",
       "        return null;\n",
       "      }\n",
       "      if (js_urls == null || js_urls.length === 0) {\n",
       "        run_callbacks();\n",
       "        return null;\n",
       "      }\n",
       "      console.log(\"Bokeh: BokehJS not loaded, scheduling load and callback at\", now());\n",
       "      window._bokeh_is_loading = js_urls.length;\n",
       "      for (var i = 0; i < js_urls.length; i++) {\n",
       "        var url = js_urls[i];\n",
       "        var s = document.createElement('script');\n",
       "        s.src = url;\n",
       "        s.async = false;\n",
       "        s.onreadystatechange = s.onload = function() {\n",
       "          window._bokeh_is_loading--;\n",
       "          if (window._bokeh_is_loading === 0) {\n",
       "            console.log(\"Bokeh: all BokehJS libraries loaded\");\n",
       "            run_callbacks()\n",
       "          }\n",
       "        };\n",
       "        s.onerror = function() {\n",
       "          console.warn(\"failed to load library \" + url);\n",
       "        };\n",
       "        console.log(\"Bokeh: injecting script tag for BokehJS library: \", url);\n",
       "        document.getElementsByTagName(\"head\")[0].appendChild(s);\n",
       "      }\n",
       "    };var element = document.getElementById(\"5849e711-228e-4ad5-8545-1fe1068f35d5\");\n",
       "    if (element == null) {\n",
       "      console.log(\"Bokeh: ERROR: autoload.js configured with elementid '5849e711-228e-4ad5-8545-1fe1068f35d5' but no matching script tag was found. \")\n",
       "      return false;\n",
       "    }\n",
       "  \n",
       "    var js_urls = [];\n",
       "  \n",
       "    var inline_js = [\n",
       "      function(Bokeh) {\n",
       "        Bokeh.$(function() {\n",
       "            var docs_json = {\"6ed1280c-5b99-4d7d-8eb0-e43f4cd3a393\":{\"roots\":{\"references\":[{\"attributes\":{},\"id\":\"730d5aeb-265c-4251-b820-1e4ffad7a703\",\"type\":\"BasicTicker\"},{\"attributes\":{},\"id\":\"eb38328b-2004-48b1-aeb4-3e83b856e85c\",\"type\":\"BasicTicker\"},{\"attributes\":{\"axis_label\":\"Component 1\",\"formatter\":{\"id\":\"293c56c7-1a51-4e3f-b87c-ee8192cd20d6\",\"type\":\"BasicTickFormatter\"},\"plot\":{\"id\":\"d5a8df0f-e62b-4961-a13a-f616e55b5f1e\",\"subtype\":\"Figure\",\"type\":\"Plot\"},\"ticker\":{\"id\":\"da0ca496-d5c8-457c-89b3-3b51af146228\",\"type\":\"BasicTicker\"}},\"id\":\"bc19ded3-76db-4a36-a142-ba56147f8ea6\",\"type\":\"LinearAxis\"},{\"attributes\":{},\"id\":\"81ca49af-946e-4505-8ab0-3f057840f793\",\"type\":\"ToolEvents\"},{\"attributes\":{\"callback\":null,\"plot\":{\"id\":\"eb39a05d-e073-44a3-9c12-4c7c8fe67e78\",\"subtype\":\"Figure\",\"type\":\"Plot\"},\"tooltips\":[[\"pais\",\"@pais\"]]},\"id\":\"4256fdd6-3ba1-4cec-b0e6-835eec51eb71\",\"type\":\"HoverTool\"},{\"attributes\":{\"callback\":null},\"id\":\"691cf4c5-1158-4c77-b8b0-33a540f0309a\",\"type\":\"DataRange1d\"},{\"attributes\":{\"bottom_units\":\"screen\",\"fill_alpha\":{\"value\":0.5},\"fill_color\":{\"value\":\"lightgrey\"},\"left_units\":\"screen\",\"level\":\"overlay\",\"line_alpha\":{\"value\":1.0},\"line_color\":{\"value\":\"black\"},\"line_dash\":[4,4],\"line_width\":{\"value\":2},\"plot\":null,\"render_mode\":\"css\",\"right_units\":\"screen\",\"top_units\":\"screen\"},\"id\":\"aa861930-8381-4b56-95d2-85e1f186ecbb\",\"type\":\"BoxAnnotation\"},{\"attributes\":{\"bottom_units\":\"screen\",\"fill_alpha\":{\"value\":0.5},\"fill_color\":{\"value\":\"lightgrey\"},\"left_units\":\"screen\",\"level\":\"overlay\",\"line_alpha\":{\"value\":1.0},\"line_color\":{\"value\":\"black\"},\"line_dash\":[4,4],\"line_width\":{\"value\":2},\"plot\":null,\"render_mode\":\"css\",\"right_units\":\"screen\",\"top_units\":\"screen\"},\"id\":\"fba906ec-0297-497b-97b2-bf755073c1fa\",\"type\":\"BoxAnnotation\"},{\"attributes\":{},\"id\":\"1ab7604d-f200-468e-9811-e0ac6852e2d3\",\"type\":\"BasicTickFormatter\"},{\"attributes\":{\"dimension\":1,\"plot\":{\"id\":\"eb39a05d-e073-44a3-9c12-4c7c8fe67e78\",\"subtype\":\"Figure\",\"type\":\"Plot\"},\"ticker\":{\"id\":\"eb38328b-2004-48b1-aeb4-3e83b856e85c\",\"type\":\"BasicTicker\"}},\"id\":\"c0405659-6e4c-488e-8f26-3a2faa7711b7\",\"type\":\"Grid\"},{\"attributes\":{},\"id\":\"293c56c7-1a51-4e3f-b87c-ee8192cd20d6\",\"type\":\"BasicTickFormatter\"},{\"attributes\":{\"plot\":{\"id\":\"eb39a05d-e073-44a3-9c12-4c7c8fe67e78\",\"subtype\":\"Figure\",\"type\":\"Plot\"}},\"id\":\"a970e41b-881b-47c3-8a2f-2fb1b4b8f3b3\",\"type\":\"PreviewSaveTool\"},{\"attributes\":{\"callback\":null,\"plot\":{\"id\":\"d5a8df0f-e62b-4961-a13a-f616e55b5f1e\",\"subtype\":\"Figure\",\"type\":\"Plot\"},\"tooltips\":[[\"Jogador\",\"@player_name\"]]},\"id\":\"b5b31c0c-df87-4bcc-8267-9dba2c00b7ab\",\"type\":\"HoverTool\"},{\"attributes\":{\"overlay\":{\"id\":\"aa861930-8381-4b56-95d2-85e1f186ecbb\",\"type\":\"BoxAnnotation\"},\"plot\":{\"id\":\"d5a8df0f-e62b-4961-a13a-f616e55b5f1e\",\"subtype\":\"Figure\",\"type\":\"Plot\"}},\"id\":\"5d7a1143-abbe-462f-9be0-24b227ab486f\",\"type\":\"BoxZoomTool\"},{\"attributes\":{\"data_source\":{\"id\":\"502f45ba-00b9-4799-a75a-473d9261b792\",\"type\":\"ColumnDataSource\"},\"glyph\":{\"id\":\"6e54cc36-a7d0-4c9f-8cd9-99eb10c61e12\",\"type\":\"Circle\"},\"hover_glyph\":null,\"nonselection_glyph\":{\"id\":\"069295ca-53dd-4b34-b1d8-3ba1b341166d\",\"type\":\"Circle\"},\"selection_glyph\":null},\"id\":\"6f447050-7568-402f-9ccf-95fa0ada30c3\",\"type\":\"GlyphRenderer\"},{\"attributes\":{},\"id\":\"421139ac-f322-4798-a5aa-7a2fda99b54f\",\"type\":\"BasicTicker\"},{\"attributes\":{\"dimension\":1,\"plot\":{\"id\":\"d5a8df0f-e62b-4961-a13a-f616e55b5f1e\",\"subtype\":\"Figure\",\"type\":\"Plot\"},\"ticker\":{\"id\":\"421139ac-f322-4798-a5aa-7a2fda99b54f\",\"type\":\"BasicTicker\"}},\"id\":\"4ca5d654-3445-4c08-9eb3-0222c7279d56\",\"type\":\"Grid\"},{\"attributes\":{\"plot\":{\"id\":\"d5a8df0f-e62b-4961-a13a-f616e55b5f1e\",\"subtype\":\"Figure\",\"type\":\"Plot\"}},\"id\":\"5b8a3417-97cc-4de2-be28-72192ff012b9\",\"type\":\"ResetTool\"},{\"attributes\":{\"plot\":{\"id\":\"eb39a05d-e073-44a3-9c12-4c7c8fe67e78\",\"subtype\":\"Figure\",\"type\":\"Plot\"},\"ticker\":{\"id\":\"730d5aeb-265c-4251-b820-1e4ffad7a703\",\"type\":\"BasicTicker\"}},\"id\":\"24330e75-238b-4623-96db-b82991e4ddb7\",\"type\":\"Grid\"},{\"attributes\":{\"axis_label\":\"TOTAL DE PARTIDAS (PERCENTUAL)\",\"formatter\":{\"id\":\"97621e69-6501-4451-b8c5-8a38a11b4450\",\"type\":\"BasicTickFormatter\"},\"plot\":{\"id\":\"eb39a05d-e073-44a3-9c12-4c7c8fe67e78\",\"subtype\":\"Figure\",\"type\":\"Plot\"},\"ticker\":{\"id\":\"eb38328b-2004-48b1-aeb4-3e83b856e85c\",\"type\":\"BasicTicker\"}},\"id\":\"e9ee5e55-d02b-4463-ac00-d82e2610fcd1\",\"type\":\"LinearAxis\"},{\"attributes\":{},\"id\":\"da0ca496-d5c8-457c-89b3-3b51af146228\",\"type\":\"BasicTicker\"},{\"attributes\":{\"fill_alpha\":{\"value\":0.1},\"fill_color\":{\"value\":\"#1f77b4\"},\"line_alpha\":{\"value\":0.1},\"line_color\":{\"value\":\"#1f77b4\"},\"size\":{\"units\":\"screen\",\"value\":10},\"x\":{\"field\":\"x\"},\"y\":{\"field\":\"y\"}},\"id\":\"069295ca-53dd-4b34-b1d8-3ba1b341166d\",\"type\":\"Circle\"},{\"attributes\":{\"callback\":null},\"id\":\"f7fb92ae-1c1a-4b4b-846d-99ca04ef77ea\",\"type\":\"DataRange1d\"},{\"attributes\":{},\"id\":\"187d7afb-c2d4-4f8c-a911-de7f04415f08\",\"type\":\"ToolEvents\"},{\"attributes\":{\"below\":[{\"id\":\"bc19ded3-76db-4a36-a142-ba56147f8ea6\",\"type\":\"LinearAxis\"}],\"left\":[{\"id\":\"af9e0ccb-9326-4594-a1a9-deafd1f01db6\",\"type\":\"LinearAxis\"}],\"renderers\":[{\"id\":\"bc19ded3-76db-4a36-a142-ba56147f8ea6\",\"type\":\"LinearAxis\"},{\"id\":\"2595cc1f-b680-42cc-b1d8-03894e954931\",\"type\":\"Grid\"},{\"id\":\"af9e0ccb-9326-4594-a1a9-deafd1f01db6\",\"type\":\"LinearAxis\"},{\"id\":\"4ca5d654-3445-4c08-9eb3-0222c7279d56\",\"type\":\"Grid\"},{\"id\":\"aa861930-8381-4b56-95d2-85e1f186ecbb\",\"type\":\"BoxAnnotation\"},{\"id\":\"6f447050-7568-402f-9ccf-95fa0ada30c3\",\"type\":\"GlyphRenderer\"}],\"responsive\":true,\"title\":\"t-SNE of Potential Top Players (FIFA stats)\",\"tool_events\":{\"id\":\"81ca49af-946e-4505-8ab0-3f057840f793\",\"type\":\"ToolEvents\"},\"tools\":[{\"id\":\"5d7a1143-abbe-462f-9be0-24b227ab486f\",\"type\":\"BoxZoomTool\"},{\"id\":\"e829828f-2c1e-4bc4-a633-0cab316c719f\",\"type\":\"PanTool\"},{\"id\":\"932e26e0-e7f1-4de7-be99-500012579718\",\"type\":\"PreviewSaveTool\"},{\"id\":\"dc84c31d-eafe-490c-8adb-a5cc1013514d\",\"type\":\"ResizeTool\"},{\"id\":\"5b8a3417-97cc-4de2-be28-72192ff012b9\",\"type\":\"ResetTool\"},{\"id\":\"9950861e-4f9d-4ac8-bdbd-98a82ab76a9b\",\"type\":\"TapTool\"},{\"id\":\"5f7a7e82-2f81-4965-b5e7-8b6e1b9e995e\",\"type\":\"WheelZoomTool\"},{\"id\":\"b5b31c0c-df87-4bcc-8267-9dba2c00b7ab\",\"type\":\"HoverTool\"}],\"x_range\":{\"id\":\"9f455ce3-9f6d-469e-abee-722bc5ae2ff9\",\"type\":\"DataRange1d\"},\"y_range\":{\"id\":\"57a10bf6-8447-49b5-9999-f9b4d8125d0c\",\"type\":\"DataRange1d\"}},\"id\":\"d5a8df0f-e62b-4961-a13a-f616e55b5f1e\",\"subtype\":\"Figure\",\"type\":\"Plot\"},{\"attributes\":{\"fill_color\":{\"value\":\"blue\"},\"size\":{\"units\":\"screen\",\"value\":20},\"x\":{\"field\":\"x\"},\"y\":{\"field\":\"y\"}},\"id\":\"852de2a2-90df-4891-9549-5ca1116cbb8d\",\"type\":\"Circle\"},{\"attributes\":{\"callback\":null,\"plot\":{\"id\":\"d5a8df0f-e62b-4961-a13a-f616e55b5f1e\",\"subtype\":\"Figure\",\"type\":\"Plot\"}},\"id\":\"9950861e-4f9d-4ac8-bdbd-98a82ab76a9b\",\"type\":\"TapTool\"},{\"attributes\":{\"overlay\":{\"id\":\"fba906ec-0297-497b-97b2-bf755073c1fa\",\"type\":\"BoxAnnotation\"},\"plot\":{\"id\":\"eb39a05d-e073-44a3-9c12-4c7c8fe67e78\",\"subtype\":\"Figure\",\"type\":\"Plot\"}},\"id\":\"7625ee53-7fc1-4be1-8ed3-a291cd9a2f11\",\"type\":\"BoxZoomTool\"},{\"attributes\":{\"plot\":{\"id\":\"d5a8df0f-e62b-4961-a13a-f616e55b5f1e\",\"subtype\":\"Figure\",\"type\":\"Plot\"},\"ticker\":{\"id\":\"da0ca496-d5c8-457c-89b3-3b51af146228\",\"type\":\"BasicTicker\"}},\"id\":\"2595cc1f-b680-42cc-b1d8-03894e954931\",\"type\":\"Grid\"},{\"attributes\":{},\"id\":\"1cdd8443-3490-4e05-8099-2a1323838b71\",\"type\":\"BasicTickFormatter\"},{\"attributes\":{\"plot\":{\"id\":\"d5a8df0f-e62b-4961-a13a-f616e55b5f1e\",\"subtype\":\"Figure\",\"type\":\"Plot\"}},\"id\":\"dc84c31d-eafe-490c-8adb-a5cc1013514d\",\"type\":\"ResizeTool\"},{\"attributes\":{\"callback\":null,\"column_names\":[\"percent\",\"index\",\"pais\",\"dif_gol\",\"y\",\"x\"],\"data\":{\"dif_gol\":[0,1,2,3,4,5,6,7,0,1,2,3,4,5,6,7,8,0,1,2,3,4,5,6,9,0,1,2,3,4,5,6,7,8,0,1,2,3,4,5,6,7,0,1,2,3,4,5,6,7,10,0,1,2,3,4,5,6,0,1,2,3,4,5,6,7,0,1,2,3,4,5,6,7,9,0,1,2,3,4,5,6,7,8,0,1,2,3,4,5,6,7],\"index\":[0,1,2,3,4,5,6,7,8,9,10,11,12,13,14,15,16,17,18,19,20,21,22,23,24,25,26,27,28,29,30,31,32,33,34,35,36,37,38,39,40,41,42,43,44,45,46,47,48,49,50,51,52,53,54,55,56,57,58,59,60,61,62,63,64,65,66,67,68,69,70,71,72,73,74,75,76,77,78,79,80,81,82,83,84,85,86,87,88,89,90,91],\"pais\":[\"Belgium\",\"Belgium\",\"Belgium\",\"Belgium\",\"Belgium\",\"Belgium\",\"Belgium\",\"Belgium\",\"England\",\"England\",\"England\",\"England\",\"England\",\"England\",\"England\",\"England\",\"England\",\"France\",\"France\",\"France\",\"France\",\"France\",\"France\",\"France\",\"France\",\"Germany\",\"Germany\",\"Germany\",\"Germany\",\"Germany\",\"Germany\",\"Germany\",\"Germany\",\"Germany\",\"Italy\",\"Italy\",\"Italy\",\"Italy\",\"Italy\",\"Italy\",\"Italy\",\"Italy\",\"Netherlands\",\"Netherlands\",\"Netherlands\",\"Netherlands\",\"Netherlands\",\"Netherlands\",\"Netherlands\",\"Netherlands\",\"Netherlands\",\"Poland\",\"Poland\",\"Poland\",\"Poland\",\"Poland\",\"Poland\",\"Poland\",\"Portugal\",\"Portugal\",\"Portugal\",\"Portugal\",\"Portugal\",\"Portugal\",\"Portugal\",\"Portugal\",\"Scotland\",\"Scotland\",\"Scotland\",\"Scotland\",\"Scotland\",\"Scotland\",\"Scotland\",\"Scotland\",\"Scotland\",\"Spain\",\"Spain\",\"Spain\",\"Spain\",\"Spain\",\"Spain\",\"Spain\",\"Spain\",\"Spain\",\"Switzerland\",\"Switzerland\",\"Switzerland\",\"Switzerland\",\"Switzerland\",\"Switzerland\",\"Switzerland\",\"Switzerland\"],\"percent\":[0.24594907407407407,0.36689814814814814,0.23842592592592593,0.09375,0.03587962962962963,0.011574074074074073,0.006944444444444444,0.0005787037037037037,0.25848303393213573,0.37791084497671323,0.20658682634730538,0.09880239520958084,0.03592814371257485,0.014970059880239521,0.0053226879574184965,0.0006653359946773121,0.0013306719893546241,0.2825657894736842,0.3819078947368421,0.21710526315789475,0.07730263157894737,0.03256578947368421,0.007236842105263158,0.000986842105263158,0.0003289473684210526,0.24387254901960784,0.3472222222222222,0.22794117647058823,0.11070261437908496,0.049019607843137254,0.014705882352941176,0.003676470588235294,0.0024509803921568627,0.0004084967320261438,0.2638382499171362,0.3788531653960888,0.23268147166059,0.09115014915478953,0.02684786211468346,0.004308916141862778,0.0009943652635067948,0.001325820351342393,0.23733660130718953,0.3002450980392157,0.24959150326797386,0.12826797385620914,0.056372549019607844,0.017973856209150325,0.007761437908496732,0.002042483660130719,0.0004084967320261438,0.2734375,0.39010416666666664,0.21041666666666667,0.0875,0.028645833333333332,0.0078125,0.0020833333333333333,0.2597465886939571,0.39035087719298245,0.21442495126705652,0.07943469785575048,0.037037037037037035,0.015594541910331383,0.0029239766081871343,0.0004873294346978557,0.2450657894736842,0.3925438596491228,0.20339912280701755,0.09649122807017543,0.044407894736842105,0.01206140350877193,0.003837719298245614,0.001644736842105263,0.0005482456140350877,0.23157894736842105,0.3832236842105263,0.20657894736842106,0.1006578947368421,0.05098684210526316,0.016776315789473684,0.00625,0.001973684210526316,0.001973684210526316,0.24331926863572434,0.349507735583685,0.22573839662447256,0.10759493670886076,0.05414908579465542,0.011954992967651195,0.005625879043600563,0.002109704641350211],\"x\":[0,1,2,3,4,5,6,7,0,1,2,3,4,5,6,7,8,0,1,2,3,4,5,6,9,0,1,2,3,4,5,6,7,8,0,1,2,3,4,5,6,7,0,1,2,3,4,5,6,7,10,0,1,2,3,4,5,6,0,1,2,3,4,5,6,7,0,1,2,3,4,5,6,7,9,0,1,2,3,4,5,6,7,8,0,1,2,3,4,5,6,7],\"y\":[0.24594907407407407,0.36689814814814814,0.23842592592592593,0.09375,0.03587962962962963,0.011574074074074073,0.006944444444444444,0.0005787037037037037,0.25848303393213573,0.37791084497671323,0.20658682634730538,0.09880239520958084,0.03592814371257485,0.014970059880239521,0.0053226879574184965,0.0006653359946773121,0.0013306719893546241,0.2825657894736842,0.3819078947368421,0.21710526315789475,0.07730263157894737,0.03256578947368421,0.007236842105263158,0.000986842105263158,0.0003289473684210526,0.24387254901960784,0.3472222222222222,0.22794117647058823,0.11070261437908496,0.049019607843137254,0.014705882352941176,0.003676470588235294,0.0024509803921568627,0.0004084967320261438,0.2638382499171362,0.3788531653960888,0.23268147166059,0.09115014915478953,0.02684786211468346,0.004308916141862778,0.0009943652635067948,0.001325820351342393,0.23733660130718953,0.3002450980392157,0.24959150326797386,0.12826797385620914,0.056372549019607844,0.017973856209150325,0.007761437908496732,0.002042483660130719,0.0004084967320261438,0.2734375,0.39010416666666664,0.21041666666666667,0.0875,0.028645833333333332,0.0078125,0.0020833333333333333,0.2597465886939571,0.39035087719298245,0.21442495126705652,0.07943469785575048,0.037037037037037035,0.015594541910331383,0.0029239766081871343,0.0004873294346978557,0.2450657894736842,0.3925438596491228,0.20339912280701755,0.09649122807017543,0.044407894736842105,0.01206140350877193,0.003837719298245614,0.001644736842105263,0.0005482456140350877,0.23157894736842105,0.3832236842105263,0.20657894736842106,0.1006578947368421,0.05098684210526316,0.016776315789473684,0.00625,0.001973684210526316,0.001973684210526316,0.24331926863572434,0.349507735583685,0.22573839662447256,0.10759493670886076,0.05414908579465542,0.011954992967651195,0.005625879043600563,0.002109704641350211]}},\"id\":\"b5cdf0fc-b3c7-4e56-876c-c9ea439feacb\",\"type\":\"ColumnDataSource\"},{\"attributes\":{\"callback\":null,\"column_names\":[\"index\",\"player_name\",\"potential\",\"player_api_id\",\"comp2\",\"comp1\",\"potential_growth\",\"overall_rating\",\"y\",\"x\"],\"data\":{\"comp1\":[-3.485539432847738,-1.3895272475255305,2.2056176420316675,-5.935590933875982,-3.2443631731093983,-2.5535086248602936,-4.155605111047104,4.373553374784687,-6.569098786528931,2.8027719766216777,-5.22566814782894,-4.404934377826697,-3.5045426994827324,0.8705844056309605,2.8474282458590534,2.257470439279011,0.6281948246843985,-5.78554240797798,-4.57686683177259,-4.790785105595153,0.10064907270058357,-8.458819907474204,4.254117471221415,4.494340855381564,-7.466333713160662,3.3071645942296874,-6.3904934651546474,-6.006578113929858,-8.02848401557076,3.959137191947598,-5.1357107564112425,0.6878276129909654,4.217272181695892,-3.8363326659160926,-6.137144460854114,3.8564650242627803,-4.058363365630361,1.8409864356036418,-4.452253536565202,5.058659003797013,3.0291932441853193,2.5877612206702083,4.058906214128307,-0.12237618381351961,3.8462192469067977,-5.912157607180624,-6.699142996305294,1.6120505423654374,3.464998847694239,-8.919506665216863,1.44711004039865,-3.965847640386647,-7.209587427693854,3.4634907723471087,-8.061267316198858,-3.4659130796163766,-4.874958731168237,4.644845331105371,0.49684099423318445,-0.8110241804580711,-1.2802103512082101,-3.8904327886936785,-4.1050345687481204,-1.4313751629997964,4.084629193590888,5.157488750466202,-3.2965580362154827,-3.8386447113999753,-5.558983356773462,6.415521357131446,-7.869361030620005,1.3537576321376477,3.814583302225406,1.6605149930970613,2.7995395950153044,5.076291402377343,-1.8286622323810655,-4.3554700286982735,-2.4516621781658694,-5.6806850020912005,-0.6601901315831296,-5.793686927669359,2.6820300077666794,1.3418937176354588,-7.5886329454363395,4.665411739484559,-2.1023505806978293,-7.652914297499966,1.2406314985774982,-4.41671989840798,-4.915726856100935,-1.312895910288448,3.9078285615958026,-4.085521683151719,-7.051990121993068,-3.4111847188943236,0.7418053520744828,1.69128270129965,-3.8658004973922013,-0.18031725207986996,-1.4526821328183641,3.257519727168286,-7.47025648854155,3.2416304500178676,-5.700259886590677,-2.891727092224167,1.3262098496297523,4.307117696271908,1.6019722656093789,1.9265115472829792,-4.064746531283377,-5.953471173986477,2.9906673037925087,0.6165651805651102,-0.29589809730878025,3.06821175832608,3.2343517027512125,-5.556296514288094,7.321918946589709,0.9469066767819391,5.228360946933455,-7.326639784240932,1.3329315351082982,-0.01223412233293234,4.314858166519718,-6.169540635210161,3.311659822622076,4.548982081530634,2.260073182291744,4.0220704924599096,1.0655203296572395,-4.008335835935359,2.912523773590329,-2.541989167052448,-6.842430408091905,-1.3810384057130338,2.30690928561404,2.3856473837082834,0.6045523511075713,-1.5944356913638484,-7.242119011476539,3.0323202307744217,1.0290788192607008,8.292376559098622,3.2241951630695533,-4.257825793640523,-3.2671409212165896,4.660128536748129,4.153299440392914,-7.8771031742906334,5.34938460670918,-7.659316237168054,4.239831212028302,1.5273963208999026,3.389088737099607,-5.644458077635868,-1.043035823845569,-1.1538657686524625,-5.94306908076932,9.178300291688164,1.1361892135504008,4.689378219175487,1.4726311488160928,3.1826447212045585,4.251204452939116,-6.037929768071835,-7.335090145575653,-5.295382255414344,3.721431376412196,3.090512146081102,-5.2903822535635525,6.322038660422707,4.507745461205796,1.0311225941600968,-4.747037404794635,8.317575958505245,6.568330062101257,-7.32180716230403,-0.7191382507115827,-3.268143125442319,-1.9042237424927286,4.702890403776001,-5.222493892924009,2.966573100944808,-1.3028660923757878,4.171654184605989,-2.663155425050022,-1.4897695560185547,-8.986789560375101,-3.368470257577638,3.1900996921683475,2.5654485549864683,4.420851913876289,2.0554244638912524,-5.681670388783657,6.683485324158575,-8.629941960705581,4.9161725278044255,-0.863705211098168,-0.46848007147945003,-6.870836132871759,6.338090574444998,-4.895743830155653,-7.090725164658565,-8.172018783308792,4.371344007015744,-8.35072751301583,0.6674190278788995,2.1655180737975908,-4.275580187878569,-3.291576195989682,3.803706403740741,8.01772718545475,-8.458397073012469,1.882651204411708,1.3521478123806427,-5.777401267581899,-1.8278925567341335,-6.13232834921048,4.4103474862832766,4.067755364748916,-4.783722161915318,-8.153340894267991,-0.9629257567708209,2.255673391965313,2.460167332276398,2.2212600530620166,-3.022486640412308,3.8446741797496764,-5.866255289269089,4.051632225648703,-7.392298287645973,3.2342904922366995,-6.7907627125764005,-1.6710268294236483,7.078939901160966,1.500576294230111,0.8051932203920255,1.017326337884038,-1.0353444968427532,7.805267198040717,-4.834242510710454,1.3407926963276795,1.9061924232330318,-5.610073366754887,-4.1667262421297835,-7.948305023335361,4.0376550667098625,-0.3273029796429305,2.9339552637416597,8.58906357960025,0.3680314747060057,-5.526061099436884,-1.3968046165170607,-1.3434778614011877,-5.617597080717149,1.336311634608201],\"comp2\":[-5.0194140343093325,-7.724064037672595,0.025257338710614922,-3.1636183248475644,7.360323958064436,-1.1339367166825849,6.913786671457884,-4.713564631565183,-0.10504276046441947,-3.5965519677543307,7.9806968892591295,-0.31866132775528516,0.1544115823977276,3.7300567055147886,5.14575587871312,-7.946810769028755,-4.812274069966539,-5.938042586093914,1.5979045499341478,-2.0044719779061433,-1.5503836291275086,-1.437540839509082,3.316756474997365,-3.8112837157556276,-0.30746824633657394,6.12759747303115,-5.9136664500104175,-4.32578597839132,-0.5845610289166556,-3.9268434012341844,-7.305919790412645,-5.988651821856748,-5.135079783612421,7.675537018305931,2.934022327820738,3.819124874340604,-4.89106290735148,3.7561035296507086,-0.3981112964664116,2.288416256183478,-5.692989784376112,4.052832689376146,-0.33600094806296393,-5.058595027568816,4.453199389508063,-0.8725275634609855,-1.3228776348146125,-5.850670291159276,-3.8530659804054737,3.09429483876258,-8.395194124335807,-2.5892306872457844,-1.8573651449792166,-6.746565516928011,0.22012224746401896,-3.766640441905073,-2.0628652651767543,2.730243981043391,-4.00174326733188,2.0537219578437402,-3.9889208425217744,6.7762112466357545,-1.5355242471258927,2.7053016492942192,-2.7902427228386606,0.37389981171272796,8.784914598472527,-8.648470569509325,-3.213209921692523,-3.1074964567977132,-1.9474561554539087,-6.5687274283942925,-1.6871314186409663,-8.279500586270622,-7.477069667187859,-7.851995638220068,-6.324262427935108,-7.198643417824104,1.672367447227993,-6.135957153106134,-0.16410174066369576,0.47319569590506416,-7.423270496268746,-6.993373198208161,-3.5605545643997627,1.5378720670513497,-4.16402022703054,-2.467724507454238,-6.515466829195589,7.322628057563167,-6.30315682292409,-0.06612907615395604,-2.6429594264062035,-5.073455690374718,1.3470620220534766,2.572843498741107,-3.2478678811100674,-6.85723446778211,-2.316558951689719,-5.24968728502245,-6.467445985744703,-0.4481540588843603,-1.967042167046012,6.435937657140801,-4.509661612249273,-3.1416962809911393,-6.652252099602692,-2.8535154373228275,4.41798801514665,-3.685599395399994,0.30743485849841173,-0.974177866287813,-7.319735742914635,-5.635398666875592,-8.400451448365219,-5.943146039112541,-2.5121297194692658,7.989987148632063,4.216387701543044,-6.048975492470971,4.366271895272302,-1.326857008410679,2.7762937731610324,-8.06517451151803,5.179147963471337,-6.619734816279745,-0.8872031101656573,6.459518628887335,0.6689030764180747,-6.083607780569218,1.0097653683512053,-5.079812068813403,-0.2827444621527504,-3.0800006710855516,-4.729960451440392,8.887512440174309,4.680495005799355,-5.780435496242689,-4.141864349630372,-6.315067664016514,2.139655562085864,4.1218986435438945,-8.694351358441745,-4.82141910966687,-5.382281738424804,7.48478849643443,1.004761883267671,-6.876546054089577,-4.9089487703323575,0.8172147038982105,1.2192725165318319,0.7728867335653901,1.8053756288334966,-6.4958491645728005,1.3646867433834753,1.2698201885744769,5.128185424718494,1.9226364265086893,-3.611980154014122,-1.7356468027095626,-6.157465117275335,-7.100246348298925,2.925632340219516,-3.885802832968288,-7.164598230682808,-5.719332598814848,-1.6399077446961734,-7.878568601660328,-7.973190972584508,-4.877465648942989,-0.7438565538693052,-0.4993823295914773,0.04273433038685741,-0.43382763320636447,1.713871422295484,-5.039193459807319,4.417784840508455,-2.506075013832597,1.6868633953547048,-3.7218718292878608,-0.14966700134710814,5.116752907106468,-3.5703771732038247,-4.883069263702465,5.099249023207692,-7.724415665066971,7.691609893944494,-2.8960997078594954,-0.6599962770765608,7.00669270830209,-3.383571804249681,5.211425176182802,4.933545710043659,-6.33153602887799,0.8820127052016093,2.944869392126673,0.025576683339142592,-6.973107158914057,-7.484205165761394,1.551363051513759,-4.713303145427713,-1.8945647497873135,-1.7609604196214332,1.07825061928318,-2.140778736685876,-0.29147279688671185,-3.167599500062394,-3.6912441906607074,-6.093534376045931,-3.272099657265247,3.5717903188551783,-5.961381452904665,-1.7795283161467041,-1.8539762716980381,-7.031343703117097,4.496240279133275,8.326138165946855,-2.5637155176409565,3.8753448138828848,-3.918924193103749,-0.7089369682173597,-4.858824546623707,-2.7933543169386708,-3.015159350949251,-0.9646974193327591,-4.017980816826395,5.1594289991160664,7.2172055696113455,0.14804934426604513,-4.54538422017101,-0.6312091366803405,-1.7237722556409363,-4.319761324158198,0.4055729204355743,7.710374848041579,0.027642608589817468,3.4257006430179033,6.017455825053118,-6.269715158515455,-5.726389272418281,-2.8621983093063363,-6.829359817497995,-5.1178024984813,-2.931621157079793,-5.3345884524865,1.5342005515790171,1.3606839858911146,-4.093219377690223,-1.8329587795018418,-7.813349735688999,-3.2678554826379265,-8.456607199124045,-1.3486602750000343,0.6421682347637205,-5.260247681809509,-0.04627109391199433,-8.111697590825386],\"index\":[76031,139677,111881,21073,161415,68609,109370,146056,152436,115176,164176,119756,145525,171259,140103,45370,159796,178845,87943,82285,50606,153029,180429,58001,144057,9215,127411,120311,102852,108732,80970,72254,62609,95846,9525,10893,87921,99139,156539,133290,41188,65152,157408,42311,118224,145408,133131,129074,124276,121695,67972,56046,120498,139886,83872,21029,62882,74348,164979,97918,54428,104439,135170,14433,170272,116841,7122,163394,36998,155190,106456,104299,104353,160015,108441,81148,96622,109933,81340,100077,36061,52840,68014,95878,90169,148396,144531,36522,111752,63558,117332,164835,55693,99162,176560,54021,44148,86143,42719,27331,68845,44692,84332,5957,176994,103927,83955,89266,127812,129473,18685,41218,90034,79694,856,178224,4971,3304,153692,77108,41927,120897,137489,100411,160712,52586,160570,156365,87061,16440,176480,149018,3284,13651,90866,119398,119836,72525,130479,44920,57037,6710,100101,136592,75014,81067,5733,151102,31889,86719,50641,159951,181614,41056,15952,83057,182123,100571,159237,118048,23112,19690,9951,3662,3747,84586,7309,73432,139905,157060,155266,147141,85338,78753,28719,127622,62108,15725,37223,23467,94502,113241,100902,153854,86765,81362,145931,153637,91165,70103,88593,25904,4413,23688,62637,161828,45708,76154,15783,24871,50042,167683,160414,82153,175873,74997,73340,10971,109165,55953,168578,137687,180446,91910,110571,117257,61558,87520,109052,110602,50461,94586,2629,21564,114750,44089,104947,13321,178329,79071,68366,175083,61844,121269,159906,160096,96096,157029,11440,62426,10413,173547,45151,117288,119675,90642,111856,86339,99222,103072,147838,128587,13401,141484,115615,136466,167510],\"overall_rating\":[87.0,86.0,84.0,83.0,82.0,82.0,82.0,82.0,82.0,81.0,81.0,81.0,81.0,81.0,81.0,81.0,81.0,81.0,81.0,80.0,80.0,80.0,80.0,80.0,80.0,80.0,80.0,80.0,80.0,80.0,80.0,80.0,80.0,80.0,80.0,80.0,80.0,80.0,80.0,80.0,79.0,79.0,79.0,79.0,79.0,79.0,79.0,79.0,79.0,79.0,79.0,79.0,79.0,79.0,79.0,79.0,79.0,79.0,79.0,79.0,79.0,78.0,78.0,78.0,78.0,78.0,78.0,78.0,78.0,78.0,78.0,78.0,78.0,78.0,78.0,78.0,78.0,78.0,78.0,78.0,78.0,78.0,78.0,78.0,78.0,78.0,78.0,78.0,78.0,78.0,78.0,77.0,77.0,77.0,77.0,77.0,77.0,77.0,77.0,77.0,77.0,77.0,77.0,77.0,77.0,77.0,77.0,77.0,77.0,77.0,77.0,77.0,77.0,77.0,77.0,77.0,77.0,77.0,77.0,77.0,77.0,77.0,77.0,77.0,77.0,77.0,77.0,77.0,77.0,77.0,77.0,77.0,77.0,77.0,76.0,76.0,76.0,76.0,76.0,76.0,76.0,76.0,76.0,76.0,76.0,76.0,76.0,76.0,76.0,76.0,76.0,76.0,76.0,76.0,76.0,76.0,76.0,76.0,76.0,76.0,76.0,76.0,76.0,76.0,76.0,76.0,76.0,76.0,76.0,76.0,76.0,76.0,76.0,76.0,76.0,76.0,76.0,76.0,76.0,76.0,76.0,76.0,76.0,76.0,75.0,75.0,75.0,75.0,75.0,75.0,75.0,75.0,75.0,75.0,75.0,75.0,75.0,75.0,75.0,75.0,75.0,75.0,75.0,75.0,75.0,75.0,75.0,75.0,75.0,75.0,75.0,75.0,75.0,75.0,75.0,75.0,75.0,75.0,75.0,75.0,75.0,75.0,75.0,75.0,75.0,75.0,75.0,75.0,75.0,75.0,75.0,75.0,75.0,75.0,75.0,75.0,75.0,75.0,75.0,75.0,75.0,75.0,75.0,75.0,75.0,75.0,75.0,75.0,75.0,75.0,75.0,75.0,75.0,75.0,75.0,75.0,75.0],\"player_api_id\":[164684,248453,190972,215168,184999,194165,184554,230982,181276,267365,188555,181910,246575,212815,325916,364520,195299,257865,474589,300916,574200,215384,354467,241825,193174,210164,292462,282770,287894,268282,281085,179772,251925,212893,213501,361770,391058,215798,210117,253088,298448,164385,309334,282281,213485,242469,447084,469852,248689,303824,304733,281012,425963,231199,237542,488139,245555,288880,161328,281207,230190,294003,316771,413557,264190,239219,196386,365672,570432,303339,362694,359193,11285,212472,210276,210956,429265,206508,240205,358127,195413,359188,360559,264221,207617,212645,477023,358155,212630,186831,185644,244966,175646,280260,467022,414245,297579,127130,282012,277761,427438,242783,263653,395154,209405,210111,278831,194533,355901,210128,488958,178765,245572,449666,324910,487867,314605,188413,282678,205893,363333,298915,240054,343748,30271,189982,300532,562062,257847,277460,202443,467479,352879,432950,516846,303912,181069,604105,425985,426202,254308,362195,267383,692984,287231,299215,351860,324578,473852,261313,361315,282472,465960,244811,562267,242094,432463,260470,352968,412762,527103,276121,309505,403003,232103,360918,428672,361792,195998,207642,239807,589344,469700,470539,242887,262592,214972,276738,214426,361322,469804,421786,530859,318526,193223,291425,352994,534684,521421,281558,416175,493196,294859,422685,246438,275034,303800,279490,474448,184321,307021,424879,163835,361757,513086,496563,361321,212915,355357,178538,299572,197514,450976,289441,498033,320686,441883,467495,173382,362113,193930,281936,449241,294254,157101,201111,198566,166422,465628,402975,203666,278473,575225,46241,463301,202639,184629,428947,309726,473855,450011,304000,242156,261348,288613,573463,199291,473853,424129,189237,518373,212866,183530,163605,195207,397019,280276],\"player_name\":[\"James Rodriguez\",\"Paul Pogba\",\"Marco Verratti\",\"Bernd Leno\",\"Shkodran Mustafi\",\"Harry Kane\",\"Marc-Andre ter Stegen\",\"Raphael Varane\",\"Romelu Lukaku\",\"Marquinhos\",\"Stefan de Vrij\",\"Mattia Perin\",\"Raheem Sterling\",\"Timo Horn\",\"Paulo Dybala\",\"Domenico Berardi\",\"Serge Aurier\",\"William Carvalho\",\"Jose Gimenez\",\"Joao Mario\",\"Eric Bertrand Bailly\",\"Ross Barkley\",\"Yannick Ferreira-Carrasco\",\"Francisco Alcacer\",\"Quincy Promes\",\"Alphonse Areola\",\"Mohamed Salah\",\"Mauro Icardi\",\"Loris Karius\",\"Manuel Trigueros\",\"Jese Rodriguez\",\"Iker Muniain\",\"Gerard Deulofeu\",\"Kevin Volland\",\"Alvaro Morata\",\"Andre Gomes\",\"Jose Gaya\",\"Lavyin Kurzawa\",\"Samuel Umtiti\",\"Nikola Maksimovic\",\"Davy Klaassen\",\"Gokhan Tore\",\"Saul Niguez\",\"Denis Suarez\",\"Matija Nastasic\",\"Rafinha\",\"Niklas Suele\",\"Nabil Fekir\",\"Michy Batshuayi\",\"Memphis Depay\",\"Hakan Calhanoglu\",\"Filip Kostic\",\"Max Meyer\",\"Paul-Georges Ntep\",\"Johannes Geis\",\"Bernardo Silva\",\"Geronimo Rulli\",\"Jack Butland\",\"Stephan El Shaarawy\",\"Kurt Zouma\",\"Felipe Anderson\",\"Luciano Dario Vietto\",\"Oliver Torres\",\"Anthony Martial\",\"Thorgan Hazard\",\"Mateo Kovacic\",\"Alex Oxlade-Chamberlain\",\"Sofiane Boufal\",\"Danilo\",\"Sadio Mane\",\"Luke Shaw\",\"Lucas Vazquez\",\"Lucas\",\"Sergi Roberto\",\"Manuel Lanzini\",\"Jesus Corona\",\"Kingsley Coman\",\"Marcelo Brozovic\",\"Jetro Willems\",\"Leo Baptistao\",\"Daniele Baselli\",\"Fabinho\",\"Hakim Ziyech\",\"Kevin Wimmer\",\"Juan Quintero\",\"Riccardo Saponara\",\"Rafa Silva\",\"Daniele Rugani\",\"Marco Sportiello\",\"Giannelli Imbula Wanga\",\"Mathew Ryan\",\"Stefano Sturaro\",\"Fernando\",\"Lazar Markovic\",\"Vincent Janssen\",\"Federico Bernardeschi\",\"Diego Rolan\",\"Jonjo Shelvey\",\"Dennis Praet\",\"Chancel Mbemba\",\"Hector Bellerin\",\"Diogo Figueiras\",\"John Stones\",\"Alen Halilovic\",\"Virgil van Dijk\",\"Lucas Digne\",\"John Anthony Brooks\",\"Josip Drmic\",\"Morgan Sanson\",\"Nampalys Mendy\",\"Balde Diao Keita\",\"Davy Proepper\",\"Juan Manuel Iturbe\",\"Jemerson\",\"Abdul Rahman Baba\",\"Wendell\",\"Alberto Moreno\",\"Adrien Regattin\",\"Ruben Pardo\",\"Jannik Vestergaard\",\"Dele Alli\",\"Maximilian Arnold\",\"Pablo Sarabia\",\"Leon Goretzka\",\"Sergio\",\"Fabian Schaer\",\"Sergio Rico\",\"Samuel Castillejo\",\"Jores Okore\",\"Arkadiusz Milik\",\"Vincent Aboubakar\",\"Riechedly Bazoer\",\"Adrien Rabiot\",\"Angel Correa\",\"Julian Brandt\",\"Matthias Ginter\",\"Matz Sels\",\"Inaki Williams\",\"Nemanja Radoja\",\"Divock Origi\",\"Florian Thauvin\",\"Alessio Romagnoli\",\"Leo Bonatini\",\"Ousmane Dembele\",\"Jairo\",\"Jesse Lingard\",\"Aleksandar Mitrovic\",\"Rodrigo De Paul\",\"Corentin Tolisso\",\"Jordan Veretout\",\"Eric Dier\",\"Sergi Darder\",\"Youri Tielemans\",\"Davide Zappacosta\",\"Anwar El-Ghazi\",\"Joel Campbell\",\"Zakaria Bakkali\",\"Leonardo Bittencourt\",\"Sebastien Haller\",\"Matias Kranevitter\",\"Breel Embolo\",\"Ben Davies\",\"Amin Younes\",\"Ahmed Hassan Koka\",\"Ahmed Musa\",\"Johny\",\"Alex Telles\",\"Ivan Cavaleiro\",\"Paul-Jose M'Poku\",\"Santiago Arias\",\"Saido Berahino\",\"Renato Sanches\",\"Jonathan Glao Tah\",\"Jean Michael Seri\",\"Christian Atsu\",\"Moi Gomez\",\"Geoffrey Kondogbia\",\"Antonio Ruediger\",\"Danny Ings\",\"Bruma\",\"Kenny Tete\",\"Mario Lemina\",\"Leroy Sane\",\"Ruben Vezo\",\"Jordi Amat\",\"Jhon Cordoba\",\"Raphael Guerreiro\",\"Ruben Neves\",\"Julian Weigl\",\"Hernani\",\"Jose Sa\",\"Carlos Mane\",\"Alassane Plea\",\"Bruno Fernandes\",\"Gerard Moreno\",\"Silvan Widmer\",\"Dominique Heintz\",\"James Ward-Prowse\",\"Antonio Sanabria\",\"Callum Wilson\",\"Emre Can\",\"Sven van Beek\",\"Sergio Oliveira\",\"Joao Cancelo\",\"Victor Camarasa\",\"Jairo Riedewald\",\"Iuri Medeiros\",\"Andre Hoffmann\",\"Marc Stendera\",\"Filip Djuricic\",\"Terence Kongolo\",\"Pajtim Kasami\",\"Yannick Gerhardt\",\"Jurgen Locadia\",\"Marco Asensio\",\"Matheus Doria\",\"Gaston Pereiro\",\"Jorrit Hendrix\",\"Marc Muniesa\",\"Marco Benassi\",\"Enzo Roco\",\"Kerim Frei Koyunlu\",\"Adnan Januzaj\",\"Bjorn Engels\",\"Markus Henriksen\",\"Diego Reyes\",\"Luis Alberto\",\"Andros Townsend\",\"Wesley Hoedt\",\"Jean-Paul Boetius\",\"Hans Vanaken\",\"Valeri Kazaishvili\",\"Gelson\",\"Mbaye Niang\",\"Sergej Milinkovic-Savic\",\"Sergio Alvarez\",\"Khouma Babacar\",\"Santi Mina\",\"Andrea Belotti\",\"Georges N'Koudou\",\"Anderson Talisca\",\"Tonny Vilhena\",\"Djibril Sidibe\",\"Matheus\",\"Mattia De Sciglio\",\"Juanpi,20\",\"Marco van Ginkel\",\"Jordan Amavi\",\"Leander Dendoncker\",\"Luc Castaignos\",\"Ricardo Kishna\",\"Muhamed Besic\",\"Andy Delort\",\"Pele\",\"Martin Hinteregger\",\"Otavio\",\"Suso\"],\"potential\":[93.0,91.0,89.0,88.0,87.0,88.0,87.0,89.0,88.0,87.0,87.0,86.0,87.0,87.0,87.0,86.0,86.0,86.0,87.0,86.0,88.0,88.0,85.0,86.0,86.0,88.0,85.0,85.0,85.0,85.0,87.0,85.0,87.0,85.0,85.0,87.0,85.0,88.0,85.0,85.0,85.0,84.0,88.0,86.0,84.0,84.0,86.0,85.0,84.0,86.0,84.0,84.0,87.0,84.0,84.0,86.0,85.0,87.0,85.0,88.0,84.0,85.0,85.0,86.0,83.0,84.0,85.0,84.0,85.0,84.0,86.0,83.0,83.0,84.0,84.0,84.0,86.0,83.0,86.0,83.0,84.0,86.0,84.0,83.0,83.0,83.0,84.0,86.0,83.0,83.0,83.0,82.0,83.0,84.0,84.0,83.0,82.0,83.0,84.0,84.0,85.0,83.0,87.0,90.0,83.0,82.0,83.0,82.0,83.0,83.0,85.0,82.0,83.0,83.0,84.0,85.0,82.0,82.0,83.0,82.0,89.0,83.0,82.0,85.0,86.0,83.0,86.0,85.0,83.0,84.0,82.0,88.0,84.0,88.0,88.0,82.0,81.0,84.0,82.0,83.0,82.0,85.0,83.0,89.0,81.0,82.0,83.0,84.0,84.0,82.0,85.0,82.0,88.0,82.0,84.0,82.0,84.0,82.0,84.0,84.0,88.0,82.0,81.0,81.0,82.0,82.0,81.0,83.0,82.0,81.0,85.0,88.0,88.0,82.0,81.0,83.0,81.0,82.0,83.0,85.0,85.0,82.0,87.0,83.0,81.0,80.0,81.0,86.0,84.0,80.0,81.0,81.0,82.0,82.0,81.0,80.0,82.0,83.0,86.0,81.0,85.0,80.0,80.0,84.0,83.0,85.0,86.0,80.0,84.0,80.0,80.0,83.0,83.0,80.0,87.0,81.0,83.0,82.0,81.0,82.0,82.0,83.0,84.0,83.0,80.0,83.0,83.0,81.0,81.0,82.0,80.0,80.0,87.0,84.0,82.0,81.0,80.0,84.0,83.0,82.0,80.0,80.0,80.0,80.0,80.0,85.0,81.0,83.0,84.0,80.0,82.0,83.0,81.0,80.0,81.0,84.0,80.0],\"potential_growth\":[6.0,5.0,5.0,5.0,5.0,6.0,5.0,7.0,6.0,6.0,6.0,5.0,6.0,6.0,6.0,5.0,5.0,5.0,6.0,6.0,8.0,8.0,5.0,6.0,6.0,8.0,5.0,5.0,5.0,5.0,7.0,5.0,7.0,5.0,5.0,7.0,5.0,8.0,5.0,5.0,6.0,5.0,9.0,7.0,5.0,5.0,7.0,6.0,5.0,7.0,5.0,5.0,8.0,5.0,5.0,7.0,6.0,8.0,6.0,9.0,5.0,7.0,7.0,8.0,5.0,6.0,7.0,6.0,7.0,6.0,8.0,5.0,5.0,6.0,6.0,6.0,8.0,5.0,8.0,5.0,6.0,8.0,6.0,5.0,5.0,5.0,6.0,8.0,5.0,5.0,5.0,5.0,6.0,7.0,7.0,6.0,5.0,6.0,7.0,7.0,8.0,6.0,10.0,13.0,6.0,5.0,6.0,5.0,6.0,6.0,8.0,5.0,6.0,6.0,7.0,8.0,5.0,5.0,6.0,5.0,12.0,6.0,5.0,8.0,9.0,6.0,9.0,8.0,6.0,7.0,5.0,11.0,7.0,11.0,12.0,6.0,5.0,8.0,6.0,7.0,6.0,9.0,7.0,13.0,5.0,6.0,7.0,8.0,8.0,6.0,9.0,6.0,12.0,6.0,8.0,6.0,8.0,6.0,8.0,8.0,12.0,6.0,5.0,5.0,6.0,6.0,5.0,7.0,6.0,5.0,9.0,12.0,12.0,6.0,5.0,7.0,5.0,6.0,7.0,9.0,9.0,6.0,11.0,7.0,6.0,5.0,6.0,11.0,9.0,5.0,6.0,6.0,7.0,7.0,6.0,5.0,7.0,8.0,11.0,6.0,10.0,5.0,5.0,9.0,8.0,10.0,11.0,5.0,9.0,5.0,5.0,8.0,8.0,5.0,12.0,6.0,8.0,7.0,6.0,7.0,7.0,8.0,9.0,8.0,5.0,8.0,8.0,6.0,6.0,7.0,5.0,5.0,12.0,9.0,7.0,6.0,5.0,9.0,8.0,7.0,5.0,5.0,5.0,5.0,5.0,10.0,6.0,8.0,9.0,5.0,7.0,8.0,6.0,5.0,6.0,9.0,5.0],\"x\":[-3.485539432847738,-1.3895272475255305,2.2056176420316675,-5.935590933875982,-3.2443631731093983,-2.5535086248602936,-4.155605111047104,4.373553374784687,-6.569098786528931,2.8027719766216777,-5.22566814782894,-4.404934377826697,-3.5045426994827324,0.8705844056309605,2.8474282458590534,2.257470439279011,0.6281948246843985,-5.78554240797798,-4.57686683177259,-4.790785105595153,0.10064907270058357,-8.458819907474204,4.254117471221415,4.494340855381564,-7.466333713160662,3.3071645942296874,-6.3904934651546474,-6.006578113929858,-8.02848401557076,3.959137191947598,-5.1357107564112425,0.6878276129909654,4.217272181695892,-3.8363326659160926,-6.137144460854114,3.8564650242627803,-4.058363365630361,1.8409864356036418,-4.452253536565202,5.058659003797013,3.0291932441853193,2.5877612206702083,4.058906214128307,-0.12237618381351961,3.8462192469067977,-5.912157607180624,-6.699142996305294,1.6120505423654374,3.464998847694239,-8.919506665216863,1.44711004039865,-3.965847640386647,-7.209587427693854,3.4634907723471087,-8.061267316198858,-3.4659130796163766,-4.874958731168237,4.644845331105371,0.49684099423318445,-0.8110241804580711,-1.2802103512082101,-3.8904327886936785,-4.1050345687481204,-1.4313751629997964,4.084629193590888,5.157488750466202,-3.2965580362154827,-3.8386447113999753,-5.558983356773462,6.415521357131446,-7.869361030620005,1.3537576321376477,3.814583302225406,1.6605149930970613,2.7995395950153044,5.076291402377343,-1.8286622323810655,-4.3554700286982735,-2.4516621781658694,-5.6806850020912005,-0.6601901315831296,-5.793686927669359,2.6820300077666794,1.3418937176354588,-7.5886329454363395,4.665411739484559,-2.1023505806978293,-7.652914297499966,1.2406314985774982,-4.41671989840798,-4.915726856100935,-1.312895910288448,3.9078285615958026,-4.085521683151719,-7.051990121993068,-3.4111847188943236,0.7418053520744828,1.69128270129965,-3.8658004973922013,-0.18031725207986996,-1.4526821328183641,3.257519727168286,-7.47025648854155,3.2416304500178676,-5.700259886590677,-2.891727092224167,1.3262098496297523,4.307117696271908,1.6019722656093789,1.9265115472829792,-4.064746531283377,-5.953471173986477,2.9906673037925087,0.6165651805651102,-0.29589809730878025,3.06821175832608,3.2343517027512125,-5.556296514288094,7.321918946589709,0.9469066767819391,5.228360946933455,-7.326639784240932,1.3329315351082982,-0.01223412233293234,4.314858166519718,-6.169540635210161,3.311659822622076,4.548982081530634,2.260073182291744,4.0220704924599096,1.0655203296572395,-4.008335835935359,2.912523773590329,-2.541989167052448,-6.842430408091905,-1.3810384057130338,2.30690928561404,2.3856473837082834,0.6045523511075713,-1.5944356913638484,-7.242119011476539,3.0323202307744217,1.0290788192607008,8.292376559098622,3.2241951630695533,-4.257825793640523,-3.2671409212165896,4.660128536748129,4.153299440392914,-7.8771031742906334,5.34938460670918,-7.659316237168054,4.239831212028302,1.5273963208999026,3.389088737099607,-5.644458077635868,-1.043035823845569,-1.1538657686524625,-5.94306908076932,9.178300291688164,1.1361892135504008,4.689378219175487,1.4726311488160928,3.1826447212045585,4.251204452939116,-6.037929768071835,-7.335090145575653,-5.295382255414344,3.721431376412196,3.090512146081102,-5.2903822535635525,6.322038660422707,4.507745461205796,1.0311225941600968,-4.747037404794635,8.317575958505245,6.568330062101257,-7.32180716230403,-0.7191382507115827,-3.268143125442319,-1.9042237424927286,4.702890403776001,-5.222493892924009,2.966573100944808,-1.3028660923757878,4.171654184605989,-2.663155425050022,-1.4897695560185547,-8.986789560375101,-3.368470257577638,3.1900996921683475,2.5654485549864683,4.420851913876289,2.0554244638912524,-5.681670388783657,6.683485324158575,-8.629941960705581,4.9161725278044255,-0.863705211098168,-0.46848007147945003,-6.870836132871759,6.338090574444998,-4.895743830155653,-7.090725164658565,-8.172018783308792,4.371344007015744,-8.35072751301583,0.6674190278788995,2.1655180737975908,-4.275580187878569,-3.291576195989682,3.803706403740741,8.01772718545475,-8.458397073012469,1.882651204411708,1.3521478123806427,-5.777401267581899,-1.8278925567341335,-6.13232834921048,4.4103474862832766,4.067755364748916,-4.783722161915318,-8.153340894267991,-0.9629257567708209,2.255673391965313,2.460167332276398,2.2212600530620166,-3.022486640412308,3.8446741797496764,-5.866255289269089,4.051632225648703,-7.392298287645973,3.2342904922366995,-6.7907627125764005,-1.6710268294236483,7.078939901160966,1.500576294230111,0.8051932203920255,1.017326337884038,-1.0353444968427532,7.805267198040717,-4.834242510710454,1.3407926963276795,1.9061924232330318,-5.610073366754887,-4.1667262421297835,-7.948305023335361,4.0376550667098625,-0.3273029796429305,2.9339552637416597,8.58906357960025,0.3680314747060057,-5.526061099436884,-1.3968046165170607,-1.3434778614011877,-5.617597080717149,1.336311634608201],\"y\":[-5.0194140343093325,-7.724064037672595,0.025257338710614922,-3.1636183248475644,7.360323958064436,-1.1339367166825849,6.913786671457884,-4.713564631565183,-0.10504276046441947,-3.5965519677543307,7.9806968892591295,-0.31866132775528516,0.1544115823977276,3.7300567055147886,5.14575587871312,-7.946810769028755,-4.812274069966539,-5.938042586093914,1.5979045499341478,-2.0044719779061433,-1.5503836291275086,-1.437540839509082,3.316756474997365,-3.8112837157556276,-0.30746824633657394,6.12759747303115,-5.9136664500104175,-4.32578597839132,-0.5845610289166556,-3.9268434012341844,-7.305919790412645,-5.988651821856748,-5.135079783612421,7.675537018305931,2.934022327820738,3.819124874340604,-4.89106290735148,3.7561035296507086,-0.3981112964664116,2.288416256183478,-5.692989784376112,4.052832689376146,-0.33600094806296393,-5.058595027568816,4.453199389508063,-0.8725275634609855,-1.3228776348146125,-5.850670291159276,-3.8530659804054737,3.09429483876258,-8.395194124335807,-2.5892306872457844,-1.8573651449792166,-6.746565516928011,0.22012224746401896,-3.766640441905073,-2.0628652651767543,2.730243981043391,-4.00174326733188,2.0537219578437402,-3.9889208425217744,6.7762112466357545,-1.5355242471258927,2.7053016492942192,-2.7902427228386606,0.37389981171272796,8.784914598472527,-8.648470569509325,-3.213209921692523,-3.1074964567977132,-1.9474561554539087,-6.5687274283942925,-1.6871314186409663,-8.279500586270622,-7.477069667187859,-7.851995638220068,-6.324262427935108,-7.198643417824104,1.672367447227993,-6.135957153106134,-0.16410174066369576,0.47319569590506416,-7.423270496268746,-6.993373198208161,-3.5605545643997627,1.5378720670513497,-4.16402022703054,-2.467724507454238,-6.515466829195589,7.322628057563167,-6.30315682292409,-0.06612907615395604,-2.6429594264062035,-5.073455690374718,1.3470620220534766,2.572843498741107,-3.2478678811100674,-6.85723446778211,-2.316558951689719,-5.24968728502245,-6.467445985744703,-0.4481540588843603,-1.967042167046012,6.435937657140801,-4.509661612249273,-3.1416962809911393,-6.652252099602692,-2.8535154373228275,4.41798801514665,-3.685599395399994,0.30743485849841173,-0.974177866287813,-7.319735742914635,-5.635398666875592,-8.400451448365219,-5.943146039112541,-2.5121297194692658,7.989987148632063,4.216387701543044,-6.048975492470971,4.366271895272302,-1.326857008410679,2.7762937731610324,-8.06517451151803,5.179147963471337,-6.619734816279745,-0.8872031101656573,6.459518628887335,0.6689030764180747,-6.083607780569218,1.0097653683512053,-5.079812068813403,-0.2827444621527504,-3.0800006710855516,-4.729960451440392,8.887512440174309,4.680495005799355,-5.780435496242689,-4.141864349630372,-6.315067664016514,2.139655562085864,4.1218986435438945,-8.694351358441745,-4.82141910966687,-5.382281738424804,7.48478849643443,1.004761883267671,-6.876546054089577,-4.9089487703323575,0.8172147038982105,1.2192725165318319,0.7728867335653901,1.8053756288334966,-6.4958491645728005,1.3646867433834753,1.2698201885744769,5.128185424718494,1.9226364265086893,-3.611980154014122,-1.7356468027095626,-6.157465117275335,-7.100246348298925,2.925632340219516,-3.885802832968288,-7.164598230682808,-5.719332598814848,-1.6399077446961734,-7.878568601660328,-7.973190972584508,-4.877465648942989,-0.7438565538693052,-0.4993823295914773,0.04273433038685741,-0.43382763320636447,1.713871422295484,-5.039193459807319,4.417784840508455,-2.506075013832597,1.6868633953547048,-3.7218718292878608,-0.14966700134710814,5.116752907106468,-3.5703771732038247,-4.883069263702465,5.099249023207692,-7.724415665066971,7.691609893944494,-2.8960997078594954,-0.6599962770765608,7.00669270830209,-3.383571804249681,5.211425176182802,4.933545710043659,-6.33153602887799,0.8820127052016093,2.944869392126673,0.025576683339142592,-6.973107158914057,-7.484205165761394,1.551363051513759,-4.713303145427713,-1.8945647497873135,-1.7609604196214332,1.07825061928318,-2.140778736685876,-0.29147279688671185,-3.167599500062394,-3.6912441906607074,-6.093534376045931,-3.272099657265247,3.5717903188551783,-5.961381452904665,-1.7795283161467041,-1.8539762716980381,-7.031343703117097,4.496240279133275,8.326138165946855,-2.5637155176409565,3.8753448138828848,-3.918924193103749,-0.7089369682173597,-4.858824546623707,-2.7933543169386708,-3.015159350949251,-0.9646974193327591,-4.017980816826395,5.1594289991160664,7.2172055696113455,0.14804934426604513,-4.54538422017101,-0.6312091366803405,-1.7237722556409363,-4.319761324158198,0.4055729204355743,7.710374848041579,0.027642608589817468,3.4257006430179033,6.017455825053118,-6.269715158515455,-5.726389272418281,-2.8621983093063363,-6.829359817497995,-5.1178024984813,-2.931621157079793,-5.3345884524865,1.5342005515790171,1.3606839858911146,-4.093219377690223,-1.8329587795018418,-7.813349735688999,-3.2678554826379265,-8.456607199124045,-1.3486602750000343,0.6421682347637205,-5.260247681809509,-0.04627109391199433,-8.111697590825386]}},\"id\":\"502f45ba-00b9-4799-a75a-473d9261b792\",\"type\":\"ColumnDataSource\"},{\"attributes\":{\"plot\":{\"id\":\"d5a8df0f-e62b-4961-a13a-f616e55b5f1e\",\"subtype\":\"Figure\",\"type\":\"Plot\"}},\"id\":\"932e26e0-e7f1-4de7-be99-500012579718\",\"type\":\"PreviewSaveTool\"},{\"attributes\":{\"callback\":null},\"id\":\"57a10bf6-8447-49b5-9999-f9b4d8125d0c\",\"type\":\"DataRange1d\"},{\"attributes\":{\"data_source\":{\"id\":\"b5cdf0fc-b3c7-4e56-876c-c9ea439feacb\",\"type\":\"ColumnDataSource\"},\"glyph\":{\"id\":\"852de2a2-90df-4891-9549-5ca1116cbb8d\",\"type\":\"Circle\"},\"hover_glyph\":null,\"nonselection_glyph\":{\"id\":\"d8f3a640-8250-4cc4-9949-502f9f904581\",\"type\":\"Circle\"},\"selection_glyph\":null},\"id\":\"e88ccb3c-b358-4654-9368-5ad840285221\",\"type\":\"GlyphRenderer\"},{\"attributes\":{\"fill_alpha\":{\"value\":0.1},\"fill_color\":{\"value\":\"#1f77b4\"},\"line_alpha\":{\"value\":0.1},\"line_color\":{\"value\":\"#1f77b4\"},\"size\":{\"units\":\"screen\",\"value\":20},\"x\":{\"field\":\"x\"},\"y\":{\"field\":\"y\"}},\"id\":\"d8f3a640-8250-4cc4-9949-502f9f904581\",\"type\":\"Circle\"},{\"attributes\":{\"axis_label\":\"DIFERENCA DE GOLS\",\"formatter\":{\"id\":\"1cdd8443-3490-4e05-8099-2a1323838b71\",\"type\":\"BasicTickFormatter\"},\"plot\":{\"id\":\"eb39a05d-e073-44a3-9c12-4c7c8fe67e78\",\"subtype\":\"Figure\",\"type\":\"Plot\"},\"ticker\":{\"id\":\"730d5aeb-265c-4251-b820-1e4ffad7a703\",\"type\":\"BasicTicker\"}},\"id\":\"b1c9046a-e4bf-4c7b-a2c8-77650312c36d\",\"type\":\"LinearAxis\"},{\"attributes\":{\"axis_label\":\"Component 2\",\"formatter\":{\"id\":\"1ab7604d-f200-468e-9811-e0ac6852e2d3\",\"type\":\"BasicTickFormatter\"},\"plot\":{\"id\":\"d5a8df0f-e62b-4961-a13a-f616e55b5f1e\",\"subtype\":\"Figure\",\"type\":\"Plot\"},\"ticker\":{\"id\":\"421139ac-f322-4798-a5aa-7a2fda99b54f\",\"type\":\"BasicTicker\"}},\"id\":\"af9e0ccb-9326-4594-a1a9-deafd1f01db6\",\"type\":\"LinearAxis\"},{\"attributes\":{\"below\":[{\"id\":\"b1c9046a-e4bf-4c7b-a2c8-77650312c36d\",\"type\":\"LinearAxis\"}],\"left\":[{\"id\":\"e9ee5e55-d02b-4463-ac00-d82e2610fcd1\",\"type\":\"LinearAxis\"}],\"renderers\":[{\"id\":\"b1c9046a-e4bf-4c7b-a2c8-77650312c36d\",\"type\":\"LinearAxis\"},{\"id\":\"24330e75-238b-4623-96db-b82991e4ddb7\",\"type\":\"Grid\"},{\"id\":\"e9ee5e55-d02b-4463-ac00-d82e2610fcd1\",\"type\":\"LinearAxis\"},{\"id\":\"c0405659-6e4c-488e-8f26-3a2faa7711b7\",\"type\":\"Grid\"},{\"id\":\"fba906ec-0297-497b-97b2-bf755073c1fa\",\"type\":\"BoxAnnotation\"},{\"id\":\"e88ccb3c-b358-4654-9368-5ad840285221\",\"type\":\"GlyphRenderer\"}],\"responsive\":true,\"title\":\"DIFEREN\\u00c7A DE GOLS POR PA\\u00cdS\",\"tool_events\":{\"id\":\"187d7afb-c2d4-4f8c-a911-de7f04415f08\",\"type\":\"ToolEvents\"},\"tools\":[{\"id\":\"7625ee53-7fc1-4be1-8ed3-a291cd9a2f11\",\"type\":\"BoxZoomTool\"},{\"id\":\"7dfffdd0-967e-4ec9-9624-7810dcc1ecaa\",\"type\":\"PanTool\"},{\"id\":\"a970e41b-881b-47c3-8a2f-2fb1b4b8f3b3\",\"type\":\"PreviewSaveTool\"},{\"id\":\"1aa0aac9-a1d8-42b3-9cf4-4e8b614aeb55\",\"type\":\"ResetTool\"},{\"id\":\"4256fdd6-3ba1-4cec-b0e6-835eec51eb71\",\"type\":\"HoverTool\"}],\"x_range\":{\"id\":\"f7fb92ae-1c1a-4b4b-846d-99ca04ef77ea\",\"type\":\"DataRange1d\"},\"y_range\":{\"id\":\"691cf4c5-1158-4c77-b8b0-33a540f0309a\",\"type\":\"DataRange1d\"}},\"id\":\"eb39a05d-e073-44a3-9c12-4c7c8fe67e78\",\"subtype\":\"Figure\",\"type\":\"Plot\"},{\"attributes\":{\"plot\":{\"id\":\"eb39a05d-e073-44a3-9c12-4c7c8fe67e78\",\"subtype\":\"Figure\",\"type\":\"Plot\"}},\"id\":\"7dfffdd0-967e-4ec9-9624-7810dcc1ecaa\",\"type\":\"PanTool\"},{\"attributes\":{\"fill_color\":{\"value\":\"blue\"},\"line_color\":{\"value\":\"blue\"},\"size\":{\"units\":\"screen\",\"value\":10},\"x\":{\"field\":\"x\"},\"y\":{\"field\":\"y\"}},\"id\":\"6e54cc36-a7d0-4c9f-8cd9-99eb10c61e12\",\"type\":\"Circle\"},{\"attributes\":{},\"id\":\"97621e69-6501-4451-b8c5-8a38a11b4450\",\"type\":\"BasicTickFormatter\"},{\"attributes\":{\"callback\":null},\"id\":\"9f455ce3-9f6d-469e-abee-722bc5ae2ff9\",\"type\":\"DataRange1d\"},{\"attributes\":{\"plot\":{\"id\":\"eb39a05d-e073-44a3-9c12-4c7c8fe67e78\",\"subtype\":\"Figure\",\"type\":\"Plot\"}},\"id\":\"1aa0aac9-a1d8-42b3-9cf4-4e8b614aeb55\",\"type\":\"ResetTool\"},{\"attributes\":{\"plot\":{\"id\":\"d5a8df0f-e62b-4961-a13a-f616e55b5f1e\",\"subtype\":\"Figure\",\"type\":\"Plot\"}},\"id\":\"e829828f-2c1e-4bc4-a633-0cab316c719f\",\"type\":\"PanTool\"},{\"attributes\":{\"plot\":{\"id\":\"d5a8df0f-e62b-4961-a13a-f616e55b5f1e\",\"subtype\":\"Figure\",\"type\":\"Plot\"}},\"id\":\"5f7a7e82-2f81-4965-b5e7-8b6e1b9e995e\",\"type\":\"WheelZoomTool\"}],\"root_ids\":[\"eb39a05d-e073-44a3-9c12-4c7c8fe67e78\",\"d5a8df0f-e62b-4961-a13a-f616e55b5f1e\"]},\"title\":\"Bokeh Application\",\"version\":\"0.11.1\"}};\n",
       "            var render_items = [{\"docid\":\"6ed1280c-5b99-4d7d-8eb0-e43f4cd3a393\",\"elementid\":\"5849e711-228e-4ad5-8545-1fe1068f35d5\",\"modelid\":\"d5a8df0f-e62b-4961-a13a-f616e55b5f1e\",\"notebook_comms_target\":\"5ebb4414-5cd8-48d2-8caf-036f39dd9a32\"}];\n",
       "            \n",
       "            Bokeh.embed.embed_items(docs_json, render_items);\n",
       "        });\n",
       "      },\n",
       "      function(Bokeh) {\n",
       "      }\n",
       "    ];\n",
       "  \n",
       "    function run_inline_js() {\n",
       "      for (var i = 0; i < inline_js.length; i++) {\n",
       "        inline_js[i](window.Bokeh);\n",
       "      }\n",
       "    }\n",
       "  \n",
       "    if (window._bokeh_is_loading === 0) {\n",
       "      console.log(\"Bokeh: BokehJS loaded, going straight to plotting\");\n",
       "      run_inline_js();\n",
       "    } else {\n",
       "      load_libs(js_urls, function() {\n",
       "        console.log(\"Bokeh: BokehJS plotting callback run at\", now());\n",
       "        run_inline_js();\n",
       "      });\n",
       "    }\n",
       "  }(this));\n",
       "</script>"
      ]
     },
     "metadata": {},
     "output_type": "display_data"
    },
    {
     "data": {
      "text/html": [
       "<p><code>&lt;Bokeh Notebook handle for <strong>In[65]</strong>&gt;</code></p>"
      ],
      "text/plain": [
       "<bokeh.io._CommsHandle at 0x3f4a77f0>"
      ]
     },
     "execution_count": 65,
     "metadata": {},
     "output_type": "execute_result"
    }
   ],
   "source": [
    "tmp = players[cols]\n",
    "tmp['comp1'], tmp['comp2'] = tsne_comp[:,0], tsne_comp[:,1]\n",
    "tmp['potential_growth'] = tmp.potential - tmp.overall_rating\n",
    "tmp = tmp[(tmp.potential_growth >= 5) & (tmp.overall_rating >= 75)]\n",
    "\n",
    "_tools = 'box_zoom,pan,save,resize,reset,tap,wheel_zoom'\n",
    "fig = figure(tools=_tools, title='t-SNE of Potential Top Players (FIFA stats)', responsive=True,\n",
    "             x_axis_label='Component 1', y_axis_label='Component 2')\n",
    "\n",
    "source = ColumnDataSource(tmp)\n",
    "hover = HoverTool()\n",
    "hover.tooltips=[('Jogador','@player_name'),]\n",
    "fig.scatter(tmp['comp1'], tmp['comp2'], source=source, size=10, alpha=1,\n",
    "            line_color='blue', fill_color='blue')\n",
    "\n",
    "fig.add_tools(hover)\n",
    "\n",
    "show(fig)"
   ]
  },
  {
   "cell_type": "code",
   "execution_count": 113,
   "metadata": {
    "collapsed": false
   },
   "outputs": [
    {
     "data": {
      "text/html": [
       "<div>\n",
       "<table border=\"1\" class=\"dataframe\">\n",
       "  <thead>\n",
       "    <tr style=\"text-align: right;\">\n",
       "      <th></th>\n",
       "      <th>year</th>\n",
       "      <th>player_api_id</th>\n",
       "      <th>player_name</th>\n",
       "      <th>overall_rating</th>\n",
       "      <th>id</th>\n",
       "      <th>player_fifa_api_id</th>\n",
       "      <th>birthday</th>\n",
       "      <th>height</th>\n",
       "      <th>weight</th>\n",
       "      <th>ano_nasc</th>\n",
       "      <th>idade</th>\n",
       "      <th>idade_em_2007</th>\n",
       "    </tr>\n",
       "  </thead>\n",
       "  <tbody>\n",
       "    <tr>\n",
       "      <th>0</th>\n",
       "      <td>2007</td>\n",
       "      <td>19533</td>\n",
       "      <td>Neymar</td>\n",
       "      <td>73.0</td>\n",
       "      <td>7863</td>\n",
       "      <td>190871</td>\n",
       "      <td>1992-02-05 00:00:00</td>\n",
       "      <td>175.26</td>\n",
       "      <td>150</td>\n",
       "      <td>1992</td>\n",
       "      <td>24</td>\n",
       "      <td>15</td>\n",
       "    </tr>\n",
       "    <tr>\n",
       "      <th>1</th>\n",
       "      <td>2009</td>\n",
       "      <td>19533</td>\n",
       "      <td>Neymar</td>\n",
       "      <td>73.0</td>\n",
       "      <td>7863</td>\n",
       "      <td>190871</td>\n",
       "      <td>1992-02-05 00:00:00</td>\n",
       "      <td>175.26</td>\n",
       "      <td>150</td>\n",
       "      <td>1992</td>\n",
       "      <td>24</td>\n",
       "      <td>15</td>\n",
       "    </tr>\n",
       "    <tr>\n",
       "      <th>2</th>\n",
       "      <td>2010</td>\n",
       "      <td>19533</td>\n",
       "      <td>Neymar</td>\n",
       "      <td>77.5</td>\n",
       "      <td>7863</td>\n",
       "      <td>190871</td>\n",
       "      <td>1992-02-05 00:00:00</td>\n",
       "      <td>175.26</td>\n",
       "      <td>150</td>\n",
       "      <td>1992</td>\n",
       "      <td>24</td>\n",
       "      <td>15</td>\n",
       "    </tr>\n",
       "    <tr>\n",
       "      <th>3</th>\n",
       "      <td>2011</td>\n",
       "      <td>19533</td>\n",
       "      <td>Neymar</td>\n",
       "      <td>82.5</td>\n",
       "      <td>7863</td>\n",
       "      <td>190871</td>\n",
       "      <td>1992-02-05 00:00:00</td>\n",
       "      <td>175.26</td>\n",
       "      <td>150</td>\n",
       "      <td>1992</td>\n",
       "      <td>24</td>\n",
       "      <td>15</td>\n",
       "    </tr>\n",
       "    <tr>\n",
       "      <th>4</th>\n",
       "      <td>2012</td>\n",
       "      <td>19533</td>\n",
       "      <td>Neymar</td>\n",
       "      <td>85.0</td>\n",
       "      <td>7863</td>\n",
       "      <td>190871</td>\n",
       "      <td>1992-02-05 00:00:00</td>\n",
       "      <td>175.26</td>\n",
       "      <td>150</td>\n",
       "      <td>1992</td>\n",
       "      <td>24</td>\n",
       "      <td>15</td>\n",
       "    </tr>\n",
       "  </tbody>\n",
       "</table>\n",
       "</div>"
      ],
      "text/plain": [
       "   year  player_api_id player_name  overall_rating    id  player_fifa_api_id  \\\n",
       "0  2007          19533      Neymar            73.0  7863              190871   \n",
       "1  2009          19533      Neymar            73.0  7863              190871   \n",
       "2  2010          19533      Neymar            77.5  7863              190871   \n",
       "3  2011          19533      Neymar            82.5  7863              190871   \n",
       "4  2012          19533      Neymar            85.0  7863              190871   \n",
       "\n",
       "              birthday  height  weight  ano_nasc  idade  idade_em_2007  \n",
       "0  1992-02-05 00:00:00  175.26     150      1992     24             15  \n",
       "1  1992-02-05 00:00:00  175.26     150      1992     24             15  \n",
       "2  1992-02-05 00:00:00  175.26     150      1992     24             15  \n",
       "3  1992-02-05 00:00:00  175.26     150      1992     24             15  \n",
       "4  1992-02-05 00:00:00  175.26     150      1992     24             15  "
      ]
     },
     "execution_count": 113,
     "metadata": {},
     "output_type": "execute_result"
    }
   ],
   "source": [
    "renato = pd.merge(evolution, Player).sort_values('idade_em_2007', ascending=True)\n",
    "renato.head()"
   ]
  },
  {
   "cell_type": "code",
   "execution_count": 123,
   "metadata": {
    "collapsed": false
   },
   "outputs": [
    {
     "data": {
      "image/png": "[encoded data removed]",
      "text/plain": [
       "<matplotlib.figure.Figure at 0x28a64438>"
      ]
     },
     "metadata": {},
     "output_type": "display_data"
    }
   ],
   "source": [
    "a = sns.factorplot(data=renato[renato.player_api_id.isin(ids[0:8])], x='year',\n",
    "                   y='overall_rating', hue='idade_em_2007', size=6, aspect=2,kind='point',orient='v',legend_out=True)"
   ]
  }
 ],
 "metadata": {
  "kernelspec": {
   "display_name": "Python 3",
   "language": "python",
   "name": "python3"
  },
  "language_info": {
   "codemirror_mode": {
    "name": "ipython",
    "version": 3
   },
   "file_extension": ".py",
   "mimetype": "text/x-python",
   "name": "python",
   "nbconvert_exporter": "python",
   "pygments_lexer": "ipython3",
   "version": "3.5.1"
  }
 },
 "nbformat": 4,
 "nbformat_minor": 0
}
