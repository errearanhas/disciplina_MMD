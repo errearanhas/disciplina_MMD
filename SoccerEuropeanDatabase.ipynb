{
 "cells": [
  {
   "cell_type": "markdown",
   "metadata": {},
   "source": [
    "# Notebook referente ao último trabalho: European Soccer Database\n",
    "\n",
    "https://www.kaggle.com/c/talkingdata-mobile-user-demographics\n",
    "\n",
    "## Disciplina: Mineração de Dados (Setembro/16)\n",
    "\n",
    "## Aluno: Renato Santos Aranha"
   ]
  },
  {
   "cell_type": "code",
   "execution_count": 1,
   "metadata": {
    "collapsed": false
   },
   "outputs": [
    {
     "data": {
      "text/html": [
       "\n",
       "    <div class=\"bk-banner\">\n",
       "        <a href=\"http://bokeh.pydata.org\" target=\"_blank\" class=\"bk-logo bk-logo-small bk-logo-notebook\"></a>\n",
       "        <span id=\"c1bc94c8-1f95-4317-bcec-fb0dc3ca3c2d\">Loading BokehJS ...</span>\n",
       "    </div>"
      ]
     },
     "metadata": {},
     "output_type": "display_data"
    },
    {
     "data": {
      "application/javascript": [
       "\n",
       "(function(global) {\n",
       "  function now() {\n",
       "    return new Date();\n",
       "  }\n",
       "\n",
       "  if (typeof (window._bokeh_onload_callbacks) === \"undefined\") {\n",
       "    window._bokeh_onload_callbacks = [];\n",
       "  }\n",
       "\n",
       "  function run_callbacks() {\n",
       "    window._bokeh_onload_callbacks.forEach(function(callback) { callback() });\n",
       "    delete window._bokeh_onload_callbacks\n",
       "    console.info(\"Bokeh: all callbacks have finished\");\n",
       "  }\n",
       "\n",
       "  function load_libs(js_urls, callback) {\n",
       "    window._bokeh_onload_callbacks.push(callback);\n",
       "    if (window._bokeh_is_loading > 0) {\n",
       "      console.log(\"Bokeh: BokehJS is being loaded, scheduling callback at\", now());\n",
       "      return null;\n",
       "    }\n",
       "    if (js_urls == null || js_urls.length === 0) {\n",
       "      run_callbacks();\n",
       "      return null;\n",
       "    }\n",
       "    console.log(\"Bokeh: BokehJS not loaded, scheduling load and callback at\", now());\n",
       "    window._bokeh_is_loading = js_urls.length;\n",
       "    for (var i = 0; i < js_urls.length; i++) {\n",
       "      var url = js_urls[i];\n",
       "      var s = document.createElement('script');\n",
       "      s.src = url;\n",
       "      s.async = false;\n",
       "      s.onreadystatechange = s.onload = function() {\n",
       "        window._bokeh_is_loading--;\n",
       "        if (window._bokeh_is_loading === 0) {\n",
       "          console.log(\"Bokeh: all BokehJS libraries loaded\");\n",
       "          run_callbacks()\n",
       "        }\n",
       "      };\n",
       "      s.onerror = function() {\n",
       "        console.warn(\"failed to load library \" + url);\n",
       "      };\n",
       "      console.log(\"Bokeh: injecting script tag for BokehJS library: \", url);\n",
       "      document.getElementsByTagName(\"head\")[0].appendChild(s);\n",
       "    }\n",
       "  };\n",
       "\n",
       "  var js_urls = ['https://cdn.pydata.org/bokeh/release/bokeh-0.11.1.min.js', 'https://cdn.pydata.org/bokeh/release/bokeh-widgets-0.11.1.min.js', 'https://cdn.pydata.org/bokeh/release/bokeh-compiler-0.11.1.min.js'];\n",
       "\n",
       "  var inline_js = [\n",
       "    function(Bokeh) {\n",
       "      Bokeh.set_log_level(\"info\");\n",
       "    },\n",
       "    \n",
       "    function(Bokeh) {\n",
       "      Bokeh.$(\"#c1bc94c8-1f95-4317-bcec-fb0dc3ca3c2d\").text(\"BokehJS successfully loaded\");\n",
       "    },\n",
       "    function(Bokeh) {\n",
       "      console.log(\"Bokeh: injecting CSS: https://cdn.pydata.org/bokeh/release/bokeh-0.11.1.min.css\");\n",
       "      Bokeh.embed.inject_css(\"https://cdn.pydata.org/bokeh/release/bokeh-0.11.1.min.css\");\n",
       "      console.log(\"Bokeh: injecting CSS: https://cdn.pydata.org/bokeh/release/bokeh-widgets-0.11.1.min.css\");\n",
       "      Bokeh.embed.inject_css(\"https://cdn.pydata.org/bokeh/release/bokeh-widgets-0.11.1.min.css\");\n",
       "    }\n",
       "  ];\n",
       "\n",
       "  function run_inline_js() {\n",
       "    for (var i = 0; i < inline_js.length; i++) {\n",
       "      inline_js[i](window.Bokeh);\n",
       "    }\n",
       "  }\n",
       "\n",
       "  if (window._bokeh_is_loading === 0) {\n",
       "    console.log(\"Bokeh: BokehJS loaded, going straight to plotting\");\n",
       "    run_inline_js();\n",
       "  } else {\n",
       "    load_libs(js_urls, function() {\n",
       "      console.log(\"Bokeh: BokehJS plotting callback run at\", now());\n",
       "      run_inline_js();\n",
       "    });\n",
       "  }\n",
       "}(this));"
      ]
     },
     "metadata": {},
     "output_type": "display_data"
    }
   ],
   "source": [
    "import sqlite3\n",
    "import pandas as pd\n",
    "import numpy as np\n",
    "from sklearn.manifold import TSNE\n",
    "from sklearn.preprocessing import StandardScaler\n",
    "from bokeh.plotting import figure, ColumnDataSource, show\n",
    "from bokeh.models import HoverTool\n",
    "from bokeh.io import output_notebook\n",
    "import matplotlib.pyplot as plt\n",
    "import seaborn as sns\n",
    "\n",
    "%matplotlib inline\n",
    "output_notebook()"
   ]
  },
  {
   "cell_type": "markdown",
   "metadata": {},
   "source": [
    "# Agenda:\n",
    "* Carregando e verificando os dados;\n",
    "\n",
    "\n",
    "* Perguntas;\n",
    "    * Como é a distribuição de partidas por diferença de gol?\n",
    "    * Qual percentual de partidas são vencidas pelo time da casa (por país)?\n",
    "    * Qual percentual de partidas são empates (por país)?\n",
    "    * Jogadores de mesma posição possuem semelhança nos scouts? (T-SNE dos scouts dos jogadores)\n",
    "    * Como ocorreu a evolução anual dos melhores jogadores?\n"
   ]
  },
  {
   "cell_type": "markdown",
   "metadata": {},
   "source": [
    "## Carregando e verificando os dados:"
   ]
  },
  {
   "cell_type": "code",
   "execution_count": 2,
   "metadata": {
    "collapsed": false
   },
   "outputs": [],
   "source": [
    "#database = '/Users/Renato Aranha/Documents/Python Scripts/database.sqlite'\n",
    "database = '/Users/renato.aranha/Desktop/git/MMD/database.sqlite'"
   ]
  },
  {
   "cell_type": "code",
   "execution_count": 3,
   "metadata": {
    "collapsed": false
   },
   "outputs": [],
   "source": [
    "conn = sqlite3.connect(database)"
   ]
  },
  {
   "cell_type": "code",
   "execution_count": 4,
   "metadata": {
    "collapsed": false
   },
   "outputs": [
    {
     "data": {
      "text/html": [
       "<div>\n",
       "<table border=\"1\" class=\"dataframe\">\n",
       "  <thead>\n",
       "    <tr style=\"text-align: right;\">\n",
       "      <th></th>\n",
       "      <th>name</th>\n",
       "    </tr>\n",
       "  </thead>\n",
       "  <tbody>\n",
       "    <tr>\n",
       "      <th>0</th>\n",
       "      <td>Country</td>\n",
       "    </tr>\n",
       "    <tr>\n",
       "      <th>1</th>\n",
       "      <td>sqlite_sequence</td>\n",
       "    </tr>\n",
       "    <tr>\n",
       "      <th>2</th>\n",
       "      <td>League</td>\n",
       "    </tr>\n",
       "    <tr>\n",
       "      <th>3</th>\n",
       "      <td>Match</td>\n",
       "    </tr>\n",
       "    <tr>\n",
       "      <th>4</th>\n",
       "      <td>Player</td>\n",
       "    </tr>\n",
       "    <tr>\n",
       "      <th>5</th>\n",
       "      <td>Player_Stats</td>\n",
       "    </tr>\n",
       "    <tr>\n",
       "      <th>6</th>\n",
       "      <td>Team</td>\n",
       "    </tr>\n",
       "  </tbody>\n",
       "</table>\n",
       "</div>"
      ],
      "text/plain": [
       "              name\n",
       "0          Country\n",
       "1  sqlite_sequence\n",
       "2           League\n",
       "3            Match\n",
       "4           Player\n",
       "5     Player_Stats\n",
       "6             Team"
      ]
     },
     "execution_count": 4,
     "metadata": {},
     "output_type": "execute_result"
    }
   ],
   "source": [
    "query = \"SELECT name FROM sqlite_master WHERE type='table';\"\n",
    "pd.read_sql(query, conn)"
   ]
  },
  {
   "cell_type": "code",
   "execution_count": 5,
   "metadata": {
    "collapsed": false
   },
   "outputs": [],
   "source": [
    "country = pd.read_sql_query(\"select * from Country\", conn, index_col='id')\n",
    "match = pd.read_sql_query(\"select * from Match\", conn)\n",
    "league = pd.read_sql_query(\"select * from League\", conn)\n",
    "team = pd.read_sql_query(\"select * from Team\", conn)\n",
    "Player = pd.read_sql(\"SELECT * FROM Player\", conn)\n",
    "Player_Stats = pd.read_sql(\"SELECT * FROM Player_Stats\", conn)"
   ]
  },
  {
   "cell_type": "code",
   "execution_count": 6,
   "metadata": {
    "collapsed": false
   },
   "outputs": [
    {
     "data": {
      "text/html": [
       "<div>\n",
       "<table border=\"1\" class=\"dataframe\">\n",
       "  <thead>\n",
       "    <tr style=\"text-align: right;\">\n",
       "      <th></th>\n",
       "      <th>name</th>\n",
       "    </tr>\n",
       "    <tr>\n",
       "      <th>id</th>\n",
       "      <th></th>\n",
       "    </tr>\n",
       "  </thead>\n",
       "  <tbody>\n",
       "    <tr>\n",
       "      <th>1</th>\n",
       "      <td>Belgium</td>\n",
       "    </tr>\n",
       "    <tr>\n",
       "      <th>1729</th>\n",
       "      <td>England</td>\n",
       "    </tr>\n",
       "    <tr>\n",
       "      <th>4735</th>\n",
       "      <td>France</td>\n",
       "    </tr>\n",
       "    <tr>\n",
       "      <th>7775</th>\n",
       "      <td>Germany</td>\n",
       "    </tr>\n",
       "    <tr>\n",
       "      <th>10223</th>\n",
       "      <td>Italy</td>\n",
       "    </tr>\n",
       "    <tr>\n",
       "      <th>13240</th>\n",
       "      <td>Netherlands</td>\n",
       "    </tr>\n",
       "    <tr>\n",
       "      <th>15688</th>\n",
       "      <td>Poland</td>\n",
       "    </tr>\n",
       "    <tr>\n",
       "      <th>17608</th>\n",
       "      <td>Portugal</td>\n",
       "    </tr>\n",
       "    <tr>\n",
       "      <th>19660</th>\n",
       "      <td>Scotland</td>\n",
       "    </tr>\n",
       "    <tr>\n",
       "      <th>21484</th>\n",
       "      <td>Spain</td>\n",
       "    </tr>\n",
       "    <tr>\n",
       "      <th>24524</th>\n",
       "      <td>Switzerland</td>\n",
       "    </tr>\n",
       "  </tbody>\n",
       "</table>\n",
       "</div>"
      ],
      "text/plain": [
       "              name\n",
       "id                \n",
       "1          Belgium\n",
       "1729       England\n",
       "4735        France\n",
       "7775       Germany\n",
       "10223        Italy\n",
       "13240  Netherlands\n",
       "15688       Poland\n",
       "17608     Portugal\n",
       "19660     Scotland\n",
       "21484        Spain\n",
       "24524  Switzerland"
      ]
     },
     "execution_count": 6,
     "metadata": {},
     "output_type": "execute_result"
    }
   ],
   "source": [
    "country"
   ]
  },
  {
   "cell_type": "code",
   "execution_count": 7,
   "metadata": {
    "collapsed": false
   },
   "outputs": [
    {
     "data": {
      "text/plain": [
       "array([    1,  1729,  4735,  7775, 10223, 13240, 15688, 17608, 19660,\n",
       "       21484, 24524], dtype=int64)"
      ]
     },
     "execution_count": 7,
     "metadata": {},
     "output_type": "execute_result"
    }
   ],
   "source": [
    "match['country_id'].unique()"
   ]
  },
  {
   "cell_type": "code",
   "execution_count": 8,
   "metadata": {
    "collapsed": false
   },
   "outputs": [
    {
     "data": {
      "text/html": [
       "<div>\n",
       "<table border=\"1\" class=\"dataframe\">\n",
       "  <thead>\n",
       "    <tr style=\"text-align: right;\">\n",
       "      <th></th>\n",
       "      <th>id</th>\n",
       "      <th>country_id</th>\n",
       "      <th>league_id</th>\n",
       "      <th>season</th>\n",
       "      <th>stage</th>\n",
       "      <th>date</th>\n",
       "      <th>match_api_id</th>\n",
       "      <th>home_team_api_id</th>\n",
       "      <th>away_team_api_id</th>\n",
       "      <th>home_team_goal</th>\n",
       "      <th>...</th>\n",
       "      <th>SJA</th>\n",
       "      <th>VCH</th>\n",
       "      <th>VCD</th>\n",
       "      <th>VCA</th>\n",
       "      <th>GBH</th>\n",
       "      <th>GBD</th>\n",
       "      <th>GBA</th>\n",
       "      <th>BSH</th>\n",
       "      <th>BSD</th>\n",
       "      <th>BSA</th>\n",
       "    </tr>\n",
       "  </thead>\n",
       "  <tbody>\n",
       "    <tr>\n",
       "      <th>0</th>\n",
       "      <td>1</td>\n",
       "      <td>1</td>\n",
       "      <td>1</td>\n",
       "      <td>2008/2009</td>\n",
       "      <td>1</td>\n",
       "      <td>2008-08-17 00:00:00</td>\n",
       "      <td>492473</td>\n",
       "      <td>9987</td>\n",
       "      <td>9993</td>\n",
       "      <td>1</td>\n",
       "      <td>...</td>\n",
       "      <td>4.0</td>\n",
       "      <td>1.65</td>\n",
       "      <td>3.40</td>\n",
       "      <td>4.50</td>\n",
       "      <td>1.78</td>\n",
       "      <td>3.25</td>\n",
       "      <td>4.00</td>\n",
       "      <td>1.73</td>\n",
       "      <td>3.40</td>\n",
       "      <td>4.2</td>\n",
       "    </tr>\n",
       "    <tr>\n",
       "      <th>1</th>\n",
       "      <td>2</td>\n",
       "      <td>1</td>\n",
       "      <td>1</td>\n",
       "      <td>2008/2009</td>\n",
       "      <td>1</td>\n",
       "      <td>2008-08-16 00:00:00</td>\n",
       "      <td>492474</td>\n",
       "      <td>10000</td>\n",
       "      <td>9994</td>\n",
       "      <td>0</td>\n",
       "      <td>...</td>\n",
       "      <td>3.8</td>\n",
       "      <td>2.00</td>\n",
       "      <td>3.25</td>\n",
       "      <td>3.25</td>\n",
       "      <td>1.85</td>\n",
       "      <td>3.25</td>\n",
       "      <td>3.75</td>\n",
       "      <td>1.91</td>\n",
       "      <td>3.25</td>\n",
       "      <td>3.6</td>\n",
       "    </tr>\n",
       "    <tr>\n",
       "      <th>2</th>\n",
       "      <td>3</td>\n",
       "      <td>1</td>\n",
       "      <td>1</td>\n",
       "      <td>2008/2009</td>\n",
       "      <td>1</td>\n",
       "      <td>2008-08-16 00:00:00</td>\n",
       "      <td>492475</td>\n",
       "      <td>9984</td>\n",
       "      <td>8635</td>\n",
       "      <td>0</td>\n",
       "      <td>...</td>\n",
       "      <td>NaN</td>\n",
       "      <td>NaN</td>\n",
       "      <td>NaN</td>\n",
       "      <td>NaN</td>\n",
       "      <td>NaN</td>\n",
       "      <td>NaN</td>\n",
       "      <td>NaN</td>\n",
       "      <td>NaN</td>\n",
       "      <td>NaN</td>\n",
       "      <td>NaN</td>\n",
       "    </tr>\n",
       "  </tbody>\n",
       "</table>\n",
       "<p>3 rows × 115 columns</p>\n",
       "</div>"
      ],
      "text/plain": [
       "   id  country_id  league_id     season  stage                 date  \\\n",
       "0   1           1          1  2008/2009      1  2008-08-17 00:00:00   \n",
       "1   2           1          1  2008/2009      1  2008-08-16 00:00:00   \n",
       "2   3           1          1  2008/2009      1  2008-08-16 00:00:00   \n",
       "\n",
       "   match_api_id  home_team_api_id  away_team_api_id  home_team_goal ...   SJA  \\\n",
       "0        492473              9987              9993               1 ...   4.0   \n",
       "1        492474             10000              9994               0 ...   3.8   \n",
       "2        492475              9984              8635               0 ...   NaN   \n",
       "\n",
       "    VCH   VCD   VCA   GBH   GBD   GBA   BSH   BSD  BSA  \n",
       "0  1.65  3.40  4.50  1.78  3.25  4.00  1.73  3.40  4.2  \n",
       "1  2.00  3.25  3.25  1.85  3.25  3.75  1.91  3.25  3.6  \n",
       "2   NaN   NaN   NaN   NaN   NaN   NaN   NaN   NaN  NaN  \n",
       "\n",
       "[3 rows x 115 columns]"
      ]
     },
     "execution_count": 8,
     "metadata": {},
     "output_type": "execute_result"
    }
   ],
   "source": [
    "match.head(3)"
   ]
  },
  {
   "cell_type": "code",
   "execution_count": 9,
   "metadata": {
    "collapsed": false
   },
   "outputs": [
    {
     "data": {
      "text/html": [
       "<div>\n",
       "<table border=\"1\" class=\"dataframe\">\n",
       "  <thead>\n",
       "    <tr style=\"text-align: right;\">\n",
       "      <th></th>\n",
       "      <th>id</th>\n",
       "      <th>country_id</th>\n",
       "      <th>name</th>\n",
       "    </tr>\n",
       "  </thead>\n",
       "  <tbody>\n",
       "    <tr>\n",
       "      <th>0</th>\n",
       "      <td>1</td>\n",
       "      <td>1</td>\n",
       "      <td>Belgium Jupiler League</td>\n",
       "    </tr>\n",
       "    <tr>\n",
       "      <th>1</th>\n",
       "      <td>1729</td>\n",
       "      <td>1729</td>\n",
       "      <td>England Premier League</td>\n",
       "    </tr>\n",
       "    <tr>\n",
       "      <th>2</th>\n",
       "      <td>4735</td>\n",
       "      <td>4735</td>\n",
       "      <td>France Ligue 1</td>\n",
       "    </tr>\n",
       "  </tbody>\n",
       "</table>\n",
       "</div>"
      ],
      "text/plain": [
       "     id  country_id                    name\n",
       "0     1           1  Belgium Jupiler League\n",
       "1  1729        1729  England Premier League\n",
       "2  4735        4735          France Ligue 1"
      ]
     },
     "execution_count": 9,
     "metadata": {},
     "output_type": "execute_result"
    }
   ],
   "source": [
    "league.head(3)"
   ]
  },
  {
   "cell_type": "code",
   "execution_count": 10,
   "metadata": {
    "collapsed": false
   },
   "outputs": [
    {
     "data": {
      "text/html": [
       "<div>\n",
       "<table border=\"1\" class=\"dataframe\">\n",
       "  <thead>\n",
       "    <tr style=\"text-align: right;\">\n",
       "      <th></th>\n",
       "      <th>id</th>\n",
       "      <th>team_api_id</th>\n",
       "      <th>team_long_name</th>\n",
       "      <th>team_short_name</th>\n",
       "    </tr>\n",
       "  </thead>\n",
       "  <tbody>\n",
       "    <tr>\n",
       "      <th>0</th>\n",
       "      <td>1</td>\n",
       "      <td>9987</td>\n",
       "      <td>Genk</td>\n",
       "      <td>GEN</td>\n",
       "    </tr>\n",
       "    <tr>\n",
       "      <th>1</th>\n",
       "      <td>2</td>\n",
       "      <td>9993</td>\n",
       "      <td>Beerschot AC</td>\n",
       "      <td>BAC</td>\n",
       "    </tr>\n",
       "    <tr>\n",
       "      <th>2</th>\n",
       "      <td>3</td>\n",
       "      <td>10000</td>\n",
       "      <td>Zulte-Waregem</td>\n",
       "      <td>ZUL</td>\n",
       "    </tr>\n",
       "  </tbody>\n",
       "</table>\n",
       "</div>"
      ],
      "text/plain": [
       "   id  team_api_id team_long_name team_short_name\n",
       "0   1         9987           Genk             GEN\n",
       "1   2         9993   Beerschot AC             BAC\n",
       "2   3        10000  Zulte-Waregem             ZUL"
      ]
     },
     "execution_count": 10,
     "metadata": {},
     "output_type": "execute_result"
    }
   ],
   "source": [
    "team.head(3)"
   ]
  },
  {
   "cell_type": "code",
   "execution_count": 11,
   "metadata": {
    "collapsed": false
   },
   "outputs": [
    {
     "data": {
      "text/html": [
       "<div>\n",
       "<table border=\"1\" class=\"dataframe\">\n",
       "  <thead>\n",
       "    <tr style=\"text-align: right;\">\n",
       "      <th></th>\n",
       "      <th>id</th>\n",
       "      <th>player_api_id</th>\n",
       "      <th>player_name</th>\n",
       "      <th>player_fifa_api_id</th>\n",
       "      <th>birthday</th>\n",
       "      <th>height</th>\n",
       "      <th>weight</th>\n",
       "    </tr>\n",
       "  </thead>\n",
       "  <tbody>\n",
       "    <tr>\n",
       "      <th>0</th>\n",
       "      <td>1</td>\n",
       "      <td>505942</td>\n",
       "      <td>Aaron Appindangoye</td>\n",
       "      <td>218353</td>\n",
       "      <td>1992-02-29 00:00:00</td>\n",
       "      <td>182.88</td>\n",
       "      <td>187</td>\n",
       "    </tr>\n",
       "    <tr>\n",
       "      <th>1</th>\n",
       "      <td>2</td>\n",
       "      <td>155782</td>\n",
       "      <td>Aaron Cresswell</td>\n",
       "      <td>189615</td>\n",
       "      <td>1989-12-15 00:00:00</td>\n",
       "      <td>170.18</td>\n",
       "      <td>146</td>\n",
       "    </tr>\n",
       "    <tr>\n",
       "      <th>2</th>\n",
       "      <td>3</td>\n",
       "      <td>162549</td>\n",
       "      <td>Aaron Doran</td>\n",
       "      <td>186170</td>\n",
       "      <td>1991-05-13 00:00:00</td>\n",
       "      <td>170.18</td>\n",
       "      <td>163</td>\n",
       "    </tr>\n",
       "  </tbody>\n",
       "</table>\n",
       "</div>"
      ],
      "text/plain": [
       "   id  player_api_id         player_name  player_fifa_api_id  \\\n",
       "0   1         505942  Aaron Appindangoye              218353   \n",
       "1   2         155782     Aaron Cresswell              189615   \n",
       "2   3         162549         Aaron Doran              186170   \n",
       "\n",
       "              birthday  height  weight  \n",
       "0  1992-02-29 00:00:00  182.88     187  \n",
       "1  1989-12-15 00:00:00  170.18     146  \n",
       "2  1991-05-13 00:00:00  170.18     163  "
      ]
     },
     "execution_count": 11,
     "metadata": {},
     "output_type": "execute_result"
    }
   ],
   "source": [
    "Player.head(3)"
   ]
  },
  {
   "cell_type": "code",
   "execution_count": 12,
   "metadata": {
    "collapsed": false
   },
   "outputs": [
    {
     "data": {
      "text/html": [
       "<div>\n",
       "<table border=\"1\" class=\"dataframe\">\n",
       "  <thead>\n",
       "    <tr style=\"text-align: right;\">\n",
       "      <th></th>\n",
       "      <th>id</th>\n",
       "      <th>player_fifa_api_id</th>\n",
       "      <th>player_api_id</th>\n",
       "      <th>date_stat</th>\n",
       "      <th>overall_rating</th>\n",
       "      <th>potential</th>\n",
       "      <th>preferred_foot</th>\n",
       "      <th>attacking_work_rate</th>\n",
       "      <th>defensive_work_rate</th>\n",
       "      <th>crossing</th>\n",
       "      <th>...</th>\n",
       "      <th>vision</th>\n",
       "      <th>penalties</th>\n",
       "      <th>marking</th>\n",
       "      <th>standing_tackle</th>\n",
       "      <th>sliding_tackle</th>\n",
       "      <th>gk_diving</th>\n",
       "      <th>gk_handling</th>\n",
       "      <th>gk_kicking</th>\n",
       "      <th>gk_positioning</th>\n",
       "      <th>gk_reflexes</th>\n",
       "    </tr>\n",
       "  </thead>\n",
       "  <tbody>\n",
       "    <tr>\n",
       "      <th>0</th>\n",
       "      <td>1</td>\n",
       "      <td>218353</td>\n",
       "      <td>505942</td>\n",
       "      <td>2016-02-18 00:00:00</td>\n",
       "      <td>67.0</td>\n",
       "      <td>71.0</td>\n",
       "      <td>right</td>\n",
       "      <td>medium</td>\n",
       "      <td>medium</td>\n",
       "      <td>49.0</td>\n",
       "      <td>...</td>\n",
       "      <td>54.0</td>\n",
       "      <td>48.0</td>\n",
       "      <td>65.0</td>\n",
       "      <td>69.0</td>\n",
       "      <td>69.0</td>\n",
       "      <td>6.0</td>\n",
       "      <td>11.0</td>\n",
       "      <td>10.0</td>\n",
       "      <td>8.0</td>\n",
       "      <td>8.0</td>\n",
       "    </tr>\n",
       "    <tr>\n",
       "      <th>1</th>\n",
       "      <td>2</td>\n",
       "      <td>218353</td>\n",
       "      <td>505942</td>\n",
       "      <td>2015-11-19 00:00:00</td>\n",
       "      <td>67.0</td>\n",
       "      <td>71.0</td>\n",
       "      <td>right</td>\n",
       "      <td>medium</td>\n",
       "      <td>medium</td>\n",
       "      <td>49.0</td>\n",
       "      <td>...</td>\n",
       "      <td>54.0</td>\n",
       "      <td>48.0</td>\n",
       "      <td>65.0</td>\n",
       "      <td>69.0</td>\n",
       "      <td>69.0</td>\n",
       "      <td>6.0</td>\n",
       "      <td>11.0</td>\n",
       "      <td>10.0</td>\n",
       "      <td>8.0</td>\n",
       "      <td>8.0</td>\n",
       "    </tr>\n",
       "    <tr>\n",
       "      <th>2</th>\n",
       "      <td>3</td>\n",
       "      <td>218353</td>\n",
       "      <td>505942</td>\n",
       "      <td>2015-09-21 00:00:00</td>\n",
       "      <td>62.0</td>\n",
       "      <td>66.0</td>\n",
       "      <td>right</td>\n",
       "      <td>medium</td>\n",
       "      <td>medium</td>\n",
       "      <td>49.0</td>\n",
       "      <td>...</td>\n",
       "      <td>54.0</td>\n",
       "      <td>48.0</td>\n",
       "      <td>65.0</td>\n",
       "      <td>66.0</td>\n",
       "      <td>69.0</td>\n",
       "      <td>6.0</td>\n",
       "      <td>11.0</td>\n",
       "      <td>10.0</td>\n",
       "      <td>8.0</td>\n",
       "      <td>8.0</td>\n",
       "    </tr>\n",
       "  </tbody>\n",
       "</table>\n",
       "<p>3 rows × 42 columns</p>\n",
       "</div>"
      ],
      "text/plain": [
       "   id  player_fifa_api_id  player_api_id            date_stat  overall_rating  \\\n",
       "0   1              218353         505942  2016-02-18 00:00:00            67.0   \n",
       "1   2              218353         505942  2015-11-19 00:00:00            67.0   \n",
       "2   3              218353         505942  2015-09-21 00:00:00            62.0   \n",
       "\n",
       "   potential preferred_foot attacking_work_rate defensive_work_rate  crossing  \\\n",
       "0       71.0          right              medium              medium      49.0   \n",
       "1       71.0          right              medium              medium      49.0   \n",
       "2       66.0          right              medium              medium      49.0   \n",
       "\n",
       "      ...       vision  penalties  marking  standing_tackle  sliding_tackle  \\\n",
       "0     ...         54.0       48.0     65.0             69.0            69.0   \n",
       "1     ...         54.0       48.0     65.0             69.0            69.0   \n",
       "2     ...         54.0       48.0     65.0             66.0            69.0   \n",
       "\n",
       "   gk_diving  gk_handling  gk_kicking  gk_positioning  gk_reflexes  \n",
       "0        6.0         11.0        10.0             8.0          8.0  \n",
       "1        6.0         11.0        10.0             8.0          8.0  \n",
       "2        6.0         11.0        10.0             8.0          8.0  \n",
       "\n",
       "[3 rows x 42 columns]"
      ]
     },
     "execution_count": 12,
     "metadata": {},
     "output_type": "execute_result"
    }
   ],
   "source": [
    "Player_Stats.head(3)"
   ]
  },
  {
   "cell_type": "code",
   "execution_count": 13,
   "metadata": {
    "collapsed": false
   },
   "outputs": [
    {
     "data": {
      "text/plain": [
       "Index(['id', 'player_fifa_api_id', 'player_api_id', 'date_stat',\n",
       "       'overall_rating', 'potential', 'preferred_foot', 'attacking_work_rate',\n",
       "       'defensive_work_rate', 'crossing', 'finishing', 'heading_accuracy',\n",
       "       'short_passing', 'volleys', 'dribbling', 'curve', 'free_kick_accuracy',\n",
       "       'long_passing', 'ball_control', 'acceleration', 'sprint_speed',\n",
       "       'agility', 'reactions', 'balance', 'shot_power', 'jumping', 'stamina',\n",
       "       'strength', 'long_shots', 'aggression', 'interceptions', 'positioning',\n",
       "       'vision', 'penalties', 'marking', 'standing_tackle', 'sliding_tackle',\n",
       "       'gk_diving', 'gk_handling', 'gk_kicking', 'gk_positioning',\n",
       "       'gk_reflexes'],\n",
       "      dtype='object')"
      ]
     },
     "execution_count": 13,
     "metadata": {},
     "output_type": "execute_result"
    }
   ],
   "source": [
    "Player_Stats.columns"
   ]
  },
  {
   "cell_type": "code",
   "execution_count": 14,
   "metadata": {
    "collapsed": false
   },
   "outputs": [
    {
     "data": {
      "text/plain": [
       "id                    11060\n",
       "player_api_id         11060\n",
       "player_name           11060\n",
       "player_fifa_api_id    11060\n",
       "birthday              11060\n",
       "height                11060\n",
       "weight                11060\n",
       "dtype: int64"
      ]
     },
     "execution_count": 14,
     "metadata": {},
     "output_type": "execute_result"
    }
   ],
   "source": [
    "Player.count()"
   ]
  },
  {
   "cell_type": "code",
   "execution_count": 15,
   "metadata": {
    "collapsed": true
   },
   "outputs": [],
   "source": [
    "match = pd.read_sql_query(\"select * from Match\", conn)"
   ]
  },
  {
   "cell_type": "code",
   "execution_count": 16,
   "metadata": {
    "collapsed": false
   },
   "outputs": [],
   "source": [
    "match = (match.merge(country[['name']], how='left',left_on='country_id',right_on='id',right_index=True))"
   ]
  },
  {
   "cell_type": "code",
   "execution_count": 17,
   "metadata": {
    "collapsed": false
   },
   "outputs": [],
   "source": [
    "match = match.rename(columns={'name': 'país'})"
   ]
  },
  {
   "cell_type": "code",
   "execution_count": 18,
   "metadata": {
    "collapsed": false
   },
   "outputs": [
    {
     "data": {
      "text/plain": [
       "array(['Belgium', 'England', 'France', 'Germany', 'Italy', 'Netherlands',\n",
       "       'Poland', 'Portugal', 'Scotland', 'Spain', 'Switzerland'], dtype=object)"
      ]
     },
     "execution_count": 18,
     "metadata": {},
     "output_type": "execute_result"
    }
   ],
   "source": [
    "match['país'].unique()"
   ]
  },
  {
   "cell_type": "markdown",
   "metadata": {},
   "source": [
    "## Perguntas:\n",
    "\n",
    "    * Como é a distribuição de partidas por gol de diferença?"
   ]
  },
  {
   "cell_type": "code",
   "execution_count": 19,
   "metadata": {
    "collapsed": false
   },
   "outputs": [
    {
     "name": "stdout",
     "output_type": "stream",
     "text": [
      "\n",
      "25.4 % das partidas terminam empatadas.\n",
      "( 6590 em  25945 jogos).\n",
      "\n",
      "37.0 % das partidas terminam com diferença de UM gol.\n",
      "( 9587 em  25945 jogos).\n",
      "\n",
      "22.1 % das partidas terminam com diferença de DOIS gols.\n",
      "( 5728 em  25945 jogos).\n"
     ]
    },
    {
     "data": {
      "image/png": "[encoded data removed]",
      "text/plain": [
       "<matplotlib.figure.Figure at 0x17fb3b00>"
      ]
     },
     "metadata": {},
     "output_type": "display_data"
    }
   ],
   "source": [
    "match['dif_gol'] = abs(pd.Series(match['home_team_goal'] - match['away_team_goal'])) #criando coluna com a diferença de gols\n",
    "\n",
    "jogos_dif_de_gols = match.groupby(['dif_gol']).count()['match_api_id']\n",
    "jogos_dif_de_gols.plot(kind='bar',figsize=(15,6),title='QUANTIDADE DE PARTIDAS POR DIFERENÇA DE GOLS', color = 'g')\n",
    "\n",
    "empate = jogos_dif_de_gols[0];\n",
    "um_gol_de_dif = jogos_dif_de_gols[1];\n",
    "dois_gols_de_dif = jogos_dif_de_gols[2];\n",
    "print ()\n",
    "print (round(100*(empate)/match.shape[0],1), \"% das partidas terminam empatadas.\")\n",
    "print (\"(\",empate,\"em \",match.shape[0],\"jogos).\")\n",
    "print ()\n",
    "print (round(100*(um_gol_de_dif)/match.shape[0],1), \"% das partidas terminam com diferença de UM gol.\")\n",
    "print (\"(\",um_gol_de_dif,\"em \",match.shape[0],\"jogos).\")\n",
    "print ()\n",
    "print (round(100*(dois_gols_de_dif)/match.shape[0],1), \"% das partidas terminam com diferença de DOIS gols.\")\n",
    "print (\"(\",dois_gols_de_dif,\"em \",match.shape[0],\"jogos).\")"
   ]
  },
  {
   "cell_type": "markdown",
   "metadata": {},
   "source": [
    "## e por país?"
   ]
  },
  {
   "cell_type": "code",
   "execution_count": 20,
   "metadata": {
    "collapsed": false
   },
   "outputs": [
    {
     "data": {
      "text/html": [
       "<div>\n",
       "<table border=\"1\" class=\"dataframe\">\n",
       "  <thead>\n",
       "    <tr style=\"text-align: right;\">\n",
       "      <th></th>\n",
       "      <th></th>\n",
       "      <th>match_api_id</th>\n",
       "    </tr>\n",
       "    <tr>\n",
       "      <th>país</th>\n",
       "      <th>dif_gol</th>\n",
       "      <th></th>\n",
       "    </tr>\n",
       "  </thead>\n",
       "  <tbody>\n",
       "    <tr>\n",
       "      <th rowspan=\"5\" valign=\"top\">Belgium</th>\n",
       "      <th>0</th>\n",
       "      <td>425</td>\n",
       "    </tr>\n",
       "    <tr>\n",
       "      <th>1</th>\n",
       "      <td>634</td>\n",
       "    </tr>\n",
       "    <tr>\n",
       "      <th>2</th>\n",
       "      <td>412</td>\n",
       "    </tr>\n",
       "    <tr>\n",
       "      <th>3</th>\n",
       "      <td>162</td>\n",
       "    </tr>\n",
       "    <tr>\n",
       "      <th>4</th>\n",
       "      <td>62</td>\n",
       "    </tr>\n",
       "  </tbody>\n",
       "</table>\n",
       "</div>"
      ],
      "text/plain": [
       "                 match_api_id\n",
       "país    dif_gol              \n",
       "Belgium 0                 425\n",
       "        1                 634\n",
       "        2                 412\n",
       "        3                 162\n",
       "        4                  62"
      ]
     },
     "execution_count": 20,
     "metadata": {},
     "output_type": "execute_result"
    }
   ],
   "source": [
    "jogos_dif_de_gols_pais = match.groupby(['país','dif_gol']).count()['match_api_id']\n",
    "test = pd.DataFrame(jogos_dif_de_gols_pais)\n",
    "test.head()"
   ]
  },
  {
   "cell_type": "code",
   "execution_count": 21,
   "metadata": {
    "collapsed": false
   },
   "outputs": [],
   "source": [
    "test = test.reset_index().rename(columns={'país': 'pais'})"
   ]
  },
  {
   "cell_type": "code",
   "execution_count": 22,
   "metadata": {
    "collapsed": false
   },
   "outputs": [
    {
     "data": {
      "text/html": [
       "<div>\n",
       "<table border=\"1\" class=\"dataframe\">\n",
       "  <thead>\n",
       "    <tr style=\"text-align: right;\">\n",
       "      <th></th>\n",
       "      <th>pais</th>\n",
       "      <th>dif_gol</th>\n",
       "      <th>match_api_id</th>\n",
       "    </tr>\n",
       "  </thead>\n",
       "  <tbody>\n",
       "    <tr>\n",
       "      <th>0</th>\n",
       "      <td>Belgium</td>\n",
       "      <td>0</td>\n",
       "      <td>425</td>\n",
       "    </tr>\n",
       "    <tr>\n",
       "      <th>1</th>\n",
       "      <td>Belgium</td>\n",
       "      <td>1</td>\n",
       "      <td>634</td>\n",
       "    </tr>\n",
       "    <tr>\n",
       "      <th>2</th>\n",
       "      <td>Belgium</td>\n",
       "      <td>2</td>\n",
       "      <td>412</td>\n",
       "    </tr>\n",
       "    <tr>\n",
       "      <th>3</th>\n",
       "      <td>Belgium</td>\n",
       "      <td>3</td>\n",
       "      <td>162</td>\n",
       "    </tr>\n",
       "    <tr>\n",
       "      <th>4</th>\n",
       "      <td>Belgium</td>\n",
       "      <td>4</td>\n",
       "      <td>62</td>\n",
       "    </tr>\n",
       "  </tbody>\n",
       "</table>\n",
       "</div>"
      ],
      "text/plain": [
       "      pais  dif_gol  match_api_id\n",
       "0  Belgium        0           425\n",
       "1  Belgium        1           634\n",
       "2  Belgium        2           412\n",
       "3  Belgium        3           162\n",
       "4  Belgium        4            62"
      ]
     },
     "execution_count": 22,
     "metadata": {},
     "output_type": "execute_result"
    }
   ],
   "source": [
    "test.head()"
   ]
  },
  {
   "cell_type": "code",
   "execution_count": 23,
   "metadata": {
    "collapsed": false
   },
   "outputs": [
    {
     "data": {
      "text/html": [
       "<div>\n",
       "<table border=\"1\" class=\"dataframe\">\n",
       "  <thead>\n",
       "    <tr style=\"text-align: right;\">\n",
       "      <th></th>\n",
       "      <th>match_api_id</th>\n",
       "    </tr>\n",
       "    <tr>\n",
       "      <th>pais</th>\n",
       "      <th></th>\n",
       "    </tr>\n",
       "  </thead>\n",
       "  <tbody>\n",
       "    <tr>\n",
       "      <th>Belgium</th>\n",
       "      <td>1728</td>\n",
       "    </tr>\n",
       "    <tr>\n",
       "      <th>England</th>\n",
       "      <td>3006</td>\n",
       "    </tr>\n",
       "    <tr>\n",
       "      <th>France</th>\n",
       "      <td>3040</td>\n",
       "    </tr>\n",
       "    <tr>\n",
       "      <th>Germany</th>\n",
       "      <td>2448</td>\n",
       "    </tr>\n",
       "    <tr>\n",
       "      <th>Italy</th>\n",
       "      <td>3017</td>\n",
       "    </tr>\n",
       "    <tr>\n",
       "      <th>Netherlands</th>\n",
       "      <td>2448</td>\n",
       "    </tr>\n",
       "    <tr>\n",
       "      <th>Poland</th>\n",
       "      <td>1920</td>\n",
       "    </tr>\n",
       "    <tr>\n",
       "      <th>Portugal</th>\n",
       "      <td>2052</td>\n",
       "    </tr>\n",
       "    <tr>\n",
       "      <th>Scotland</th>\n",
       "      <td>1824</td>\n",
       "    </tr>\n",
       "    <tr>\n",
       "      <th>Spain</th>\n",
       "      <td>3040</td>\n",
       "    </tr>\n",
       "    <tr>\n",
       "      <th>Switzerland</th>\n",
       "      <td>1422</td>\n",
       "    </tr>\n",
       "  </tbody>\n",
       "</table>\n",
       "</div>"
      ],
      "text/plain": [
       "             match_api_id\n",
       "pais                     \n",
       "Belgium              1728\n",
       "England              3006\n",
       "France               3040\n",
       "Germany              2448\n",
       "Italy                3017\n",
       "Netherlands          2448\n",
       "Poland               1920\n",
       "Portugal             2052\n",
       "Scotland             1824\n",
       "Spain                3040\n",
       "Switzerland          1422"
      ]
     },
     "execution_count": 23,
     "metadata": {},
     "output_type": "execute_result"
    }
   ],
   "source": [
    "a = test[['pais','match_api_id']].groupby('pais').sum()\n",
    "a"
   ]
  },
  {
   "cell_type": "code",
   "execution_count": 24,
   "metadata": {
    "collapsed": false
   },
   "outputs": [],
   "source": [
    "test = test.merge(a[['match_api_id']],how='left',left_on='pais',right_on='pais',right_index=True)"
   ]
  },
  {
   "cell_type": "code",
   "execution_count": 25,
   "metadata": {
    "collapsed": false
   },
   "outputs": [
    {
     "data": {
      "text/html": [
       "<div>\n",
       "<table border=\"1\" class=\"dataframe\">\n",
       "  <thead>\n",
       "    <tr style=\"text-align: right;\">\n",
       "      <th></th>\n",
       "      <th>pais</th>\n",
       "      <th>dif_gol</th>\n",
       "      <th>match_api_id_x</th>\n",
       "      <th>match_api_id_y</th>\n",
       "    </tr>\n",
       "  </thead>\n",
       "  <tbody>\n",
       "    <tr>\n",
       "      <th>0</th>\n",
       "      <td>Belgium</td>\n",
       "      <td>0</td>\n",
       "      <td>425</td>\n",
       "      <td>1728</td>\n",
       "    </tr>\n",
       "    <tr>\n",
       "      <th>1</th>\n",
       "      <td>Belgium</td>\n",
       "      <td>1</td>\n",
       "      <td>634</td>\n",
       "      <td>1728</td>\n",
       "    </tr>\n",
       "    <tr>\n",
       "      <th>2</th>\n",
       "      <td>Belgium</td>\n",
       "      <td>2</td>\n",
       "      <td>412</td>\n",
       "      <td>1728</td>\n",
       "    </tr>\n",
       "    <tr>\n",
       "      <th>3</th>\n",
       "      <td>Belgium</td>\n",
       "      <td>3</td>\n",
       "      <td>162</td>\n",
       "      <td>1728</td>\n",
       "    </tr>\n",
       "    <tr>\n",
       "      <th>4</th>\n",
       "      <td>Belgium</td>\n",
       "      <td>4</td>\n",
       "      <td>62</td>\n",
       "      <td>1728</td>\n",
       "    </tr>\n",
       "  </tbody>\n",
       "</table>\n",
       "</div>"
      ],
      "text/plain": [
       "      pais  dif_gol  match_api_id_x  match_api_id_y\n",
       "0  Belgium        0             425            1728\n",
       "1  Belgium        1             634            1728\n",
       "2  Belgium        2             412            1728\n",
       "3  Belgium        3             162            1728\n",
       "4  Belgium        4              62            1728"
      ]
     },
     "execution_count": 25,
     "metadata": {},
     "output_type": "execute_result"
    }
   ],
   "source": [
    "test.head()"
   ]
  },
  {
   "cell_type": "code",
   "execution_count": 26,
   "metadata": {
    "collapsed": false
   },
   "outputs": [],
   "source": [
    "test['percent'] = test['match_api_id_x']/test['match_api_id_y']\n",
    "test = test[['pais','dif_gol','percent']]"
   ]
  },
  {
   "cell_type": "code",
   "execution_count": 27,
   "metadata": {
    "collapsed": false
   },
   "outputs": [
    {
     "name": "stdout",
     "output_type": "stream",
     "text": [
      "\n",
      "\n",
      "45.9 % das partidas são vencidas pelo time da casa.\n",
      "\n",
      "28.7 % das partidas são vencidas pelo time visitante.\n",
      "\n",
      "25.4 % são empates.\n",
      "\n",
      "\n"
     ]
    }
   ],
   "source": [
    "match['dif_gol'] = pd.Series(match['home_team_goal'] - match['away_team_goal'])\n",
    "\n",
    "match_casa = match[match['dif_gol']>0][['país','dif_gol','match_api_id']]\n",
    "match_fora = match[match['dif_gol']<0][['país','dif_gol','match_api_id']]\n",
    "\n",
    "print ()\n",
    "print ()\n",
    "print (round(100*(match_casa['match_api_id'].count())/match.shape[0],1), \"% das partidas são vencidas pelo time da casa.\")\n",
    "print ()\n",
    "print (round(100*(match_fora['match_api_id'].count())/match.shape[0],1), \"% das partidas são vencidas pelo time visitante.\")\n",
    "print ()\n",
    "partidas_por_dif_de_gols = match.groupby('dif_gol').count()['match_api_id']\n",
    "print (round(100*partidas_por_dif_de_gols[0]/match.shape[0],1), \"% são empates.\" )\n",
    "print ()\n",
    "print ()"
   ]
  },
  {
   "cell_type": "code",
   "execution_count": 28,
   "metadata": {
    "collapsed": false
   },
   "outputs": [
    {
     "data": {
      "text/html": [
       "<div>\n",
       "<table border=\"1\" class=\"dataframe\">\n",
       "  <thead>\n",
       "    <tr style=\"text-align: right;\">\n",
       "      <th></th>\n",
       "      <th>país</th>\n",
       "      <th>dif_gol</th>\n",
       "      <th>match_api_id</th>\n",
       "    </tr>\n",
       "  </thead>\n",
       "  <tbody>\n",
       "  </tbody>\n",
       "</table>\n",
       "</div>"
      ],
      "text/plain": [
       "Empty DataFrame\n",
       "Columns: [país, dif_gol, match_api_id]\n",
       "Index: []"
      ]
     },
     "execution_count": 28,
     "metadata": {},
     "output_type": "execute_result"
    }
   ],
   "source": [
    "match_casa.head(0)"
   ]
  },
  {
   "cell_type": "code",
   "execution_count": 29,
   "metadata": {
    "collapsed": false
   },
   "outputs": [
    {
     "data": {
      "text/html": [
       "\n",
       "\n",
       "    <div class=\"plotdiv\" id=\"7692530d-0ef1-451c-8968-068a234075cf\"></div>\n",
       "<script type=\"text/javascript\">\n",
       "  \n",
       "  (function(global) {\n",
       "    function now() {\n",
       "      return new Date();\n",
       "    }\n",
       "  \n",
       "    if (typeof (window._bokeh_onload_callbacks) === \"undefined\") {\n",
       "      window._bokeh_onload_callbacks = [];\n",
       "    }\n",
       "  \n",
       "    function run_callbacks() {\n",
       "      window._bokeh_onload_callbacks.forEach(function(callback) { callback() });\n",
       "      delete window._bokeh_onload_callbacks\n",
       "      console.info(\"Bokeh: all callbacks have finished\");\n",
       "    }\n",
       "  \n",
       "    function load_libs(js_urls, callback) {\n",
       "      window._bokeh_onload_callbacks.push(callback);\n",
       "      if (window._bokeh_is_loading > 0) {\n",
       "        console.log(\"Bokeh: BokehJS is being loaded, scheduling callback at\", now());\n",
       "        return null;\n",
       "      }\n",
       "      if (js_urls == null || js_urls.length === 0) {\n",
       "        run_callbacks();\n",
       "        return null;\n",
       "      }\n",
       "      console.log(\"Bokeh: BokehJS not loaded, scheduling load and callback at\", now());\n",
       "      window._bokeh_is_loading = js_urls.length;\n",
       "      for (var i = 0; i < js_urls.length; i++) {\n",
       "        var url = js_urls[i];\n",
       "        var s = document.createElement('script');\n",
       "        s.src = url;\n",
       "        s.async = false;\n",
       "        s.onreadystatechange = s.onload = function() {\n",
       "          window._bokeh_is_loading--;\n",
       "          if (window._bokeh_is_loading === 0) {\n",
       "            console.log(\"Bokeh: all BokehJS libraries loaded\");\n",
       "            run_callbacks()\n",
       "          }\n",
       "        };\n",
       "        s.onerror = function() {\n",
       "          console.warn(\"failed to load library \" + url);\n",
       "        };\n",
       "        console.log(\"Bokeh: injecting script tag for BokehJS library: \", url);\n",
       "        document.getElementsByTagName(\"head\")[0].appendChild(s);\n",
       "      }\n",
       "    };var element = document.getElementById(\"7692530d-0ef1-451c-8968-068a234075cf\");\n",
       "    if (element == null) {\n",
       "      console.log(\"Bokeh: ERROR: autoload.js configured with elementid '7692530d-0ef1-451c-8968-068a234075cf' but no matching script tag was found. \")\n",
       "      return false;\n",
       "    }\n",
       "  \n",
       "    var js_urls = [];\n",
       "  \n",
       "    var inline_js = [\n",
       "      function(Bokeh) {\n",
       "        Bokeh.$(function() {\n",
       "            var docs_json = {\"1a964f1a-1342-4429-b30e-ce2111b80949\":{\"roots\":{\"references\":[{\"attributes\":{\"fill_color\":{\"value\":\"blue\"},\"size\":{\"units\":\"screen\",\"value\":20},\"x\":{\"field\":\"x\"},\"y\":{\"field\":\"y\"}},\"id\":\"1851d111-368e-4847-b494-1593e5735c36\",\"type\":\"Circle\"},{\"attributes\":{\"overlay\":{\"id\":\"9b03c39e-de94-4ac8-8d31-2bd9cf5bfc19\",\"type\":\"BoxAnnotation\"},\"plot\":{\"id\":\"f8103876-7f50-4c2f-9579-c7feedc99ec6\",\"subtype\":\"Figure\",\"type\":\"Plot\"}},\"id\":\"9d7a1862-efd8-4d23-a364-2e0281f85f8f\",\"type\":\"BoxZoomTool\"},{\"attributes\":{\"axis_label\":\"DIFERENCA DE GOLS\",\"formatter\":{\"id\":\"a593a719-fc08-4c3a-bcaf-75ab51bdfce4\",\"type\":\"BasicTickFormatter\"},\"plot\":{\"id\":\"f8103876-7f50-4c2f-9579-c7feedc99ec6\",\"subtype\":\"Figure\",\"type\":\"Plot\"},\"ticker\":{\"id\":\"17aeabab-427b-43d7-8c08-c707f796e2ab\",\"type\":\"BasicTicker\"}},\"id\":\"80ce789b-6421-4c00-ae22-5548668328d3\",\"type\":\"LinearAxis\"},{\"attributes\":{\"bottom_units\":\"screen\",\"fill_alpha\":{\"value\":0.5},\"fill_color\":{\"value\":\"lightgrey\"},\"left_units\":\"screen\",\"level\":\"overlay\",\"line_alpha\":{\"value\":1.0},\"line_color\":{\"value\":\"black\"},\"line_dash\":[4,4],\"line_width\":{\"value\":2},\"plot\":null,\"render_mode\":\"css\",\"right_units\":\"screen\",\"top_units\":\"screen\"},\"id\":\"9b03c39e-de94-4ac8-8d31-2bd9cf5bfc19\",\"type\":\"BoxAnnotation\"},{\"attributes\":{},\"id\":\"17aeabab-427b-43d7-8c08-c707f796e2ab\",\"type\":\"BasicTicker\"},{\"attributes\":{},\"id\":\"d0c71547-8e4d-48e2-8b7a-8d196bb9eae8\",\"type\":\"BasicTicker\"},{\"attributes\":{},\"id\":\"a593a719-fc08-4c3a-bcaf-75ab51bdfce4\",\"type\":\"BasicTickFormatter\"},{\"attributes\":{\"below\":[{\"id\":\"80ce789b-6421-4c00-ae22-5548668328d3\",\"type\":\"LinearAxis\"}],\"left\":[{\"id\":\"8a62c810-c12a-47a0-9c39-e7db844ff264\",\"type\":\"LinearAxis\"}],\"renderers\":[{\"id\":\"80ce789b-6421-4c00-ae22-5548668328d3\",\"type\":\"LinearAxis\"},{\"id\":\"2861fd8e-8dfb-4fdd-8c81-f79b80895cb1\",\"type\":\"Grid\"},{\"id\":\"8a62c810-c12a-47a0-9c39-e7db844ff264\",\"type\":\"LinearAxis\"},{\"id\":\"eed337d3-cc54-43e9-89e7-c3004a297c95\",\"type\":\"Grid\"},{\"id\":\"9b03c39e-de94-4ac8-8d31-2bd9cf5bfc19\",\"type\":\"BoxAnnotation\"},{\"id\":\"3c144bef-27ae-40c8-8eab-98aeb1045b64\",\"type\":\"GlyphRenderer\"}],\"responsive\":true,\"title\":\"DIFEREN\\u00c7A DE GOLS POR PA\\u00cdS\",\"tool_events\":{\"id\":\"7e1b61b0-0e6e-40a9-b9f7-5cf1207e5a2c\",\"type\":\"ToolEvents\"},\"tools\":[{\"id\":\"9d7a1862-efd8-4d23-a364-2e0281f85f8f\",\"type\":\"BoxZoomTool\"},{\"id\":\"4f9802de-fdfa-442e-890d-0e89fb43dea9\",\"type\":\"PanTool\"},{\"id\":\"71eb8f75-550a-4b93-bd0e-3398ecd267b2\",\"type\":\"PreviewSaveTool\"},{\"id\":\"3b5848b9-6c4d-413b-8a38-56aa4d57bdeb\",\"type\":\"ResetTool\"},{\"id\":\"3180cde6-30b6-40da-a196-f69a5d88c20b\",\"type\":\"HoverTool\"}],\"x_range\":{\"id\":\"85a103a5-ab7d-453a-908c-1173c4deef3a\",\"type\":\"DataRange1d\"},\"y_range\":{\"id\":\"e052627a-3a30-4b9f-bace-02d45efb8926\",\"type\":\"DataRange1d\"}},\"id\":\"f8103876-7f50-4c2f-9579-c7feedc99ec6\",\"subtype\":\"Figure\",\"type\":\"Plot\"},{\"attributes\":{\"callback\":null},\"id\":\"85a103a5-ab7d-453a-908c-1173c4deef3a\",\"type\":\"DataRange1d\"},{\"attributes\":{\"dimension\":1,\"plot\":{\"id\":\"f8103876-7f50-4c2f-9579-c7feedc99ec6\",\"subtype\":\"Figure\",\"type\":\"Plot\"},\"ticker\":{\"id\":\"d0c71547-8e4d-48e2-8b7a-8d196bb9eae8\",\"type\":\"BasicTicker\"}},\"id\":\"eed337d3-cc54-43e9-89e7-c3004a297c95\",\"type\":\"Grid\"},{\"attributes\":{\"plot\":{\"id\":\"f8103876-7f50-4c2f-9579-c7feedc99ec6\",\"subtype\":\"Figure\",\"type\":\"Plot\"},\"ticker\":{\"id\":\"17aeabab-427b-43d7-8c08-c707f796e2ab\",\"type\":\"BasicTicker\"}},\"id\":\"2861fd8e-8dfb-4fdd-8c81-f79b80895cb1\",\"type\":\"Grid\"},{\"attributes\":{},\"id\":\"3251ef16-44d2-4080-afd2-eb703e7f487a\",\"type\":\"BasicTickFormatter\"},{\"attributes\":{\"fill_alpha\":{\"value\":0.1},\"fill_color\":{\"value\":\"#1f77b4\"},\"line_alpha\":{\"value\":0.1},\"line_color\":{\"value\":\"#1f77b4\"},\"size\":{\"units\":\"screen\",\"value\":20},\"x\":{\"field\":\"x\"},\"y\":{\"field\":\"y\"}},\"id\":\"08b66961-4559-4ad1-b4d5-29fc6431a722\",\"type\":\"Circle\"},{\"attributes\":{\"callback\":null,\"column_names\":[\"pais\",\"index\",\"dif_gol\",\"percent\",\"y\",\"x\"],\"data\":{\"dif_gol\":[0,1,2,3,4,5,6,7,0,1,2,3,4,5,6,7,8,0,1,2,3,4,5,6,9,0,1,2,3,4,5,6,7,8,0,1,2,3,4,5,6,7,0,1,2,3,4,5,6,7,10,0,1,2,3,4,5,6,0,1,2,3,4,5,6,7,0,1,2,3,4,5,6,7,9,0,1,2,3,4,5,6,7,8,0,1,2,3,4,5,6,7],\"index\":[0,1,2,3,4,5,6,7,8,9,10,11,12,13,14,15,16,17,18,19,20,21,22,23,24,25,26,27,28,29,30,31,32,33,34,35,36,37,38,39,40,41,42,43,44,45,46,47,48,49,50,51,52,53,54,55,56,57,58,59,60,61,62,63,64,65,66,67,68,69,70,71,72,73,74,75,76,77,78,79,80,81,82,83,84,85,86,87,88,89,90,91],\"pais\":[\"Belgium\",\"Belgium\",\"Belgium\",\"Belgium\",\"Belgium\",\"Belgium\",\"Belgium\",\"Belgium\",\"England\",\"England\",\"England\",\"England\",\"England\",\"England\",\"England\",\"England\",\"England\",\"France\",\"France\",\"France\",\"France\",\"France\",\"France\",\"France\",\"France\",\"Germany\",\"Germany\",\"Germany\",\"Germany\",\"Germany\",\"Germany\",\"Germany\",\"Germany\",\"Germany\",\"Italy\",\"Italy\",\"Italy\",\"Italy\",\"Italy\",\"Italy\",\"Italy\",\"Italy\",\"Netherlands\",\"Netherlands\",\"Netherlands\",\"Netherlands\",\"Netherlands\",\"Netherlands\",\"Netherlands\",\"Netherlands\",\"Netherlands\",\"Poland\",\"Poland\",\"Poland\",\"Poland\",\"Poland\",\"Poland\",\"Poland\",\"Portugal\",\"Portugal\",\"Portugal\",\"Portugal\",\"Portugal\",\"Portugal\",\"Portugal\",\"Portugal\",\"Scotland\",\"Scotland\",\"Scotland\",\"Scotland\",\"Scotland\",\"Scotland\",\"Scotland\",\"Scotland\",\"Scotland\",\"Spain\",\"Spain\",\"Spain\",\"Spain\",\"Spain\",\"Spain\",\"Spain\",\"Spain\",\"Spain\",\"Switzerland\",\"Switzerland\",\"Switzerland\",\"Switzerland\",\"Switzerland\",\"Switzerland\",\"Switzerland\",\"Switzerland\"],\"percent\":[0.24594907407407407,0.36689814814814814,0.23842592592592593,0.09375,0.03587962962962963,0.011574074074074073,0.006944444444444444,0.0005787037037037037,0.25848303393213573,0.37791084497671323,0.20658682634730538,0.09880239520958084,0.03592814371257485,0.014970059880239521,0.0053226879574184965,0.0006653359946773121,0.0013306719893546241,0.2825657894736842,0.3819078947368421,0.21710526315789475,0.07730263157894737,0.03256578947368421,0.007236842105263158,0.000986842105263158,0.0003289473684210526,0.24387254901960784,0.3472222222222222,0.22794117647058823,0.11070261437908496,0.049019607843137254,0.014705882352941176,0.003676470588235294,0.0024509803921568627,0.0004084967320261438,0.2638382499171362,0.3788531653960888,0.23268147166059,0.09115014915478953,0.02684786211468346,0.004308916141862778,0.0009943652635067948,0.001325820351342393,0.23733660130718953,0.3002450980392157,0.24959150326797386,0.12826797385620914,0.056372549019607844,0.017973856209150325,0.007761437908496732,0.002042483660130719,0.0004084967320261438,0.2734375,0.39010416666666664,0.21041666666666667,0.0875,0.028645833333333332,0.0078125,0.0020833333333333333,0.2597465886939571,0.39035087719298245,0.21442495126705652,0.07943469785575048,0.037037037037037035,0.015594541910331383,0.0029239766081871343,0.0004873294346978557,0.2450657894736842,0.3925438596491228,0.20339912280701755,0.09649122807017543,0.044407894736842105,0.01206140350877193,0.003837719298245614,0.001644736842105263,0.0005482456140350877,0.23157894736842105,0.3832236842105263,0.20657894736842106,0.1006578947368421,0.05098684210526316,0.016776315789473684,0.00625,0.001973684210526316,0.001973684210526316,0.24331926863572434,0.349507735583685,0.22573839662447256,0.10759493670886076,0.05414908579465542,0.011954992967651195,0.005625879043600563,0.002109704641350211],\"x\":[0,1,2,3,4,5,6,7,0,1,2,3,4,5,6,7,8,0,1,2,3,4,5,6,9,0,1,2,3,4,5,6,7,8,0,1,2,3,4,5,6,7,0,1,2,3,4,5,6,7,10,0,1,2,3,4,5,6,0,1,2,3,4,5,6,7,0,1,2,3,4,5,6,7,9,0,1,2,3,4,5,6,7,8,0,1,2,3,4,5,6,7],\"y\":[0.24594907407407407,0.36689814814814814,0.23842592592592593,0.09375,0.03587962962962963,0.011574074074074073,0.006944444444444444,0.0005787037037037037,0.25848303393213573,0.37791084497671323,0.20658682634730538,0.09880239520958084,0.03592814371257485,0.014970059880239521,0.0053226879574184965,0.0006653359946773121,0.0013306719893546241,0.2825657894736842,0.3819078947368421,0.21710526315789475,0.07730263157894737,0.03256578947368421,0.007236842105263158,0.000986842105263158,0.0003289473684210526,0.24387254901960784,0.3472222222222222,0.22794117647058823,0.11070261437908496,0.049019607843137254,0.014705882352941176,0.003676470588235294,0.0024509803921568627,0.0004084967320261438,0.2638382499171362,0.3788531653960888,0.23268147166059,0.09115014915478953,0.02684786211468346,0.004308916141862778,0.0009943652635067948,0.001325820351342393,0.23733660130718953,0.3002450980392157,0.24959150326797386,0.12826797385620914,0.056372549019607844,0.017973856209150325,0.007761437908496732,0.002042483660130719,0.0004084967320261438,0.2734375,0.39010416666666664,0.21041666666666667,0.0875,0.028645833333333332,0.0078125,0.0020833333333333333,0.2597465886939571,0.39035087719298245,0.21442495126705652,0.07943469785575048,0.037037037037037035,0.015594541910331383,0.0029239766081871343,0.0004873294346978557,0.2450657894736842,0.3925438596491228,0.20339912280701755,0.09649122807017543,0.044407894736842105,0.01206140350877193,0.003837719298245614,0.001644736842105263,0.0005482456140350877,0.23157894736842105,0.3832236842105263,0.20657894736842106,0.1006578947368421,0.05098684210526316,0.016776315789473684,0.00625,0.001973684210526316,0.001973684210526316,0.24331926863572434,0.349507735583685,0.22573839662447256,0.10759493670886076,0.05414908579465542,0.011954992967651195,0.005625879043600563,0.002109704641350211]}},\"id\":\"b235259b-26b3-4763-bc14-a7726a3feda9\",\"type\":\"ColumnDataSource\"},{\"attributes\":{\"callback\":null,\"plot\":{\"id\":\"f8103876-7f50-4c2f-9579-c7feedc99ec6\",\"subtype\":\"Figure\",\"type\":\"Plot\"},\"tooltips\":[[\"pais\",\"@pais\"]]},\"id\":\"3180cde6-30b6-40da-a196-f69a5d88c20b\",\"type\":\"HoverTool\"},{\"attributes\":{\"data_source\":{\"id\":\"b235259b-26b3-4763-bc14-a7726a3feda9\",\"type\":\"ColumnDataSource\"},\"glyph\":{\"id\":\"1851d111-368e-4847-b494-1593e5735c36\",\"type\":\"Circle\"},\"hover_glyph\":null,\"nonselection_glyph\":{\"id\":\"08b66961-4559-4ad1-b4d5-29fc6431a722\",\"type\":\"Circle\"},\"selection_glyph\":null},\"id\":\"3c144bef-27ae-40c8-8eab-98aeb1045b64\",\"type\":\"GlyphRenderer\"},{\"attributes\":{\"axis_label\":\"TOTAL DE PARTIDAS (PERCENTUAL)\",\"formatter\":{\"id\":\"3251ef16-44d2-4080-afd2-eb703e7f487a\",\"type\":\"BasicTickFormatter\"},\"plot\":{\"id\":\"f8103876-7f50-4c2f-9579-c7feedc99ec6\",\"subtype\":\"Figure\",\"type\":\"Plot\"},\"ticker\":{\"id\":\"d0c71547-8e4d-48e2-8b7a-8d196bb9eae8\",\"type\":\"BasicTicker\"}},\"id\":\"8a62c810-c12a-47a0-9c39-e7db844ff264\",\"type\":\"LinearAxis\"},{\"attributes\":{\"callback\":null},\"id\":\"e052627a-3a30-4b9f-bace-02d45efb8926\",\"type\":\"DataRange1d\"},{\"attributes\":{\"plot\":{\"id\":\"f8103876-7f50-4c2f-9579-c7feedc99ec6\",\"subtype\":\"Figure\",\"type\":\"Plot\"}},\"id\":\"71eb8f75-550a-4b93-bd0e-3398ecd267b2\",\"type\":\"PreviewSaveTool\"},{\"attributes\":{\"plot\":{\"id\":\"f8103876-7f50-4c2f-9579-c7feedc99ec6\",\"subtype\":\"Figure\",\"type\":\"Plot\"}},\"id\":\"4f9802de-fdfa-442e-890d-0e89fb43dea9\",\"type\":\"PanTool\"},{\"attributes\":{\"plot\":{\"id\":\"f8103876-7f50-4c2f-9579-c7feedc99ec6\",\"subtype\":\"Figure\",\"type\":\"Plot\"}},\"id\":\"3b5848b9-6c4d-413b-8a38-56aa4d57bdeb\",\"type\":\"ResetTool\"},{\"attributes\":{},\"id\":\"7e1b61b0-0e6e-40a9-b9f7-5cf1207e5a2c\",\"type\":\"ToolEvents\"}],\"root_ids\":[\"f8103876-7f50-4c2f-9579-c7feedc99ec6\"]},\"title\":\"Bokeh Application\",\"version\":\"0.11.1\"}};\n",
       "            var render_items = [{\"docid\":\"1a964f1a-1342-4429-b30e-ce2111b80949\",\"elementid\":\"7692530d-0ef1-451c-8968-068a234075cf\",\"modelid\":\"f8103876-7f50-4c2f-9579-c7feedc99ec6\",\"notebook_comms_target\":\"08b7d494-555f-45c3-8140-abfba64ffe0c\"}];\n",
       "            \n",
       "            Bokeh.embed.embed_items(docs_json, render_items);\n",
       "        });\n",
       "      },\n",
       "      function(Bokeh) {\n",
       "      }\n",
       "    ];\n",
       "  \n",
       "    function run_inline_js() {\n",
       "      for (var i = 0; i < inline_js.length; i++) {\n",
       "        inline_js[i](window.Bokeh);\n",
       "      }\n",
       "    }\n",
       "  \n",
       "    if (window._bokeh_is_loading === 0) {\n",
       "      console.log(\"Bokeh: BokehJS loaded, going straight to plotting\");\n",
       "      run_inline_js();\n",
       "    } else {\n",
       "      load_libs(js_urls, function() {\n",
       "        console.log(\"Bokeh: BokehJS plotting callback run at\", now());\n",
       "        run_inline_js();\n",
       "      });\n",
       "    }\n",
       "  }(this));\n",
       "</script>"
      ]
     },
     "metadata": {},
     "output_type": "display_data"
    },
    {
     "data": {
      "text/html": [
       "<p><code>&lt;Bokeh Notebook handle for <strong>In[29]</strong>&gt;</code></p>"
      ],
      "text/plain": [
       "<bokeh.io._CommsHandle at 0x15e6f588>"
      ]
     },
     "execution_count": 29,
     "metadata": {},
     "output_type": "execute_result"
    }
   ],
   "source": [
    "tools = 'box_zoom, pan, save, reset'\n",
    "fig = figure(tools=tools, title='DIFERENÇA DE GOLS POR PAÍS', responsive=True,\n",
    "             x_axis_label='DIFERENCA DE GOLS', y_axis_label='TOTAL DE PARTIDAS (PERCENTUAL)')\n",
    "\n",
    "source = ColumnDataSource(test)\n",
    "hover = HoverTool()\n",
    "hover.tooltips=[('pais','@pais')]\n",
    "fig.scatter(test['dif_gol'], test['percent'], source=source, size=20, alpha=1, line_color='black', fill_color='blue')\n",
    "\n",
    "fig.add_tools(hover)\n",
    "\n",
    "show(fig)"
   ]
  },
  {
   "cell_type": "markdown",
   "metadata": {},
   "source": [
    "## Perguntas:\n",
    "\n",
    "    * Qual percentual de partidas são empates (e por país)?"
   ]
  },
  {
   "cell_type": "code",
   "execution_count": 30,
   "metadata": {
    "collapsed": false
   },
   "outputs": [],
   "source": [
    "a = pd.DataFrame(match.groupby(['país','dif_gol']).count()['match_api_id']).reset_index()\n",
    "b = pd.DataFrame(match.groupby(['país']).count()['match_api_id'])"
   ]
  },
  {
   "cell_type": "code",
   "execution_count": 31,
   "metadata": {
    "collapsed": false
   },
   "outputs": [
    {
     "data": {
      "text/html": [
       "<div>\n",
       "<table border=\"1\" class=\"dataframe\">\n",
       "  <thead>\n",
       "    <tr style=\"text-align: right;\">\n",
       "      <th></th>\n",
       "      <th>país</th>\n",
       "      <th>dif_gol</th>\n",
       "      <th>match_api_id</th>\n",
       "    </tr>\n",
       "  </thead>\n",
       "  <tbody>\n",
       "    <tr>\n",
       "      <th>0</th>\n",
       "      <td>Belgium</td>\n",
       "      <td>-6</td>\n",
       "      <td>4</td>\n",
       "    </tr>\n",
       "    <tr>\n",
       "      <th>1</th>\n",
       "      <td>Belgium</td>\n",
       "      <td>-5</td>\n",
       "      <td>3</td>\n",
       "    </tr>\n",
       "  </tbody>\n",
       "</table>\n",
       "</div>"
      ],
      "text/plain": [
       "      país  dif_gol  match_api_id\n",
       "0  Belgium       -6             4\n",
       "1  Belgium       -5             3"
      ]
     },
     "execution_count": 31,
     "metadata": {},
     "output_type": "execute_result"
    }
   ],
   "source": [
    "a.head(2)"
   ]
  },
  {
   "cell_type": "code",
   "execution_count": 32,
   "metadata": {
    "collapsed": false
   },
   "outputs": [],
   "source": [
    "novo = a.merge(b[['match_api_id']], how='left',left_on='país',right_on='país',right_index=True)"
   ]
  },
  {
   "cell_type": "code",
   "execution_count": 33,
   "metadata": {
    "collapsed": false
   },
   "outputs": [
    {
     "name": "stdout",
     "output_type": "stream",
     "text": [
      "\n",
      "Países com MAIOR incidência de empates: France e Poland\n",
      "\n",
      "Países com MENOR incidência de empates: Spain e Netherlands\n",
      "\n"
     ]
    },
    {
     "data": {
      "image/png": "[encoded data removed]",
      "text/plain": [
       "<matplotlib.figure.Figure at 0xc073978>"
      ]
     },
     "metadata": {},
     "output_type": "display_data"
    }
   ],
   "source": [
    "novo['percent']=novo['match_api_id_x']/novo['match_api_id_y']\n",
    "graf = novo[novo['dif_gol']==0][['país','percent']]\n",
    "graf['dif'] = graf['percent']-0.254 #0,254 é o percentual total de empates em todas as ligas (aqui estou pegando os desvios)\n",
    "graf.plot(kind='bar',figsize=(15,6), color = 'b', x='país',y='dif')\n",
    "print()\n",
    "print(\"Países com MAIOR incidência de empates: France e Poland\")\n",
    "print()\n",
    "print(\"Países com MENOR incidência de empates: Spain e Netherlands\")\n",
    "print()"
   ]
  },
  {
   "cell_type": "code",
   "execution_count": 34,
   "metadata": {
    "collapsed": false
   },
   "outputs": [
    {
     "data": {
      "text/html": [
       "<div>\n",
       "<table border=\"1\" class=\"dataframe\">\n",
       "  <thead>\n",
       "    <tr style=\"text-align: right;\">\n",
       "      <th></th>\n",
       "      <th>país</th>\n",
       "      <th>percent</th>\n",
       "      <th>dif</th>\n",
       "    </tr>\n",
       "  </thead>\n",
       "  <tbody>\n",
       "    <tr>\n",
       "      <th>6</th>\n",
       "      <td>Belgium</td>\n",
       "      <td>0.245949</td>\n",
       "      <td>-0.008051</td>\n",
       "    </tr>\n",
       "    <tr>\n",
       "      <th>20</th>\n",
       "      <td>England</td>\n",
       "      <td>0.258483</td>\n",
       "      <td>0.004483</td>\n",
       "    </tr>\n",
       "    <tr>\n",
       "      <th>35</th>\n",
       "      <td>France</td>\n",
       "      <td>0.282566</td>\n",
       "      <td>0.028566</td>\n",
       "    </tr>\n",
       "    <tr>\n",
       "      <th>49</th>\n",
       "      <td>Germany</td>\n",
       "      <td>0.243873</td>\n",
       "      <td>-0.010127</td>\n",
       "    </tr>\n",
       "    <tr>\n",
       "      <th>64</th>\n",
       "      <td>Italy</td>\n",
       "      <td>0.263838</td>\n",
       "      <td>0.009838</td>\n",
       "    </tr>\n",
       "    <tr>\n",
       "      <th>78</th>\n",
       "      <td>Netherlands</td>\n",
       "      <td>0.237337</td>\n",
       "      <td>-0.016663</td>\n",
       "    </tr>\n",
       "    <tr>\n",
       "      <th>93</th>\n",
       "      <td>Poland</td>\n",
       "      <td>0.273438</td>\n",
       "      <td>0.019437</td>\n",
       "    </tr>\n",
       "    <tr>\n",
       "      <th>106</th>\n",
       "      <td>Portugal</td>\n",
       "      <td>0.259747</td>\n",
       "      <td>0.005747</td>\n",
       "    </tr>\n",
       "    <tr>\n",
       "      <th>120</th>\n",
       "      <td>Scotland</td>\n",
       "      <td>0.245066</td>\n",
       "      <td>-0.008934</td>\n",
       "    </tr>\n",
       "    <tr>\n",
       "      <th>137</th>\n",
       "      <td>Spain</td>\n",
       "      <td>0.231579</td>\n",
       "      <td>-0.022421</td>\n",
       "    </tr>\n",
       "    <tr>\n",
       "      <th>153</th>\n",
       "      <td>Switzerland</td>\n",
       "      <td>0.243319</td>\n",
       "      <td>-0.010681</td>\n",
       "    </tr>\n",
       "  </tbody>\n",
       "</table>\n",
       "</div>"
      ],
      "text/plain": [
       "            país   percent       dif\n",
       "6        Belgium  0.245949 -0.008051\n",
       "20       England  0.258483  0.004483\n",
       "35        France  0.282566  0.028566\n",
       "49       Germany  0.243873 -0.010127\n",
       "64         Italy  0.263838  0.009838\n",
       "78   Netherlands  0.237337 -0.016663\n",
       "93        Poland  0.273438  0.019437\n",
       "106     Portugal  0.259747  0.005747\n",
       "120     Scotland  0.245066 -0.008934\n",
       "137        Spain  0.231579 -0.022421\n",
       "153  Switzerland  0.243319 -0.010681"
      ]
     },
     "execution_count": 34,
     "metadata": {},
     "output_type": "execute_result"
    }
   ],
   "source": [
    "graf"
   ]
  },
  {
   "cell_type": "markdown",
   "metadata": {},
   "source": [
    "## T-SNE dos scouts dos jogadores:\n",
    "https://en.wikipedia.org/wiki/T-distributed_stochastic_neighbor_embedding"
   ]
  },
  {
   "cell_type": "code",
   "execution_count": 35,
   "metadata": {
    "collapsed": false
   },
   "outputs": [
    {
     "name": "stdout",
     "output_type": "stream",
     "text": [
      "<class 'pandas.core.frame.DataFrame'>\n",
      "Int64Index: 7676 entries, 1312 to 76345\n",
      "Data columns (total 38 columns):\n",
      "player_api_id         7676 non-null int64\n",
      "overall_rating        7676 non-null float64\n",
      "potential             7676 non-null float64\n",
      "crossing              7676 non-null float64\n",
      "finishing             7676 non-null float64\n",
      "heading_accuracy      7676 non-null float64\n",
      "short_passing         7676 non-null float64\n",
      "volleys               7676 non-null float64\n",
      "dribbling             7676 non-null float64\n",
      "curve                 7676 non-null float64\n",
      "free_kick_accuracy    7676 non-null float64\n",
      "long_passing          7676 non-null float64\n",
      "ball_control          7676 non-null float64\n",
      "acceleration          7676 non-null float64\n",
      "sprint_speed          7676 non-null float64\n",
      "agility               7676 non-null float64\n",
      "reactions             7676 non-null float64\n",
      "balance               7676 non-null float64\n",
      "shot_power            7676 non-null float64\n",
      "jumping               7676 non-null float64\n",
      "stamina               7676 non-null float64\n",
      "strength              7676 non-null float64\n",
      "long_shots            7676 non-null float64\n",
      "aggression            7676 non-null float64\n",
      "interceptions         7676 non-null float64\n",
      "positioning           7676 non-null float64\n",
      "vision                7676 non-null float64\n",
      "penalties             7676 non-null float64\n",
      "marking               7676 non-null float64\n",
      "standing_tackle       7676 non-null float64\n",
      "sliding_tackle        7676 non-null float64\n",
      "gk_diving             7676 non-null float64\n",
      "gk_handling           7676 non-null float64\n",
      "gk_kicking            7676 non-null float64\n",
      "gk_positioning        7676 non-null float64\n",
      "gk_reflexes           7676 non-null float64\n",
      "player_name           7676 non-null object\n",
      "p_id                  7676 non-null int64\n",
      "dtypes: float64(35), int64(2), object(1)\n",
      "memory usage: 2.3+ MB\n"
     ]
    }
   ],
   "source": [
    "query = \"\"\"SELECT * FROM Player_Stats a\n",
    "           INNER JOIN (SELECT player_name, player_api_id AS p_id FROM Player) b ON a.player_api_id = b.p_id;\"\"\"\n",
    "\n",
    "drop_cols = ['id','player_fifa_api_id','date_stat','preferred_foot','attacking_work_rate','defensive_work_rate']\n",
    "\n",
    "players = pd.read_sql(query, conn)\n",
    "players['date_stat'] = pd.to_datetime(players['date_stat'])\n",
    "players = players[players.date_stat > pd.datetime(2015,1,1)]\n",
    "players = players[~players.overall_rating.isnull()].sort_values('date_stat', ascending=False)\n",
    "players = players.drop_duplicates(subset='player_api_id', keep='first')\n",
    "players = players.drop(drop_cols, axis=1)\n",
    "\n",
    "players.info()"
   ]
  },
  {
   "cell_type": "code",
   "execution_count": 36,
   "metadata": {
    "collapsed": false
   },
   "outputs": [],
   "source": [
    "players = players.fillna(0)\n",
    "\n",
    "cols = ['player_api_id','player_name','overall_rating','potential']\n",
    "stats_cols = [col for col in players.columns if col not in (cols)]"
   ]
  },
  {
   "cell_type": "code",
   "execution_count": 37,
   "metadata": {
    "collapsed": false
   },
   "outputs": [
    {
     "data": {
      "text/plain": [
       "list"
      ]
     },
     "execution_count": 37,
     "metadata": {},
     "output_type": "execute_result"
    }
   ],
   "source": [
    "type(cols)"
   ]
  },
  {
   "cell_type": "code",
   "execution_count": 38,
   "metadata": {
    "collapsed": true
   },
   "outputs": [],
   "source": [
    "ss = StandardScaler()\n",
    "tmp = ss.fit_transform(players[stats_cols])\n",
    "model = TSNE(n_components=2, random_state=0)\n",
    "tsne_comp = model.fit_transform(tmp)"
   ]
  },
  {
   "cell_type": "code",
   "execution_count": 39,
   "metadata": {
    "collapsed": false,
    "scrolled": false
   },
   "outputs": [
    {
     "name": "stderr",
     "output_type": "stream",
     "text": [
      "C:\\Users\\renato.aranha\\AppData\\Local\\Continuum\\Anaconda3\\lib\\site-packages\\ipykernel\\__main__.py:2: SettingWithCopyWarning: \n",
      "A value is trying to be set on a copy of a slice from a DataFrame.\n",
      "Try using .loc[row_indexer,col_indexer] = value instead\n",
      "\n",
      "See the caveats in the documentation: http://pandas.pydata.org/pandas-docs/stable/indexing.html#indexing-view-versus-copy\n",
      "  from ipykernel import kernelapp as app\n"
     ]
    },
    {
     "data": {
      "text/html": [
       "\n",
       "\n",
       "    <div class=\"plotdiv\" id=\"9c68135e-8bdf-47e9-9654-ae3b98a933fa\"></div>\n",
       "<script type=\"text/javascript\">\n",
       "  \n",
       "  (function(global) {\n",
       "    function now() {\n",
       "      return new Date();\n",
       "    }\n",
       "  \n",
       "    if (typeof (window._bokeh_onload_callbacks) === \"undefined\") {\n",
       "      window._bokeh_onload_callbacks = [];\n",
       "    }\n",
       "  \n",
       "    function run_callbacks() {\n",
       "      window._bokeh_onload_callbacks.forEach(function(callback) { callback() });\n",
       "      delete window._bokeh_onload_callbacks\n",
       "      console.info(\"Bokeh: all callbacks have finished\");\n",
       "    }\n",
       "  \n",
       "    function load_libs(js_urls, callback) {\n",
       "      window._bokeh_onload_callbacks.push(callback);\n",
       "      if (window._bokeh_is_loading > 0) {\n",
       "        console.log(\"Bokeh: BokehJS is being loaded, scheduling callback at\", now());\n",
       "        return null;\n",
       "      }\n",
       "      if (js_urls == null || js_urls.length === 0) {\n",
       "        run_callbacks();\n",
       "        return null;\n",
       "      }\n",
       "      console.log(\"Bokeh: BokehJS not loaded, scheduling load and callback at\", now());\n",
       "      window._bokeh_is_loading = js_urls.length;\n",
       "      for (var i = 0; i < js_urls.length; i++) {\n",
       "        var url = js_urls[i];\n",
       "        var s = document.createElement('script');\n",
       "        s.src = url;\n",
       "        s.async = false;\n",
       "        s.onreadystatechange = s.onload = function() {\n",
       "          window._bokeh_is_loading--;\n",
       "          if (window._bokeh_is_loading === 0) {\n",
       "            console.log(\"Bokeh: all BokehJS libraries loaded\");\n",
       "            run_callbacks()\n",
       "          }\n",
       "        };\n",
       "        s.onerror = function() {\n",
       "          console.warn(\"failed to load library \" + url);\n",
       "        };\n",
       "        console.log(\"Bokeh: injecting script tag for BokehJS library: \", url);\n",
       "        document.getElementsByTagName(\"head\")[0].appendChild(s);\n",
       "      }\n",
       "    };var element = document.getElementById(\"9c68135e-8bdf-47e9-9654-ae3b98a933fa\");\n",
       "    if (element == null) {\n",
       "      console.log(\"Bokeh: ERROR: autoload.js configured with elementid '9c68135e-8bdf-47e9-9654-ae3b98a933fa' but no matching script tag was found. \")\n",
       "      return false;\n",
       "    }\n",
       "  \n",
       "    var js_urls = [];\n",
       "  \n",
       "    var inline_js = [\n",
       "      function(Bokeh) {\n",
       "        Bokeh.$(function() {\n",
       "            var docs_json = {\"3b78d6be-47c3-4e83-9f44-9a6aa8e1a0cf\":{\"roots\":{\"references\":[{\"attributes\":{\"below\":[{\"id\":\"920e20c2-a984-483f-aca8-87882bc67fc8\",\"type\":\"LinearAxis\"}],\"left\":[{\"id\":\"90337d6b-9555-4311-8c4c-f885a2330b40\",\"type\":\"LinearAxis\"}],\"renderers\":[{\"id\":\"920e20c2-a984-483f-aca8-87882bc67fc8\",\"type\":\"LinearAxis\"},{\"id\":\"e939ba37-1a99-4cf4-ac6d-4804a80d14a6\",\"type\":\"Grid\"},{\"id\":\"90337d6b-9555-4311-8c4c-f885a2330b40\",\"type\":\"LinearAxis\"},{\"id\":\"06a7f54a-9f5a-4f11-b290-98134561cf2d\",\"type\":\"Grid\"},{\"id\":\"8fa24edf-4c97-420b-ab44-eb48cef742c0\",\"type\":\"BoxAnnotation\"},{\"id\":\"df9055fc-d86a-4a87-a31c-d253d4ef450b\",\"type\":\"GlyphRenderer\"}],\"responsive\":true,\"title\":\"t-SNE\",\"tool_events\":{\"id\":\"1743f135-4868-4e85-b38e-ec76fc2613ca\",\"type\":\"ToolEvents\"},\"tools\":[{\"id\":\"644a53d9-947a-4eb3-b895-182bd56504f5\",\"type\":\"BoxZoomTool\"},{\"id\":\"2e4f4349-561c-49ca-a60f-ba92ef6c0c34\",\"type\":\"PanTool\"},{\"id\":\"583f526b-f8dc-43af-8362-f52e30d45616\",\"type\":\"PreviewSaveTool\"},{\"id\":\"b1b94a96-457b-4940-a8ae-b32ab404bbe9\",\"type\":\"ResetTool\"},{\"id\":\"cfa97158-254d-4f64-9e6e-3a05a18b3d16\",\"type\":\"HoverTool\"}],\"x_range\":{\"id\":\"3ae81da9-3437-4d71-bade-287a037801d9\",\"type\":\"DataRange1d\"},\"y_range\":{\"id\":\"99ec1afa-f9d1-4cb9-b3d8-e41f033d1f60\",\"type\":\"DataRange1d\"}},\"id\":\"1fae314f-5af9-4416-9a56-9377734288d6\",\"subtype\":\"Figure\",\"type\":\"Plot\"},{\"attributes\":{\"axis_label\":\"DIFERENCA DE GOLS\",\"formatter\":{\"id\":\"a593a719-fc08-4c3a-bcaf-75ab51bdfce4\",\"type\":\"BasicTickFormatter\"},\"plot\":{\"id\":\"f8103876-7f50-4c2f-9579-c7feedc99ec6\",\"subtype\":\"Figure\",\"type\":\"Plot\"},\"ticker\":{\"id\":\"17aeabab-427b-43d7-8c08-c707f796e2ab\",\"type\":\"BasicTicker\"}},\"id\":\"80ce789b-6421-4c00-ae22-5548668328d3\",\"type\":\"LinearAxis\"},{\"attributes\":{\"plot\":{\"id\":\"f8103876-7f50-4c2f-9579-c7feedc99ec6\",\"subtype\":\"Figure\",\"type\":\"Plot\"}},\"id\":\"3b5848b9-6c4d-413b-8a38-56aa4d57bdeb\",\"type\":\"ResetTool\"},{\"attributes\":{\"plot\":{\"id\":\"1fae314f-5af9-4416-9a56-9377734288d6\",\"subtype\":\"Figure\",\"type\":\"Plot\"}},\"id\":\"2e4f4349-561c-49ca-a60f-ba92ef6c0c34\",\"type\":\"PanTool\"},{\"attributes\":{},\"id\":\"d0c71547-8e4d-48e2-8b7a-8d196bb9eae8\",\"type\":\"BasicTicker\"},{\"attributes\":{\"plot\":{\"id\":\"1fae314f-5af9-4416-9a56-9377734288d6\",\"subtype\":\"Figure\",\"type\":\"Plot\"},\"ticker\":{\"id\":\"4be3444b-8e2b-49fc-badf-47b0f383ada9\",\"type\":\"BasicTicker\"}},\"id\":\"e939ba37-1a99-4cf4-ac6d-4804a80d14a6\",\"type\":\"Grid\"},{\"attributes\":{\"overlay\":{\"id\":\"9b03c39e-de94-4ac8-8d31-2bd9cf5bfc19\",\"type\":\"BoxAnnotation\"},\"plot\":{\"id\":\"f8103876-7f50-4c2f-9579-c7feedc99ec6\",\"subtype\":\"Figure\",\"type\":\"Plot\"}},\"id\":\"9d7a1862-efd8-4d23-a364-2e0281f85f8f\",\"type\":\"BoxZoomTool\"},{\"attributes\":{\"dimension\":1,\"plot\":{\"id\":\"f8103876-7f50-4c2f-9579-c7feedc99ec6\",\"subtype\":\"Figure\",\"type\":\"Plot\"},\"ticker\":{\"id\":\"d0c71547-8e4d-48e2-8b7a-8d196bb9eae8\",\"type\":\"BasicTicker\"}},\"id\":\"eed337d3-cc54-43e9-89e7-c3004a297c95\",\"type\":\"Grid\"},{\"attributes\":{\"callback\":null},\"id\":\"99ec1afa-f9d1-4cb9-b3d8-e41f033d1f60\",\"type\":\"DataRange1d\"},{\"attributes\":{\"bottom_units\":\"screen\",\"fill_alpha\":{\"value\":0.5},\"fill_color\":{\"value\":\"lightgrey\"},\"left_units\":\"screen\",\"level\":\"overlay\",\"line_alpha\":{\"value\":1.0},\"line_color\":{\"value\":\"black\"},\"line_dash\":[4,4],\"line_width\":{\"value\":2},\"plot\":null,\"render_mode\":\"css\",\"right_units\":\"screen\",\"top_units\":\"screen\"},\"id\":\"8fa24edf-4c97-420b-ab44-eb48cef742c0\",\"type\":\"BoxAnnotation\"},{\"attributes\":{\"axis_label\":\"TOTAL DE PARTIDAS (PERCENTUAL)\",\"formatter\":{\"id\":\"3251ef16-44d2-4080-afd2-eb703e7f487a\",\"type\":\"BasicTickFormatter\"},\"plot\":{\"id\":\"f8103876-7f50-4c2f-9579-c7feedc99ec6\",\"subtype\":\"Figure\",\"type\":\"Plot\"},\"ticker\":{\"id\":\"d0c71547-8e4d-48e2-8b7a-8d196bb9eae8\",\"type\":\"BasicTicker\"}},\"id\":\"8a62c810-c12a-47a0-9c39-e7db844ff264\",\"type\":\"LinearAxis\"},{\"attributes\":{\"callback\":null,\"plot\":{\"id\":\"f8103876-7f50-4c2f-9579-c7feedc99ec6\",\"subtype\":\"Figure\",\"type\":\"Plot\"},\"tooltips\":[[\"pais\",\"@pais\"]]},\"id\":\"3180cde6-30b6-40da-a196-f69a5d88c20b\",\"type\":\"HoverTool\"},{\"attributes\":{},\"id\":\"1743f135-4868-4e85-b38e-ec76fc2613ca\",\"type\":\"ToolEvents\"},{\"attributes\":{\"data_source\":{\"id\":\"b235259b-26b3-4763-bc14-a7726a3feda9\",\"type\":\"ColumnDataSource\"},\"glyph\":{\"id\":\"1851d111-368e-4847-b494-1593e5735c36\",\"type\":\"Circle\"},\"hover_glyph\":null,\"nonselection_glyph\":{\"id\":\"08b66961-4559-4ad1-b4d5-29fc6431a722\",\"type\":\"Circle\"},\"selection_glyph\":null},\"id\":\"3c144bef-27ae-40c8-8eab-98aeb1045b64\",\"type\":\"GlyphRenderer\"},{\"attributes\":{\"fill_alpha\":{\"value\":0.1},\"fill_color\":{\"value\":\"#1f77b4\"},\"line_alpha\":{\"value\":0.1},\"line_color\":{\"value\":\"#1f77b4\"},\"size\":{\"units\":\"screen\",\"value\":10},\"x\":{\"field\":\"x\"},\"y\":{\"field\":\"y\"}},\"id\":\"44f1e6ca-dc46-426a-8649-c8f1340b5809\",\"type\":\"Circle\"},{\"attributes\":{},\"id\":\"7e1b61b0-0e6e-40a9-b9f7-5cf1207e5a2c\",\"type\":\"ToolEvents\"},{\"attributes\":{\"callback\":null},\"id\":\"3ae81da9-3437-4d71-bade-287a037801d9\",\"type\":\"DataRange1d\"},{\"attributes\":{\"fill_color\":{\"value\":\"blue\"},\"size\":{\"units\":\"screen\",\"value\":20},\"x\":{\"field\":\"x\"},\"y\":{\"field\":\"y\"}},\"id\":\"1851d111-368e-4847-b494-1593e5735c36\",\"type\":\"Circle\"},{\"attributes\":{},\"id\":\"a93e7d50-3144-4c0a-95ef-f7588caedc78\",\"type\":\"BasicTickFormatter\"},{\"attributes\":{\"plot\":{\"id\":\"1fae314f-5af9-4416-9a56-9377734288d6\",\"subtype\":\"Figure\",\"type\":\"Plot\"}},\"id\":\"b1b94a96-457b-4940-a8ae-b32ab404bbe9\",\"type\":\"ResetTool\"},{\"attributes\":{},\"id\":\"17aeabab-427b-43d7-8c08-c707f796e2ab\",\"type\":\"BasicTicker\"},{\"attributes\":{\"bottom_units\":\"screen\",\"fill_alpha\":{\"value\":0.5},\"fill_color\":{\"value\":\"lightgrey\"},\"left_units\":\"screen\",\"level\":\"overlay\",\"line_alpha\":{\"value\":1.0},\"line_color\":{\"value\":\"black\"},\"line_dash\":[4,4],\"line_width\":{\"value\":2},\"plot\":null,\"render_mode\":\"css\",\"right_units\":\"screen\",\"top_units\":\"screen\"},\"id\":\"9b03c39e-de94-4ac8-8d31-2bd9cf5bfc19\",\"type\":\"BoxAnnotation\"},{\"attributes\":{\"data_source\":{\"id\":\"66f090c2-7f3b-4f62-b898-51ee931f1555\",\"type\":\"ColumnDataSource\"},\"glyph\":{\"id\":\"a8533673-8899-42bd-9d87-eb296e1535a3\",\"type\":\"Circle\"},\"hover_glyph\":null,\"nonselection_glyph\":{\"id\":\"44f1e6ca-dc46-426a-8649-c8f1340b5809\",\"type\":\"Circle\"},\"selection_glyph\":null},\"id\":\"df9055fc-d86a-4a87-a31c-d253d4ef450b\",\"type\":\"GlyphRenderer\"},{\"attributes\":{},\"id\":\"36928a9e-7fb3-457c-b9a1-a612546d4b53\",\"type\":\"BasicTicker\"},{\"attributes\":{},\"id\":\"a593a719-fc08-4c3a-bcaf-75ab51bdfce4\",\"type\":\"BasicTickFormatter\"},{\"attributes\":{},\"id\":\"4be3444b-8e2b-49fc-badf-47b0f383ada9\",\"type\":\"BasicTicker\"},{\"attributes\":{\"below\":[{\"id\":\"80ce789b-6421-4c00-ae22-5548668328d3\",\"type\":\"LinearAxis\"}],\"left\":[{\"id\":\"8a62c810-c12a-47a0-9c39-e7db844ff264\",\"type\":\"LinearAxis\"}],\"renderers\":[{\"id\":\"80ce789b-6421-4c00-ae22-5548668328d3\",\"type\":\"LinearAxis\"},{\"id\":\"2861fd8e-8dfb-4fdd-8c81-f79b80895cb1\",\"type\":\"Grid\"},{\"id\":\"8a62c810-c12a-47a0-9c39-e7db844ff264\",\"type\":\"LinearAxis\"},{\"id\":\"eed337d3-cc54-43e9-89e7-c3004a297c95\",\"type\":\"Grid\"},{\"id\":\"9b03c39e-de94-4ac8-8d31-2bd9cf5bfc19\",\"type\":\"BoxAnnotation\"},{\"id\":\"3c144bef-27ae-40c8-8eab-98aeb1045b64\",\"type\":\"GlyphRenderer\"}],\"responsive\":true,\"title\":\"DIFEREN\\u00c7A DE GOLS POR PA\\u00cdS\",\"tool_events\":{\"id\":\"7e1b61b0-0e6e-40a9-b9f7-5cf1207e5a2c\",\"type\":\"ToolEvents\"},\"tools\":[{\"id\":\"9d7a1862-efd8-4d23-a364-2e0281f85f8f\",\"type\":\"BoxZoomTool\"},{\"id\":\"4f9802de-fdfa-442e-890d-0e89fb43dea9\",\"type\":\"PanTool\"},{\"id\":\"71eb8f75-550a-4b93-bd0e-3398ecd267b2\",\"type\":\"PreviewSaveTool\"},{\"id\":\"3b5848b9-6c4d-413b-8a38-56aa4d57bdeb\",\"type\":\"ResetTool\"},{\"id\":\"3180cde6-30b6-40da-a196-f69a5d88c20b\",\"type\":\"HoverTool\"}],\"x_range\":{\"id\":\"85a103a5-ab7d-453a-908c-1173c4deef3a\",\"type\":\"DataRange1d\"},\"y_range\":{\"id\":\"e052627a-3a30-4b9f-bace-02d45efb8926\",\"type\":\"DataRange1d\"}},\"id\":\"f8103876-7f50-4c2f-9579-c7feedc99ec6\",\"subtype\":\"Figure\",\"type\":\"Plot\"},{\"attributes\":{\"axis_label\":\"Component 1\",\"formatter\":{\"id\":\"a93e7d50-3144-4c0a-95ef-f7588caedc78\",\"type\":\"BasicTickFormatter\"},\"plot\":{\"id\":\"1fae314f-5af9-4416-9a56-9377734288d6\",\"subtype\":\"Figure\",\"type\":\"Plot\"},\"ticker\":{\"id\":\"4be3444b-8e2b-49fc-badf-47b0f383ada9\",\"type\":\"BasicTicker\"}},\"id\":\"920e20c2-a984-483f-aca8-87882bc67fc8\",\"type\":\"LinearAxis\"},{\"attributes\":{\"callback\":null},\"id\":\"85a103a5-ab7d-453a-908c-1173c4deef3a\",\"type\":\"DataRange1d\"},{\"attributes\":{\"axis_label\":\"Component 2\",\"formatter\":{\"id\":\"a88a09ef-8d6c-4128-8a1c-8f51a816ec0c\",\"type\":\"BasicTickFormatter\"},\"plot\":{\"id\":\"1fae314f-5af9-4416-9a56-9377734288d6\",\"subtype\":\"Figure\",\"type\":\"Plot\"},\"ticker\":{\"id\":\"36928a9e-7fb3-457c-b9a1-a612546d4b53\",\"type\":\"BasicTicker\"}},\"id\":\"90337d6b-9555-4311-8c4c-f885a2330b40\",\"type\":\"LinearAxis\"},{\"attributes\":{\"callback\":null,\"column_names\":[\"overall_rating\",\"player_api_id\",\"potential\",\"player_name\",\"comp2\",\"index\",\"comp1\",\"y\",\"x\"],\"data\":{\"comp1\":[-0.1661426482883903,-5.46742527882389,-6.59250720270939,-7.052851662780867,5.354494134929692,6.077693569171792,-4.693794538950861,-9.03391210540995,5.170613412898561,4.716575291743294,-8.483539917130807,-8.065812386320315,-8.11259634931794,5.157488750466202,4.222849464598395,1.639245658090301,3.3973593811557854,-0.4005572123125804,-5.5366935025448045,5.076291402377343,-6.82917531970357,-1.8286622323810655,5.934060144785347,3.3447401314308154,-0.2649210208903653,3.530312908799977,0.8538631440971793,5.441212809039271,2.416208219179342,-8.350810451510231,-8.756769927733313,2.9906673037925087,-0.29589809730878025,5.3359668614617055,5.324665847961429,-8.591035889326958,-8.655716960887144,-0.01223412233293234,-7.713418943040086,1.3843091027241956,-3.1572931157205204,4.248657561195648,0.3933577716420354,4.902602101358868,-8.079124972529373,-7.431867810218882,-6.276964370849744,3.809967870944484,2.047685459178809,1.0290788192607008,3.523480200039994,-5.41436168886299,-8.241405666503864,5.34938460670918,5.3096557678814325,-8.589768275156008,0.29723604865983505,-8.579865019967974,-7.828575736136238,4.689378219175487,-8.303664154722005,-0.37464300724526367,4.251204452939116,3.7861507743091494,-8.524512801043617,1.136863799563307,-8.734409426015914,-3.268143125442319,4.171654184605989,3.4779516279850533,5.454732543709941,-1.7155203559062253,4.9161725278044255,3.1273589100776986,-8.35072751301583,-5.485633034330485,-8.458397073012469,-5.777401267581899,3.892182971153698,-9.00290271902971,-8.59387625571092,-7.761415556700209,-8.718096108838623,-8.758993782660468,-8.07906180331511,-8.599974585503293,-5.174890388802927,-5.130838494713865,-8.531346068454456,-8.689788843748143,-8.50990406022389,-7.991325486343656,-5.5660396667833565,5.304474191767449,0.6631291767479737,-6.800065237973519,-8.541395402944733,3.845909839189884,-6.155759773327134,0.22469963349530217,1.300160693214864,-8.517627736953383,-8.586687557384195,3.5005133097095724,-5.439092663378136,-5.714034099164452,-7.729092495309341,-5.326390651831978,4.710101618332936,-6.499899237795232,-0.3590302365476863,3.684473733114058,4.667215203781743,-5.512565560151474,-8.222507203181703,-5.7946982945503045,3.844503010839475,5.160358021742154,3.08238490864761,5.070171826377758,5.439240663913137,-8.292305158621495,7.324600314842133,1.301483669199958,-8.183795756327443,-0.22556591911168933,-6.021453983100311,4.946115211826773,3.741895062006011,-8.427793993440547,4.1635555964276065,3.6031045422787504,-8.436802688357137,3.5790346611521264,-4.750544892020029,-5.761613075138124,3.404611473651476,-9.104721939166986,7.0731872940378056,4.800585752945294,0.6226283364053505,-9.104653238920218,5.01255757967188,4.239631360119659,1.3486993681744932,-8.131871863432785,3.770384848394252,-6.9269176040930205,5.6259848765706115,5.110719822902534,-8.537033967330412,-5.434850897023325,-8.514054016758507,-0.2649492978030273,-8.72935875837435,-5.452947830677902,4.090669511429915,1.2923468512886553,5.56006383431815,1.6394065239519269,4.88418987702154,-5.483969439382735,4.145468621980911,-0.1063605333735579,2.0485039498434285,0.033805192085620966,-8.951838127059222,-8.699848411658508,6.5743256384763,4.076492442777864,3.4921713365598053,4.928203345064394,3.6154200114799897,-8.254369989888978,2.1790385376568766,-8.031573145440783,-8.909186267899448,-0.2714745753002197,-8.503860438742858,-6.538743351209105,0.6255362435339114,1.0994354470193297,-7.915445840175019,4.996439002605304,3.9693560335646656,5.917807426890813,-8.430457283856747,3.448777707810035,4.675056351683975,-8.896334088791209,4.1539273036929965,-8.402839884038567,-5.721122596598879,-0.48493235633418164,1.160320513258324,-8.444907849616069,-0.3480329635718019,-8.632168328889573,3.5232582097624463,6.187957045319535,-5.715723574254079,0.06366019560395535,-8.627732993304331,4.84869636179157,-8.160555423452937,2.4252607483733435,5.188405765517252,-5.433787492840958,-6.5438595133610065,-8.241333117683226,-5.147800715702979,5.196964543811826,0.5614197137822121,4.057407212262022,-7.818904330378938,3.9716725922666813,-6.601616105670877,-0.0006820622618975942,-8.263690026223182,-8.630919437576237,3.5472239923166398,0.43519434024230047,-0.45446290287657076,-8.45973870025326,1.9842790760687936,-8.783908281976492,-5.484071137432649,4.762190046666868,-7.8781120420271025,3.27462987563844,-0.22961669625011108,-8.752243048349477,0.0028539365938368135,6.026461863999572,5.25105216913419,1.7971925771019224,-6.78415796750992,-8.687258844602004,5.3393980016480445,-8.350520796172836,4.091861110883501,-4.779060995837439,-8.759241698575316,1.4335845939418432,-5.815489632395851,0.1774981811315199,-7.910145372888278,-5.30814821122448,-5.656056170107502,-4.802599471453116,-8.222596781647917,3.9706950882835255,-8.172623777888768,-7.280190886222285,-6.054550088409001,-5.548101550396304,5.282141500530253,-8.72387048583455,-5.653226359699899,-0.3869118940509233,6.818418820032908,-1.6318876139265033,3.9196944907174185,-8.90989014242834,5.012159436823104,5.0715595224725405,-9.007959615099754,-8.01115622108453,4.697231501780347,1.5680044896660124,5.301249374802492,-7.452468727127686,-6.3360815534709465,-9.022016085300212,-8.07549533947113,0.5264000369795475,2.0999687166770196,-2.935661578876879,-0.38918107718170236,-0.6388860413771825,4.725400439993098,-7.541591049959452,-9.072200184387881,-5.797637684520506,-8.594997880836521,-8.173784200711516,0.8009902373776133,-5.7088644063290985,2.101842168983591,-7.576027136149664,-0.007902143911358166,-8.975079139844722,-5.318494665698426,-5.756312815549854,4.010647769367132,5.372051286112573,-4.58740594751863,-6.4047965587743825,0.37741074936476293,4.991003054289402,0.19700832054209708,-8.487209113751227,3.3941242955766953,1.9876053933433828,6.889028854977848,-0.40923862811024264,5.701667085690419,4.8909534334177645,-6.653639319296614,-5.339999870074735,-5.4546639656744595,5.077383786189496,-8.227604374451598,-4.8978695863359,5.590090622014405,-5.559154182981599,-8.149463237825959,-8.077940125407354,-9.129768306806191,-5.617623292931564,5.2246605341962535,-8.094109467675127,-5.28545156760822,-0.3643569711564495,-8.506312345898635,-8.628614395787897,7.49878133208958,-4.492854667584207,5.253052509841047,-0.6218540660596944,4.128731559426191,5.758278959045901,5.460553079544709,3.297415074644448,-0.04094540332967808,3.3341371599146976,-8.699456778967894,7.210073195848646,3.5899289960582577,-4.225741307354734,5.170597885676447,6.0430859335225335,-5.629894231873116,5.598226070680519,5.0420876655819145,-8.753583219622561,4.5674100823344235,-0.4726950524591616,7.9663611797731715,4.412721383658743,4.056904304712316,4.10338849771914,4.053273501759917,5.231481618801115,-8.575446680031511,4.458770952135138,4.770840209799243,5.464538779822914,-5.824399923857348,-7.304430507066368,5.619633620477044,-5.668186136759529,4.796379350730781,-5.836794572686392,-4.79869472535611,-5.540800298537432,4.156063677117022,-7.97247705487314,2.9302263937953508,3.516731427385248,4.233463158669157,-0.49277515531900185,-6.9418510173234464],\"comp2\":[-8.125117859399838,8.290344462704493,-7.629291831209408,-7.109010881004085,1.2873871158432224,-7.5623835466201434,6.885334688939409,-2.5116267575542435,-7.2946334203173135,2.539681565153713,-2.9471166774569566,-4.696171114804666,-4.034492573095165,0.37389981171272796,-7.50942317146581,-8.799449745031255,-6.845750805495809,-8.523010631413626,-7.980242203995795,-7.851995638220068,-7.319078572583258,-6.324262427935108,-7.620996251130531,-6.9558428079594155,-8.41997446119907,-8.490483484232213,-8.253796068320828,1.2435388374850151,-8.009068038242754,-4.247862560579051,-4.096020450043185,-7.319735742914635,-8.400451448365219,1.3289370865620254,0.7610745897998624,-4.0853867903093875,-2.303733428939832,-8.06517451151803,-3.3921727678146736,-8.514519247373228,-3.695025071581714,-8.238768063176074,-8.15950333400048,-5.846585004981686,-4.183173094207248,-5.709105812407831,-3.341930391660383,2.752476186172596,-8.325931929259257,-8.694351358441745,-8.533049179671501,7.7697888664529415,-1.2213365885070901,1.2192725165318319,1.6703757568106234,-4.088244591867122,-7.602637205926351,-3.173000004455693,-5.279119917759401,-7.100246348298925,-2.4667170605737216,-7.958182345862522,-7.164598230682808,2.8950546622106486,-2.355506329547794,-8.288430979052466,-1.1657226144920465,-3.7218718292878608,-7.724415665066971,-6.825372728940707,1.6223187298342763,-7.299307473209409,-6.973107158914057,-8.32036761628639,-3.167599500062394,8.242055093727819,-1.8539762716980381,8.326138165946855,-8.207562280124439,-1.2770148399391112,-4.39769106936464,-5.28782326711752,-0.8518321760794798,-2.646127634152021,-5.21130628237055,-2.3673182168577878,7.5225563705830485,7.876180715073919,-4.276078539566738,-2.6503267313841965,-2.2059638750111827,-1.1716415708382013,7.702222086909288,1.8140193178000252,-8.754384186145064,-7.422831664533407,-2.4249696096111304,3.2867534961177696,-7.649442735898542,-8.345577396935692,-8.642692470810989,-4.117117053742886,-2.426660135389014,-6.838329603365209,7.639881918130909,7.682570596721288,-5.397513820747629,7.5518707975538195,-7.162072035695272,-7.644858977000168,-8.096342933426294,-5.5157437508690075,-6.215680835815394,7.428716680228639,-2.4749911418529327,7.646269110771893,-6.601240634674574,-7.9067927287624915,-6.275632062071897,-4.846406179419491,1.3286096962037055,-2.690003514030003,-0.446777735586591,-8.758057940323756,-3.8216883706575113,-8.22259970271264,-7.597040268785144,-5.1144010744375255,-8.567462018205044,-2.6569550749816084,-6.175204208883831,3.5299726688835427,-1.6314962217167304,-6.552684064583608,6.919830392729955,-2.7639853083741186,-8.48579024491391,-1.5007209801821555,2.761529936549227,-5.2921352470419505,-8.435306378659083,-1.4976981610938345,-7.247026844807411,-8.077539207422722,-8.357314592639575,-3.318268072573223,-6.395661471368763,-2.9396669794244077,2.071007329211402,0.6323691807590829,-2.3966452445453714,7.426677656602597,-1.4681179659042167,-8.027972487635008,-2.057667607897185,7.871878241059368,-7.905679641029056,-8.624703146336163,1.838198554175171,-8.472988381904083,-4.398883310197207,7.534335180360372,-8.143620586817772,-8.1815493421813,-8.874346942354641,-8.10141802979562,-0.794670656630813,-3.7939708630009807,-0.9316743392312389,-7.37064116847178,-8.325468366807005,3.0612884442705472,-6.395146410464237,-3.9982825528909243,-8.410881854274349,-3.5978203045969526,-2.3133532343280736,-7.780734553422844,-1.5481609505550138,-7.5663205383144785,-8.351692241137462,-8.45160371167916,-2.0173057995024073,2.2033640457494026,-8.541970080199341,-7.538851136160125,-5.1537621833302,-6.75197534805036,-7.812422601711319,-2.3497532927730043,-8.064918107303415,-3.155811873469972,8.247580700564681,-8.132945773545133,-7.040333946073362,-3.553108793285017,-8.161467933520665,-2.1209361509004845,3.314861376550006,3.7639636648907504,8.317150247624264,-8.506090922727248,-3.9550061136420482,-5.285407252066396,-5.33970180458411,5.225656467198498,-7.036148201139285,7.65181302861158,-7.601691439992134,-2.864562092025265,7.604504814240338,-7.861113899001424,-8.464753632171048,-6.989443145495489,-3.0046087964634016,-8.324274822717884,-7.5946593804773554,-8.504180925452536,-2.0364382967095085,-1.837261545953103,3.3085951935140154,-8.519763993347318,-8.17486830182717,-3.937967558205535,-8.804621767533867,-3.874114769282791,8.286652598061755,3.7018699768377625,-5.109616811730552,5.340188143048742,-8.43108206584962,-1.1451162356551983,-8.330117769360221,3.3247679444215996,1.3226521253459405,-8.24758536662642,-7.444369469649895,-4.406239517429422,0.9868913052929678,-1.2534408365374974,-7.907544813905371,7.156762126459862,-2.3027956626507593,-8.617722977683723,8.33922537441491,-8.532433761797375,-3.600483742481363,7.32057628378278,7.933275647013547,7.375184102520437,-3.499291859554467,-7.487321489367028,-3.443019763542862,-2.9809669132487,-3.1710526049841405,7.761553640846228,1.349652718174318,-2.3695156080859565,7.9601828936052765,-8.455481886987908,2.655792961530815,-7.267842251425191,-6.318622164033456,-0.8018895029772488,-7.566112932094078,-3.717062757401013,-2.184934635237744,-1.7391063578669343,-7.591943539186943,-8.591844323512763,0.9548374126806352,-6.557538663638062,-7.428243502160156,-2.3866812251327567,-5.066793748836493,-8.208586396669686,-8.990569565331038,-3.0846811274322645,-8.491789796575228,-8.571829764494483,-6.364206630919799,-5.516381714458653,-2.4352539081128226,8.261655639184932,-4.5011117188352525,-4.658699977087677,-8.638920296215904,8.313934858686494,-8.988771404177065,-5.785867952016563,-8.320819981485307,-2.252149916725609,7.143993771544103,8.14594876946155,-6.332372695043074,0.9756410248601206,6.907200108394663,-7.414989646721212,-8.684919822260845,-6.763757574289338,-7.170251489825705,-2.4092940337193127,-6.988686501205685,-8.512866837790973,0.3036647963998808,-8.227461494230768,0.7292891834498076,-7.775228455862056,-7.089729317953969,7.540434330031014,7.983108918156482,4.434179598436556,-4.408632990095633,7.401363962512759,0.8879966591455511,7.680858552348519,-5.136212672047928,-5.040086689841664,-2.491559263084324,7.912165848443421,0.5265435405649793,-1.134851649425621,7.807258125640759,-8.415203504980155,-2.6175571293143665,-1.561186684679762,-0.0016194789530543348,7.00840204621092,0.24294845041469346,-8.144650529685524,-6.0619124586395605,1.460559312793184,1.3370245915325116,-7.1822626789702095,-8.587460237133934,-6.839911534958408,-4.319330955699348,-0.3923232572004985,-6.7444923022293075,6.850673350049976,0.5805658511842302,-1.3209899297440266,7.926573342484261,1.5511682546069943,-7.708345326970266,-4.329245436243246,-4.802918665832128,-8.536479177383342,-5.6939615828109424,3.317479724184198,-8.209125200492869,-6.368911249990973,-8.211808856192832,1.8683409113443514,-2.394864138720741,1.3198509330926493,3.6718168324541467,1.4937671231424399,7.917210404052619,-7.299518456751942,0.9981304756409474,7.5869371953,3.612118167750572,8.074297987430745,7.1214347249437635,7.770048668678267,-8.24581717102044,-3.623937908049458,-7.277831957436265,-6.726757907792994,-7.9740529709891215,-8.527838975901394,-7.40423624579084],\"index\":[51908,160138,43197,73039,163470,11923,49585,111416,125604,107729,180429,26509,40494,72572,71751,139677,106205,69719,47406,100612,113284,70062,179708,113110,22246,156018,108732,176194,111333,73778,26154,110151,126338,126397,116876,169965,89835,63106,1774,144296,89294,170168,150316,61342,165802,120311,150733,50606,95613,30929,24110,152172,149196,65507,11395,8156,82285,144057,25443,105610,147976,88651,98459,87943,88354,103849,102621,15256,120794,165061,64132,58622,167543,170603,45370,176234,127411,14374,36268,46303,70872,9525,161291,140103,65437,129545,124548,9215,142940,113160,180903,80970,77620,164176,60790,68609,93029,97123,96679,98518,38588,95846,46122,56263,119756,39006,58001,58034,36832,43532,35654,87921,78232,109370,80202,108509,26981,22890,24005,115465,60978,72945,70390,17303,68764,112430,113194,138542,168897,168707,9050,133290,136351,7204,145597,179132,130414,158722,2399,98636,10641,158480,178845,17925,55073,145197,136112,44505,179359,132393,141315,156082,142653,3328,180072,63520,156539,99980,146203,36951,118765,171259,160551,176352,146322,19925,117786,14914,37535,77759,122143,121352,86747,85044,128332,120467,90059,134249,145525,9567,65348,181154,144974,28576,175687,65999,47487,52968,171870,40224,76873,26212,70692,179972,10893,90899,96911,104078,92483,115981,123910,12683,8446,18374,144218,141667,142343,102852,11342,133863,11595,176572,269,137550,51056,10239,135306,16109,28932,156115,92316,82355,73890,150190,180804,160061,154180,87882,8239,84394,72326,72254,10217,77153,135706,34584,16284,178086,19965,21952,160220,43368,132172,148013,55467,111881,149373,95731,141561,152613,94774,127837,76031,177109,92248,150586,99037,121856,76693,27178,114482,62472,129251,81255,78202,34943,130834,62996,66741,59690,132434,74651,28765,47010,78147,59869,19495,178409,156978,13675,80181,102317,16383,43321,149822,31370,75942,95964,166298,44385,74594,58382,82922,72232,159796,43727,142182,152436,142540,80397,153029,163418,145730,18119,175499,173453,80691,118302,178585,165965,165334,130498,156385,147273,83180,21073,93057,35887,101978,180282,161415,62609,155717,168827,95418,52518,129445,20745,18166,78302,157990,162293,146056,21610,105683,20837,105468,52114,90469,17647,108910,34925,91582,18187,62654,33156,129905,12717,55343,164493,77783,31462,39683,17500,138809,115176,115917,141591,176537,182801,142319,36702,154920,30872,26608,169074,168976,79287,75847,99139,102280,179849,42033],\"overall_rating\":[81.0,81.0,81.0,80.0,83.0,81.0,80.0,86.0,80.0,81.0,80.0,80.0,81.0,80.0,80.0,86.0,80.0,85.0,80.0,83.0,82.0,80.0,84.0,80.0,82.0,81.0,80.0,80.0,80.0,81.0,85.0,83.0,84.0,85.0,81.0,86.0,81.0,80.0,80.0,83.0,80.0,80.0,80.0,81.0,80.0,80.0,81.0,80.0,80.0,84.0,81.0,80.0,81.0,81.0,85.0,83.0,80.0,80.0,82.0,83.0,80.0,80.0,82.0,81.0,81.0,81.0,82.0,81.0,80.0,82.0,86.0,80.0,82.0,80.0,81.0,81.0,80.0,82.0,82.0,81.0,84.0,80.0,82.0,81.0,86.0,82.0,80.0,80.0,84.0,84.0,82.0,80.0,81.0,81.0,87.0,82.0,82.0,83.0,81.0,80.0,85.0,80.0,83.0,82.0,81.0,87.0,80.0,80.0,80.0,85.0,82.0,80.0,83.0,82.0,81.0,90.0,82.0,80.0,80.0,80.0,82.0,84.0,80.0,85.0,82.0,82.0,81.0,81.0,82.0,81.0,80.0,80.0,82.0,82.0,83.0,83.0,83.0,82.0,80.0,82.0,80.0,82.0,81.0,80.0,80.0,81.0,80.0,83.0,80.0,80.0,83.0,84.0,84.0,80.0,82.0,84.0,80.0,82.0,81.0,80.0,81.0,81.0,87.0,80.0,81.0,80.0,80.0,84.0,80.0,80.0,80.0,83.0,84.0,83.0,80.0,81.0,83.0,81.0,81.0,81.0,81.0,80.0,80.0,83.0,81.0,82.0,85.0,80.0,82.0,86.0,82.0,81.0,85.0,80.0,80.0,82.0,83.0,81.0,82.0,80.0,80.0,81.0,86.0,80.0,82.0,83.0,80.0,80.0,81.0,82.0,80.0,85.0,82.0,82.0,80.0,81.0,82.0,83.0,83.0,82.0,80.0,83.0,85.0,82.0,85.0,88.0,81.0,81.0,80.0,84.0,84.0,80.0,81.0,80.0,81.0,84.0,82.0,85.0,83.0,80.0,86.0,80.0,83.0,82.0,82.0,84.0,80.0,82.0,81.0,80.0,86.0,82.0,87.0,81.0,81.0,80.0,84.0,88.0,82.0,86.0,80.0,80.0,80.0,80.0,84.0,82.0,90.0,80.0,82.0,80.0,84.0,83.0,80.0,88.0,82.0,81.0,85.0,82.0,85.0,86.0,82.0,80.0,89.0,82.0,88.0,80.0,80.0,82.0,81.0,80.0,81.0,86.0,84.0,82.0,81.0,86.0,86.0,82.0,87.0,82.0,80.0,81.0,80.0,81.0,80.0,87.0,87.0,86.0,80.0,83.0,83.0,81.0,80.0,80.0,81.0,83.0,86.0,83.0,94.0,82.0,82.0,80.0,82.0,83.0,80.0,80.0,84.0,81.0,81.0,84.0,81.0,80.0,82.0,84.0,87.0,81.0,90.0,83.0,81.0,82.0,80.0,80.0,82.0,83.0,85.0,93.0,80.0,88.0,80.0,81.0,80.0,80.0,83.0,81.0,81.0,81.0,81.0,84.0,81.0,89.0,81.0,81.0,80.0,83.0,80.0,86.0,88.0,80.0,80.0,80.0,82.0,86.0,82.0],\"player_api_id\":[108568,96623,30822,291219,39455,30731,41671,129944,182224,94043,354467,201939,30909,282676,112758,248453,13518,73167,15403,24235,75447,21446,30889,183185,38433,42346,268282,182921,73999,163670,38817,28467,96398,19327,113672,116772,155066,127460,37234,41433,147951,26005,210278,49970,92666,282770,30843,574200,114558,41890,42479,112978,278343,38458,30902,169193,300916,193174,166648,147729,38239,18518,37373,474589,150330,38393,193441,11685,182923,30474,41884,270774,37374,30871,364520,32657,292462,167035,30682,46104,20276,213501,144993,325916,25759,40945,33845,210164,150565,177714,103450,281085,212512,188555,31921,194165,208230,161683,36784,94916,121633,212893,156726,41167,181910,182917,241825,40672,240235,19243,75307,391058,38818,184554,33782,27299,72541,31306,267911,96616,23783,191315,94886,49939,26163,41658,27326,32569,26852,31013,188652,253088,128864,157865,49586,94086,115067,42116,361710,23988,164333,96540,257865,56916,40196,25819,181297,25496,35110,149962,150250,42422,184536,40930,179795,30717,210117,24846,34029,208077,46820,212815,30962,40193,33871,45749,40060,184138,38432,74747,34944,46875,150739,39122,41008,58346,41468,27365,246575,75310,27427,26160,38994,165823,111237,207236,49677,29590,160599,37459,37762,75342,26295,176300,361770,243164,184533,215299,150670,40735,37193,31045,50047,26111,22543,35606,186137,287894,38098,213486,39170,39027,75489,30509,174850,150323,46469,39792,157723,26181,210428,37549,25773,242709,36615,37412,40604,26552,46554,30627,178818,179772,164676,185945,109615,33988,33028,30829,68253,96643,154257,30820,164031,115591,56829,190972,24635,145550,30660,41087,169200,46893,164684,213805,41044,37623,46539,36378,177126,30613,30563,108038,38521,33991,37410,282674,19533,37950,154232,41199,174321,51360,148315,107417,70409,33635,30872,30878,37436,46509,26403,39987,30834,96613,93447,30956,38807,51949,30618,27430,143793,30924,31432,30657,195299,56678,30859,181276,30894,39990,215384,93480,79574,39591,46403,95078,36183,36388,143365,31293,41097,30865,33639,27424,171698,215168,26166,51553,30981,41618,184999,251925,27659,172949,26151,49836,28480,11319,192770,129391,77690,35112,230982,26419,31097,41092,40636,37581,38424,46518,195305,40940,30989,411617,37482,30893,157838,30955,33030,178955,41467,151063,52133,24948,192625,267365,22764,25921,25540,35724,23268,115184,40695,37421,26168,170323,80562,26437,101192,215798,26353,39854,35411],\"player_name\":[\"Ever Banega\",\"Sergio Asenjo\",\"Didier Drogba\",\"Islam Slimani\",\"Sokratis Papastathopoulos\",\"Andrea Pirlo\",\"Emiliano Viviano\",\"Marco Reus\",\"Mikel San Jose\",\"Mamadou Sakho\",\"Yannick Ferreira-Carrasco\",\"Cedric Bakambu\",\"David Villa\",\"Inigo Martinez\",\"Ignacio Camacho\",\"Paul Pogba\",\"Lukasz Piszczek\",\"Henrik Mkhitaryan\",\"Edin Dzeko\",\"Leonardo Bonucci\",\"Mario Mandzukic\",\"Hernanes\",\"Xabi Alonso\",\"Mario Gaspar\",\"Borja Valero\",\"Sami Khedira\",\"Manuel Trigueros\",\"Victor Ruiz\",\"Marco Parolo\",\"Ivan Perisic\",\"Carlos Tevez\",\"Marcelo\",\"Miralem Pjanic\",\"Miranda\",\"Mateo Pablo Musacchio\",\"Thomas Mueller\",\"Juan Cuadrado\",\"Giacomo Bonaventura\",\"Adam Lallana\",\"Radja Nainggolan\",\"Josip Ilicic\",\"Thomas Vermaelen\",\"Roberto Pereyra\",\"Gary Medel\",\"Stevan Jovetic\",\"Mauro Icardi\",\"Robin van Persie\",\"Eric Bertrand Bailly\",\"Kevin Strootman\",\"Claudio Marchisio\",\"Bruno Soriano\",\"Roman Buerki\",\"Riyad Mahrez\",\"Gonzalo Rodriguez\",\"Andrea Barzagli\",\"Alexandre Lacazette\",\"Joao Mario\",\"Quincy Promes\",\"Carlos Bacca\",\"Luiz Gustavo\",\"Ricardo Quaresma\",\"Jose Sosa\",\"Lars Bender\",\"Jose Gimenez\",\"Jose Maria Callejon\",\"Lucas Biglia\",\"Lorenzo Insigne\",\"Antonio Candreva\",\"Maxime Gonalons\",\"Stephan Lichtsteiner\",\"Giorgio Chiellini\",\"Franco Vazquez\",\"Sven Bender\",\"Tiago\",\"Domenico Berardi\",\"Victor Valdes\",\"Mohamed Salah\",\"Anthony Lopes\",\"Daniele De Rossi\",\"Dries Mertens\",\"Hulk\",\"Alvaro Morata\",\"Shinji Kagawa\",\"Paulo Dybala\",\"Gonzalo Higuain\",\"Nani\",\"Miguel Angel Moya\",\"Alphonse Areola\",\"Pierre-Emerick Aubameyang\",\"Mario Goetze\",\"Yevheniy Konoplyanka\",\"Jese Rodriguez\",\"Jasper Cillessen\",\"Stefan de Vrij\",\"Gareth Bale\",\"Harry Kane\",\"Karim Bellarabi\",\"Konstantinos Manolas\",\"Klaas Jan Huntelaar\",\"Lars Stindl\",\"David Alaba\",\"Kevin Volland\",\"Douglas Costa\",\"Filipe Luis\",\"Mattia Perin\",\"David De Gea\",\"Francisco Alcacer\",\"Francisco Casilla\",\"Danilo Pereira\",\"Diego Costa\",\"Daniel Parejo\",\"Jose Gaya\",\"Javier Mascherano\",\"Marc-Andre ter Stegen\",\"Jeremy Menez\",\"Manuel Neuer\",\"Cesar Azpilicueta\",\"Branislav Ivanovic\",\"Bruno Peres\",\"Martin Caceres\",\"Gary Cahill\",\"Isco\",\"Holger Badstuber\",\"Arturo Vidal\",\"Hatem Ben Arfa\",\"Marek Hamsik\",\"Mario Gomez\",\"Patrice Evra\",\"Thiago Motta\",\"Theo Walcott\",\"Allan\",\"Nikola Maksimovic\",\"Oscar\",\"Alex Sandro\",\"Ralf Faehrmann\",\"Willian\",\"Nemanja Matic\",\"Sebastian Meoli\",\"Aderlan Santos\",\"Lassana Diarra\",\"Andre Andre\",\"Sebastian Giovinco\",\"William Carvalho\",\"Aurelien Chedjou\",\"Fernandinho\",\"Raffael\",\"Oscar de Marcos\",\"Dimitri Payet\",\"Winston Reid\",\"Nicolas N'Koulou\",\"Pedro Rodriguez\",\"Samir Handanovic\",\"Philippe Coutinho\",\"Adrien Silva\",\"Yacine Brahimi\",\"Gianluigi Buffon\",\"Samuel Umtiti\",\"Leighton Baines\",\"Raul Albiol\",\"Danilo\",\"Matteo Darmian\",\"Timo Horn\",\"Sergio Ramos\",\"Vieirinha\",\"Raul Garcia\",\"Benat Etxebarria\",\"Mathieu Valbuena\",\"Antoine Griezmann\",\"Dante\",\"Javi Fuego\",\"Michael Carrick\",\"Mehdi Benatia\",\"Jordi Alba\",\"Jonas\",\"Moussa Dembele\",\"Max Kruse\",\"Juan Mata\",\"Nuri Sahin\",\"Raheem Sterling\",\"Alvaro Negredo\",\"Gonzalo Castro\",\"Yohan Cabaye\",\"Rafael\",\"Chris Smalling\",\"Vicente Iborra\",\"Granit Xhaka\",\"Edinson Cavani\",\"Fabio Coentrao\",\"Toby Alderweireld\",\"David Silva\",\"Jan Vertonghen\",\"Carlos Vela\",\"Hugo Lloris\",\"Xherdan Shaqiri\",\"Andre Gomes\",\"Julian Draxler\",\"Koke\",\"Lucas Moura\",\"Kamil Glik\",\"Martin Stranzl\",\"Michel Vorm\",\"Andres Guardado\",\"Alexis Sanchez\",\"Bacary Sagna\",\"Radamel Falcao\",\"Per Mertesacker\",\"Phil Jones\",\"Loris Karius\",\"Andre-Pierre Gignac\",\"Nolito\",\"Andrea Consigli\",\"Vincent Kompany\",\"Aaron Ramsey\",\"Pablo Zabaleta\",\"Erik Lamela\",\"Ander Iturraspe\",\"Olivier Giroud\",\"Arda Turan\",\"Christian Eriksen\",\"Samir Nasri\",\"Kalidou Koulibaly\",\"Joao Moutinho\",\"Ivan Rakitic\",\"Roberto Firmino\",\"Yaya Toure\",\"Sergio Aguero\",\"Rui Patricio\",\"Jose Fonte\",\"Alexandre Pato\",\"John Terry\",\"Ilkay Guendogan\",\"Iker Muniain\",\"Ander Herrera\",\"Jardel\",\"Omer Toprak\",\"Daniel Alves\",\"Aritz Aduriz\",\"Wayne Rooney\",\"Benedikt Hoewedes\",\"Bojan Krkic\",\"Sergio Busquets\",\"Diego Benaglio\",\"Nicolas Gaitan\",\"Ricardo Rodriguez\",\"Fernando Muslera\",\"Marco Verratti\",\"Robbie Keane\",\"Kevin Trapp\",\"Pepe Reina\",\"Ron-Robert Zieler\",\"Kevin de Bruyne\",\"Morgan Schneiderlin\",\"James Rodriguez\",\"Vitolo\",\"Kaka\",\"Roberto\",\"Laurent Koscielny\",\"Mesut Oezil\",\"Jan Oblak\",\"Cesc Fabregas\",\"Marko Basa\",\"Georginio Wijnaldum\",\"Nacho Monreal\",\"Jesus Navas\",\"Javier Martinez\",\"Daniel Carvajal\",\"Neymar\",\"Gervinho\",\"Grzegorz Krychowiak\",\"Fredy Guarin\",\"Nicolas Otamendi\",\"Jackson Martinez\",\"Christian Benteke\",\"Eden Hazard\",\"Javier Hernandez\",\"Gabi\",\"Bastian Schweinsteiger\",\"Wesley Sneijder\",\"Santi Cazorla\",\"Angel Di Maria\",\"Jeremy Mathieu\",\"Loic Remy\",\"Arjen Robben\",\"Diego Alves\",\"Robert Lewandowski\",\"Clint Dempsey\",\"James Milner\",\"Keylor Navas\",\"Steven Gerrard\",\"Dimitar Berbatov\",\"Jack Wilshere\",\"Franck Ribery\",\"Joe Hart\",\"Iker Casillas\",\"Serge Aurier\",\"Diego Godin\",\"Petr Cech\",\"Romelu Lukaku\",\"Philipp Lahm\",\"Jeremy Toulalan\",\"Ross Barkley\",\"Sofiane Feghouli\",\"Ramires\",\"Axel Witsel\",\"Vedran Corluka\",\"Toni Kroos\",\"Jerome Boateng\",\"Mats Hummels\",\"Wilfried Bony\",\"Steve Mandanda\",\"Stephane Ruffier\",\"Nemanja Vidic\",\"Samuel Eto'o\",\"Rene Adler\",\"Joel Matip\",\"Bernd Leno\",\"Karim Benzema\",\"Daniel Sturridge\",\"Lionel Messi\",\"Yann Sommer\",\"Shkodran Mustafi\",\"Gerard Deulofeu\",\"Salvatore Sirigu\",\"Thiago Alcantara\",\"Kevin Mirallas\",\"Fabian Orellana\",\"Naldo\",\"Benoit Costil\",\"Aymen Abdennour\",\"Javier Pastore\",\"Seamus Coleman\",\"Simon Kjaer\",\"Raphael Varane\",\"Blaise Matuidi\",\"Luka Modric\",\"Benoit Tremoulinas\",\"Luis Suarez\",\"Ezequiel Garay\",\"Juanfran\",\"Asmir Begovic\",\"Marc Bartra\",\"Daniel Carrico\",\"Julio Cesar\",\"Aymeric Laporte\",\"Gerard Pique\",\"Cristiano Ronaldo\",\"Nathaniel Clyne\",\"Andres Iniesta\",\"Fernando Llorente\",\"Stefan Savic\",\"Javi Garcia\",\"Coke\",\"David Luiz\",\"Ashley Williams\",\"Patrick Herrmann\",\"Marquinhos\",\"Martin Skrtel\",\"Pepe\",\"Vincent Enyeama\",\"Zlatan Ibrahimovic\",\"Phil Jagielka\",\"Danijel Subasic\",\"Ryan Shawcross\",\"Claudio Bravo\",\"Cedric Carrasso\",\"Thibaut Courtois\",\"Thiago Silva\",\"Jefferson Farfan\",\"James McCarthy\",\"Lavyin Kurzawa\",\"Loic Perrin\",\"Xavi Hernandez\",\"Demba Ba\"],\"potential\":[81.0,82.0,81.0,80.0,83.0,81.0,80.0,87.0,81.0,82.0,85.0,84.0,81.0,84.0,82.0,91.0,80.0,86.0,80.0,83.0,82.0,80.0,84.0,84.0,82.0,81.0,85.0,81.0,80.0,82.0,85.0,83.0,86.0,85.0,85.0,88.0,81.0,82.0,80.0,83.0,80.0,80.0,83.0,81.0,82.0,85.0,81.0,88.0,82.0,84.0,81.0,83.0,85.0,81.0,85.0,87.0,86.0,86.0,82.0,83.0,80.0,80.0,83.0,87.0,81.0,81.0,86.0,81.0,81.0,82.0,86.0,80.0,83.0,80.0,86.0,81.0,85.0,86.0,82.0,81.0,84.0,85.0,83.0,87.0,86.0,82.0,80.0,88.0,85.0,88.0,84.0,87.0,82.0,87.0,89.0,88.0,84.0,86.0,81.0,81.0,88.0,85.0,86.0,82.0,86.0,90.0,86.0,80.0,84.0,86.0,83.0,85.0,83.0,87.0,81.0,90.0,84.0,80.0,82.0,80.0,82.0,88.0,80.0,85.0,82.0,82.0,81.0,81.0,82.0,81.0,82.0,85.0,86.0,85.0,84.0,84.0,84.0,82.0,81.0,82.0,82.0,82.0,86.0,80.0,80.0,81.0,81.0,83.0,80.0,82.0,83.0,84.0,88.0,81.0,84.0,84.0,85.0,82.0,81.0,84.0,83.0,87.0,87.0,80.0,81.0,80.0,80.0,88.0,80.0,80.0,80.0,83.0,85.0,83.0,80.0,81.0,83.0,82.0,87.0,81.0,81.0,80.0,82.0,85.0,81.0,86.0,85.0,80.0,83.0,86.0,82.0,82.0,85.0,84.0,87.0,85.0,87.0,84.0,82.0,80.0,80.0,81.0,87.0,80.0,82.0,83.0,84.0,85.0,81.0,82.0,80.0,85.0,85.0,82.0,84.0,82.0,82.0,83.0,87.0,82.0,83.0,83.0,85.0,86.0,85.0,88.0,81.0,81.0,82.0,84.0,87.0,85.0,82.0,80.0,83.0,84.0,82.0,85.0,83.0,83.0,87.0,80.0,83.0,86.0,82.0,89.0,80.0,85.0,81.0,81.0,89.0,84.0,93.0,83.0,81.0,80.0,84.0,89.0,86.0,86.0,80.0,84.0,80.0,80.0,85.0,85.0,94.0,80.0,84.0,80.0,84.0,83.0,83.0,90.0,82.0,81.0,85.0,82.0,85.0,86.0,82.0,80.0,89.0,82.0,89.0,80.0,80.0,82.0,81.0,80.0,84.0,86.0,84.0,82.0,86.0,86.0,86.0,88.0,87.0,82.0,88.0,83.0,80.0,82.0,80.0,89.0,88.0,87.0,81.0,83.0,83.0,81.0,80.0,80.0,83.0,88.0,86.0,85.0,94.0,83.0,87.0,87.0,82.0,87.0,80.0,80.0,84.0,81.0,83.0,85.0,82.0,81.0,89.0,84.0,87.0,81.0,90.0,83.0,81.0,82.0,83.0,81.0,82.0,87.0,85.0,93.0,84.0,88.0,80.0,85.0,80.0,80.0,83.0,81.0,84.0,87.0,81.0,84.0,81.0,89.0,81.0,81.0,80.0,83.0,80.0,90.0,88.0,80.0,83.0,88.0,82.0,86.0,82.0],\"x\":[-0.1661426482883903,-5.46742527882389,-6.59250720270939,-7.052851662780867,5.354494134929692,6.077693569171792,-4.693794538950861,-9.03391210540995,5.170613412898561,4.716575291743294,-8.483539917130807,-8.065812386320315,-8.11259634931794,5.157488750466202,4.222849464598395,1.639245658090301,3.3973593811557854,-0.4005572123125804,-5.5366935025448045,5.076291402377343,-6.82917531970357,-1.8286622323810655,5.934060144785347,3.3447401314308154,-0.2649210208903653,3.530312908799977,0.8538631440971793,5.441212809039271,2.416208219179342,-8.350810451510231,-8.756769927733313,2.9906673037925087,-0.29589809730878025,5.3359668614617055,5.324665847961429,-8.591035889326958,-8.655716960887144,-0.01223412233293234,-7.713418943040086,1.3843091027241956,-3.1572931157205204,4.248657561195648,0.3933577716420354,4.902602101358868,-8.079124972529373,-7.431867810218882,-6.276964370849744,3.809967870944484,2.047685459178809,1.0290788192607008,3.523480200039994,-5.41436168886299,-8.241405666503864,5.34938460670918,5.3096557678814325,-8.589768275156008,0.29723604865983505,-8.579865019967974,-7.828575736136238,4.689378219175487,-8.303664154722005,-0.37464300724526367,4.251204452939116,3.7861507743091494,-8.524512801043617,1.136863799563307,-8.734409426015914,-3.268143125442319,4.171654184605989,3.4779516279850533,5.454732543709941,-1.7155203559062253,4.9161725278044255,3.1273589100776986,-8.35072751301583,-5.485633034330485,-8.458397073012469,-5.777401267581899,3.892182971153698,-9.00290271902971,-8.59387625571092,-7.761415556700209,-8.718096108838623,-8.758993782660468,-8.07906180331511,-8.599974585503293,-5.174890388802927,-5.130838494713865,-8.531346068454456,-8.689788843748143,-8.50990406022389,-7.991325486343656,-5.5660396667833565,5.304474191767449,0.6631291767479737,-6.800065237973519,-8.541395402944733,3.845909839189884,-6.155759773327134,0.22469963349530217,1.300160693214864,-8.517627736953383,-8.586687557384195,3.5005133097095724,-5.439092663378136,-5.714034099164452,-7.729092495309341,-5.326390651831978,4.710101618332936,-6.499899237795232,-0.3590302365476863,3.684473733114058,4.667215203781743,-5.512565560151474,-8.222507203181703,-5.7946982945503045,3.844503010839475,5.160358021742154,3.08238490864761,5.070171826377758,5.439240663913137,-8.292305158621495,7.324600314842133,1.301483669199958,-8.183795756327443,-0.22556591911168933,-6.021453983100311,4.946115211826773,3.741895062006011,-8.427793993440547,4.1635555964276065,3.6031045422787504,-8.436802688357137,3.5790346611521264,-4.750544892020029,-5.761613075138124,3.404611473651476,-9.104721939166986,7.0731872940378056,4.800585752945294,0.6226283364053505,-9.104653238920218,5.01255757967188,4.239631360119659,1.3486993681744932,-8.131871863432785,3.770384848394252,-6.9269176040930205,5.6259848765706115,5.110719822902534,-8.537033967330412,-5.434850897023325,-8.514054016758507,-0.2649492978030273,-8.72935875837435,-5.452947830677902,4.090669511429915,1.2923468512886553,5.56006383431815,1.6394065239519269,4.88418987702154,-5.483969439382735,4.145468621980911,-0.1063605333735579,2.0485039498434285,0.033805192085620966,-8.951838127059222,-8.699848411658508,6.5743256384763,4.076492442777864,3.4921713365598053,4.928203345064394,3.6154200114799897,-8.254369989888978,2.1790385376568766,-8.031573145440783,-8.909186267899448,-0.2714745753002197,-8.503860438742858,-6.538743351209105,0.6255362435339114,1.0994354470193297,-7.915445840175019,4.996439002605304,3.9693560335646656,5.917807426890813,-8.430457283856747,3.448777707810035,4.675056351683975,-8.896334088791209,4.1539273036929965,-8.402839884038567,-5.721122596598879,-0.48493235633418164,1.160320513258324,-8.444907849616069,-0.3480329635718019,-8.632168328889573,3.5232582097624463,6.187957045319535,-5.715723574254079,0.06366019560395535,-8.627732993304331,4.84869636179157,-8.160555423452937,2.4252607483733435,5.188405765517252,-5.433787492840958,-6.5438595133610065,-8.241333117683226,-5.147800715702979,5.196964543811826,0.5614197137822121,4.057407212262022,-7.818904330378938,3.9716725922666813,-6.601616105670877,-0.0006820622618975942,-8.263690026223182,-8.630919437576237,3.5472239923166398,0.43519434024230047,-0.45446290287657076,-8.45973870025326,1.9842790760687936,-8.783908281976492,-5.484071137432649,4.762190046666868,-7.8781120420271025,3.27462987563844,-0.22961669625011108,-8.752243048349477,0.0028539365938368135,6.026461863999572,5.25105216913419,1.7971925771019224,-6.78415796750992,-8.687258844602004,5.3393980016480445,-8.350520796172836,4.091861110883501,-4.779060995837439,-8.759241698575316,1.4335845939418432,-5.815489632395851,0.1774981811315199,-7.910145372888278,-5.30814821122448,-5.656056170107502,-4.802599471453116,-8.222596781647917,3.9706950882835255,-8.172623777888768,-7.280190886222285,-6.054550088409001,-5.548101550396304,5.282141500530253,-8.72387048583455,-5.653226359699899,-0.3869118940509233,6.818418820032908,-1.6318876139265033,3.9196944907174185,-8.90989014242834,5.012159436823104,5.0715595224725405,-9.007959615099754,-8.01115622108453,4.697231501780347,1.5680044896660124,5.301249374802492,-7.452468727127686,-6.3360815534709465,-9.022016085300212,-8.07549533947113,0.5264000369795475,2.0999687166770196,-2.935661578876879,-0.38918107718170236,-0.6388860413771825,4.725400439993098,-7.541591049959452,-9.072200184387881,-5.797637684520506,-8.594997880836521,-8.173784200711516,0.8009902373776133,-5.7088644063290985,2.101842168983591,-7.576027136149664,-0.007902143911358166,-8.975079139844722,-5.318494665698426,-5.756312815549854,4.010647769367132,5.372051286112573,-4.58740594751863,-6.4047965587743825,0.37741074936476293,4.991003054289402,0.19700832054209708,-8.487209113751227,3.3941242955766953,1.9876053933433828,6.889028854977848,-0.40923862811024264,5.701667085690419,4.8909534334177645,-6.653639319296614,-5.339999870074735,-5.4546639656744595,5.077383786189496,-8.227604374451598,-4.8978695863359,5.590090622014405,-5.559154182981599,-8.149463237825959,-8.077940125407354,-9.129768306806191,-5.617623292931564,5.2246605341962535,-8.094109467675127,-5.28545156760822,-0.3643569711564495,-8.506312345898635,-8.628614395787897,7.49878133208958,-4.492854667584207,5.253052509841047,-0.6218540660596944,4.128731559426191,5.758278959045901,5.460553079544709,3.297415074644448,-0.04094540332967808,3.3341371599146976,-8.699456778967894,7.210073195848646,3.5899289960582577,-4.225741307354734,5.170597885676447,6.0430859335225335,-5.629894231873116,5.598226070680519,5.0420876655819145,-8.753583219622561,4.5674100823344235,-0.4726950524591616,7.9663611797731715,4.412721383658743,4.056904304712316,4.10338849771914,4.053273501759917,5.231481618801115,-8.575446680031511,4.458770952135138,4.770840209799243,5.464538779822914,-5.824399923857348,-7.304430507066368,5.619633620477044,-5.668186136759529,4.796379350730781,-5.836794572686392,-4.79869472535611,-5.540800298537432,4.156063677117022,-7.97247705487314,2.9302263937953508,3.516731427385248,4.233463158669157,-0.49277515531900185,-6.9418510173234464],\"y\":[-8.125117859399838,8.290344462704493,-7.629291831209408,-7.109010881004085,1.2873871158432224,-7.5623835466201434,6.885334688939409,-2.5116267575542435,-7.2946334203173135,2.539681565153713,-2.9471166774569566,-4.696171114804666,-4.034492573095165,0.37389981171272796,-7.50942317146581,-8.799449745031255,-6.845750805495809,-8.523010631413626,-7.980242203995795,-7.851995638220068,-7.319078572583258,-6.324262427935108,-7.620996251130531,-6.9558428079594155,-8.41997446119907,-8.490483484232213,-8.253796068320828,1.2435388374850151,-8.009068038242754,-4.247862560579051,-4.096020450043185,-7.319735742914635,-8.400451448365219,1.3289370865620254,0.7610745897998624,-4.0853867903093875,-2.303733428939832,-8.06517451151803,-3.3921727678146736,-8.514519247373228,-3.695025071581714,-8.238768063176074,-8.15950333400048,-5.846585004981686,-4.183173094207248,-5.709105812407831,-3.341930391660383,2.752476186172596,-8.325931929259257,-8.694351358441745,-8.533049179671501,7.7697888664529415,-1.2213365885070901,1.2192725165318319,1.6703757568106234,-4.088244591867122,-7.602637205926351,-3.173000004455693,-5.279119917759401,-7.100246348298925,-2.4667170605737216,-7.958182345862522,-7.164598230682808,2.8950546622106486,-2.355506329547794,-8.288430979052466,-1.1657226144920465,-3.7218718292878608,-7.724415665066971,-6.825372728940707,1.6223187298342763,-7.299307473209409,-6.973107158914057,-8.32036761628639,-3.167599500062394,8.242055093727819,-1.8539762716980381,8.326138165946855,-8.207562280124439,-1.2770148399391112,-4.39769106936464,-5.28782326711752,-0.8518321760794798,-2.646127634152021,-5.21130628237055,-2.3673182168577878,7.5225563705830485,7.876180715073919,-4.276078539566738,-2.6503267313841965,-2.2059638750111827,-1.1716415708382013,7.702222086909288,1.8140193178000252,-8.754384186145064,-7.422831664533407,-2.4249696096111304,3.2867534961177696,-7.649442735898542,-8.345577396935692,-8.642692470810989,-4.117117053742886,-2.426660135389014,-6.838329603365209,7.639881918130909,7.682570596721288,-5.397513820747629,7.5518707975538195,-7.162072035695272,-7.644858977000168,-8.096342933426294,-5.5157437508690075,-6.215680835815394,7.428716680228639,-2.4749911418529327,7.646269110771893,-6.601240634674574,-7.9067927287624915,-6.275632062071897,-4.846406179419491,1.3286096962037055,-2.690003514030003,-0.446777735586591,-8.758057940323756,-3.8216883706575113,-8.22259970271264,-7.597040268785144,-5.1144010744375255,-8.567462018205044,-2.6569550749816084,-6.175204208883831,3.5299726688835427,-1.6314962217167304,-6.552684064583608,6.919830392729955,-2.7639853083741186,-8.48579024491391,-1.5007209801821555,2.761529936549227,-5.2921352470419505,-8.435306378659083,-1.4976981610938345,-7.247026844807411,-8.077539207422722,-8.357314592639575,-3.318268072573223,-6.395661471368763,-2.9396669794244077,2.071007329211402,0.6323691807590829,-2.3966452445453714,7.426677656602597,-1.4681179659042167,-8.027972487635008,-2.057667607897185,7.871878241059368,-7.905679641029056,-8.624703146336163,1.838198554175171,-8.472988381904083,-4.398883310197207,7.534335180360372,-8.143620586817772,-8.1815493421813,-8.874346942354641,-8.10141802979562,-0.794670656630813,-3.7939708630009807,-0.9316743392312389,-7.37064116847178,-8.325468366807005,3.0612884442705472,-6.395146410464237,-3.9982825528909243,-8.410881854274349,-3.5978203045969526,-2.3133532343280736,-7.780734553422844,-1.5481609505550138,-7.5663205383144785,-8.351692241137462,-8.45160371167916,-2.0173057995024073,2.2033640457494026,-8.541970080199341,-7.538851136160125,-5.1537621833302,-6.75197534805036,-7.812422601711319,-2.3497532927730043,-8.064918107303415,-3.155811873469972,8.247580700564681,-8.132945773545133,-7.040333946073362,-3.553108793285017,-8.161467933520665,-2.1209361509004845,3.314861376550006,3.7639636648907504,8.317150247624264,-8.506090922727248,-3.9550061136420482,-5.285407252066396,-5.33970180458411,5.225656467198498,-7.036148201139285,7.65181302861158,-7.601691439992134,-2.864562092025265,7.604504814240338,-7.861113899001424,-8.464753632171048,-6.989443145495489,-3.0046087964634016,-8.324274822717884,-7.5946593804773554,-8.504180925452536,-2.0364382967095085,-1.837261545953103,3.3085951935140154,-8.519763993347318,-8.17486830182717,-3.937967558205535,-8.804621767533867,-3.874114769282791,8.286652598061755,3.7018699768377625,-5.109616811730552,5.340188143048742,-8.43108206584962,-1.1451162356551983,-8.330117769360221,3.3247679444215996,1.3226521253459405,-8.24758536662642,-7.444369469649895,-4.406239517429422,0.9868913052929678,-1.2534408365374974,-7.907544813905371,7.156762126459862,-2.3027956626507593,-8.617722977683723,8.33922537441491,-8.532433761797375,-3.600483742481363,7.32057628378278,7.933275647013547,7.375184102520437,-3.499291859554467,-7.487321489367028,-3.443019763542862,-2.9809669132487,-3.1710526049841405,7.761553640846228,1.349652718174318,-2.3695156080859565,7.9601828936052765,-8.455481886987908,2.655792961530815,-7.267842251425191,-6.318622164033456,-0.8018895029772488,-7.566112932094078,-3.717062757401013,-2.184934635237744,-1.7391063578669343,-7.591943539186943,-8.591844323512763,0.9548374126806352,-6.557538663638062,-7.428243502160156,-2.3866812251327567,-5.066793748836493,-8.208586396669686,-8.990569565331038,-3.0846811274322645,-8.491789796575228,-8.571829764494483,-6.364206630919799,-5.516381714458653,-2.4352539081128226,8.261655639184932,-4.5011117188352525,-4.658699977087677,-8.638920296215904,8.313934858686494,-8.988771404177065,-5.785867952016563,-8.320819981485307,-2.252149916725609,7.143993771544103,8.14594876946155,-6.332372695043074,0.9756410248601206,6.907200108394663,-7.414989646721212,-8.684919822260845,-6.763757574289338,-7.170251489825705,-2.4092940337193127,-6.988686501205685,-8.512866837790973,0.3036647963998808,-8.227461494230768,0.7292891834498076,-7.775228455862056,-7.089729317953969,7.540434330031014,7.983108918156482,4.434179598436556,-4.408632990095633,7.401363962512759,0.8879966591455511,7.680858552348519,-5.136212672047928,-5.040086689841664,-2.491559263084324,7.912165848443421,0.5265435405649793,-1.134851649425621,7.807258125640759,-8.415203504980155,-2.6175571293143665,-1.561186684679762,-0.0016194789530543348,7.00840204621092,0.24294845041469346,-8.144650529685524,-6.0619124586395605,1.460559312793184,1.3370245915325116,-7.1822626789702095,-8.587460237133934,-6.839911534958408,-4.319330955699348,-0.3923232572004985,-6.7444923022293075,6.850673350049976,0.5805658511842302,-1.3209899297440266,7.926573342484261,1.5511682546069943,-7.708345326970266,-4.329245436243246,-4.802918665832128,-8.536479177383342,-5.6939615828109424,3.317479724184198,-8.209125200492869,-6.368911249990973,-8.211808856192832,1.8683409113443514,-2.394864138720741,1.3198509330926493,3.6718168324541467,1.4937671231424399,7.917210404052619,-7.299518456751942,0.9981304756409474,7.5869371953,3.612118167750572,8.074297987430745,7.1214347249437635,7.770048668678267,-8.24581717102044,-3.623937908049458,-7.277831957436265,-6.726757907792994,-7.9740529709891215,-8.527838975901394,-7.40423624579084]}},\"id\":\"66f090c2-7f3b-4f62-b898-51ee931f1555\",\"type\":\"ColumnDataSource\"},{\"attributes\":{\"fill_color\":{\"value\":\"blue\"},\"line_color\":{\"value\":\"blue\"},\"size\":{\"units\":\"screen\",\"value\":10},\"x\":{\"field\":\"x\"},\"y\":{\"field\":\"y\"}},\"id\":\"a8533673-8899-42bd-9d87-eb296e1535a3\",\"type\":\"Circle\"},{\"attributes\":{\"callback\":null,\"plot\":{\"id\":\"1fae314f-5af9-4416-9a56-9377734288d6\",\"subtype\":\"Figure\",\"type\":\"Plot\"},\"tooltips\":[[\"atleta\",\"@player_name\"]]},\"id\":\"cfa97158-254d-4f64-9e6e-3a05a18b3d16\",\"type\":\"HoverTool\"},{\"attributes\":{\"plot\":{\"id\":\"1fae314f-5af9-4416-9a56-9377734288d6\",\"subtype\":\"Figure\",\"type\":\"Plot\"}},\"id\":\"583f526b-f8dc-43af-8362-f52e30d45616\",\"type\":\"PreviewSaveTool\"},{\"attributes\":{\"plot\":{\"id\":\"f8103876-7f50-4c2f-9579-c7feedc99ec6\",\"subtype\":\"Figure\",\"type\":\"Plot\"},\"ticker\":{\"id\":\"17aeabab-427b-43d7-8c08-c707f796e2ab\",\"type\":\"BasicTicker\"}},\"id\":\"2861fd8e-8dfb-4fdd-8c81-f79b80895cb1\",\"type\":\"Grid\"},{\"attributes\":{},\"id\":\"3251ef16-44d2-4080-afd2-eb703e7f487a\",\"type\":\"BasicTickFormatter\"},{\"attributes\":{\"dimension\":1,\"plot\":{\"id\":\"1fae314f-5af9-4416-9a56-9377734288d6\",\"subtype\":\"Figure\",\"type\":\"Plot\"},\"ticker\":{\"id\":\"36928a9e-7fb3-457c-b9a1-a612546d4b53\",\"type\":\"BasicTicker\"}},\"id\":\"06a7f54a-9f5a-4f11-b290-98134561cf2d\",\"type\":\"Grid\"},{\"attributes\":{\"fill_alpha\":{\"value\":0.1},\"fill_color\":{\"value\":\"#1f77b4\"},\"line_alpha\":{\"value\":0.1},\"line_color\":{\"value\":\"#1f77b4\"},\"size\":{\"units\":\"screen\",\"value\":20},\"x\":{\"field\":\"x\"},\"y\":{\"field\":\"y\"}},\"id\":\"08b66961-4559-4ad1-b4d5-29fc6431a722\",\"type\":\"Circle\"},{\"attributes\":{},\"id\":\"a88a09ef-8d6c-4128-8a1c-8f51a816ec0c\",\"type\":\"BasicTickFormatter\"},{\"attributes\":{\"callback\":null,\"column_names\":[\"pais\",\"index\",\"dif_gol\",\"percent\",\"y\",\"x\"],\"data\":{\"dif_gol\":[0,1,2,3,4,5,6,7,0,1,2,3,4,5,6,7,8,0,1,2,3,4,5,6,9,0,1,2,3,4,5,6,7,8,0,1,2,3,4,5,6,7,0,1,2,3,4,5,6,7,10,0,1,2,3,4,5,6,0,1,2,3,4,5,6,7,0,1,2,3,4,5,6,7,9,0,1,2,3,4,5,6,7,8,0,1,2,3,4,5,6,7],\"index\":[0,1,2,3,4,5,6,7,8,9,10,11,12,13,14,15,16,17,18,19,20,21,22,23,24,25,26,27,28,29,30,31,32,33,34,35,36,37,38,39,40,41,42,43,44,45,46,47,48,49,50,51,52,53,54,55,56,57,58,59,60,61,62,63,64,65,66,67,68,69,70,71,72,73,74,75,76,77,78,79,80,81,82,83,84,85,86,87,88,89,90,91],\"pais\":[\"Belgium\",\"Belgium\",\"Belgium\",\"Belgium\",\"Belgium\",\"Belgium\",\"Belgium\",\"Belgium\",\"England\",\"England\",\"England\",\"England\",\"England\",\"England\",\"England\",\"England\",\"England\",\"France\",\"France\",\"France\",\"France\",\"France\",\"France\",\"France\",\"France\",\"Germany\",\"Germany\",\"Germany\",\"Germany\",\"Germany\",\"Germany\",\"Germany\",\"Germany\",\"Germany\",\"Italy\",\"Italy\",\"Italy\",\"Italy\",\"Italy\",\"Italy\",\"Italy\",\"Italy\",\"Netherlands\",\"Netherlands\",\"Netherlands\",\"Netherlands\",\"Netherlands\",\"Netherlands\",\"Netherlands\",\"Netherlands\",\"Netherlands\",\"Poland\",\"Poland\",\"Poland\",\"Poland\",\"Poland\",\"Poland\",\"Poland\",\"Portugal\",\"Portugal\",\"Portugal\",\"Portugal\",\"Portugal\",\"Portugal\",\"Portugal\",\"Portugal\",\"Scotland\",\"Scotland\",\"Scotland\",\"Scotland\",\"Scotland\",\"Scotland\",\"Scotland\",\"Scotland\",\"Scotland\",\"Spain\",\"Spain\",\"Spain\",\"Spain\",\"Spain\",\"Spain\",\"Spain\",\"Spain\",\"Spain\",\"Switzerland\",\"Switzerland\",\"Switzerland\",\"Switzerland\",\"Switzerland\",\"Switzerland\",\"Switzerland\",\"Switzerland\"],\"percent\":[0.24594907407407407,0.36689814814814814,0.23842592592592593,0.09375,0.03587962962962963,0.011574074074074073,0.006944444444444444,0.0005787037037037037,0.25848303393213573,0.37791084497671323,0.20658682634730538,0.09880239520958084,0.03592814371257485,0.014970059880239521,0.0053226879574184965,0.0006653359946773121,0.0013306719893546241,0.2825657894736842,0.3819078947368421,0.21710526315789475,0.07730263157894737,0.03256578947368421,0.007236842105263158,0.000986842105263158,0.0003289473684210526,0.24387254901960784,0.3472222222222222,0.22794117647058823,0.11070261437908496,0.049019607843137254,0.014705882352941176,0.003676470588235294,0.0024509803921568627,0.0004084967320261438,0.2638382499171362,0.3788531653960888,0.23268147166059,0.09115014915478953,0.02684786211468346,0.004308916141862778,0.0009943652635067948,0.001325820351342393,0.23733660130718953,0.3002450980392157,0.24959150326797386,0.12826797385620914,0.056372549019607844,0.017973856209150325,0.007761437908496732,0.002042483660130719,0.0004084967320261438,0.2734375,0.39010416666666664,0.21041666666666667,0.0875,0.028645833333333332,0.0078125,0.0020833333333333333,0.2597465886939571,0.39035087719298245,0.21442495126705652,0.07943469785575048,0.037037037037037035,0.015594541910331383,0.0029239766081871343,0.0004873294346978557,0.2450657894736842,0.3925438596491228,0.20339912280701755,0.09649122807017543,0.044407894736842105,0.01206140350877193,0.003837719298245614,0.001644736842105263,0.0005482456140350877,0.23157894736842105,0.3832236842105263,0.20657894736842106,0.1006578947368421,0.05098684210526316,0.016776315789473684,0.00625,0.001973684210526316,0.001973684210526316,0.24331926863572434,0.349507735583685,0.22573839662447256,0.10759493670886076,0.05414908579465542,0.011954992967651195,0.005625879043600563,0.002109704641350211],\"x\":[0,1,2,3,4,5,6,7,0,1,2,3,4,5,6,7,8,0,1,2,3,4,5,6,9,0,1,2,3,4,5,6,7,8,0,1,2,3,4,5,6,7,0,1,2,3,4,5,6,7,10,0,1,2,3,4,5,6,0,1,2,3,4,5,6,7,0,1,2,3,4,5,6,7,9,0,1,2,3,4,5,6,7,8,0,1,2,3,4,5,6,7],\"y\":[0.24594907407407407,0.36689814814814814,0.23842592592592593,0.09375,0.03587962962962963,0.011574074074074073,0.006944444444444444,0.0005787037037037037,0.25848303393213573,0.37791084497671323,0.20658682634730538,0.09880239520958084,0.03592814371257485,0.014970059880239521,0.0053226879574184965,0.0006653359946773121,0.0013306719893546241,0.2825657894736842,0.3819078947368421,0.21710526315789475,0.07730263157894737,0.03256578947368421,0.007236842105263158,0.000986842105263158,0.0003289473684210526,0.24387254901960784,0.3472222222222222,0.22794117647058823,0.11070261437908496,0.049019607843137254,0.014705882352941176,0.003676470588235294,0.0024509803921568627,0.0004084967320261438,0.2638382499171362,0.3788531653960888,0.23268147166059,0.09115014915478953,0.02684786211468346,0.004308916141862778,0.0009943652635067948,0.001325820351342393,0.23733660130718953,0.3002450980392157,0.24959150326797386,0.12826797385620914,0.056372549019607844,0.017973856209150325,0.007761437908496732,0.002042483660130719,0.0004084967320261438,0.2734375,0.39010416666666664,0.21041666666666667,0.0875,0.028645833333333332,0.0078125,0.0020833333333333333,0.2597465886939571,0.39035087719298245,0.21442495126705652,0.07943469785575048,0.037037037037037035,0.015594541910331383,0.0029239766081871343,0.0004873294346978557,0.2450657894736842,0.3925438596491228,0.20339912280701755,0.09649122807017543,0.044407894736842105,0.01206140350877193,0.003837719298245614,0.001644736842105263,0.0005482456140350877,0.23157894736842105,0.3832236842105263,0.20657894736842106,0.1006578947368421,0.05098684210526316,0.016776315789473684,0.00625,0.001973684210526316,0.001973684210526316,0.24331926863572434,0.349507735583685,0.22573839662447256,0.10759493670886076,0.05414908579465542,0.011954992967651195,0.005625879043600563,0.002109704641350211]}},\"id\":\"b235259b-26b3-4763-bc14-a7726a3feda9\",\"type\":\"ColumnDataSource\"},{\"attributes\":{\"callback\":null},\"id\":\"e052627a-3a30-4b9f-bace-02d45efb8926\",\"type\":\"DataRange1d\"},{\"attributes\":{\"overlay\":{\"id\":\"8fa24edf-4c97-420b-ab44-eb48cef742c0\",\"type\":\"BoxAnnotation\"},\"plot\":{\"id\":\"1fae314f-5af9-4416-9a56-9377734288d6\",\"subtype\":\"Figure\",\"type\":\"Plot\"}},\"id\":\"644a53d9-947a-4eb3-b895-182bd56504f5\",\"type\":\"BoxZoomTool\"},{\"attributes\":{\"plot\":{\"id\":\"f8103876-7f50-4c2f-9579-c7feedc99ec6\",\"subtype\":\"Figure\",\"type\":\"Plot\"}},\"id\":\"71eb8f75-550a-4b93-bd0e-3398ecd267b2\",\"type\":\"PreviewSaveTool\"},{\"attributes\":{\"plot\":{\"id\":\"f8103876-7f50-4c2f-9579-c7feedc99ec6\",\"subtype\":\"Figure\",\"type\":\"Plot\"}},\"id\":\"4f9802de-fdfa-442e-890d-0e89fb43dea9\",\"type\":\"PanTool\"}],\"root_ids\":[\"f8103876-7f50-4c2f-9579-c7feedc99ec6\",\"1fae314f-5af9-4416-9a56-9377734288d6\"]},\"title\":\"Bokeh Application\",\"version\":\"0.11.1\"}};\n",
       "            var render_items = [{\"docid\":\"3b78d6be-47c3-4e83-9f44-9a6aa8e1a0cf\",\"elementid\":\"9c68135e-8bdf-47e9-9654-ae3b98a933fa\",\"modelid\":\"1fae314f-5af9-4416-9a56-9377734288d6\",\"notebook_comms_target\":\"026f2f2f-b7ea-41e4-aedb-19e035ee95d8\"}];\n",
       "            \n",
       "            Bokeh.embed.embed_items(docs_json, render_items);\n",
       "        });\n",
       "      },\n",
       "      function(Bokeh) {\n",
       "      }\n",
       "    ];\n",
       "  \n",
       "    function run_inline_js() {\n",
       "      for (var i = 0; i < inline_js.length; i++) {\n",
       "        inline_js[i](window.Bokeh);\n",
       "      }\n",
       "    }\n",
       "  \n",
       "    if (window._bokeh_is_loading === 0) {\n",
       "      console.log(\"Bokeh: BokehJS loaded, going straight to plotting\");\n",
       "      run_inline_js();\n",
       "    } else {\n",
       "      load_libs(js_urls, function() {\n",
       "        console.log(\"Bokeh: BokehJS plotting callback run at\", now());\n",
       "        run_inline_js();\n",
       "      });\n",
       "    }\n",
       "  }(this));\n",
       "</script>"
      ]
     },
     "metadata": {},
     "output_type": "display_data"
    },
    {
     "data": {
      "text/html": [
       "<p><code>&lt;Bokeh Notebook handle for <strong>In[39]</strong>&gt;</code></p>"
      ],
      "text/plain": [
       "<bokeh.io._CommsHandle at 0x15debb00>"
      ]
     },
     "execution_count": 39,
     "metadata": {},
     "output_type": "execute_result"
    }
   ],
   "source": [
    "tmp = players[cols]\n",
    "tmp['comp1'], tmp['comp2'] = tsne_comp[:,0], tsne_comp[:,1]\n",
    "tmp = tmp[tmp.overall_rating >= 80]\n",
    "\n",
    "tools = 'box_zoom, pan, save, reset'\n",
    "fig = figure(tools=tools, title='t-SNE', responsive=True,\n",
    "             x_axis_label='Component 1', y_axis_label='Component 2')\n",
    "\n",
    "source = ColumnDataSource(tmp)\n",
    "hover = HoverTool()\n",
    "hover.tooltips=[('atleta','@player_name')]\n",
    "fig.scatter(tmp['comp1'], tmp['comp2'], source=source, size=10, alpha=1, line_color='blue', fill_color='blue')\n",
    "\n",
    "fig.add_tools(hover)\n",
    "\n",
    "show(fig)"
   ]
  },
  {
   "cell_type": "code",
   "execution_count": 40,
   "metadata": {
    "collapsed": false
   },
   "outputs": [
    {
     "data": {
      "text/plain": [
       "<matplotlib.axes._subplots.AxesSubplot at 0x15debcc0>"
      ]
     },
     "execution_count": 40,
     "metadata": {},
     "output_type": "execute_result"
    },
    {
     "data": {
      "image/png": "[encoded data removed]",
      "text/plain": [
       "<matplotlib.figure.Figure at 0x17fad748>"
      ]
     },
     "metadata": {},
     "output_type": "display_data"
    }
   ],
   "source": [
    "sns.kdeplot(players.overall_rating, shade=True, color=\"b\")"
   ]
  },
  {
   "cell_type": "code",
   "execution_count": 41,
   "metadata": {
    "collapsed": false
   },
   "outputs": [
    {
     "data": {
      "text/plain": [
       "<matplotlib.axes._subplots.AxesSubplot at 0xc09de10>"
      ]
     },
     "execution_count": 41,
     "metadata": {},
     "output_type": "execute_result"
    },
    {
     "data": {
      "image/png": "[encoded data removed]",
      "text/plain": [
       "<matplotlib.figure.Figure at 0x44555390>"
      ]
     },
     "metadata": {},
     "output_type": "display_data"
    }
   ],
   "source": [
    "sns.kdeplot(players.potential, shade=True, color=\"b\")"
   ]
  },
  {
   "cell_type": "code",
   "execution_count": 42,
   "metadata": {
    "collapsed": false
   },
   "outputs": [
    {
     "data": {
      "text/plain": [
       "<matplotlib.axes._subplots.AxesSubplot at 0x4429f390>"
      ]
     },
     "execution_count": 42,
     "metadata": {},
     "output_type": "execute_result"
    },
    {
     "data": {
      "image/png": "[encoded data removed]",
      "text/plain": [
       "<matplotlib.figure.Figure at 0x43f01f60>"
      ]
     },
     "metadata": {},
     "output_type": "display_data"
    }
   ],
   "source": [
    "players['potential_growth'] = players.potential - players.overall_rating\n",
    "sns.kdeplot(players.potential_growth, shade=True, color=\"b\")"
   ]
  },
  {
   "cell_type": "code",
   "execution_count": 43,
   "metadata": {
    "collapsed": false
   },
   "outputs": [
    {
     "name": "stderr",
     "output_type": "stream",
     "text": [
      "C:\\Users\\renato.aranha\\AppData\\Local\\Continuum\\Anaconda3\\lib\\site-packages\\ipykernel\\__main__.py:1: FutureWarning: sort(columns=....) is deprecated, use sort_values(by=.....)\n",
      "  if __name__ == '__main__':\n"
     ]
    },
    {
     "data": {
      "text/html": [
       "<div>\n",
       "<table border=\"1\" class=\"dataframe\">\n",
       "  <thead>\n",
       "    <tr style=\"text-align: right;\">\n",
       "      <th></th>\n",
       "      <th>player_name</th>\n",
       "      <th>potential_growth</th>\n",
       "    </tr>\n",
       "  </thead>\n",
       "  <tbody>\n",
       "    <tr>\n",
       "      <th>172154</th>\n",
       "      <td>Tom Davies</td>\n",
       "      <td>22.0</td>\n",
       "    </tr>\n",
       "    <tr>\n",
       "      <th>98200</th>\n",
       "      <td>Kylian Mbappe Lottin</td>\n",
       "      <td>20.0</td>\n",
       "    </tr>\n",
       "    <tr>\n",
       "      <th>146698</th>\n",
       "      <td>Reece Oxford</td>\n",
       "      <td>20.0</td>\n",
       "    </tr>\n",
       "    <tr>\n",
       "      <th>68655</th>\n",
       "      <td>Harry Souttar</td>\n",
       "      <td>20.0</td>\n",
       "    </tr>\n",
       "    <tr>\n",
       "      <th>76538</th>\n",
       "      <td>Jan Bamert</td>\n",
       "      <td>19.0</td>\n",
       "    </tr>\n",
       "    <tr>\n",
       "      <th>85512</th>\n",
       "      <td>Jonathan Leko</td>\n",
       "      <td>19.0</td>\n",
       "    </tr>\n",
       "    <tr>\n",
       "      <th>54889</th>\n",
       "      <td>Felix Passlack</td>\n",
       "      <td>19.0</td>\n",
       "    </tr>\n",
       "    <tr>\n",
       "      <th>30177</th>\n",
       "      <td>Christopher McLaughlin</td>\n",
       "      <td>19.0</td>\n",
       "    </tr>\n",
       "    <tr>\n",
       "      <th>158105</th>\n",
       "      <td>Sean McKirdy</td>\n",
       "      <td>19.0</td>\n",
       "    </tr>\n",
       "    <tr>\n",
       "      <th>161823</th>\n",
       "      <td>Silvan Hefti</td>\n",
       "      <td>19.0</td>\n",
       "    </tr>\n",
       "  </tbody>\n",
       "</table>\n",
       "</div>"
      ],
      "text/plain": [
       "                   player_name  potential_growth\n",
       "172154              Tom Davies              22.0\n",
       "98200     Kylian Mbappe Lottin              20.0\n",
       "146698            Reece Oxford              20.0\n",
       "68655            Harry Souttar              20.0\n",
       "76538               Jan Bamert              19.0\n",
       "85512            Jonathan Leko              19.0\n",
       "54889           Felix Passlack              19.0\n",
       "30177   Christopher McLaughlin              19.0\n",
       "158105            Sean McKirdy              19.0\n",
       "161823            Silvan Hefti              19.0"
      ]
     },
     "execution_count": 43,
     "metadata": {},
     "output_type": "execute_result"
    }
   ],
   "source": [
    "players[['player_name','potential_growth']].sort('potential_growth',ascending=False).head(10)"
   ]
  },
  {
   "cell_type": "code",
   "execution_count": 44,
   "metadata": {
    "collapsed": false
   },
   "outputs": [
    {
     "data": {
      "text/html": [
       "<div>\n",
       "<table border=\"1\" class=\"dataframe\">\n",
       "  <thead>\n",
       "    <tr style=\"text-align: right;\">\n",
       "      <th></th>\n",
       "      <th>year</th>\n",
       "      <th>player_api_id</th>\n",
       "      <th>player_name</th>\n",
       "      <th>overall_rating</th>\n",
       "    </tr>\n",
       "  </thead>\n",
       "  <tbody>\n",
       "    <tr>\n",
       "      <th>93</th>\n",
       "      <td>2013</td>\n",
       "      <td>30981</td>\n",
       "      <td>Lionel Messi</td>\n",
       "      <td>94.000000</td>\n",
       "    </tr>\n",
       "    <tr>\n",
       "      <th>78</th>\n",
       "      <td>2012</td>\n",
       "      <td>30981</td>\n",
       "      <td>Lionel Messi</td>\n",
       "      <td>94.000000</td>\n",
       "    </tr>\n",
       "    <tr>\n",
       "      <th>123</th>\n",
       "      <td>2015</td>\n",
       "      <td>30981</td>\n",
       "      <td>Lionel Messi</td>\n",
       "      <td>93.428571</td>\n",
       "    </tr>\n",
       "    <tr>\n",
       "      <th>108</th>\n",
       "      <td>2014</td>\n",
       "      <td>30981</td>\n",
       "      <td>Lionel Messi</td>\n",
       "      <td>93.333333</td>\n",
       "    </tr>\n",
       "    <tr>\n",
       "      <th>121</th>\n",
       "      <td>2015</td>\n",
       "      <td>30893</td>\n",
       "      <td>Cristiano Ronaldo</td>\n",
       "      <td>92.600000</td>\n",
       "    </tr>\n",
       "    <tr>\n",
       "      <th>91</th>\n",
       "      <td>2013</td>\n",
       "      <td>30893</td>\n",
       "      <td>Cristiano Ronaldo</td>\n",
       "      <td>92.000000</td>\n",
       "    </tr>\n",
       "    <tr>\n",
       "      <th>106</th>\n",
       "      <td>2014</td>\n",
       "      <td>30893</td>\n",
       "      <td>Cristiano Ronaldo</td>\n",
       "      <td>92.000000</td>\n",
       "    </tr>\n",
       "    <tr>\n",
       "      <th>63</th>\n",
       "      <td>2011</td>\n",
       "      <td>30981</td>\n",
       "      <td>Lionel Messi</td>\n",
       "      <td>92.000000</td>\n",
       "    </tr>\n",
       "    <tr>\n",
       "      <th>76</th>\n",
       "      <td>2012</td>\n",
       "      <td>30893</td>\n",
       "      <td>Cristiano Ronaldo</td>\n",
       "      <td>92.000000</td>\n",
       "    </tr>\n",
       "    <tr>\n",
       "      <th>17</th>\n",
       "      <td>2008</td>\n",
       "      <td>30893</td>\n",
       "      <td>Cristiano Ronaldo</td>\n",
       "      <td>91.000000</td>\n",
       "    </tr>\n",
       "    <tr>\n",
       "      <th>61</th>\n",
       "      <td>2011</td>\n",
       "      <td>30893</td>\n",
       "      <td>Cristiano Ronaldo</td>\n",
       "      <td>90.500000</td>\n",
       "    </tr>\n",
       "    <tr>\n",
       "      <th>77</th>\n",
       "      <td>2012</td>\n",
       "      <td>30955</td>\n",
       "      <td>Andres Iniesta</td>\n",
       "      <td>90.500000</td>\n",
       "    </tr>\n",
       "    <tr>\n",
       "      <th>48</th>\n",
       "      <td>2010</td>\n",
       "      <td>30981</td>\n",
       "      <td>Lionel Messi</td>\n",
       "      <td>90.000000</td>\n",
       "    </tr>\n",
       "    <tr>\n",
       "      <th>120</th>\n",
       "      <td>2015</td>\n",
       "      <td>30834</td>\n",
       "      <td>Arjen Robben</td>\n",
       "      <td>90.000000</td>\n",
       "    </tr>\n",
       "    <tr>\n",
       "      <th>19</th>\n",
       "      <td>2008</td>\n",
       "      <td>30981</td>\n",
       "      <td>Lionel Messi</td>\n",
       "      <td>90.000000</td>\n",
       "    </tr>\n",
       "  </tbody>\n",
       "</table>\n",
       "</div>"
      ],
      "text/plain": [
       "     year  player_api_id        player_name  overall_rating\n",
       "93   2013          30981       Lionel Messi       94.000000\n",
       "78   2012          30981       Lionel Messi       94.000000\n",
       "123  2015          30981       Lionel Messi       93.428571\n",
       "108  2014          30981       Lionel Messi       93.333333\n",
       "121  2015          30893  Cristiano Ronaldo       92.600000\n",
       "91   2013          30893  Cristiano Ronaldo       92.000000\n",
       "106  2014          30893  Cristiano Ronaldo       92.000000\n",
       "63   2011          30981       Lionel Messi       92.000000\n",
       "76   2012          30893  Cristiano Ronaldo       92.000000\n",
       "17   2008          30893  Cristiano Ronaldo       91.000000\n",
       "61   2011          30893  Cristiano Ronaldo       90.500000\n",
       "77   2012          30955     Andres Iniesta       90.500000\n",
       "48   2010          30981       Lionel Messi       90.000000\n",
       "120  2015          30834       Arjen Robben       90.000000\n",
       "19   2008          30981       Lionel Messi       90.000000"
      ]
     },
     "execution_count": 44,
     "metadata": {},
     "output_type": "execute_result"
    }
   ],
   "source": [
    "players = players.sort_values('overall_rating', ascending=False)\n",
    "best_players = players[['player_api_id','player_name']].head(15)\n",
    "ids = tuple(best_players.player_api_id.unique())\n",
    "\n",
    "query = '''SELECT player_api_id, date_stat, overall_rating, potential\n",
    "           FROM Player_Stats WHERE player_api_id in %s''' % (ids,)\n",
    "\n",
    "evolution = pd.read_sql(query, conn)\n",
    "evolution = pd.merge(evolution, best_players)\n",
    "evolution['year'] = evolution.date_stat.str[:4].apply(int)\n",
    "evolution = evolution.groupby(['year','player_api_id','player_name']).overall_rating.mean()\n",
    "evolution = evolution.reset_index()\n",
    "\n",
    "evolution.sort_values('overall_rating', ascending=False).head(15)\n",
    "#best_players"
   ]
  },
  {
   "cell_type": "markdown",
   "metadata": {},
   "source": [
    "Evolução dos melhores jogadores:"
   ]
  },
  {
   "cell_type": "code",
   "execution_count": 45,
   "metadata": {
    "collapsed": false
   },
   "outputs": [
    {
     "data": {
      "image/png": "[encoded data removed]",
      "text/plain": [
       "<matplotlib.figure.Figure at 0x43c3aba8>"
      ]
     },
     "metadata": {},
     "output_type": "display_data"
    }
   ],
   "source": [
    "a = sns.factorplot(data=evolution[evolution.player_api_id.isin(ids[0:8])], x='year',\n",
    "                   y='overall_rating', hue='player_name', size=6, aspect=2,kind='point',orient='v',legend_out=True)"
   ]
  },
  {
   "cell_type": "code",
   "execution_count": 46,
   "metadata": {
    "collapsed": false
   },
   "outputs": [
    {
     "data": {
      "image/png": "[encoded data removed]",
      "text/plain": [
       "<matplotlib.figure.Figure at 0x41811048>"
      ]
     },
     "metadata": {},
     "output_type": "display_data"
    }
   ],
   "source": [
    "a = sns.factorplot(data=evolution[evolution.player_api_id.isin(ids[8:16])], x='year',\n",
    "                   y='overall_rating', hue='player_name', size=6, aspect=2,kind='point',orient='v',legend_out=True)"
   ]
  },
  {
   "cell_type": "code",
   "execution_count": 47,
   "metadata": {
    "collapsed": false
   },
   "outputs": [
    {
     "data": {
      "text/html": [
       "<div>\n",
       "<table border=\"1\" class=\"dataframe\">\n",
       "  <thead>\n",
       "    <tr style=\"text-align: right;\">\n",
       "      <th></th>\n",
       "      <th>id</th>\n",
       "      <th>player_api_id</th>\n",
       "      <th>player_name</th>\n",
       "      <th>player_fifa_api_id</th>\n",
       "      <th>birthday</th>\n",
       "      <th>height</th>\n",
       "      <th>weight</th>\n",
       "      <th>ano_nasc</th>\n",
       "      <th>idade</th>\n",
       "      <th>idade_em_2007</th>\n",
       "    </tr>\n",
       "  </thead>\n",
       "  <tbody>\n",
       "    <tr>\n",
       "      <th>0</th>\n",
       "      <td>1</td>\n",
       "      <td>505942</td>\n",
       "      <td>Aaron Appindangoye</td>\n",
       "      <td>218353</td>\n",
       "      <td>1992-02-29 00:00:00</td>\n",
       "      <td>182.88</td>\n",
       "      <td>187</td>\n",
       "      <td>1992</td>\n",
       "      <td>24</td>\n",
       "      <td>15</td>\n",
       "    </tr>\n",
       "    <tr>\n",
       "      <th>1</th>\n",
       "      <td>2</td>\n",
       "      <td>155782</td>\n",
       "      <td>Aaron Cresswell</td>\n",
       "      <td>189615</td>\n",
       "      <td>1989-12-15 00:00:00</td>\n",
       "      <td>170.18</td>\n",
       "      <td>146</td>\n",
       "      <td>1989</td>\n",
       "      <td>27</td>\n",
       "      <td>18</td>\n",
       "    </tr>\n",
       "    <tr>\n",
       "      <th>2</th>\n",
       "      <td>3</td>\n",
       "      <td>162549</td>\n",
       "      <td>Aaron Doran</td>\n",
       "      <td>186170</td>\n",
       "      <td>1991-05-13 00:00:00</td>\n",
       "      <td>170.18</td>\n",
       "      <td>163</td>\n",
       "      <td>1991</td>\n",
       "      <td>25</td>\n",
       "      <td>16</td>\n",
       "    </tr>\n",
       "    <tr>\n",
       "      <th>3</th>\n",
       "      <td>4</td>\n",
       "      <td>30572</td>\n",
       "      <td>Aaron Galindo</td>\n",
       "      <td>140161</td>\n",
       "      <td>1982-05-08 00:00:00</td>\n",
       "      <td>182.88</td>\n",
       "      <td>198</td>\n",
       "      <td>1982</td>\n",
       "      <td>34</td>\n",
       "      <td>25</td>\n",
       "    </tr>\n",
       "    <tr>\n",
       "      <th>4</th>\n",
       "      <td>5</td>\n",
       "      <td>23780</td>\n",
       "      <td>Aaron Hughes</td>\n",
       "      <td>17725</td>\n",
       "      <td>1979-11-08 00:00:00</td>\n",
       "      <td>182.88</td>\n",
       "      <td>154</td>\n",
       "      <td>1979</td>\n",
       "      <td>37</td>\n",
       "      <td>28</td>\n",
       "    </tr>\n",
       "  </tbody>\n",
       "</table>\n",
       "</div>"
      ],
      "text/plain": [
       "   id  player_api_id         player_name  player_fifa_api_id  \\\n",
       "0   1         505942  Aaron Appindangoye              218353   \n",
       "1   2         155782     Aaron Cresswell              189615   \n",
       "2   3         162549         Aaron Doran              186170   \n",
       "3   4          30572       Aaron Galindo              140161   \n",
       "4   5          23780        Aaron Hughes               17725   \n",
       "\n",
       "              birthday  height  weight  ano_nasc  idade  idade_em_2007  \n",
       "0  1992-02-29 00:00:00  182.88     187      1992     24             15  \n",
       "1  1989-12-15 00:00:00  170.18     146      1989     27             18  \n",
       "2  1991-05-13 00:00:00  170.18     163      1991     25             16  \n",
       "3  1982-05-08 00:00:00  182.88     198      1982     34             25  \n",
       "4  1979-11-08 00:00:00  182.88     154      1979     37             28  "
      ]
     },
     "execution_count": 47,
     "metadata": {},
     "output_type": "execute_result"
    }
   ],
   "source": [
    "Player['ano_nasc'] = Player.birthday.str[:4].apply(int)\n",
    "Player['idade'] = 2016 - Player['ano_nasc']\n",
    "Player['idade_em_2007'] = 2007 - Player['ano_nasc']\n",
    "Player.head()"
   ]
  },
  {
   "cell_type": "markdown",
   "metadata": {},
   "source": [
    "Evolução dos melhores jogadores (tentativa de abertura por idade):"
   ]
  },
  {
   "cell_type": "code",
   "execution_count": 48,
   "metadata": {
    "collapsed": false
   },
   "outputs": [
    {
     "name": "stderr",
     "output_type": "stream",
     "text": [
      "C:\\Users\\renato.aranha\\AppData\\Local\\Continuum\\Anaconda3\\lib\\site-packages\\ipykernel\\__main__.py:2: SettingWithCopyWarning: \n",
      "A value is trying to be set on a copy of a slice from a DataFrame.\n",
      "Try using .loc[row_indexer,col_indexer] = value instead\n",
      "\n",
      "See the caveats in the documentation: http://pandas.pydata.org/pandas-docs/stable/indexing.html#indexing-view-versus-copy\n",
      "  from ipykernel import kernelapp as app\n",
      "C:\\Users\\renato.aranha\\AppData\\Local\\Continuum\\Anaconda3\\lib\\site-packages\\ipykernel\\__main__.py:3: SettingWithCopyWarning: \n",
      "A value is trying to be set on a copy of a slice from a DataFrame.\n",
      "Try using .loc[row_indexer,col_indexer] = value instead\n",
      "\n",
      "See the caveats in the documentation: http://pandas.pydata.org/pandas-docs/stable/indexing.html#indexing-view-versus-copy\n",
      "  app.launch_new_instance()\n"
     ]
    },
    {
     "data": {
      "text/html": [
       "\n",
       "\n",
       "    <div class=\"plotdiv\" id=\"5499c85d-4a91-449a-aad6-096510223b51\"></div>\n",
       "<script type=\"text/javascript\">\n",
       "  \n",
       "  (function(global) {\n",
       "    function now() {\n",
       "      return new Date();\n",
       "    }\n",
       "  \n",
       "    if (typeof (window._bokeh_onload_callbacks) === \"undefined\") {\n",
       "      window._bokeh_onload_callbacks = [];\n",
       "    }\n",
       "  \n",
       "    function run_callbacks() {\n",
       "      window._bokeh_onload_callbacks.forEach(function(callback) { callback() });\n",
       "      delete window._bokeh_onload_callbacks\n",
       "      console.info(\"Bokeh: all callbacks have finished\");\n",
       "    }\n",
       "  \n",
       "    function load_libs(js_urls, callback) {\n",
       "      window._bokeh_onload_callbacks.push(callback);\n",
       "      if (window._bokeh_is_loading > 0) {\n",
       "        console.log(\"Bokeh: BokehJS is being loaded, scheduling callback at\", now());\n",
       "        return null;\n",
       "      }\n",
       "      if (js_urls == null || js_urls.length === 0) {\n",
       "        run_callbacks();\n",
       "        return null;\n",
       "      }\n",
       "      console.log(\"Bokeh: BokehJS not loaded, scheduling load and callback at\", now());\n",
       "      window._bokeh_is_loading = js_urls.length;\n",
       "      for (var i = 0; i < js_urls.length; i++) {\n",
       "        var url = js_urls[i];\n",
       "        var s = document.createElement('script');\n",
       "        s.src = url;\n",
       "        s.async = false;\n",
       "        s.onreadystatechange = s.onload = function() {\n",
       "          window._bokeh_is_loading--;\n",
       "          if (window._bokeh_is_loading === 0) {\n",
       "            console.log(\"Bokeh: all BokehJS libraries loaded\");\n",
       "            run_callbacks()\n",
       "          }\n",
       "        };\n",
       "        s.onerror = function() {\n",
       "          console.warn(\"failed to load library \" + url);\n",
       "        };\n",
       "        console.log(\"Bokeh: injecting script tag for BokehJS library: \", url);\n",
       "        document.getElementsByTagName(\"head\")[0].appendChild(s);\n",
       "      }\n",
       "    };var element = document.getElementById(\"5499c85d-4a91-449a-aad6-096510223b51\");\n",
       "    if (element == null) {\n",
       "      console.log(\"Bokeh: ERROR: autoload.js configured with elementid '5499c85d-4a91-449a-aad6-096510223b51' but no matching script tag was found. \")\n",
       "      return false;\n",
       "    }\n",
       "  \n",
       "    var js_urls = [];\n",
       "  \n",
       "    var inline_js = [\n",
       "      function(Bokeh) {\n",
       "        Bokeh.$(function() {\n",
       "            var docs_json = {\"8ca766e3-9fd4-41d9-8894-59fad76839b8\":{\"roots\":{\"references\":[{\"attributes\":{\"plot\":{\"id\":\"7c69fc51-ca26-49f4-82db-5b913289350a\",\"subtype\":\"Figure\",\"type\":\"Plot\"},\"ticker\":{\"id\":\"b819d39d-6208-4b92-980f-004725dcc7d8\",\"type\":\"BasicTicker\"}},\"id\":\"7a24c80a-172c-4edd-94a3-e7a75c1d705d\",\"type\":\"Grid\"},{\"attributes\":{\"below\":[{\"id\":\"920e20c2-a984-483f-aca8-87882bc67fc8\",\"type\":\"LinearAxis\"}],\"left\":[{\"id\":\"90337d6b-9555-4311-8c4c-f885a2330b40\",\"type\":\"LinearAxis\"}],\"renderers\":[{\"id\":\"920e20c2-a984-483f-aca8-87882bc67fc8\",\"type\":\"LinearAxis\"},{\"id\":\"e939ba37-1a99-4cf4-ac6d-4804a80d14a6\",\"type\":\"Grid\"},{\"id\":\"90337d6b-9555-4311-8c4c-f885a2330b40\",\"type\":\"LinearAxis\"},{\"id\":\"06a7f54a-9f5a-4f11-b290-98134561cf2d\",\"type\":\"Grid\"},{\"id\":\"8fa24edf-4c97-420b-ab44-eb48cef742c0\",\"type\":\"BoxAnnotation\"},{\"id\":\"df9055fc-d86a-4a87-a31c-d253d4ef450b\",\"type\":\"GlyphRenderer\"}],\"responsive\":true,\"title\":\"t-SNE\",\"tool_events\":{\"id\":\"1743f135-4868-4e85-b38e-ec76fc2613ca\",\"type\":\"ToolEvents\"},\"tools\":[{\"id\":\"644a53d9-947a-4eb3-b895-182bd56504f5\",\"type\":\"BoxZoomTool\"},{\"id\":\"2e4f4349-561c-49ca-a60f-ba92ef6c0c34\",\"type\":\"PanTool\"},{\"id\":\"583f526b-f8dc-43af-8362-f52e30d45616\",\"type\":\"PreviewSaveTool\"},{\"id\":\"b1b94a96-457b-4940-a8ae-b32ab404bbe9\",\"type\":\"ResetTool\"},{\"id\":\"cfa97158-254d-4f64-9e6e-3a05a18b3d16\",\"type\":\"HoverTool\"}],\"x_range\":{\"id\":\"3ae81da9-3437-4d71-bade-287a037801d9\",\"type\":\"DataRange1d\"},\"y_range\":{\"id\":\"99ec1afa-f9d1-4cb9-b3d8-e41f033d1f60\",\"type\":\"DataRange1d\"}},\"id\":\"1fae314f-5af9-4416-9a56-9377734288d6\",\"subtype\":\"Figure\",\"type\":\"Plot\"},{\"attributes\":{\"axis_label\":\"Component 2\",\"formatter\":{\"id\":\"851e2cd3-728a-4055-ba7a-de3fe9c38e96\",\"type\":\"BasicTickFormatter\"},\"plot\":{\"id\":\"7c69fc51-ca26-49f4-82db-5b913289350a\",\"subtype\":\"Figure\",\"type\":\"Plot\"},\"ticker\":{\"id\":\"937068b7-3ca5-44da-bb46-4bd27da10a56\",\"type\":\"BasicTicker\"}},\"id\":\"f0dd7544-dfef-4c81-af71-710ee719551a\",\"type\":\"LinearAxis\"},{\"attributes\":{\"axis_label\":\"DIFERENCA DE GOLS\",\"formatter\":{\"id\":\"a593a719-fc08-4c3a-bcaf-75ab51bdfce4\",\"type\":\"BasicTickFormatter\"},\"plot\":{\"id\":\"f8103876-7f50-4c2f-9579-c7feedc99ec6\",\"subtype\":\"Figure\",\"type\":\"Plot\"},\"ticker\":{\"id\":\"17aeabab-427b-43d7-8c08-c707f796e2ab\",\"type\":\"BasicTicker\"}},\"id\":\"80ce789b-6421-4c00-ae22-5548668328d3\",\"type\":\"LinearAxis\"},{\"attributes\":{\"plot\":{\"id\":\"f8103876-7f50-4c2f-9579-c7feedc99ec6\",\"subtype\":\"Figure\",\"type\":\"Plot\"}},\"id\":\"3b5848b9-6c4d-413b-8a38-56aa4d57bdeb\",\"type\":\"ResetTool\"},{\"attributes\":{\"plot\":{\"id\":\"1fae314f-5af9-4416-9a56-9377734288d6\",\"subtype\":\"Figure\",\"type\":\"Plot\"}},\"id\":\"2e4f4349-561c-49ca-a60f-ba92ef6c0c34\",\"type\":\"PanTool\"},{\"attributes\":{\"axis_label\":\"Component 1\",\"formatter\":{\"id\":\"e822492a-4385-45b6-a883-e18b9aaec8cf\",\"type\":\"BasicTickFormatter\"},\"plot\":{\"id\":\"7c69fc51-ca26-49f4-82db-5b913289350a\",\"subtype\":\"Figure\",\"type\":\"Plot\"},\"ticker\":{\"id\":\"b819d39d-6208-4b92-980f-004725dcc7d8\",\"type\":\"BasicTicker\"}},\"id\":\"901988f3-ab8e-4370-916a-be01527fed8c\",\"type\":\"LinearAxis\"},{\"attributes\":{\"bottom_units\":\"screen\",\"fill_alpha\":{\"value\":0.5},\"fill_color\":{\"value\":\"lightgrey\"},\"left_units\":\"screen\",\"level\":\"overlay\",\"line_alpha\":{\"value\":1.0},\"line_color\":{\"value\":\"black\"},\"line_dash\":[4,4],\"line_width\":{\"value\":2},\"plot\":null,\"render_mode\":\"css\",\"right_units\":\"screen\",\"top_units\":\"screen\"},\"id\":\"af0d8cf2-564b-4299-8551-23fc8a60f652\",\"type\":\"BoxAnnotation\"},{\"attributes\":{\"callback\":null,\"plot\":{\"id\":\"7c69fc51-ca26-49f4-82db-5b913289350a\",\"subtype\":\"Figure\",\"type\":\"Plot\"},\"tooltips\":[[\"Jogador\",\"@player_name\"]]},\"id\":\"aba79c3a-9148-4efb-aa1d-1f271f513c5c\",\"type\":\"HoverTool\"},{\"attributes\":{\"plot\":{\"id\":\"1fae314f-5af9-4416-9a56-9377734288d6\",\"subtype\":\"Figure\",\"type\":\"Plot\"},\"ticker\":{\"id\":\"4be3444b-8e2b-49fc-badf-47b0f383ada9\",\"type\":\"BasicTicker\"}},\"id\":\"e939ba37-1a99-4cf4-ac6d-4804a80d14a6\",\"type\":\"Grid\"},{\"attributes\":{\"overlay\":{\"id\":\"9b03c39e-de94-4ac8-8d31-2bd9cf5bfc19\",\"type\":\"BoxAnnotation\"},\"plot\":{\"id\":\"f8103876-7f50-4c2f-9579-c7feedc99ec6\",\"subtype\":\"Figure\",\"type\":\"Plot\"}},\"id\":\"9d7a1862-efd8-4d23-a364-2e0281f85f8f\",\"type\":\"BoxZoomTool\"},{\"attributes\":{\"callback\":null,\"plot\":{\"id\":\"7c69fc51-ca26-49f4-82db-5b913289350a\",\"subtype\":\"Figure\",\"type\":\"Plot\"}},\"id\":\"1093eaed-9125-4116-93e2-2ca9c3319d26\",\"type\":\"TapTool\"},{\"attributes\":{\"data_source\":{\"id\":\"f6ff9131-4b9a-4fe7-865b-eab2dc888c50\",\"type\":\"ColumnDataSource\"},\"glyph\":{\"id\":\"52d80668-a65c-4883-b233-31c751764d61\",\"type\":\"Circle\"},\"hover_glyph\":null,\"nonselection_glyph\":{\"id\":\"8c3acb0c-fde0-409f-a9f0-09b915e13573\",\"type\":\"Circle\"},\"selection_glyph\":null},\"id\":\"0b48888b-8b45-46e3-bd9c-ff5d0e134322\",\"type\":\"GlyphRenderer\"},{\"attributes\":{\"dimension\":1,\"plot\":{\"id\":\"f8103876-7f50-4c2f-9579-c7feedc99ec6\",\"subtype\":\"Figure\",\"type\":\"Plot\"},\"ticker\":{\"id\":\"d0c71547-8e4d-48e2-8b7a-8d196bb9eae8\",\"type\":\"BasicTicker\"}},\"id\":\"eed337d3-cc54-43e9-89e7-c3004a297c95\",\"type\":\"Grid\"},{\"attributes\":{\"callback\":null},\"id\":\"7b62846c-ca51-4b5d-b2b3-cca5da3e7a8c\",\"type\":\"DataRange1d\"},{\"attributes\":{\"callback\":null},\"id\":\"177a133c-45ea-4627-a6c0-4b16e76fad7b\",\"type\":\"DataRange1d\"},{\"attributes\":{\"dimension\":1,\"plot\":{\"id\":\"7c69fc51-ca26-49f4-82db-5b913289350a\",\"subtype\":\"Figure\",\"type\":\"Plot\"},\"ticker\":{\"id\":\"937068b7-3ca5-44da-bb46-4bd27da10a56\",\"type\":\"BasicTicker\"}},\"id\":\"a3552f0d-807f-434d-93ba-9ffc871b8546\",\"type\":\"Grid\"},{\"attributes\":{\"callback\":null},\"id\":\"99ec1afa-f9d1-4cb9-b3d8-e41f033d1f60\",\"type\":\"DataRange1d\"},{\"attributes\":{\"fill_alpha\":{\"value\":0.1},\"fill_color\":{\"value\":\"#1f77b4\"},\"line_alpha\":{\"value\":0.1},\"line_color\":{\"value\":\"#1f77b4\"},\"size\":{\"units\":\"screen\",\"value\":20},\"x\":{\"field\":\"x\"},\"y\":{\"field\":\"y\"}},\"id\":\"08b66961-4559-4ad1-b4d5-29fc6431a722\",\"type\":\"Circle\"},{\"attributes\":{\"fill_color\":{\"value\":\"blue\"},\"line_color\":{\"value\":\"blue\"},\"size\":{\"units\":\"screen\",\"value\":10},\"x\":{\"field\":\"x\"},\"y\":{\"field\":\"y\"}},\"id\":\"52d80668-a65c-4883-b233-31c751764d61\",\"type\":\"Circle\"},{\"attributes\":{\"bottom_units\":\"screen\",\"fill_alpha\":{\"value\":0.5},\"fill_color\":{\"value\":\"lightgrey\"},\"left_units\":\"screen\",\"level\":\"overlay\",\"line_alpha\":{\"value\":1.0},\"line_color\":{\"value\":\"black\"},\"line_dash\":[4,4],\"line_width\":{\"value\":2},\"plot\":null,\"render_mode\":\"css\",\"right_units\":\"screen\",\"top_units\":\"screen\"},\"id\":\"8fa24edf-4c97-420b-ab44-eb48cef742c0\",\"type\":\"BoxAnnotation\"},{\"attributes\":{\"axis_label\":\"TOTAL DE PARTIDAS (PERCENTUAL)\",\"formatter\":{\"id\":\"3251ef16-44d2-4080-afd2-eb703e7f487a\",\"type\":\"BasicTickFormatter\"},\"plot\":{\"id\":\"f8103876-7f50-4c2f-9579-c7feedc99ec6\",\"subtype\":\"Figure\",\"type\":\"Plot\"},\"ticker\":{\"id\":\"d0c71547-8e4d-48e2-8b7a-8d196bb9eae8\",\"type\":\"BasicTicker\"}},\"id\":\"8a62c810-c12a-47a0-9c39-e7db844ff264\",\"type\":\"LinearAxis\"},{\"attributes\":{\"callback\":null,\"plot\":{\"id\":\"f8103876-7f50-4c2f-9579-c7feedc99ec6\",\"subtype\":\"Figure\",\"type\":\"Plot\"},\"tooltips\":[[\"pais\",\"@pais\"]]},\"id\":\"3180cde6-30b6-40da-a196-f69a5d88c20b\",\"type\":\"HoverTool\"},{\"attributes\":{},\"id\":\"1743f135-4868-4e85-b38e-ec76fc2613ca\",\"type\":\"ToolEvents\"},{\"attributes\":{\"data_source\":{\"id\":\"b235259b-26b3-4763-bc14-a7726a3feda9\",\"type\":\"ColumnDataSource\"},\"glyph\":{\"id\":\"1851d111-368e-4847-b494-1593e5735c36\",\"type\":\"Circle\"},\"hover_glyph\":null,\"nonselection_glyph\":{\"id\":\"08b66961-4559-4ad1-b4d5-29fc6431a722\",\"type\":\"Circle\"},\"selection_glyph\":null},\"id\":\"3c144bef-27ae-40c8-8eab-98aeb1045b64\",\"type\":\"GlyphRenderer\"},{\"attributes\":{},\"id\":\"937068b7-3ca5-44da-bb46-4bd27da10a56\",\"type\":\"BasicTicker\"},{\"attributes\":{\"plot\":{\"id\":\"7c69fc51-ca26-49f4-82db-5b913289350a\",\"subtype\":\"Figure\",\"type\":\"Plot\"}},\"id\":\"2e15954b-92e1-47ad-b7c1-2e274005c264\",\"type\":\"ResizeTool\"},{\"attributes\":{\"plot\":{\"id\":\"7c69fc51-ca26-49f4-82db-5b913289350a\",\"subtype\":\"Figure\",\"type\":\"Plot\"}},\"id\":\"e87c82b3-c9d6-4a9b-937c-5f034e617cf5\",\"type\":\"WheelZoomTool\"},{\"attributes\":{\"below\":[{\"id\":\"901988f3-ab8e-4370-916a-be01527fed8c\",\"type\":\"LinearAxis\"}],\"left\":[{\"id\":\"f0dd7544-dfef-4c81-af71-710ee719551a\",\"type\":\"LinearAxis\"}],\"renderers\":[{\"id\":\"901988f3-ab8e-4370-916a-be01527fed8c\",\"type\":\"LinearAxis\"},{\"id\":\"7a24c80a-172c-4edd-94a3-e7a75c1d705d\",\"type\":\"Grid\"},{\"id\":\"f0dd7544-dfef-4c81-af71-710ee719551a\",\"type\":\"LinearAxis\"},{\"id\":\"a3552f0d-807f-434d-93ba-9ffc871b8546\",\"type\":\"Grid\"},{\"id\":\"af0d8cf2-564b-4299-8551-23fc8a60f652\",\"type\":\"BoxAnnotation\"},{\"id\":\"0b48888b-8b45-46e3-bd9c-ff5d0e134322\",\"type\":\"GlyphRenderer\"}],\"responsive\":true,\"title\":\"t-SNE of Potential Top Players (FIFA stats)\",\"tool_events\":{\"id\":\"3fcc431b-6ad7-476f-9bee-2cf7b45ac0a1\",\"type\":\"ToolEvents\"},\"tools\":[{\"id\":\"902ae511-de9d-47a2-bad4-5834f9b48a0a\",\"type\":\"BoxZoomTool\"},{\"id\":\"ab3f9f5b-dbf9-4a30-b2ad-8337ebfd6cd2\",\"type\":\"PanTool\"},{\"id\":\"27dab348-7069-4ad6-aa4c-b029f75fa2a8\",\"type\":\"PreviewSaveTool\"},{\"id\":\"2e15954b-92e1-47ad-b7c1-2e274005c264\",\"type\":\"ResizeTool\"},{\"id\":\"0d04b128-9cf6-4d41-9ed4-f8f49f68a3f0\",\"type\":\"ResetTool\"},{\"id\":\"1093eaed-9125-4116-93e2-2ca9c3319d26\",\"type\":\"TapTool\"},{\"id\":\"e87c82b3-c9d6-4a9b-937c-5f034e617cf5\",\"type\":\"WheelZoomTool\"},{\"id\":\"aba79c3a-9148-4efb-aa1d-1f271f513c5c\",\"type\":\"HoverTool\"}],\"x_range\":{\"id\":\"7b62846c-ca51-4b5d-b2b3-cca5da3e7a8c\",\"type\":\"DataRange1d\"},\"y_range\":{\"id\":\"177a133c-45ea-4627-a6c0-4b16e76fad7b\",\"type\":\"DataRange1d\"}},\"id\":\"7c69fc51-ca26-49f4-82db-5b913289350a\",\"subtype\":\"Figure\",\"type\":\"Plot\"},{\"attributes\":{},\"id\":\"e822492a-4385-45b6-a883-e18b9aaec8cf\",\"type\":\"BasicTickFormatter\"},{\"attributes\":{\"fill_color\":{\"value\":\"blue\"},\"line_color\":{\"value\":\"blue\"},\"size\":{\"units\":\"screen\",\"value\":10},\"x\":{\"field\":\"x\"},\"y\":{\"field\":\"y\"}},\"id\":\"a8533673-8899-42bd-9d87-eb296e1535a3\",\"type\":\"Circle\"},{\"attributes\":{\"plot\":{\"id\":\"1fae314f-5af9-4416-9a56-9377734288d6\",\"subtype\":\"Figure\",\"type\":\"Plot\"}},\"id\":\"583f526b-f8dc-43af-8362-f52e30d45616\",\"type\":\"PreviewSaveTool\"},{\"attributes\":{},\"id\":\"7e1b61b0-0e6e-40a9-b9f7-5cf1207e5a2c\",\"type\":\"ToolEvents\"},{\"attributes\":{\"callback\":null},\"id\":\"3ae81da9-3437-4d71-bade-287a037801d9\",\"type\":\"DataRange1d\"},{\"attributes\":{\"fill_color\":{\"value\":\"blue\"},\"size\":{\"units\":\"screen\",\"value\":20},\"x\":{\"field\":\"x\"},\"y\":{\"field\":\"y\"}},\"id\":\"1851d111-368e-4847-b494-1593e5735c36\",\"type\":\"Circle\"},{\"attributes\":{},\"id\":\"a93e7d50-3144-4c0a-95ef-f7588caedc78\",\"type\":\"BasicTickFormatter\"},{\"attributes\":{},\"id\":\"3fcc431b-6ad7-476f-9bee-2cf7b45ac0a1\",\"type\":\"ToolEvents\"},{\"attributes\":{\"plot\":{\"id\":\"1fae314f-5af9-4416-9a56-9377734288d6\",\"subtype\":\"Figure\",\"type\":\"Plot\"}},\"id\":\"b1b94a96-457b-4940-a8ae-b32ab404bbe9\",\"type\":\"ResetTool\"},{\"attributes\":{\"callback\":null,\"column_names\":[\"overall_rating\",\"player_api_id\",\"potential_growth\",\"potential\",\"player_name\",\"comp2\",\"index\",\"comp1\",\"y\",\"x\"],\"data\":{\"comp1\":[-3.485539432847738,4.071625305800246,-3.9174468913414793,8.571325301248281,0.5760383096305881,-0.129756622589471,2.1257909562302815,7.047216658559521,-0.07806634362633304,2.8027719766216777,-5.22566814782894,-1.6059167028724748,-4.404934377826697,-3.5045426994827324,2.8474282458590534,-4.693794538950861,4.217204736737367,-4.57686683177259,1.7334795778877083,-4.790785105595153,1.694610816818289,2.398290989558851,-7.466333713160662,3.3113137751919974,2.4607571072934866,3.3071645942296874,-6.703936393337515,-4.494133211406429,-3.8349921912444325,-5.136943972102003,-5.1357107564112425,0.6878276129909654,4.217272181695892,-6.848353041514831,0.6806933577817821,3.8564650242627803,1.8409864356036418,-4.452253536565202,5.058659003797013,-4.470544971564123,1.407147668575684,3.0291932441853193,0.6803712322857598,-0.12237618381351961,7.749780090157849,4.108186602057915,-0.13824684080808877,1.6120505423654374,-5.021806166168658,1.44711004039865,-6.519331934348804,-3.965847640386647,-5.003053404125988,-4.40301772261531,3.97155240611863,2.058465707499841,-0.4138918045039194,-4.340145802685651,-0.541836869710438,-6.186608573437504,-5.9898409849681595,-3.8904327886936785,-1.4313751629997964,-2.3074965586775056,3.227882716599274,-6.118292229060296,-4.479672841725828,5.47922257730289,0.49635277139783435,8.019873564609233,-5.558983356773462,4.46804938658454,-7.869361030620005,-2.2227417706666577,-0.615409172750934,-0.7649597911127893,4.954331309530093,3.358537330917756,1.9380183679332483,2.295708186358294,-3.66623697497633,2.7257269906027095,3.3447401314308154,-7.485723998936962,4.665411739484559,-7.351822435983544,-0.19829482669112936,-7.652914297499966,1.2406314985774982,-8.035205332250714,-4.915726856100935,-1.312895910288448,6.155971210124528,-7.051990121993068,0.7418053520744828,-1.026615406474379,-4.3712365275406055,2.1795260590589045,-5.301447372219144,-5.135122086557071,2.9663452462217337,2.416208219179342,4.658290745952397,-4.012961889423159,6.6232692232282515,-2.8176846391636987,-2.1505614947333274,-4.229431879393164,-1.5492909667557004,-0.6894411712187076,-3.0963275796715695,-2.935866775499718,2.9906673037925087,0.6165651805651102,-0.29589809730878025,3.06821175832608,1.429131956385546,3.2343517027512125,7.321918946589709,2.7326468934454926,0.5609668388129251,-8.655716960887144,1.3843091027241956,-6.169540635210161,-6.2829746924202325,-2.6121206402578885,-4.899536132456058,1.81715883100444,-3.480033231203729,8.43545464339214,-6.853021041040961,2.4728396511948283,2.912523773590329,5.138764088603997,-1.9350330325610972,1.6183396086174382,6.076290468994871,0.15948001767485098,2.3957111482834272,-6.276670429000171,-3.3810410088744987,3.809967870944484,-1.5944356913638484,-6.371523056990493,2.047685459178809,2.272769208611452,-3.2870208751700387,1.2896429376442031,4.0040618877502965,5.34938460670918,-3.995271610986329,3.2587686536102454,1.5273963208999026,3.389088737099607,-5.644458077635868,6.584394173564313,2.1639893073715606,0.02798528687551723,2.9805944733646883,-4.37967541400312,6.224235666445482,-0.8240123928726392,1.4726311488160928,-3.5912125814883513,-6.157130260002443,1.9493515442690825,4.4550247826319715,1.9728328238289676,-4.917269496077334,3.721431376412196,-8.734409426015914,6.322038660422707,4.507745461205796,1.0311225941600968,-4.747037404794635,8.317575958505245,-4.092050716591409,2.702711065415956,-0.7191382507115827,-6.243142338368307,-0.525384414259741,1.786377348416725,2.966573100944808,-0.686097461006867,-1.3028660923757878,2.8460758519098066,7.249045263736741,0.35417560196527476,-2.0853699020714074,-5.650459326740604,3.4779516279850533,4.61051583796037,4.420851913876289,2.0554244638912524,-5.681670388783657,-4.52790725778469,4.9161725278044255,-6.694903734846679,3.7647568401368665,8.520106905432906,-7.052734388437664,2.7571473813154146,2.0731277702321504,-7.090725164658565,-5.640119144047341,4.371344007015744,-6.852753348634077,-1.2955229065504754,-2.538083005925517,-4.275580187878569,3.803706403740741,-1.7750580234409046,1.882651204411708,1.3521478123806427,3.3550500566053825,-0.21372217712250036,4.147863047013768,4.684224784462182,2.0125654833897753,4.623846213242341,-4.652962836083199,-3.632948099982082,2.656800043701311,-7.254658294600052,4.901812038119501,2.905643174807818,-8.109979564602895,-8.369771879215362,2.0072923691123434,2.69969095871608,4.342341790952302,-7.392298287645973,-4.790596890063372,-4.41711863588097,0.8051932203920255,1.017326337884038,-1.0353444968427532,3.90125599443692,1.5101497830275563,8.946419135862524,-8.599974585503293,2.6409991940232755,1.3407926963276795,-4.412675068338189,1.9061924232330318,1.8847520878668664,-4.1667262421297835,5.742286836278635,-8.158812551165823,4.66170208192754,8.242771579007574,-0.8630646132721637,6.212765523416835,-5.203256768547579,-4.674083397124972,-6.482746213334784,-2.1516580400886114],\"comp2\":[-5.0194140343093325,-1.117691228642731,2.8827434636978304,-3.24335883129502,6.591361553795209,3.7309875311902228,-5.813518473525882,-0.31724251621874966,0.10712274658926772,-3.5965519677543307,7.9806968892591295,2.395218347078961,-0.31866132775528516,0.1544115823977276,5.14575587871312,6.885334688939409,3.387927465536767,1.5979045499341478,-6.793737006538718,-2.0044719779061433,-6.389205286408803,3.226222958743995,-0.30746824633657394,6.358404116512737,4.219299979394026,6.12759747303115,-4.332987476376384,-6.360398919781721,-6.355184354491895,-6.066455934995284,-7.305919790412645,-5.988651821856748,-5.135079783612421,-6.270002553723285,-3.839283377102252,3.819124874340604,3.7561035296507086,-0.3981112964664116,2.288416256183478,-2.9974310754379165,-6.826440025993172,-5.692989784376112,-8.101218136994142,-5.058595027568816,4.210748549540561,-5.380879143336667,-6.285586222425198,-5.850670291159276,-3.4027018756189014,-8.395194124335807,-4.6472795607797135,-2.5892306872457844,0.7099792239481256,3.771826257654497,5.275562993594665,3.7642465368311973,0.8861496429618798,7.628336937752999,-7.449577026963468,-5.842035169758924,-5.576131065674815,6.7762112466357545,2.7053016492942192,2.176538257962978,6.584109191650664,-6.386481721647319,-2.126465961230951,4.868356499690098,4.996008808991551,-2.6417868015393204,-3.213209921692523,-1.9451316747916672,-1.9474561554539087,-2.53650256452351,-6.987059128298761,-5.493400092151,3.972991901806031,-8.259323726483087,-6.10456126135023,-2.2568572683580665,7.156744975774186,4.611304835253434,-6.9558428079594155,-5.05131458138539,1.5378720670513497,-2.1572705439307693,1.7073019444742141,-2.467724507454238,-6.515466829195589,-3.1540168511413915,-6.30315682292409,-0.06612907615395604,4.505218475453874,1.3470620220534766,-3.2478678811100674,5.592130981996471,7.379816699204361,-5.2623376729001405,-3.2760716154957876,-4.212406386355845,-4.771249199313672,-8.009068038242754,-6.949067787790723,8.10246290280427,0.6422113134722152,8.011627440325046,-7.723830688133994,-0.4969784355129372,9.257478968626426,0.5470242325892802,-1.5948526512174368,8.69342958102607,-7.319735742914635,-5.635398666875592,-8.400451448365219,-5.943146039112541,-7.85157583292697,-2.5121297194692658,4.216387701543044,5.1081280606860675,-1.5862967718630976,-2.303733428939832,-8.514519247373228,-6.619734816279745,-7.526560685278714,7.215070651433496,2.253133000121174,-7.4439452440925855,-0.47167814616414705,-3.518792391097134,1.3146982113953125,0.5532974295214782,-0.2827444621527504,-4.015152842203616,-1.2366119678250882,-4.322002895724552,-7.302708916283105,-7.487785498048833,-8.411453500987598,3.8567984674475118,6.535198149350448,2.752476186172596,-6.315067664016514,-3.8600048340435635,-8.325931929259257,7.26172963037385,1.7944925153332711,-5.305345638521155,-5.368082078924564,1.2192725165318319,-4.389376352585718,-0.3313630963042443,-6.4958491645728005,1.3646867433834753,1.2698201885744769,0.6570752325505066,-0.9791694892106778,-1.0230760037349478,-0.6071904755005725,-6.483958744996434,-1.2371397167527685,-7.063069024702671,2.925632340219516,-5.932387732311039,-5.2872370518193055,1.0366429685947582,-2.502240770486321,6.770274068349872,-4.470612903036694,-7.973190972584508,-1.1657226144920465,-0.4993823295914773,0.04273433038685741,-0.43382763320636447,1.713871422295484,-5.039193459807319,9.273299996263352,-5.216502782983061,1.6868633953547048,-6.936445852071904,-0.38445028849719876,2.900172336795195,-4.883069263702465,-1.1937598056124545,5.099249023207692,-3.6746852022747816,4.094451004028121,6.773788335025551,1.35874243521987,-0.44628465247747906,-6.825372728940707,-1.5312693651408424,4.933545710043659,-6.33153602887799,0.8820127052016093,1.379785742062704,-6.973107158914057,2.116799163818873,4.466926100480151,-4.102242381518049,1.915186937691725,-6.719500147754867,6.155549519875611,1.07825061928318,2.9191361606510746,-0.29147279688671185,-5.76180680756021,-1.8756572190721352,-0.19172842958370487,-3.272099657265247,-5.961381452904665,-1.5085384690022468,-7.031343703117097,4.496240279133275,6.373565308076173,-3.8594727762618475,-0.48679880181365304,-0.8419818712692154,-3.416424010948114,-3.9813567161489196,7.473517183328368,-8.08728266305663,-6.223869693731053,-3.07671825631078,2.530118636233109,-7.179163487251544,-1.5258719629083632,-1.2055517445476447,5.12177480555708,-3.4821259789062378,-3.0012185579612685,-1.7237722556409363,-6.48595885128655,-8.501632384930556,6.017455825053118,-6.269715158515455,-5.726389272418281,-3.203448618118578,-7.2242069603485755,-2.126071159212632,-2.3673182168577878,-5.916375658716975,-5.1178024984813,-6.665777538652507,-2.931621157079793,3.316725588521378,1.5342005515790171,-0.20467947437345257,-0.6649210983290678,2.4836223481146944,-4.926729538811414,-5.943448349007939,-4.611729494803334,0.3335912871241398,-5.168629178538159,0.5602828201655816,-2.753244368942026],\"index\":[76031,139677,111881,21073,68609,161415,109370,146056,152436,115176,164176,171259,119756,145525,140103,159796,178845,87943,45370,50606,153029,82285,144057,180429,58001,120311,127411,102852,9215,108732,80970,72254,62609,9525,95846,10893,87921,156539,133290,99139,41188,157408,42311,118224,145408,124276,133131,129074,121695,67972,65152,56046,139886,120498,83872,62882,164979,97918,54428,74348,21029,104439,14433,170272,7122,163394,116841,81148,135170,36998,155190,104299,108441,106456,160015,104353,81340,109933,100077,52840,144531,96622,36061,148396,95878,90169,117332,36522,111752,68014,63558,164835,55693,54021,86143,44148,42719,27331,68845,44692,99162,176560,84332,5957,83955,176994,103927,89266,129473,18685,41218,90034,127812,79694,856,178224,41927,120897,3304,137489,100411,156365,153692,160712,160570,52586,4971,77108,16440,176480,87061,3284,13651,149018,119398,119836,72525,118048,90866,6710,44920,57037,86719,182123,130479,136592,100101,81067,75014,50641,31889,151102,41056,15952,83057,159951,5733,159237,100571,181614,23112,9951,19690,3747,3662,155266,7309,139905,84586,157060,73432,147141,85338,78753,28719,37223,15725,62108,127622,23467,113241,94502,153854,100902,81362,153637,86765,70103,91165,145931,88593,25904,4413,23688,62637,45708,76154,160414,82153,175873,15783,24871,50042,167683,10971,74997,109165,73340,50461,55953,91910,87520,110571,117257,61558,109052,168578,137687,180446,94586,2629,21564,114750,44089,110602,161828,13321,178329,79071,104947,68366,175083,121269,61844,157029,11440,62426,160096,96096,159906,115615,111856,10413,173547,45151,117288,119675,86339,99222,103072,147838,90642,141484,13401,136466,167510,128587],\"overall_rating\":[87.0,86.0,84.0,83.0,82.0,82.0,82.0,82.0,82.0,81.0,81.0,81.0,81.0,81.0,81.0,81.0,81.0,81.0,81.0,80.0,80.0,80.0,80.0,80.0,80.0,80.0,80.0,80.0,80.0,80.0,80.0,80.0,80.0,80.0,80.0,80.0,80.0,80.0,80.0,80.0,79.0,79.0,79.0,79.0,79.0,79.0,79.0,79.0,79.0,79.0,79.0,79.0,79.0,79.0,79.0,79.0,79.0,79.0,79.0,79.0,79.0,78.0,78.0,78.0,78.0,78.0,78.0,78.0,78.0,78.0,78.0,78.0,78.0,78.0,78.0,78.0,78.0,78.0,78.0,78.0,78.0,78.0,78.0,78.0,78.0,78.0,78.0,78.0,78.0,78.0,78.0,77.0,77.0,77.0,77.0,77.0,77.0,77.0,77.0,77.0,77.0,77.0,77.0,77.0,77.0,77.0,77.0,77.0,77.0,77.0,77.0,77.0,77.0,77.0,77.0,77.0,77.0,77.0,77.0,77.0,77.0,77.0,77.0,77.0,77.0,77.0,77.0,77.0,77.0,77.0,77.0,77.0,77.0,77.0,76.0,76.0,76.0,76.0,76.0,76.0,76.0,76.0,76.0,76.0,76.0,76.0,76.0,76.0,76.0,76.0,76.0,76.0,76.0,76.0,76.0,76.0,76.0,76.0,76.0,76.0,76.0,76.0,76.0,76.0,76.0,76.0,76.0,76.0,76.0,76.0,76.0,76.0,76.0,76.0,76.0,76.0,76.0,76.0,76.0,76.0,76.0,76.0,76.0,76.0,75.0,75.0,75.0,75.0,75.0,75.0,75.0,75.0,75.0,75.0,75.0,75.0,75.0,75.0,75.0,75.0,75.0,75.0,75.0,75.0,75.0,75.0,75.0,75.0,75.0,75.0,75.0,75.0,75.0,75.0,75.0,75.0,75.0,75.0,75.0,75.0,75.0,75.0,75.0,75.0,75.0,75.0,75.0,75.0,75.0,75.0,75.0,75.0,75.0,75.0,75.0,75.0,75.0,75.0,75.0,75.0,75.0,75.0,75.0,75.0,75.0,75.0,75.0,75.0,75.0,75.0,75.0,75.0,75.0,75.0,75.0,75.0,75.0],\"player_api_id\":[164684,248453,190972,215168,194165,184999,184554,230982,181276,267365,188555,212815,181910,246575,325916,195299,257865,474589,364520,574200,215384,300916,193174,354467,241825,282770,292462,287894,210164,268282,281085,179772,251925,213501,212893,361770,391058,210117,253088,215798,298448,309334,282281,213485,242469,248689,447084,469852,303824,304733,164385,281012,231199,425963,237542,245555,161328,281207,230190,288880,488139,294003,413557,264190,196386,365672,239219,210956,316771,570432,303339,359193,210276,362694,212472,11285,240205,206508,358127,359188,477023,429265,195413,212645,264221,207617,185644,358155,212630,360559,186831,244966,175646,414245,127130,297579,282012,277761,427438,242783,280260,467022,263653,395154,278831,209405,210111,194533,210128,488958,178765,245572,355901,449666,324910,487867,363333,298915,188413,240054,343748,562062,282678,30271,300532,189982,314605,205893,277460,202443,257847,352879,432950,467479,303912,181069,604105,412762,516846,362195,426202,254308,261313,432463,425985,692984,267383,299215,287231,361315,473852,324578,244811,562267,242094,282472,351860,352968,260470,465960,527103,309505,276121,232103,403003,239807,428672,195998,360918,207642,361792,589344,469700,470539,242887,214426,276738,214972,262592,361322,421786,469804,318526,530859,291425,534684,193223,281558,521421,352994,416175,493196,294859,422685,246438,303800,279490,163835,361757,513086,474448,184321,307021,424879,212915,496563,355357,361321,193930,178538,289441,467495,498033,320686,441883,173382,299572,197514,450976,281936,449241,294254,157101,201111,362113,275034,166422,465628,402975,198566,203666,278473,46241,575225,428947,309726,473855,202639,184629,463301,195207,199291,450011,304000,242156,261348,288613,473853,424129,189237,518373,573463,163605,183530,397019,280276,212866],\"player_name\":[\"James Rodriguez\",\"Paul Pogba\",\"Marco Verratti\",\"Bernd Leno\",\"Harry Kane\",\"Shkodran Mustafi\",\"Marc-Andre ter Stegen\",\"Raphael Varane\",\"Romelu Lukaku\",\"Marquinhos\",\"Stefan de Vrij\",\"Timo Horn\",\"Mattia Perin\",\"Raheem Sterling\",\"Paulo Dybala\",\"Serge Aurier\",\"William Carvalho\",\"Jose Gimenez\",\"Domenico Berardi\",\"Eric Bertrand Bailly\",\"Ross Barkley\",\"Joao Mario\",\"Quincy Promes\",\"Yannick Ferreira-Carrasco\",\"Francisco Alcacer\",\"Mauro Icardi\",\"Mohamed Salah\",\"Loris Karius\",\"Alphonse Areola\",\"Manuel Trigueros\",\"Jese Rodriguez\",\"Iker Muniain\",\"Gerard Deulofeu\",\"Alvaro Morata\",\"Kevin Volland\",\"Andre Gomes\",\"Jose Gaya\",\"Samuel Umtiti\",\"Nikola Maksimovic\",\"Lavyin Kurzawa\",\"Davy Klaassen\",\"Saul Niguez\",\"Denis Suarez\",\"Matija Nastasic\",\"Rafinha\",\"Michy Batshuayi\",\"Niklas Suele\",\"Nabil Fekir\",\"Memphis Depay\",\"Hakan Calhanoglu\",\"Gokhan Tore\",\"Filip Kostic\",\"Paul-Georges Ntep\",\"Max Meyer\",\"Johannes Geis\",\"Geronimo Rulli\",\"Stephan El Shaarawy\",\"Kurt Zouma\",\"Felipe Anderson\",\"Jack Butland\",\"Bernardo Silva\",\"Luciano Dario Vietto\",\"Anthony Martial\",\"Thorgan Hazard\",\"Alex Oxlade-Chamberlain\",\"Sofiane Boufal\",\"Mateo Kovacic\",\"Jesus Corona\",\"Oliver Torres\",\"Danilo\",\"Sadio Mane\",\"Lucas Vazquez\",\"Manuel Lanzini\",\"Luke Shaw\",\"Sergi Roberto\",\"Lucas\",\"Jetro Willems\",\"Marcelo Brozovic\",\"Leo Baptistao\",\"Fabinho\",\"Rafa Silva\",\"Kingsley Coman\",\"Daniele Baselli\",\"Riccardo Saponara\",\"Kevin Wimmer\",\"Juan Quintero\",\"Mathew Ryan\",\"Daniele Rugani\",\"Marco Sportiello\",\"Hakim Ziyech\",\"Giannelli Imbula Wanga\",\"Stefano Sturaro\",\"Fernando\",\"Federico Bernardeschi\",\"Jonjo Shelvey\",\"Diego Rolan\",\"Dennis Praet\",\"Chancel Mbemba\",\"Hector Bellerin\",\"Diogo Figueiras\",\"Lazar Markovic\",\"Vincent Janssen\",\"John Stones\",\"Alen Halilovic\",\"John Anthony Brooks\",\"Virgil van Dijk\",\"Lucas Digne\",\"Josip Drmic\",\"Nampalys Mendy\",\"Balde Diao Keita\",\"Davy Proepper\",\"Juan Manuel Iturbe\",\"Morgan Sanson\",\"Jemerson\",\"Abdul Rahman Baba\",\"Wendell\",\"Dele Alli\",\"Maximilian Arnold\",\"Adrien Regattin\",\"Pablo Sarabia\",\"Leon Goretzka\",\"Samuel Castillejo\",\"Ruben Pardo\",\"Sergio\",\"Sergio Rico\",\"Fabian Schaer\",\"Alberto Moreno\",\"Jannik Vestergaard\",\"Arkadiusz Milik\",\"Vincent Aboubakar\",\"Jores Okore\",\"Adrien Rabiot\",\"Angel Correa\",\"Riechedly Bazoer\",\"Matthias Ginter\",\"Matz Sels\",\"Inaki Williams\",\"Matias Kranevitter\",\"Julian Brandt\",\"Alessio Romagnoli\",\"Divock Origi\",\"Florian Thauvin\",\"Jordan Veretout\",\"Zakaria Bakkali\",\"Nemanja Radoja\",\"Ousmane Dembele\",\"Leo Bonatini\",\"Jesse Lingard\",\"Jairo\",\"Eric Dier\",\"Corentin Tolisso\",\"Rodrigo De Paul\",\"Davide Zappacosta\",\"Anwar El-Ghazi\",\"Joel Campbell\",\"Sergi Darder\",\"Aleksandar Mitrovic\",\"Sebastien Haller\",\"Leonardo Bittencourt\",\"Youri Tielemans\",\"Breel Embolo\",\"Amin Younes\",\"Ben Davies\",\"Ahmed Musa\",\"Ahmed Hassan Koka\",\"Saido Berahino\",\"Alex Telles\",\"Paul-Jose M'Poku\",\"Johny\",\"Santiago Arias\",\"Ivan Cavaleiro\",\"Renato Sanches\",\"Jonathan Glao Tah\",\"Jean Michael Seri\",\"Christian Atsu\",\"Danny Ings\",\"Antonio Ruediger\",\"Geoffrey Kondogbia\",\"Moi Gomez\",\"Bruma\",\"Mario Lemina\",\"Kenny Tete\",\"Ruben Vezo\",\"Leroy Sane\",\"Jhon Cordoba\",\"Ruben Neves\",\"Jordi Amat\",\"Hernani\",\"Julian Weigl\",\"Raphael Guerreiro\",\"Jose Sa\",\"Carlos Mane\",\"Alassane Plea\",\"Bruno Fernandes\",\"Gerard Moreno\",\"Dominique Heintz\",\"James Ward-Prowse\",\"Sergio Oliveira\",\"Joao Cancelo\",\"Victor Camarasa\",\"Antonio Sanabria\",\"Callum Wilson\",\"Emre Can\",\"Sven van Beek\",\"Andre Hoffmann\",\"Jairo Riedewald\",\"Marc Stendera\",\"Iuri Medeiros\",\"Enzo Roco\",\"Filip Djuricic\",\"Jurgen Locadia\",\"Jorrit Hendrix\",\"Marco Asensio\",\"Matheus Doria\",\"Gaston Pereiro\",\"Marc Muniesa\",\"Terence Kongolo\",\"Pajtim Kasami\",\"Yannick Gerhardt\",\"Kerim Frei Koyunlu\",\"Adnan Januzaj\",\"Bjorn Engels\",\"Markus Henriksen\",\"Diego Reyes\",\"Marco Benassi\",\"Silvan Widmer\",\"Andros Townsend\",\"Wesley Hoedt\",\"Jean-Paul Boetius\",\"Luis Alberto\",\"Hans Vanaken\",\"Valeri Kazaishvili\",\"Mbaye Niang\",\"Gelson\",\"Santi Mina\",\"Andrea Belotti\",\"Georges N'Koudou\",\"Sergio Alvarez\",\"Khouma Babacar\",\"Sergej Milinkovic-Savic\",\"Martin Hinteregger\",\"Marco van Ginkel\",\"Anderson Talisca\",\"Tonny Vilhena\",\"Djibril Sidibe\",\"Matheus\",\"Mattia De Sciglio\",\"Jordan Amavi\",\"Leander Dendoncker\",\"Luc Castaignos\",\"Ricardo Kishna\",\"Juanpi,20\",\"Pele\",\"Andy Delort\",\"Otavio\",\"Suso\",\"Muhamed Besic\"],\"potential\":[93.0,91.0,89.0,88.0,88.0,87.0,87.0,89.0,88.0,87.0,87.0,87.0,86.0,87.0,87.0,86.0,86.0,87.0,86.0,88.0,88.0,86.0,86.0,85.0,86.0,85.0,85.0,85.0,88.0,85.0,87.0,85.0,87.0,85.0,85.0,87.0,85.0,85.0,85.0,88.0,85.0,88.0,86.0,84.0,84.0,84.0,86.0,85.0,86.0,84.0,84.0,84.0,84.0,87.0,84.0,85.0,85.0,88.0,84.0,87.0,86.0,85.0,86.0,83.0,85.0,84.0,84.0,84.0,85.0,85.0,84.0,83.0,84.0,86.0,84.0,83.0,86.0,83.0,83.0,86.0,84.0,86.0,84.0,83.0,83.0,83.0,83.0,86.0,83.0,84.0,83.0,82.0,83.0,83.0,83.0,82.0,84.0,84.0,85.0,83.0,84.0,84.0,87.0,90.0,83.0,83.0,82.0,82.0,83.0,85.0,82.0,83.0,83.0,83.0,84.0,85.0,89.0,83.0,82.0,82.0,85.0,85.0,83.0,86.0,86.0,83.0,82.0,82.0,84.0,82.0,83.0,84.0,88.0,88.0,82.0,81.0,84.0,84.0,88.0,85.0,83.0,82.0,82.0,84.0,82.0,89.0,83.0,82.0,81.0,85.0,84.0,84.0,82.0,84.0,82.0,82.0,83.0,84.0,82.0,88.0,88.0,81.0,82.0,82.0,81.0,85.0,81.0,82.0,82.0,81.0,83.0,88.0,88.0,82.0,81.0,83.0,82.0,81.0,83.0,85.0,82.0,85.0,83.0,87.0,80.0,86.0,81.0,80.0,84.0,81.0,81.0,81.0,82.0,82.0,81.0,82.0,83.0,80.0,84.0,83.0,86.0,81.0,85.0,80.0,80.0,85.0,84.0,86.0,82.0,80.0,80.0,82.0,87.0,81.0,83.0,81.0,80.0,83.0,83.0,83.0,84.0,83.0,80.0,83.0,82.0,80.0,81.0,81.0,82.0,83.0,80.0,80.0,84.0,87.0,84.0,83.0,82.0,81.0,80.0,82.0,81.0,81.0,80.0,80.0,80.0,80.0,80.0,83.0,84.0,80.0,82.0,85.0,80.0,81.0,84.0,80.0,83.0],\"potential_growth\":[6.0,5.0,5.0,5.0,6.0,5.0,5.0,7.0,6.0,6.0,6.0,6.0,5.0,6.0,6.0,5.0,5.0,6.0,5.0,8.0,8.0,6.0,6.0,5.0,6.0,5.0,5.0,5.0,8.0,5.0,7.0,5.0,7.0,5.0,5.0,7.0,5.0,5.0,5.0,8.0,6.0,9.0,7.0,5.0,5.0,5.0,7.0,6.0,7.0,5.0,5.0,5.0,5.0,8.0,5.0,6.0,6.0,9.0,5.0,8.0,7.0,7.0,8.0,5.0,7.0,6.0,6.0,6.0,7.0,7.0,6.0,5.0,6.0,8.0,6.0,5.0,8.0,5.0,5.0,8.0,6.0,8.0,6.0,5.0,5.0,5.0,5.0,8.0,5.0,6.0,5.0,5.0,6.0,6.0,6.0,5.0,7.0,7.0,8.0,6.0,7.0,7.0,10.0,13.0,6.0,6.0,5.0,5.0,6.0,8.0,5.0,6.0,6.0,6.0,7.0,8.0,12.0,6.0,5.0,5.0,8.0,8.0,6.0,9.0,9.0,6.0,5.0,5.0,7.0,5.0,6.0,7.0,11.0,11.0,6.0,5.0,8.0,8.0,12.0,9.0,7.0,6.0,6.0,8.0,6.0,13.0,7.0,6.0,5.0,9.0,8.0,8.0,6.0,8.0,6.0,6.0,7.0,8.0,6.0,12.0,12.0,5.0,6.0,6.0,5.0,9.0,5.0,6.0,6.0,5.0,7.0,12.0,12.0,6.0,5.0,7.0,6.0,5.0,7.0,9.0,6.0,9.0,7.0,11.0,5.0,11.0,6.0,5.0,9.0,6.0,6.0,6.0,7.0,7.0,6.0,7.0,8.0,5.0,9.0,8.0,11.0,6.0,10.0,5.0,5.0,10.0,9.0,11.0,7.0,5.0,5.0,7.0,12.0,6.0,8.0,6.0,5.0,8.0,8.0,8.0,9.0,8.0,5.0,8.0,7.0,5.0,6.0,6.0,7.0,8.0,5.0,5.0,9.0,12.0,9.0,8.0,7.0,6.0,5.0,7.0,6.0,6.0,5.0,5.0,5.0,5.0,5.0,8.0,9.0,5.0,7.0,10.0,5.0,6.0,9.0,5.0,8.0],\"x\":[-3.485539432847738,4.071625305800246,-3.9174468913414793,8.571325301248281,0.5760383096305881,-0.129756622589471,2.1257909562302815,7.047216658559521,-0.07806634362633304,2.8027719766216777,-5.22566814782894,-1.6059167028724748,-4.404934377826697,-3.5045426994827324,2.8474282458590534,-4.693794538950861,4.217204736737367,-4.57686683177259,1.7334795778877083,-4.790785105595153,1.694610816818289,2.398290989558851,-7.466333713160662,3.3113137751919974,2.4607571072934866,3.3071645942296874,-6.703936393337515,-4.494133211406429,-3.8349921912444325,-5.136943972102003,-5.1357107564112425,0.6878276129909654,4.217272181695892,-6.848353041514831,0.6806933577817821,3.8564650242627803,1.8409864356036418,-4.452253536565202,5.058659003797013,-4.470544971564123,1.407147668575684,3.0291932441853193,0.6803712322857598,-0.12237618381351961,7.749780090157849,4.108186602057915,-0.13824684080808877,1.6120505423654374,-5.021806166168658,1.44711004039865,-6.519331934348804,-3.965847640386647,-5.003053404125988,-4.40301772261531,3.97155240611863,2.058465707499841,-0.4138918045039194,-4.340145802685651,-0.541836869710438,-6.186608573437504,-5.9898409849681595,-3.8904327886936785,-1.4313751629997964,-2.3074965586775056,3.227882716599274,-6.118292229060296,-4.479672841725828,5.47922257730289,0.49635277139783435,8.019873564609233,-5.558983356773462,4.46804938658454,-7.869361030620005,-2.2227417706666577,-0.615409172750934,-0.7649597911127893,4.954331309530093,3.358537330917756,1.9380183679332483,2.295708186358294,-3.66623697497633,2.7257269906027095,3.3447401314308154,-7.485723998936962,4.665411739484559,-7.351822435983544,-0.19829482669112936,-7.652914297499966,1.2406314985774982,-8.035205332250714,-4.915726856100935,-1.312895910288448,6.155971210124528,-7.051990121993068,0.7418053520744828,-1.026615406474379,-4.3712365275406055,2.1795260590589045,-5.301447372219144,-5.135122086557071,2.9663452462217337,2.416208219179342,4.658290745952397,-4.012961889423159,6.6232692232282515,-2.8176846391636987,-2.1505614947333274,-4.229431879393164,-1.5492909667557004,-0.6894411712187076,-3.0963275796715695,-2.935866775499718,2.9906673037925087,0.6165651805651102,-0.29589809730878025,3.06821175832608,1.429131956385546,3.2343517027512125,7.321918946589709,2.7326468934454926,0.5609668388129251,-8.655716960887144,1.3843091027241956,-6.169540635210161,-6.2829746924202325,-2.6121206402578885,-4.899536132456058,1.81715883100444,-3.480033231203729,8.43545464339214,-6.853021041040961,2.4728396511948283,2.912523773590329,5.138764088603997,-1.9350330325610972,1.6183396086174382,6.076290468994871,0.15948001767485098,2.3957111482834272,-6.276670429000171,-3.3810410088744987,3.809967870944484,-1.5944356913638484,-6.371523056990493,2.047685459178809,2.272769208611452,-3.2870208751700387,1.2896429376442031,4.0040618877502965,5.34938460670918,-3.995271610986329,3.2587686536102454,1.5273963208999026,3.389088737099607,-5.644458077635868,6.584394173564313,2.1639893073715606,0.02798528687551723,2.9805944733646883,-4.37967541400312,6.224235666445482,-0.8240123928726392,1.4726311488160928,-3.5912125814883513,-6.157130260002443,1.9493515442690825,4.4550247826319715,1.9728328238289676,-4.917269496077334,3.721431376412196,-8.734409426015914,6.322038660422707,4.507745461205796,1.0311225941600968,-4.747037404794635,8.317575958505245,-4.092050716591409,2.702711065415956,-0.7191382507115827,-6.243142338368307,-0.525384414259741,1.786377348416725,2.966573100944808,-0.686097461006867,-1.3028660923757878,2.8460758519098066,7.249045263736741,0.35417560196527476,-2.0853699020714074,-5.650459326740604,3.4779516279850533,4.61051583796037,4.420851913876289,2.0554244638912524,-5.681670388783657,-4.52790725778469,4.9161725278044255,-6.694903734846679,3.7647568401368665,8.520106905432906,-7.052734388437664,2.7571473813154146,2.0731277702321504,-7.090725164658565,-5.640119144047341,4.371344007015744,-6.852753348634077,-1.2955229065504754,-2.538083005925517,-4.275580187878569,3.803706403740741,-1.7750580234409046,1.882651204411708,1.3521478123806427,3.3550500566053825,-0.21372217712250036,4.147863047013768,4.684224784462182,2.0125654833897753,4.623846213242341,-4.652962836083199,-3.632948099982082,2.656800043701311,-7.254658294600052,4.901812038119501,2.905643174807818,-8.109979564602895,-8.369771879215362,2.0072923691123434,2.69969095871608,4.342341790952302,-7.392298287645973,-4.790596890063372,-4.41711863588097,0.8051932203920255,1.017326337884038,-1.0353444968427532,3.90125599443692,1.5101497830275563,8.946419135862524,-8.599974585503293,2.6409991940232755,1.3407926963276795,-4.412675068338189,1.9061924232330318,1.8847520878668664,-4.1667262421297835,5.742286836278635,-8.158812551165823,4.66170208192754,8.242771579007574,-0.8630646132721637,6.212765523416835,-5.203256768547579,-4.674083397124972,-6.482746213334784,-2.1516580400886114],\"y\":[-5.0194140343093325,-1.117691228642731,2.8827434636978304,-3.24335883129502,6.591361553795209,3.7309875311902228,-5.813518473525882,-0.31724251621874966,0.10712274658926772,-3.5965519677543307,7.9806968892591295,2.395218347078961,-0.31866132775528516,0.1544115823977276,5.14575587871312,6.885334688939409,3.387927465536767,1.5979045499341478,-6.793737006538718,-2.0044719779061433,-6.389205286408803,3.226222958743995,-0.30746824633657394,6.358404116512737,4.219299979394026,6.12759747303115,-4.332987476376384,-6.360398919781721,-6.355184354491895,-6.066455934995284,-7.305919790412645,-5.988651821856748,-5.135079783612421,-6.270002553723285,-3.839283377102252,3.819124874340604,3.7561035296507086,-0.3981112964664116,2.288416256183478,-2.9974310754379165,-6.826440025993172,-5.692989784376112,-8.101218136994142,-5.058595027568816,4.210748549540561,-5.380879143336667,-6.285586222425198,-5.850670291159276,-3.4027018756189014,-8.395194124335807,-4.6472795607797135,-2.5892306872457844,0.7099792239481256,3.771826257654497,5.275562993594665,3.7642465368311973,0.8861496429618798,7.628336937752999,-7.449577026963468,-5.842035169758924,-5.576131065674815,6.7762112466357545,2.7053016492942192,2.176538257962978,6.584109191650664,-6.386481721647319,-2.126465961230951,4.868356499690098,4.996008808991551,-2.6417868015393204,-3.213209921692523,-1.9451316747916672,-1.9474561554539087,-2.53650256452351,-6.987059128298761,-5.493400092151,3.972991901806031,-8.259323726483087,-6.10456126135023,-2.2568572683580665,7.156744975774186,4.611304835253434,-6.9558428079594155,-5.05131458138539,1.5378720670513497,-2.1572705439307693,1.7073019444742141,-2.467724507454238,-6.515466829195589,-3.1540168511413915,-6.30315682292409,-0.06612907615395604,4.505218475453874,1.3470620220534766,-3.2478678811100674,5.592130981996471,7.379816699204361,-5.2623376729001405,-3.2760716154957876,-4.212406386355845,-4.771249199313672,-8.009068038242754,-6.949067787790723,8.10246290280427,0.6422113134722152,8.011627440325046,-7.723830688133994,-0.4969784355129372,9.257478968626426,0.5470242325892802,-1.5948526512174368,8.69342958102607,-7.319735742914635,-5.635398666875592,-8.400451448365219,-5.943146039112541,-7.85157583292697,-2.5121297194692658,4.216387701543044,5.1081280606860675,-1.5862967718630976,-2.303733428939832,-8.514519247373228,-6.619734816279745,-7.526560685278714,7.215070651433496,2.253133000121174,-7.4439452440925855,-0.47167814616414705,-3.518792391097134,1.3146982113953125,0.5532974295214782,-0.2827444621527504,-4.015152842203616,-1.2366119678250882,-4.322002895724552,-7.302708916283105,-7.487785498048833,-8.411453500987598,3.8567984674475118,6.535198149350448,2.752476186172596,-6.315067664016514,-3.8600048340435635,-8.325931929259257,7.26172963037385,1.7944925153332711,-5.305345638521155,-5.368082078924564,1.2192725165318319,-4.389376352585718,-0.3313630963042443,-6.4958491645728005,1.3646867433834753,1.2698201885744769,0.6570752325505066,-0.9791694892106778,-1.0230760037349478,-0.6071904755005725,-6.483958744996434,-1.2371397167527685,-7.063069024702671,2.925632340219516,-5.932387732311039,-5.2872370518193055,1.0366429685947582,-2.502240770486321,6.770274068349872,-4.470612903036694,-7.973190972584508,-1.1657226144920465,-0.4993823295914773,0.04273433038685741,-0.43382763320636447,1.713871422295484,-5.039193459807319,9.273299996263352,-5.216502782983061,1.6868633953547048,-6.936445852071904,-0.38445028849719876,2.900172336795195,-4.883069263702465,-1.1937598056124545,5.099249023207692,-3.6746852022747816,4.094451004028121,6.773788335025551,1.35874243521987,-0.44628465247747906,-6.825372728940707,-1.5312693651408424,4.933545710043659,-6.33153602887799,0.8820127052016093,1.379785742062704,-6.973107158914057,2.116799163818873,4.466926100480151,-4.102242381518049,1.915186937691725,-6.719500147754867,6.155549519875611,1.07825061928318,2.9191361606510746,-0.29147279688671185,-5.76180680756021,-1.8756572190721352,-0.19172842958370487,-3.272099657265247,-5.961381452904665,-1.5085384690022468,-7.031343703117097,4.496240279133275,6.373565308076173,-3.8594727762618475,-0.48679880181365304,-0.8419818712692154,-3.416424010948114,-3.9813567161489196,7.473517183328368,-8.08728266305663,-6.223869693731053,-3.07671825631078,2.530118636233109,-7.179163487251544,-1.5258719629083632,-1.2055517445476447,5.12177480555708,-3.4821259789062378,-3.0012185579612685,-1.7237722556409363,-6.48595885128655,-8.501632384930556,6.017455825053118,-6.269715158515455,-5.726389272418281,-3.203448618118578,-7.2242069603485755,-2.126071159212632,-2.3673182168577878,-5.916375658716975,-5.1178024984813,-6.665777538652507,-2.931621157079793,3.316725588521378,1.5342005515790171,-0.20467947437345257,-0.6649210983290678,2.4836223481146944,-4.926729538811414,-5.943448349007939,-4.611729494803334,0.3335912871241398,-5.168629178538159,0.5602828201655816,-2.753244368942026]}},\"id\":\"f6ff9131-4b9a-4fe7-865b-eab2dc888c50\",\"type\":\"ColumnDataSource\"},{\"attributes\":{\"overlay\":{\"id\":\"af0d8cf2-564b-4299-8551-23fc8a60f652\",\"type\":\"BoxAnnotation\"},\"plot\":{\"id\":\"7c69fc51-ca26-49f4-82db-5b913289350a\",\"subtype\":\"Figure\",\"type\":\"Plot\"}},\"id\":\"902ae511-de9d-47a2-bad4-5834f9b48a0a\",\"type\":\"BoxZoomTool\"},{\"attributes\":{\"bottom_units\":\"screen\",\"fill_alpha\":{\"value\":0.5},\"fill_color\":{\"value\":\"lightgrey\"},\"left_units\":\"screen\",\"level\":\"overlay\",\"line_alpha\":{\"value\":1.0},\"line_color\":{\"value\":\"black\"},\"line_dash\":[4,4],\"line_width\":{\"value\":2},\"plot\":null,\"render_mode\":\"css\",\"right_units\":\"screen\",\"top_units\":\"screen\"},\"id\":\"9b03c39e-de94-4ac8-8d31-2bd9cf5bfc19\",\"type\":\"BoxAnnotation\"},{\"attributes\":{\"data_source\":{\"id\":\"66f090c2-7f3b-4f62-b898-51ee931f1555\",\"type\":\"ColumnDataSource\"},\"glyph\":{\"id\":\"a8533673-8899-42bd-9d87-eb296e1535a3\",\"type\":\"Circle\"},\"hover_glyph\":null,\"nonselection_glyph\":{\"id\":\"44f1e6ca-dc46-426a-8649-c8f1340b5809\",\"type\":\"Circle\"},\"selection_glyph\":null},\"id\":\"df9055fc-d86a-4a87-a31c-d253d4ef450b\",\"type\":\"GlyphRenderer\"},{\"attributes\":{},\"id\":\"36928a9e-7fb3-457c-b9a1-a612546d4b53\",\"type\":\"BasicTicker\"},{\"attributes\":{},\"id\":\"a593a719-fc08-4c3a-bcaf-75ab51bdfce4\",\"type\":\"BasicTickFormatter\"},{\"attributes\":{},\"id\":\"4be3444b-8e2b-49fc-badf-47b0f383ada9\",\"type\":\"BasicTicker\"},{\"attributes\":{\"below\":[{\"id\":\"80ce789b-6421-4c00-ae22-5548668328d3\",\"type\":\"LinearAxis\"}],\"left\":[{\"id\":\"8a62c810-c12a-47a0-9c39-e7db844ff264\",\"type\":\"LinearAxis\"}],\"renderers\":[{\"id\":\"80ce789b-6421-4c00-ae22-5548668328d3\",\"type\":\"LinearAxis\"},{\"id\":\"2861fd8e-8dfb-4fdd-8c81-f79b80895cb1\",\"type\":\"Grid\"},{\"id\":\"8a62c810-c12a-47a0-9c39-e7db844ff264\",\"type\":\"LinearAxis\"},{\"id\":\"eed337d3-cc54-43e9-89e7-c3004a297c95\",\"type\":\"Grid\"},{\"id\":\"9b03c39e-de94-4ac8-8d31-2bd9cf5bfc19\",\"type\":\"BoxAnnotation\"},{\"id\":\"3c144bef-27ae-40c8-8eab-98aeb1045b64\",\"type\":\"GlyphRenderer\"}],\"responsive\":true,\"title\":\"DIFEREN\\u00c7A DE GOLS POR PA\\u00cdS\",\"tool_events\":{\"id\":\"7e1b61b0-0e6e-40a9-b9f7-5cf1207e5a2c\",\"type\":\"ToolEvents\"},\"tools\":[{\"id\":\"9d7a1862-efd8-4d23-a364-2e0281f85f8f\",\"type\":\"BoxZoomTool\"},{\"id\":\"4f9802de-fdfa-442e-890d-0e89fb43dea9\",\"type\":\"PanTool\"},{\"id\":\"71eb8f75-550a-4b93-bd0e-3398ecd267b2\",\"type\":\"PreviewSaveTool\"},{\"id\":\"3b5848b9-6c4d-413b-8a38-56aa4d57bdeb\",\"type\":\"ResetTool\"},{\"id\":\"3180cde6-30b6-40da-a196-f69a5d88c20b\",\"type\":\"HoverTool\"}],\"x_range\":{\"id\":\"85a103a5-ab7d-453a-908c-1173c4deef3a\",\"type\":\"DataRange1d\"},\"y_range\":{\"id\":\"e052627a-3a30-4b9f-bace-02d45efb8926\",\"type\":\"DataRange1d\"}},\"id\":\"f8103876-7f50-4c2f-9579-c7feedc99ec6\",\"subtype\":\"Figure\",\"type\":\"Plot\"},{\"attributes\":{\"axis_label\":\"Component 1\",\"formatter\":{\"id\":\"a93e7d50-3144-4c0a-95ef-f7588caedc78\",\"type\":\"BasicTickFormatter\"},\"plot\":{\"id\":\"1fae314f-5af9-4416-9a56-9377734288d6\",\"subtype\":\"Figure\",\"type\":\"Plot\"},\"ticker\":{\"id\":\"4be3444b-8e2b-49fc-badf-47b0f383ada9\",\"type\":\"BasicTicker\"}},\"id\":\"920e20c2-a984-483f-aca8-87882bc67fc8\",\"type\":\"LinearAxis\"},{\"attributes\":{},\"id\":\"d0c71547-8e4d-48e2-8b7a-8d196bb9eae8\",\"type\":\"BasicTicker\"},{\"attributes\":{\"callback\":null},\"id\":\"85a103a5-ab7d-453a-908c-1173c4deef3a\",\"type\":\"DataRange1d\"},{\"attributes\":{\"axis_label\":\"Component 2\",\"formatter\":{\"id\":\"a88a09ef-8d6c-4128-8a1c-8f51a816ec0c\",\"type\":\"BasicTickFormatter\"},\"plot\":{\"id\":\"1fae314f-5af9-4416-9a56-9377734288d6\",\"subtype\":\"Figure\",\"type\":\"Plot\"},\"ticker\":{\"id\":\"36928a9e-7fb3-457c-b9a1-a612546d4b53\",\"type\":\"BasicTicker\"}},\"id\":\"90337d6b-9555-4311-8c4c-f885a2330b40\",\"type\":\"LinearAxis\"},{\"attributes\":{\"callback\":null,\"column_names\":[\"overall_rating\",\"player_api_id\",\"potential\",\"player_name\",\"comp2\",\"index\",\"comp1\",\"y\",\"x\"],\"data\":{\"comp1\":[-0.1661426482883903,-5.46742527882389,-6.59250720270939,-7.052851662780867,5.354494134929692,6.077693569171792,-4.693794538950861,-9.03391210540995,5.170613412898561,4.716575291743294,-8.483539917130807,-8.065812386320315,-8.11259634931794,5.157488750466202,4.222849464598395,1.639245658090301,3.3973593811557854,-0.4005572123125804,-5.5366935025448045,5.076291402377343,-6.82917531970357,-1.8286622323810655,5.934060144785347,3.3447401314308154,-0.2649210208903653,3.530312908799977,0.8538631440971793,5.441212809039271,2.416208219179342,-8.350810451510231,-8.756769927733313,2.9906673037925087,-0.29589809730878025,5.3359668614617055,5.324665847961429,-8.591035889326958,-8.655716960887144,-0.01223412233293234,-7.713418943040086,1.3843091027241956,-3.1572931157205204,4.248657561195648,0.3933577716420354,4.902602101358868,-8.079124972529373,-7.431867810218882,-6.276964370849744,3.809967870944484,2.047685459178809,1.0290788192607008,3.523480200039994,-5.41436168886299,-8.241405666503864,5.34938460670918,5.3096557678814325,-8.589768275156008,0.29723604865983505,-8.579865019967974,-7.828575736136238,4.689378219175487,-8.303664154722005,-0.37464300724526367,4.251204452939116,3.7861507743091494,-8.524512801043617,1.136863799563307,-8.734409426015914,-3.268143125442319,4.171654184605989,3.4779516279850533,5.454732543709941,-1.7155203559062253,4.9161725278044255,3.1273589100776986,-8.35072751301583,-5.485633034330485,-8.458397073012469,-5.777401267581899,3.892182971153698,-9.00290271902971,-8.59387625571092,-7.761415556700209,-8.718096108838623,-8.758993782660468,-8.07906180331511,-8.599974585503293,-5.174890388802927,-5.130838494713865,-8.531346068454456,-8.689788843748143,-8.50990406022389,-7.991325486343656,-5.5660396667833565,5.304474191767449,0.6631291767479737,-6.800065237973519,-8.541395402944733,3.845909839189884,-6.155759773327134,0.22469963349530217,1.300160693214864,-8.517627736953383,-8.586687557384195,3.5005133097095724,-5.439092663378136,-5.714034099164452,-7.729092495309341,-5.326390651831978,4.710101618332936,-6.499899237795232,-0.3590302365476863,3.684473733114058,4.667215203781743,-5.512565560151474,-8.222507203181703,-5.7946982945503045,3.844503010839475,5.160358021742154,3.08238490864761,5.070171826377758,5.439240663913137,-8.292305158621495,7.324600314842133,1.301483669199958,-8.183795756327443,-0.22556591911168933,-6.021453983100311,4.946115211826773,3.741895062006011,-8.427793993440547,4.1635555964276065,3.6031045422787504,-8.436802688357137,3.5790346611521264,-4.750544892020029,-5.761613075138124,3.404611473651476,-9.104721939166986,7.0731872940378056,4.800585752945294,0.6226283364053505,-9.104653238920218,5.01255757967188,4.239631360119659,1.3486993681744932,-8.131871863432785,3.770384848394252,-6.9269176040930205,5.6259848765706115,5.110719822902534,-8.537033967330412,-5.434850897023325,-8.514054016758507,-0.2649492978030273,-8.72935875837435,-5.452947830677902,4.090669511429915,1.2923468512886553,5.56006383431815,1.6394065239519269,4.88418987702154,-5.483969439382735,4.145468621980911,-0.1063605333735579,2.0485039498434285,0.033805192085620966,-8.951838127059222,-8.699848411658508,6.5743256384763,4.076492442777864,3.4921713365598053,4.928203345064394,3.6154200114799897,-8.254369989888978,2.1790385376568766,-8.031573145440783,-8.909186267899448,-0.2714745753002197,-8.503860438742858,-6.538743351209105,0.6255362435339114,1.0994354470193297,-7.915445840175019,4.996439002605304,3.9693560335646656,5.917807426890813,-8.430457283856747,3.448777707810035,4.675056351683975,-8.896334088791209,4.1539273036929965,-8.402839884038567,-5.721122596598879,-0.48493235633418164,1.160320513258324,-8.444907849616069,-0.3480329635718019,-8.632168328889573,3.5232582097624463,6.187957045319535,-5.715723574254079,0.06366019560395535,-8.627732993304331,4.84869636179157,-8.160555423452937,2.4252607483733435,5.188405765517252,-5.433787492840958,-6.5438595133610065,-8.241333117683226,-5.147800715702979,5.196964543811826,0.5614197137822121,4.057407212262022,-7.818904330378938,3.9716725922666813,-6.601616105670877,-0.0006820622618975942,-8.263690026223182,-8.630919437576237,3.5472239923166398,0.43519434024230047,-0.45446290287657076,-8.45973870025326,1.9842790760687936,-8.783908281976492,-5.484071137432649,4.762190046666868,-7.8781120420271025,3.27462987563844,-0.22961669625011108,-8.752243048349477,0.0028539365938368135,6.026461863999572,5.25105216913419,1.7971925771019224,-6.78415796750992,-8.687258844602004,5.3393980016480445,-8.350520796172836,4.091861110883501,-4.779060995837439,-8.759241698575316,1.4335845939418432,-5.815489632395851,0.1774981811315199,-7.910145372888278,-5.30814821122448,-5.656056170107502,-4.802599471453116,-8.222596781647917,3.9706950882835255,-8.172623777888768,-7.280190886222285,-6.054550088409001,-5.548101550396304,5.282141500530253,-8.72387048583455,-5.653226359699899,-0.3869118940509233,6.818418820032908,-1.6318876139265033,3.9196944907174185,-8.90989014242834,5.012159436823104,5.0715595224725405,-9.007959615099754,-8.01115622108453,4.697231501780347,1.5680044896660124,5.301249374802492,-7.452468727127686,-6.3360815534709465,-9.022016085300212,-8.07549533947113,0.5264000369795475,2.0999687166770196,-2.935661578876879,-0.38918107718170236,-0.6388860413771825,4.725400439993098,-7.541591049959452,-9.072200184387881,-5.797637684520506,-8.594997880836521,-8.173784200711516,0.8009902373776133,-5.7088644063290985,2.101842168983591,-7.576027136149664,-0.007902143911358166,-8.975079139844722,-5.318494665698426,-5.756312815549854,4.010647769367132,5.372051286112573,-4.58740594751863,-6.4047965587743825,0.37741074936476293,4.991003054289402,0.19700832054209708,-8.487209113751227,3.3941242955766953,1.9876053933433828,6.889028854977848,-0.40923862811024264,5.701667085690419,4.8909534334177645,-6.653639319296614,-5.339999870074735,-5.4546639656744595,5.077383786189496,-8.227604374451598,-4.8978695863359,5.590090622014405,-5.559154182981599,-8.149463237825959,-8.077940125407354,-9.129768306806191,-5.617623292931564,5.2246605341962535,-8.094109467675127,-5.28545156760822,-0.3643569711564495,-8.506312345898635,-8.628614395787897,7.49878133208958,-4.492854667584207,5.253052509841047,-0.6218540660596944,4.128731559426191,5.758278959045901,5.460553079544709,3.297415074644448,-0.04094540332967808,3.3341371599146976,-8.699456778967894,7.210073195848646,3.5899289960582577,-4.225741307354734,5.170597885676447,6.0430859335225335,-5.629894231873116,5.598226070680519,5.0420876655819145,-8.753583219622561,4.5674100823344235,-0.4726950524591616,7.9663611797731715,4.412721383658743,4.056904304712316,4.10338849771914,4.053273501759917,5.231481618801115,-8.575446680031511,4.458770952135138,4.770840209799243,5.464538779822914,-5.824399923857348,-7.304430507066368,5.619633620477044,-5.668186136759529,4.796379350730781,-5.836794572686392,-4.79869472535611,-5.540800298537432,4.156063677117022,-7.97247705487314,2.9302263937953508,3.516731427385248,4.233463158669157,-0.49277515531900185,-6.9418510173234464],\"comp2\":[-8.125117859399838,8.290344462704493,-7.629291831209408,-7.109010881004085,1.2873871158432224,-7.5623835466201434,6.885334688939409,-2.5116267575542435,-7.2946334203173135,2.539681565153713,-2.9471166774569566,-4.696171114804666,-4.034492573095165,0.37389981171272796,-7.50942317146581,-8.799449745031255,-6.845750805495809,-8.523010631413626,-7.980242203995795,-7.851995638220068,-7.319078572583258,-6.324262427935108,-7.620996251130531,-6.9558428079594155,-8.41997446119907,-8.490483484232213,-8.253796068320828,1.2435388374850151,-8.009068038242754,-4.247862560579051,-4.096020450043185,-7.319735742914635,-8.400451448365219,1.3289370865620254,0.7610745897998624,-4.0853867903093875,-2.303733428939832,-8.06517451151803,-3.3921727678146736,-8.514519247373228,-3.695025071581714,-8.238768063176074,-8.15950333400048,-5.846585004981686,-4.183173094207248,-5.709105812407831,-3.341930391660383,2.752476186172596,-8.325931929259257,-8.694351358441745,-8.533049179671501,7.7697888664529415,-1.2213365885070901,1.2192725165318319,1.6703757568106234,-4.088244591867122,-7.602637205926351,-3.173000004455693,-5.279119917759401,-7.100246348298925,-2.4667170605737216,-7.958182345862522,-7.164598230682808,2.8950546622106486,-2.355506329547794,-8.288430979052466,-1.1657226144920465,-3.7218718292878608,-7.724415665066971,-6.825372728940707,1.6223187298342763,-7.299307473209409,-6.973107158914057,-8.32036761628639,-3.167599500062394,8.242055093727819,-1.8539762716980381,8.326138165946855,-8.207562280124439,-1.2770148399391112,-4.39769106936464,-5.28782326711752,-0.8518321760794798,-2.646127634152021,-5.21130628237055,-2.3673182168577878,7.5225563705830485,7.876180715073919,-4.276078539566738,-2.6503267313841965,-2.2059638750111827,-1.1716415708382013,7.702222086909288,1.8140193178000252,-8.754384186145064,-7.422831664533407,-2.4249696096111304,3.2867534961177696,-7.649442735898542,-8.345577396935692,-8.642692470810989,-4.117117053742886,-2.426660135389014,-6.838329603365209,7.639881918130909,7.682570596721288,-5.397513820747629,7.5518707975538195,-7.162072035695272,-7.644858977000168,-8.096342933426294,-5.5157437508690075,-6.215680835815394,7.428716680228639,-2.4749911418529327,7.646269110771893,-6.601240634674574,-7.9067927287624915,-6.275632062071897,-4.846406179419491,1.3286096962037055,-2.690003514030003,-0.446777735586591,-8.758057940323756,-3.8216883706575113,-8.22259970271264,-7.597040268785144,-5.1144010744375255,-8.567462018205044,-2.6569550749816084,-6.175204208883831,3.5299726688835427,-1.6314962217167304,-6.552684064583608,6.919830392729955,-2.7639853083741186,-8.48579024491391,-1.5007209801821555,2.761529936549227,-5.2921352470419505,-8.435306378659083,-1.4976981610938345,-7.247026844807411,-8.077539207422722,-8.357314592639575,-3.318268072573223,-6.395661471368763,-2.9396669794244077,2.071007329211402,0.6323691807590829,-2.3966452445453714,7.426677656602597,-1.4681179659042167,-8.027972487635008,-2.057667607897185,7.871878241059368,-7.905679641029056,-8.624703146336163,1.838198554175171,-8.472988381904083,-4.398883310197207,7.534335180360372,-8.143620586817772,-8.1815493421813,-8.874346942354641,-8.10141802979562,-0.794670656630813,-3.7939708630009807,-0.9316743392312389,-7.37064116847178,-8.325468366807005,3.0612884442705472,-6.395146410464237,-3.9982825528909243,-8.410881854274349,-3.5978203045969526,-2.3133532343280736,-7.780734553422844,-1.5481609505550138,-7.5663205383144785,-8.351692241137462,-8.45160371167916,-2.0173057995024073,2.2033640457494026,-8.541970080199341,-7.538851136160125,-5.1537621833302,-6.75197534805036,-7.812422601711319,-2.3497532927730043,-8.064918107303415,-3.155811873469972,8.247580700564681,-8.132945773545133,-7.040333946073362,-3.553108793285017,-8.161467933520665,-2.1209361509004845,3.314861376550006,3.7639636648907504,8.317150247624264,-8.506090922727248,-3.9550061136420482,-5.285407252066396,-5.33970180458411,5.225656467198498,-7.036148201139285,7.65181302861158,-7.601691439992134,-2.864562092025265,7.604504814240338,-7.861113899001424,-8.464753632171048,-6.989443145495489,-3.0046087964634016,-8.324274822717884,-7.5946593804773554,-8.504180925452536,-2.0364382967095085,-1.837261545953103,3.3085951935140154,-8.519763993347318,-8.17486830182717,-3.937967558205535,-8.804621767533867,-3.874114769282791,8.286652598061755,3.7018699768377625,-5.109616811730552,5.340188143048742,-8.43108206584962,-1.1451162356551983,-8.330117769360221,3.3247679444215996,1.3226521253459405,-8.24758536662642,-7.444369469649895,-4.406239517429422,0.9868913052929678,-1.2534408365374974,-7.907544813905371,7.156762126459862,-2.3027956626507593,-8.617722977683723,8.33922537441491,-8.532433761797375,-3.600483742481363,7.32057628378278,7.933275647013547,7.375184102520437,-3.499291859554467,-7.487321489367028,-3.443019763542862,-2.9809669132487,-3.1710526049841405,7.761553640846228,1.349652718174318,-2.3695156080859565,7.9601828936052765,-8.455481886987908,2.655792961530815,-7.267842251425191,-6.318622164033456,-0.8018895029772488,-7.566112932094078,-3.717062757401013,-2.184934635237744,-1.7391063578669343,-7.591943539186943,-8.591844323512763,0.9548374126806352,-6.557538663638062,-7.428243502160156,-2.3866812251327567,-5.066793748836493,-8.208586396669686,-8.990569565331038,-3.0846811274322645,-8.491789796575228,-8.571829764494483,-6.364206630919799,-5.516381714458653,-2.4352539081128226,8.261655639184932,-4.5011117188352525,-4.658699977087677,-8.638920296215904,8.313934858686494,-8.988771404177065,-5.785867952016563,-8.320819981485307,-2.252149916725609,7.143993771544103,8.14594876946155,-6.332372695043074,0.9756410248601206,6.907200108394663,-7.414989646721212,-8.684919822260845,-6.763757574289338,-7.170251489825705,-2.4092940337193127,-6.988686501205685,-8.512866837790973,0.3036647963998808,-8.227461494230768,0.7292891834498076,-7.775228455862056,-7.089729317953969,7.540434330031014,7.983108918156482,4.434179598436556,-4.408632990095633,7.401363962512759,0.8879966591455511,7.680858552348519,-5.136212672047928,-5.040086689841664,-2.491559263084324,7.912165848443421,0.5265435405649793,-1.134851649425621,7.807258125640759,-8.415203504980155,-2.6175571293143665,-1.561186684679762,-0.0016194789530543348,7.00840204621092,0.24294845041469346,-8.144650529685524,-6.0619124586395605,1.460559312793184,1.3370245915325116,-7.1822626789702095,-8.587460237133934,-6.839911534958408,-4.319330955699348,-0.3923232572004985,-6.7444923022293075,6.850673350049976,0.5805658511842302,-1.3209899297440266,7.926573342484261,1.5511682546069943,-7.708345326970266,-4.329245436243246,-4.802918665832128,-8.536479177383342,-5.6939615828109424,3.317479724184198,-8.209125200492869,-6.368911249990973,-8.211808856192832,1.8683409113443514,-2.394864138720741,1.3198509330926493,3.6718168324541467,1.4937671231424399,7.917210404052619,-7.299518456751942,0.9981304756409474,7.5869371953,3.612118167750572,8.074297987430745,7.1214347249437635,7.770048668678267,-8.24581717102044,-3.623937908049458,-7.277831957436265,-6.726757907792994,-7.9740529709891215,-8.527838975901394,-7.40423624579084],\"index\":[51908,160138,43197,73039,163470,11923,49585,111416,125604,107729,180429,26509,40494,72572,71751,139677,106205,69719,47406,100612,113284,70062,179708,113110,22246,156018,108732,176194,111333,73778,26154,110151,126338,126397,116876,169965,89835,63106,1774,144296,89294,170168,150316,61342,165802,120311,150733,50606,95613,30929,24110,152172,149196,65507,11395,8156,82285,144057,25443,105610,147976,88651,98459,87943,88354,103849,102621,15256,120794,165061,64132,58622,167543,170603,45370,176234,127411,14374,36268,46303,70872,9525,161291,140103,65437,129545,124548,9215,142940,113160,180903,80970,77620,164176,60790,68609,93029,97123,96679,98518,38588,95846,46122,56263,119756,39006,58001,58034,36832,43532,35654,87921,78232,109370,80202,108509,26981,22890,24005,115465,60978,72945,70390,17303,68764,112430,113194,138542,168897,168707,9050,133290,136351,7204,145597,179132,130414,158722,2399,98636,10641,158480,178845,17925,55073,145197,136112,44505,179359,132393,141315,156082,142653,3328,180072,63520,156539,99980,146203,36951,118765,171259,160551,176352,146322,19925,117786,14914,37535,77759,122143,121352,86747,85044,128332,120467,90059,134249,145525,9567,65348,181154,144974,28576,175687,65999,47487,52968,171870,40224,76873,26212,70692,179972,10893,90899,96911,104078,92483,115981,123910,12683,8446,18374,144218,141667,142343,102852,11342,133863,11595,176572,269,137550,51056,10239,135306,16109,28932,156115,92316,82355,73890,150190,180804,160061,154180,87882,8239,84394,72326,72254,10217,77153,135706,34584,16284,178086,19965,21952,160220,43368,132172,148013,55467,111881,149373,95731,141561,152613,94774,127837,76031,177109,92248,150586,99037,121856,76693,27178,114482,62472,129251,81255,78202,34943,130834,62996,66741,59690,132434,74651,28765,47010,78147,59869,19495,178409,156978,13675,80181,102317,16383,43321,149822,31370,75942,95964,166298,44385,74594,58382,82922,72232,159796,43727,142182,152436,142540,80397,153029,163418,145730,18119,175499,173453,80691,118302,178585,165965,165334,130498,156385,147273,83180,21073,93057,35887,101978,180282,161415,62609,155717,168827,95418,52518,129445,20745,18166,78302,157990,162293,146056,21610,105683,20837,105468,52114,90469,17647,108910,34925,91582,18187,62654,33156,129905,12717,55343,164493,77783,31462,39683,17500,138809,115176,115917,141591,176537,182801,142319,36702,154920,30872,26608,169074,168976,79287,75847,99139,102280,179849,42033],\"overall_rating\":[81.0,81.0,81.0,80.0,83.0,81.0,80.0,86.0,80.0,81.0,80.0,80.0,81.0,80.0,80.0,86.0,80.0,85.0,80.0,83.0,82.0,80.0,84.0,80.0,82.0,81.0,80.0,80.0,80.0,81.0,85.0,83.0,84.0,85.0,81.0,86.0,81.0,80.0,80.0,83.0,80.0,80.0,80.0,81.0,80.0,80.0,81.0,80.0,80.0,84.0,81.0,80.0,81.0,81.0,85.0,83.0,80.0,80.0,82.0,83.0,80.0,80.0,82.0,81.0,81.0,81.0,82.0,81.0,80.0,82.0,86.0,80.0,82.0,80.0,81.0,81.0,80.0,82.0,82.0,81.0,84.0,80.0,82.0,81.0,86.0,82.0,80.0,80.0,84.0,84.0,82.0,80.0,81.0,81.0,87.0,82.0,82.0,83.0,81.0,80.0,85.0,80.0,83.0,82.0,81.0,87.0,80.0,80.0,80.0,85.0,82.0,80.0,83.0,82.0,81.0,90.0,82.0,80.0,80.0,80.0,82.0,84.0,80.0,85.0,82.0,82.0,81.0,81.0,82.0,81.0,80.0,80.0,82.0,82.0,83.0,83.0,83.0,82.0,80.0,82.0,80.0,82.0,81.0,80.0,80.0,81.0,80.0,83.0,80.0,80.0,83.0,84.0,84.0,80.0,82.0,84.0,80.0,82.0,81.0,80.0,81.0,81.0,87.0,80.0,81.0,80.0,80.0,84.0,80.0,80.0,80.0,83.0,84.0,83.0,80.0,81.0,83.0,81.0,81.0,81.0,81.0,80.0,80.0,83.0,81.0,82.0,85.0,80.0,82.0,86.0,82.0,81.0,85.0,80.0,80.0,82.0,83.0,81.0,82.0,80.0,80.0,81.0,86.0,80.0,82.0,83.0,80.0,80.0,81.0,82.0,80.0,85.0,82.0,82.0,80.0,81.0,82.0,83.0,83.0,82.0,80.0,83.0,85.0,82.0,85.0,88.0,81.0,81.0,80.0,84.0,84.0,80.0,81.0,80.0,81.0,84.0,82.0,85.0,83.0,80.0,86.0,80.0,83.0,82.0,82.0,84.0,80.0,82.0,81.0,80.0,86.0,82.0,87.0,81.0,81.0,80.0,84.0,88.0,82.0,86.0,80.0,80.0,80.0,80.0,84.0,82.0,90.0,80.0,82.0,80.0,84.0,83.0,80.0,88.0,82.0,81.0,85.0,82.0,85.0,86.0,82.0,80.0,89.0,82.0,88.0,80.0,80.0,82.0,81.0,80.0,81.0,86.0,84.0,82.0,81.0,86.0,86.0,82.0,87.0,82.0,80.0,81.0,80.0,81.0,80.0,87.0,87.0,86.0,80.0,83.0,83.0,81.0,80.0,80.0,81.0,83.0,86.0,83.0,94.0,82.0,82.0,80.0,82.0,83.0,80.0,80.0,84.0,81.0,81.0,84.0,81.0,80.0,82.0,84.0,87.0,81.0,90.0,83.0,81.0,82.0,80.0,80.0,82.0,83.0,85.0,93.0,80.0,88.0,80.0,81.0,80.0,80.0,83.0,81.0,81.0,81.0,81.0,84.0,81.0,89.0,81.0,81.0,80.0,83.0,80.0,86.0,88.0,80.0,80.0,80.0,82.0,86.0,82.0],\"player_api_id\":[108568,96623,30822,291219,39455,30731,41671,129944,182224,94043,354467,201939,30909,282676,112758,248453,13518,73167,15403,24235,75447,21446,30889,183185,38433,42346,268282,182921,73999,163670,38817,28467,96398,19327,113672,116772,155066,127460,37234,41433,147951,26005,210278,49970,92666,282770,30843,574200,114558,41890,42479,112978,278343,38458,30902,169193,300916,193174,166648,147729,38239,18518,37373,474589,150330,38393,193441,11685,182923,30474,41884,270774,37374,30871,364520,32657,292462,167035,30682,46104,20276,213501,144993,325916,25759,40945,33845,210164,150565,177714,103450,281085,212512,188555,31921,194165,208230,161683,36784,94916,121633,212893,156726,41167,181910,182917,241825,40672,240235,19243,75307,391058,38818,184554,33782,27299,72541,31306,267911,96616,23783,191315,94886,49939,26163,41658,27326,32569,26852,31013,188652,253088,128864,157865,49586,94086,115067,42116,361710,23988,164333,96540,257865,56916,40196,25819,181297,25496,35110,149962,150250,42422,184536,40930,179795,30717,210117,24846,34029,208077,46820,212815,30962,40193,33871,45749,40060,184138,38432,74747,34944,46875,150739,39122,41008,58346,41468,27365,246575,75310,27427,26160,38994,165823,111237,207236,49677,29590,160599,37459,37762,75342,26295,176300,361770,243164,184533,215299,150670,40735,37193,31045,50047,26111,22543,35606,186137,287894,38098,213486,39170,39027,75489,30509,174850,150323,46469,39792,157723,26181,210428,37549,25773,242709,36615,37412,40604,26552,46554,30627,178818,179772,164676,185945,109615,33988,33028,30829,68253,96643,154257,30820,164031,115591,56829,190972,24635,145550,30660,41087,169200,46893,164684,213805,41044,37623,46539,36378,177126,30613,30563,108038,38521,33991,37410,282674,19533,37950,154232,41199,174321,51360,148315,107417,70409,33635,30872,30878,37436,46509,26403,39987,30834,96613,93447,30956,38807,51949,30618,27430,143793,30924,31432,30657,195299,56678,30859,181276,30894,39990,215384,93480,79574,39591,46403,95078,36183,36388,143365,31293,41097,30865,33639,27424,171698,215168,26166,51553,30981,41618,184999,251925,27659,172949,26151,49836,28480,11319,192770,129391,77690,35112,230982,26419,31097,41092,40636,37581,38424,46518,195305,40940,30989,411617,37482,30893,157838,30955,33030,178955,41467,151063,52133,24948,192625,267365,22764,25921,25540,35724,23268,115184,40695,37421,26168,170323,80562,26437,101192,215798,26353,39854,35411],\"player_name\":[\"Ever Banega\",\"Sergio Asenjo\",\"Didier Drogba\",\"Islam Slimani\",\"Sokratis Papastathopoulos\",\"Andrea Pirlo\",\"Emiliano Viviano\",\"Marco Reus\",\"Mikel San Jose\",\"Mamadou Sakho\",\"Yannick Ferreira-Carrasco\",\"Cedric Bakambu\",\"David Villa\",\"Inigo Martinez\",\"Ignacio Camacho\",\"Paul Pogba\",\"Lukasz Piszczek\",\"Henrik Mkhitaryan\",\"Edin Dzeko\",\"Leonardo Bonucci\",\"Mario Mandzukic\",\"Hernanes\",\"Xabi Alonso\",\"Mario Gaspar\",\"Borja Valero\",\"Sami Khedira\",\"Manuel Trigueros\",\"Victor Ruiz\",\"Marco Parolo\",\"Ivan Perisic\",\"Carlos Tevez\",\"Marcelo\",\"Miralem Pjanic\",\"Miranda\",\"Mateo Pablo Musacchio\",\"Thomas Mueller\",\"Juan Cuadrado\",\"Giacomo Bonaventura\",\"Adam Lallana\",\"Radja Nainggolan\",\"Josip Ilicic\",\"Thomas Vermaelen\",\"Roberto Pereyra\",\"Gary Medel\",\"Stevan Jovetic\",\"Mauro Icardi\",\"Robin van Persie\",\"Eric Bertrand Bailly\",\"Kevin Strootman\",\"Claudio Marchisio\",\"Bruno Soriano\",\"Roman Buerki\",\"Riyad Mahrez\",\"Gonzalo Rodriguez\",\"Andrea Barzagli\",\"Alexandre Lacazette\",\"Joao Mario\",\"Quincy Promes\",\"Carlos Bacca\",\"Luiz Gustavo\",\"Ricardo Quaresma\",\"Jose Sosa\",\"Lars Bender\",\"Jose Gimenez\",\"Jose Maria Callejon\",\"Lucas Biglia\",\"Lorenzo Insigne\",\"Antonio Candreva\",\"Maxime Gonalons\",\"Stephan Lichtsteiner\",\"Giorgio Chiellini\",\"Franco Vazquez\",\"Sven Bender\",\"Tiago\",\"Domenico Berardi\",\"Victor Valdes\",\"Mohamed Salah\",\"Anthony Lopes\",\"Daniele De Rossi\",\"Dries Mertens\",\"Hulk\",\"Alvaro Morata\",\"Shinji Kagawa\",\"Paulo Dybala\",\"Gonzalo Higuain\",\"Nani\",\"Miguel Angel Moya\",\"Alphonse Areola\",\"Pierre-Emerick Aubameyang\",\"Mario Goetze\",\"Yevheniy Konoplyanka\",\"Jese Rodriguez\",\"Jasper Cillessen\",\"Stefan de Vrij\",\"Gareth Bale\",\"Harry Kane\",\"Karim Bellarabi\",\"Konstantinos Manolas\",\"Klaas Jan Huntelaar\",\"Lars Stindl\",\"David Alaba\",\"Kevin Volland\",\"Douglas Costa\",\"Filipe Luis\",\"Mattia Perin\",\"David De Gea\",\"Francisco Alcacer\",\"Francisco Casilla\",\"Danilo Pereira\",\"Diego Costa\",\"Daniel Parejo\",\"Jose Gaya\",\"Javier Mascherano\",\"Marc-Andre ter Stegen\",\"Jeremy Menez\",\"Manuel Neuer\",\"Cesar Azpilicueta\",\"Branislav Ivanovic\",\"Bruno Peres\",\"Martin Caceres\",\"Gary Cahill\",\"Isco\",\"Holger Badstuber\",\"Arturo Vidal\",\"Hatem Ben Arfa\",\"Marek Hamsik\",\"Mario Gomez\",\"Patrice Evra\",\"Thiago Motta\",\"Theo Walcott\",\"Allan\",\"Nikola Maksimovic\",\"Oscar\",\"Alex Sandro\",\"Ralf Faehrmann\",\"Willian\",\"Nemanja Matic\",\"Sebastian Meoli\",\"Aderlan Santos\",\"Lassana Diarra\",\"Andre Andre\",\"Sebastian Giovinco\",\"William Carvalho\",\"Aurelien Chedjou\",\"Fernandinho\",\"Raffael\",\"Oscar de Marcos\",\"Dimitri Payet\",\"Winston Reid\",\"Nicolas N'Koulou\",\"Pedro Rodriguez\",\"Samir Handanovic\",\"Philippe Coutinho\",\"Adrien Silva\",\"Yacine Brahimi\",\"Gianluigi Buffon\",\"Samuel Umtiti\",\"Leighton Baines\",\"Raul Albiol\",\"Danilo\",\"Matteo Darmian\",\"Timo Horn\",\"Sergio Ramos\",\"Vieirinha\",\"Raul Garcia\",\"Benat Etxebarria\",\"Mathieu Valbuena\",\"Antoine Griezmann\",\"Dante\",\"Javi Fuego\",\"Michael Carrick\",\"Mehdi Benatia\",\"Jordi Alba\",\"Jonas\",\"Moussa Dembele\",\"Max Kruse\",\"Juan Mata\",\"Nuri Sahin\",\"Raheem Sterling\",\"Alvaro Negredo\",\"Gonzalo Castro\",\"Yohan Cabaye\",\"Rafael\",\"Chris Smalling\",\"Vicente Iborra\",\"Granit Xhaka\",\"Edinson Cavani\",\"Fabio Coentrao\",\"Toby Alderweireld\",\"David Silva\",\"Jan Vertonghen\",\"Carlos Vela\",\"Hugo Lloris\",\"Xherdan Shaqiri\",\"Andre Gomes\",\"Julian Draxler\",\"Koke\",\"Lucas Moura\",\"Kamil Glik\",\"Martin Stranzl\",\"Michel Vorm\",\"Andres Guardado\",\"Alexis Sanchez\",\"Bacary Sagna\",\"Radamel Falcao\",\"Per Mertesacker\",\"Phil Jones\",\"Loris Karius\",\"Andre-Pierre Gignac\",\"Nolito\",\"Andrea Consigli\",\"Vincent Kompany\",\"Aaron Ramsey\",\"Pablo Zabaleta\",\"Erik Lamela\",\"Ander Iturraspe\",\"Olivier Giroud\",\"Arda Turan\",\"Christian Eriksen\",\"Samir Nasri\",\"Kalidou Koulibaly\",\"Joao Moutinho\",\"Ivan Rakitic\",\"Roberto Firmino\",\"Yaya Toure\",\"Sergio Aguero\",\"Rui Patricio\",\"Jose Fonte\",\"Alexandre Pato\",\"John Terry\",\"Ilkay Guendogan\",\"Iker Muniain\",\"Ander Herrera\",\"Jardel\",\"Omer Toprak\",\"Daniel Alves\",\"Aritz Aduriz\",\"Wayne Rooney\",\"Benedikt Hoewedes\",\"Bojan Krkic\",\"Sergio Busquets\",\"Diego Benaglio\",\"Nicolas Gaitan\",\"Ricardo Rodriguez\",\"Fernando Muslera\",\"Marco Verratti\",\"Robbie Keane\",\"Kevin Trapp\",\"Pepe Reina\",\"Ron-Robert Zieler\",\"Kevin de Bruyne\",\"Morgan Schneiderlin\",\"James Rodriguez\",\"Vitolo\",\"Kaka\",\"Roberto\",\"Laurent Koscielny\",\"Mesut Oezil\",\"Jan Oblak\",\"Cesc Fabregas\",\"Marko Basa\",\"Georginio Wijnaldum\",\"Nacho Monreal\",\"Jesus Navas\",\"Javier Martinez\",\"Daniel Carvajal\",\"Neymar\",\"Gervinho\",\"Grzegorz Krychowiak\",\"Fredy Guarin\",\"Nicolas Otamendi\",\"Jackson Martinez\",\"Christian Benteke\",\"Eden Hazard\",\"Javier Hernandez\",\"Gabi\",\"Bastian Schweinsteiger\",\"Wesley Sneijder\",\"Santi Cazorla\",\"Angel Di Maria\",\"Jeremy Mathieu\",\"Loic Remy\",\"Arjen Robben\",\"Diego Alves\",\"Robert Lewandowski\",\"Clint Dempsey\",\"James Milner\",\"Keylor Navas\",\"Steven Gerrard\",\"Dimitar Berbatov\",\"Jack Wilshere\",\"Franck Ribery\",\"Joe Hart\",\"Iker Casillas\",\"Serge Aurier\",\"Diego Godin\",\"Petr Cech\",\"Romelu Lukaku\",\"Philipp Lahm\",\"Jeremy Toulalan\",\"Ross Barkley\",\"Sofiane Feghouli\",\"Ramires\",\"Axel Witsel\",\"Vedran Corluka\",\"Toni Kroos\",\"Jerome Boateng\",\"Mats Hummels\",\"Wilfried Bony\",\"Steve Mandanda\",\"Stephane Ruffier\",\"Nemanja Vidic\",\"Samuel Eto'o\",\"Rene Adler\",\"Joel Matip\",\"Bernd Leno\",\"Karim Benzema\",\"Daniel Sturridge\",\"Lionel Messi\",\"Yann Sommer\",\"Shkodran Mustafi\",\"Gerard Deulofeu\",\"Salvatore Sirigu\",\"Thiago Alcantara\",\"Kevin Mirallas\",\"Fabian Orellana\",\"Naldo\",\"Benoit Costil\",\"Aymen Abdennour\",\"Javier Pastore\",\"Seamus Coleman\",\"Simon Kjaer\",\"Raphael Varane\",\"Blaise Matuidi\",\"Luka Modric\",\"Benoit Tremoulinas\",\"Luis Suarez\",\"Ezequiel Garay\",\"Juanfran\",\"Asmir Begovic\",\"Marc Bartra\",\"Daniel Carrico\",\"Julio Cesar\",\"Aymeric Laporte\",\"Gerard Pique\",\"Cristiano Ronaldo\",\"Nathaniel Clyne\",\"Andres Iniesta\",\"Fernando Llorente\",\"Stefan Savic\",\"Javi Garcia\",\"Coke\",\"David Luiz\",\"Ashley Williams\",\"Patrick Herrmann\",\"Marquinhos\",\"Martin Skrtel\",\"Pepe\",\"Vincent Enyeama\",\"Zlatan Ibrahimovic\",\"Phil Jagielka\",\"Danijel Subasic\",\"Ryan Shawcross\",\"Claudio Bravo\",\"Cedric Carrasso\",\"Thibaut Courtois\",\"Thiago Silva\",\"Jefferson Farfan\",\"James McCarthy\",\"Lavyin Kurzawa\",\"Loic Perrin\",\"Xavi Hernandez\",\"Demba Ba\"],\"potential\":[81.0,82.0,81.0,80.0,83.0,81.0,80.0,87.0,81.0,82.0,85.0,84.0,81.0,84.0,82.0,91.0,80.0,86.0,80.0,83.0,82.0,80.0,84.0,84.0,82.0,81.0,85.0,81.0,80.0,82.0,85.0,83.0,86.0,85.0,85.0,88.0,81.0,82.0,80.0,83.0,80.0,80.0,83.0,81.0,82.0,85.0,81.0,88.0,82.0,84.0,81.0,83.0,85.0,81.0,85.0,87.0,86.0,86.0,82.0,83.0,80.0,80.0,83.0,87.0,81.0,81.0,86.0,81.0,81.0,82.0,86.0,80.0,83.0,80.0,86.0,81.0,85.0,86.0,82.0,81.0,84.0,85.0,83.0,87.0,86.0,82.0,80.0,88.0,85.0,88.0,84.0,87.0,82.0,87.0,89.0,88.0,84.0,86.0,81.0,81.0,88.0,85.0,86.0,82.0,86.0,90.0,86.0,80.0,84.0,86.0,83.0,85.0,83.0,87.0,81.0,90.0,84.0,80.0,82.0,80.0,82.0,88.0,80.0,85.0,82.0,82.0,81.0,81.0,82.0,81.0,82.0,85.0,86.0,85.0,84.0,84.0,84.0,82.0,81.0,82.0,82.0,82.0,86.0,80.0,80.0,81.0,81.0,83.0,80.0,82.0,83.0,84.0,88.0,81.0,84.0,84.0,85.0,82.0,81.0,84.0,83.0,87.0,87.0,80.0,81.0,80.0,80.0,88.0,80.0,80.0,80.0,83.0,85.0,83.0,80.0,81.0,83.0,82.0,87.0,81.0,81.0,80.0,82.0,85.0,81.0,86.0,85.0,80.0,83.0,86.0,82.0,82.0,85.0,84.0,87.0,85.0,87.0,84.0,82.0,80.0,80.0,81.0,87.0,80.0,82.0,83.0,84.0,85.0,81.0,82.0,80.0,85.0,85.0,82.0,84.0,82.0,82.0,83.0,87.0,82.0,83.0,83.0,85.0,86.0,85.0,88.0,81.0,81.0,82.0,84.0,87.0,85.0,82.0,80.0,83.0,84.0,82.0,85.0,83.0,83.0,87.0,80.0,83.0,86.0,82.0,89.0,80.0,85.0,81.0,81.0,89.0,84.0,93.0,83.0,81.0,80.0,84.0,89.0,86.0,86.0,80.0,84.0,80.0,80.0,85.0,85.0,94.0,80.0,84.0,80.0,84.0,83.0,83.0,90.0,82.0,81.0,85.0,82.0,85.0,86.0,82.0,80.0,89.0,82.0,89.0,80.0,80.0,82.0,81.0,80.0,84.0,86.0,84.0,82.0,86.0,86.0,86.0,88.0,87.0,82.0,88.0,83.0,80.0,82.0,80.0,89.0,88.0,87.0,81.0,83.0,83.0,81.0,80.0,80.0,83.0,88.0,86.0,85.0,94.0,83.0,87.0,87.0,82.0,87.0,80.0,80.0,84.0,81.0,83.0,85.0,82.0,81.0,89.0,84.0,87.0,81.0,90.0,83.0,81.0,82.0,83.0,81.0,82.0,87.0,85.0,93.0,84.0,88.0,80.0,85.0,80.0,80.0,83.0,81.0,84.0,87.0,81.0,84.0,81.0,89.0,81.0,81.0,80.0,83.0,80.0,90.0,88.0,80.0,83.0,88.0,82.0,86.0,82.0],\"x\":[-0.1661426482883903,-5.46742527882389,-6.59250720270939,-7.052851662780867,5.354494134929692,6.077693569171792,-4.693794538950861,-9.03391210540995,5.170613412898561,4.716575291743294,-8.483539917130807,-8.065812386320315,-8.11259634931794,5.157488750466202,4.222849464598395,1.639245658090301,3.3973593811557854,-0.4005572123125804,-5.5366935025448045,5.076291402377343,-6.82917531970357,-1.8286622323810655,5.934060144785347,3.3447401314308154,-0.2649210208903653,3.530312908799977,0.8538631440971793,5.441212809039271,2.416208219179342,-8.350810451510231,-8.756769927733313,2.9906673037925087,-0.29589809730878025,5.3359668614617055,5.324665847961429,-8.591035889326958,-8.655716960887144,-0.01223412233293234,-7.713418943040086,1.3843091027241956,-3.1572931157205204,4.248657561195648,0.3933577716420354,4.902602101358868,-8.079124972529373,-7.431867810218882,-6.276964370849744,3.809967870944484,2.047685459178809,1.0290788192607008,3.523480200039994,-5.41436168886299,-8.241405666503864,5.34938460670918,5.3096557678814325,-8.589768275156008,0.29723604865983505,-8.579865019967974,-7.828575736136238,4.689378219175487,-8.303664154722005,-0.37464300724526367,4.251204452939116,3.7861507743091494,-8.524512801043617,1.136863799563307,-8.734409426015914,-3.268143125442319,4.171654184605989,3.4779516279850533,5.454732543709941,-1.7155203559062253,4.9161725278044255,3.1273589100776986,-8.35072751301583,-5.485633034330485,-8.458397073012469,-5.777401267581899,3.892182971153698,-9.00290271902971,-8.59387625571092,-7.761415556700209,-8.718096108838623,-8.758993782660468,-8.07906180331511,-8.599974585503293,-5.174890388802927,-5.130838494713865,-8.531346068454456,-8.689788843748143,-8.50990406022389,-7.991325486343656,-5.5660396667833565,5.304474191767449,0.6631291767479737,-6.800065237973519,-8.541395402944733,3.845909839189884,-6.155759773327134,0.22469963349530217,1.300160693214864,-8.517627736953383,-8.586687557384195,3.5005133097095724,-5.439092663378136,-5.714034099164452,-7.729092495309341,-5.326390651831978,4.710101618332936,-6.499899237795232,-0.3590302365476863,3.684473733114058,4.667215203781743,-5.512565560151474,-8.222507203181703,-5.7946982945503045,3.844503010839475,5.160358021742154,3.08238490864761,5.070171826377758,5.439240663913137,-8.292305158621495,7.324600314842133,1.301483669199958,-8.183795756327443,-0.22556591911168933,-6.021453983100311,4.946115211826773,3.741895062006011,-8.427793993440547,4.1635555964276065,3.6031045422787504,-8.436802688357137,3.5790346611521264,-4.750544892020029,-5.761613075138124,3.404611473651476,-9.104721939166986,7.0731872940378056,4.800585752945294,0.6226283364053505,-9.104653238920218,5.01255757967188,4.239631360119659,1.3486993681744932,-8.131871863432785,3.770384848394252,-6.9269176040930205,5.6259848765706115,5.110719822902534,-8.537033967330412,-5.434850897023325,-8.514054016758507,-0.2649492978030273,-8.72935875837435,-5.452947830677902,4.090669511429915,1.2923468512886553,5.56006383431815,1.6394065239519269,4.88418987702154,-5.483969439382735,4.145468621980911,-0.1063605333735579,2.0485039498434285,0.033805192085620966,-8.951838127059222,-8.699848411658508,6.5743256384763,4.076492442777864,3.4921713365598053,4.928203345064394,3.6154200114799897,-8.254369989888978,2.1790385376568766,-8.031573145440783,-8.909186267899448,-0.2714745753002197,-8.503860438742858,-6.538743351209105,0.6255362435339114,1.0994354470193297,-7.915445840175019,4.996439002605304,3.9693560335646656,5.917807426890813,-8.430457283856747,3.448777707810035,4.675056351683975,-8.896334088791209,4.1539273036929965,-8.402839884038567,-5.721122596598879,-0.48493235633418164,1.160320513258324,-8.444907849616069,-0.3480329635718019,-8.632168328889573,3.5232582097624463,6.187957045319535,-5.715723574254079,0.06366019560395535,-8.627732993304331,4.84869636179157,-8.160555423452937,2.4252607483733435,5.188405765517252,-5.433787492840958,-6.5438595133610065,-8.241333117683226,-5.147800715702979,5.196964543811826,0.5614197137822121,4.057407212262022,-7.818904330378938,3.9716725922666813,-6.601616105670877,-0.0006820622618975942,-8.263690026223182,-8.630919437576237,3.5472239923166398,0.43519434024230047,-0.45446290287657076,-8.45973870025326,1.9842790760687936,-8.783908281976492,-5.484071137432649,4.762190046666868,-7.8781120420271025,3.27462987563844,-0.22961669625011108,-8.752243048349477,0.0028539365938368135,6.026461863999572,5.25105216913419,1.7971925771019224,-6.78415796750992,-8.687258844602004,5.3393980016480445,-8.350520796172836,4.091861110883501,-4.779060995837439,-8.759241698575316,1.4335845939418432,-5.815489632395851,0.1774981811315199,-7.910145372888278,-5.30814821122448,-5.656056170107502,-4.802599471453116,-8.222596781647917,3.9706950882835255,-8.172623777888768,-7.280190886222285,-6.054550088409001,-5.548101550396304,5.282141500530253,-8.72387048583455,-5.653226359699899,-0.3869118940509233,6.818418820032908,-1.6318876139265033,3.9196944907174185,-8.90989014242834,5.012159436823104,5.0715595224725405,-9.007959615099754,-8.01115622108453,4.697231501780347,1.5680044896660124,5.301249374802492,-7.452468727127686,-6.3360815534709465,-9.022016085300212,-8.07549533947113,0.5264000369795475,2.0999687166770196,-2.935661578876879,-0.38918107718170236,-0.6388860413771825,4.725400439993098,-7.541591049959452,-9.072200184387881,-5.797637684520506,-8.594997880836521,-8.173784200711516,0.8009902373776133,-5.7088644063290985,2.101842168983591,-7.576027136149664,-0.007902143911358166,-8.975079139844722,-5.318494665698426,-5.756312815549854,4.010647769367132,5.372051286112573,-4.58740594751863,-6.4047965587743825,0.37741074936476293,4.991003054289402,0.19700832054209708,-8.487209113751227,3.3941242955766953,1.9876053933433828,6.889028854977848,-0.40923862811024264,5.701667085690419,4.8909534334177645,-6.653639319296614,-5.339999870074735,-5.4546639656744595,5.077383786189496,-8.227604374451598,-4.8978695863359,5.590090622014405,-5.559154182981599,-8.149463237825959,-8.077940125407354,-9.129768306806191,-5.617623292931564,5.2246605341962535,-8.094109467675127,-5.28545156760822,-0.3643569711564495,-8.506312345898635,-8.628614395787897,7.49878133208958,-4.492854667584207,5.253052509841047,-0.6218540660596944,4.128731559426191,5.758278959045901,5.460553079544709,3.297415074644448,-0.04094540332967808,3.3341371599146976,-8.699456778967894,7.210073195848646,3.5899289960582577,-4.225741307354734,5.170597885676447,6.0430859335225335,-5.629894231873116,5.598226070680519,5.0420876655819145,-8.753583219622561,4.5674100823344235,-0.4726950524591616,7.9663611797731715,4.412721383658743,4.056904304712316,4.10338849771914,4.053273501759917,5.231481618801115,-8.575446680031511,4.458770952135138,4.770840209799243,5.464538779822914,-5.824399923857348,-7.304430507066368,5.619633620477044,-5.668186136759529,4.796379350730781,-5.836794572686392,-4.79869472535611,-5.540800298537432,4.156063677117022,-7.97247705487314,2.9302263937953508,3.516731427385248,4.233463158669157,-0.49277515531900185,-6.9418510173234464],\"y\":[-8.125117859399838,8.290344462704493,-7.629291831209408,-7.109010881004085,1.2873871158432224,-7.5623835466201434,6.885334688939409,-2.5116267575542435,-7.2946334203173135,2.539681565153713,-2.9471166774569566,-4.696171114804666,-4.034492573095165,0.37389981171272796,-7.50942317146581,-8.799449745031255,-6.845750805495809,-8.523010631413626,-7.980242203995795,-7.851995638220068,-7.319078572583258,-6.324262427935108,-7.620996251130531,-6.9558428079594155,-8.41997446119907,-8.490483484232213,-8.253796068320828,1.2435388374850151,-8.009068038242754,-4.247862560579051,-4.096020450043185,-7.319735742914635,-8.400451448365219,1.3289370865620254,0.7610745897998624,-4.0853867903093875,-2.303733428939832,-8.06517451151803,-3.3921727678146736,-8.514519247373228,-3.695025071581714,-8.238768063176074,-8.15950333400048,-5.846585004981686,-4.183173094207248,-5.709105812407831,-3.341930391660383,2.752476186172596,-8.325931929259257,-8.694351358441745,-8.533049179671501,7.7697888664529415,-1.2213365885070901,1.2192725165318319,1.6703757568106234,-4.088244591867122,-7.602637205926351,-3.173000004455693,-5.279119917759401,-7.100246348298925,-2.4667170605737216,-7.958182345862522,-7.164598230682808,2.8950546622106486,-2.355506329547794,-8.288430979052466,-1.1657226144920465,-3.7218718292878608,-7.724415665066971,-6.825372728940707,1.6223187298342763,-7.299307473209409,-6.973107158914057,-8.32036761628639,-3.167599500062394,8.242055093727819,-1.8539762716980381,8.326138165946855,-8.207562280124439,-1.2770148399391112,-4.39769106936464,-5.28782326711752,-0.8518321760794798,-2.646127634152021,-5.21130628237055,-2.3673182168577878,7.5225563705830485,7.876180715073919,-4.276078539566738,-2.6503267313841965,-2.2059638750111827,-1.1716415708382013,7.702222086909288,1.8140193178000252,-8.754384186145064,-7.422831664533407,-2.4249696096111304,3.2867534961177696,-7.649442735898542,-8.345577396935692,-8.642692470810989,-4.117117053742886,-2.426660135389014,-6.838329603365209,7.639881918130909,7.682570596721288,-5.397513820747629,7.5518707975538195,-7.162072035695272,-7.644858977000168,-8.096342933426294,-5.5157437508690075,-6.215680835815394,7.428716680228639,-2.4749911418529327,7.646269110771893,-6.601240634674574,-7.9067927287624915,-6.275632062071897,-4.846406179419491,1.3286096962037055,-2.690003514030003,-0.446777735586591,-8.758057940323756,-3.8216883706575113,-8.22259970271264,-7.597040268785144,-5.1144010744375255,-8.567462018205044,-2.6569550749816084,-6.175204208883831,3.5299726688835427,-1.6314962217167304,-6.552684064583608,6.919830392729955,-2.7639853083741186,-8.48579024491391,-1.5007209801821555,2.761529936549227,-5.2921352470419505,-8.435306378659083,-1.4976981610938345,-7.247026844807411,-8.077539207422722,-8.357314592639575,-3.318268072573223,-6.395661471368763,-2.9396669794244077,2.071007329211402,0.6323691807590829,-2.3966452445453714,7.426677656602597,-1.4681179659042167,-8.027972487635008,-2.057667607897185,7.871878241059368,-7.905679641029056,-8.624703146336163,1.838198554175171,-8.472988381904083,-4.398883310197207,7.534335180360372,-8.143620586817772,-8.1815493421813,-8.874346942354641,-8.10141802979562,-0.794670656630813,-3.7939708630009807,-0.9316743392312389,-7.37064116847178,-8.325468366807005,3.0612884442705472,-6.395146410464237,-3.9982825528909243,-8.410881854274349,-3.5978203045969526,-2.3133532343280736,-7.780734553422844,-1.5481609505550138,-7.5663205383144785,-8.351692241137462,-8.45160371167916,-2.0173057995024073,2.2033640457494026,-8.541970080199341,-7.538851136160125,-5.1537621833302,-6.75197534805036,-7.812422601711319,-2.3497532927730043,-8.064918107303415,-3.155811873469972,8.247580700564681,-8.132945773545133,-7.040333946073362,-3.553108793285017,-8.161467933520665,-2.1209361509004845,3.314861376550006,3.7639636648907504,8.317150247624264,-8.506090922727248,-3.9550061136420482,-5.285407252066396,-5.33970180458411,5.225656467198498,-7.036148201139285,7.65181302861158,-7.601691439992134,-2.864562092025265,7.604504814240338,-7.861113899001424,-8.464753632171048,-6.989443145495489,-3.0046087964634016,-8.324274822717884,-7.5946593804773554,-8.504180925452536,-2.0364382967095085,-1.837261545953103,3.3085951935140154,-8.519763993347318,-8.17486830182717,-3.937967558205535,-8.804621767533867,-3.874114769282791,8.286652598061755,3.7018699768377625,-5.109616811730552,5.340188143048742,-8.43108206584962,-1.1451162356551983,-8.330117769360221,3.3247679444215996,1.3226521253459405,-8.24758536662642,-7.444369469649895,-4.406239517429422,0.9868913052929678,-1.2534408365374974,-7.907544813905371,7.156762126459862,-2.3027956626507593,-8.617722977683723,8.33922537441491,-8.532433761797375,-3.600483742481363,7.32057628378278,7.933275647013547,7.375184102520437,-3.499291859554467,-7.487321489367028,-3.443019763542862,-2.9809669132487,-3.1710526049841405,7.761553640846228,1.349652718174318,-2.3695156080859565,7.9601828936052765,-8.455481886987908,2.655792961530815,-7.267842251425191,-6.318622164033456,-0.8018895029772488,-7.566112932094078,-3.717062757401013,-2.184934635237744,-1.7391063578669343,-7.591943539186943,-8.591844323512763,0.9548374126806352,-6.557538663638062,-7.428243502160156,-2.3866812251327567,-5.066793748836493,-8.208586396669686,-8.990569565331038,-3.0846811274322645,-8.491789796575228,-8.571829764494483,-6.364206630919799,-5.516381714458653,-2.4352539081128226,8.261655639184932,-4.5011117188352525,-4.658699977087677,-8.638920296215904,8.313934858686494,-8.988771404177065,-5.785867952016563,-8.320819981485307,-2.252149916725609,7.143993771544103,8.14594876946155,-6.332372695043074,0.9756410248601206,6.907200108394663,-7.414989646721212,-8.684919822260845,-6.763757574289338,-7.170251489825705,-2.4092940337193127,-6.988686501205685,-8.512866837790973,0.3036647963998808,-8.227461494230768,0.7292891834498076,-7.775228455862056,-7.089729317953969,7.540434330031014,7.983108918156482,4.434179598436556,-4.408632990095633,7.401363962512759,0.8879966591455511,7.680858552348519,-5.136212672047928,-5.040086689841664,-2.491559263084324,7.912165848443421,0.5265435405649793,-1.134851649425621,7.807258125640759,-8.415203504980155,-2.6175571293143665,-1.561186684679762,-0.0016194789530543348,7.00840204621092,0.24294845041469346,-8.144650529685524,-6.0619124586395605,1.460559312793184,1.3370245915325116,-7.1822626789702095,-8.587460237133934,-6.839911534958408,-4.319330955699348,-0.3923232572004985,-6.7444923022293075,6.850673350049976,0.5805658511842302,-1.3209899297440266,7.926573342484261,1.5511682546069943,-7.708345326970266,-4.329245436243246,-4.802918665832128,-8.536479177383342,-5.6939615828109424,3.317479724184198,-8.209125200492869,-6.368911249990973,-8.211808856192832,1.8683409113443514,-2.394864138720741,1.3198509330926493,3.6718168324541467,1.4937671231424399,7.917210404052619,-7.299518456751942,0.9981304756409474,7.5869371953,3.612118167750572,8.074297987430745,7.1214347249437635,7.770048668678267,-8.24581717102044,-3.623937908049458,-7.277831957436265,-6.726757907792994,-7.9740529709891215,-8.527838975901394,-7.40423624579084]}},\"id\":\"66f090c2-7f3b-4f62-b898-51ee931f1555\",\"type\":\"ColumnDataSource\"},{\"attributes\":{\"callback\":null,\"plot\":{\"id\":\"1fae314f-5af9-4416-9a56-9377734288d6\",\"subtype\":\"Figure\",\"type\":\"Plot\"},\"tooltips\":[[\"atleta\",\"@player_name\"]]},\"id\":\"cfa97158-254d-4f64-9e6e-3a05a18b3d16\",\"type\":\"HoverTool\"},{\"attributes\":{\"fill_alpha\":{\"value\":0.1},\"fill_color\":{\"value\":\"#1f77b4\"},\"line_alpha\":{\"value\":0.1},\"line_color\":{\"value\":\"#1f77b4\"},\"size\":{\"units\":\"screen\",\"value\":10},\"x\":{\"field\":\"x\"},\"y\":{\"field\":\"y\"}},\"id\":\"44f1e6ca-dc46-426a-8649-c8f1340b5809\",\"type\":\"Circle\"},{\"attributes\":{\"plot\":{\"id\":\"7c69fc51-ca26-49f4-82db-5b913289350a\",\"subtype\":\"Figure\",\"type\":\"Plot\"}},\"id\":\"27dab348-7069-4ad6-aa4c-b029f75fa2a8\",\"type\":\"PreviewSaveTool\"},{\"attributes\":{\"plot\":{\"id\":\"f8103876-7f50-4c2f-9579-c7feedc99ec6\",\"subtype\":\"Figure\",\"type\":\"Plot\"},\"ticker\":{\"id\":\"17aeabab-427b-43d7-8c08-c707f796e2ab\",\"type\":\"BasicTicker\"}},\"id\":\"2861fd8e-8dfb-4fdd-8c81-f79b80895cb1\",\"type\":\"Grid\"},{\"attributes\":{},\"id\":\"3251ef16-44d2-4080-afd2-eb703e7f487a\",\"type\":\"BasicTickFormatter\"},{\"attributes\":{\"plot\":{\"id\":\"7c69fc51-ca26-49f4-82db-5b913289350a\",\"subtype\":\"Figure\",\"type\":\"Plot\"}},\"id\":\"ab3f9f5b-dbf9-4a30-b2ad-8337ebfd6cd2\",\"type\":\"PanTool\"},{\"attributes\":{\"fill_alpha\":{\"value\":0.1},\"fill_color\":{\"value\":\"#1f77b4\"},\"line_alpha\":{\"value\":0.1},\"line_color\":{\"value\":\"#1f77b4\"},\"size\":{\"units\":\"screen\",\"value\":10},\"x\":{\"field\":\"x\"},\"y\":{\"field\":\"y\"}},\"id\":\"8c3acb0c-fde0-409f-a9f0-09b915e13573\",\"type\":\"Circle\"},{\"attributes\":{\"dimension\":1,\"plot\":{\"id\":\"1fae314f-5af9-4416-9a56-9377734288d6\",\"subtype\":\"Figure\",\"type\":\"Plot\"},\"ticker\":{\"id\":\"36928a9e-7fb3-457c-b9a1-a612546d4b53\",\"type\":\"BasicTicker\"}},\"id\":\"06a7f54a-9f5a-4f11-b290-98134561cf2d\",\"type\":\"Grid\"},{\"attributes\":{},\"id\":\"851e2cd3-728a-4055-ba7a-de3fe9c38e96\",\"type\":\"BasicTickFormatter\"},{\"attributes\":{\"callback\":null,\"column_names\":[\"pais\",\"index\",\"dif_gol\",\"percent\",\"y\",\"x\"],\"data\":{\"dif_gol\":[0,1,2,3,4,5,6,7,0,1,2,3,4,5,6,7,8,0,1,2,3,4,5,6,9,0,1,2,3,4,5,6,7,8,0,1,2,3,4,5,6,7,0,1,2,3,4,5,6,7,10,0,1,2,3,4,5,6,0,1,2,3,4,5,6,7,0,1,2,3,4,5,6,7,9,0,1,2,3,4,5,6,7,8,0,1,2,3,4,5,6,7],\"index\":[0,1,2,3,4,5,6,7,8,9,10,11,12,13,14,15,16,17,18,19,20,21,22,23,24,25,26,27,28,29,30,31,32,33,34,35,36,37,38,39,40,41,42,43,44,45,46,47,48,49,50,51,52,53,54,55,56,57,58,59,60,61,62,63,64,65,66,67,68,69,70,71,72,73,74,75,76,77,78,79,80,81,82,83,84,85,86,87,88,89,90,91],\"pais\":[\"Belgium\",\"Belgium\",\"Belgium\",\"Belgium\",\"Belgium\",\"Belgium\",\"Belgium\",\"Belgium\",\"England\",\"England\",\"England\",\"England\",\"England\",\"England\",\"England\",\"England\",\"England\",\"France\",\"France\",\"France\",\"France\",\"France\",\"France\",\"France\",\"France\",\"Germany\",\"Germany\",\"Germany\",\"Germany\",\"Germany\",\"Germany\",\"Germany\",\"Germany\",\"Germany\",\"Italy\",\"Italy\",\"Italy\",\"Italy\",\"Italy\",\"Italy\",\"Italy\",\"Italy\",\"Netherlands\",\"Netherlands\",\"Netherlands\",\"Netherlands\",\"Netherlands\",\"Netherlands\",\"Netherlands\",\"Netherlands\",\"Netherlands\",\"Poland\",\"Poland\",\"Poland\",\"Poland\",\"Poland\",\"Poland\",\"Poland\",\"Portugal\",\"Portugal\",\"Portugal\",\"Portugal\",\"Portugal\",\"Portugal\",\"Portugal\",\"Portugal\",\"Scotland\",\"Scotland\",\"Scotland\",\"Scotland\",\"Scotland\",\"Scotland\",\"Scotland\",\"Scotland\",\"Scotland\",\"Spain\",\"Spain\",\"Spain\",\"Spain\",\"Spain\",\"Spain\",\"Spain\",\"Spain\",\"Spain\",\"Switzerland\",\"Switzerland\",\"Switzerland\",\"Switzerland\",\"Switzerland\",\"Switzerland\",\"Switzerland\",\"Switzerland\"],\"percent\":[0.24594907407407407,0.36689814814814814,0.23842592592592593,0.09375,0.03587962962962963,0.011574074074074073,0.006944444444444444,0.0005787037037037037,0.25848303393213573,0.37791084497671323,0.20658682634730538,0.09880239520958084,0.03592814371257485,0.014970059880239521,0.0053226879574184965,0.0006653359946773121,0.0013306719893546241,0.2825657894736842,0.3819078947368421,0.21710526315789475,0.07730263157894737,0.03256578947368421,0.007236842105263158,0.000986842105263158,0.0003289473684210526,0.24387254901960784,0.3472222222222222,0.22794117647058823,0.11070261437908496,0.049019607843137254,0.014705882352941176,0.003676470588235294,0.0024509803921568627,0.0004084967320261438,0.2638382499171362,0.3788531653960888,0.23268147166059,0.09115014915478953,0.02684786211468346,0.004308916141862778,0.0009943652635067948,0.001325820351342393,0.23733660130718953,0.3002450980392157,0.24959150326797386,0.12826797385620914,0.056372549019607844,0.017973856209150325,0.007761437908496732,0.002042483660130719,0.0004084967320261438,0.2734375,0.39010416666666664,0.21041666666666667,0.0875,0.028645833333333332,0.0078125,0.0020833333333333333,0.2597465886939571,0.39035087719298245,0.21442495126705652,0.07943469785575048,0.037037037037037035,0.015594541910331383,0.0029239766081871343,0.0004873294346978557,0.2450657894736842,0.3925438596491228,0.20339912280701755,0.09649122807017543,0.044407894736842105,0.01206140350877193,0.003837719298245614,0.001644736842105263,0.0005482456140350877,0.23157894736842105,0.3832236842105263,0.20657894736842106,0.1006578947368421,0.05098684210526316,0.016776315789473684,0.00625,0.001973684210526316,0.001973684210526316,0.24331926863572434,0.349507735583685,0.22573839662447256,0.10759493670886076,0.05414908579465542,0.011954992967651195,0.005625879043600563,0.002109704641350211],\"x\":[0,1,2,3,4,5,6,7,0,1,2,3,4,5,6,7,8,0,1,2,3,4,5,6,9,0,1,2,3,4,5,6,7,8,0,1,2,3,4,5,6,7,0,1,2,3,4,5,6,7,10,0,1,2,3,4,5,6,0,1,2,3,4,5,6,7,0,1,2,3,4,5,6,7,9,0,1,2,3,4,5,6,7,8,0,1,2,3,4,5,6,7],\"y\":[0.24594907407407407,0.36689814814814814,0.23842592592592593,0.09375,0.03587962962962963,0.011574074074074073,0.006944444444444444,0.0005787037037037037,0.25848303393213573,0.37791084497671323,0.20658682634730538,0.09880239520958084,0.03592814371257485,0.014970059880239521,0.0053226879574184965,0.0006653359946773121,0.0013306719893546241,0.2825657894736842,0.3819078947368421,0.21710526315789475,0.07730263157894737,0.03256578947368421,0.007236842105263158,0.000986842105263158,0.0003289473684210526,0.24387254901960784,0.3472222222222222,0.22794117647058823,0.11070261437908496,0.049019607843137254,0.014705882352941176,0.003676470588235294,0.0024509803921568627,0.0004084967320261438,0.2638382499171362,0.3788531653960888,0.23268147166059,0.09115014915478953,0.02684786211468346,0.004308916141862778,0.0009943652635067948,0.001325820351342393,0.23733660130718953,0.3002450980392157,0.24959150326797386,0.12826797385620914,0.056372549019607844,0.017973856209150325,0.007761437908496732,0.002042483660130719,0.0004084967320261438,0.2734375,0.39010416666666664,0.21041666666666667,0.0875,0.028645833333333332,0.0078125,0.0020833333333333333,0.2597465886939571,0.39035087719298245,0.21442495126705652,0.07943469785575048,0.037037037037037035,0.015594541910331383,0.0029239766081871343,0.0004873294346978557,0.2450657894736842,0.3925438596491228,0.20339912280701755,0.09649122807017543,0.044407894736842105,0.01206140350877193,0.003837719298245614,0.001644736842105263,0.0005482456140350877,0.23157894736842105,0.3832236842105263,0.20657894736842106,0.1006578947368421,0.05098684210526316,0.016776315789473684,0.00625,0.001973684210526316,0.001973684210526316,0.24331926863572434,0.349507735583685,0.22573839662447256,0.10759493670886076,0.05414908579465542,0.011954992967651195,0.005625879043600563,0.002109704641350211]}},\"id\":\"b235259b-26b3-4763-bc14-a7726a3feda9\",\"type\":\"ColumnDataSource\"},{\"attributes\":{},\"id\":\"a88a09ef-8d6c-4128-8a1c-8f51a816ec0c\",\"type\":\"BasicTickFormatter\"},{\"attributes\":{\"overlay\":{\"id\":\"8fa24edf-4c97-420b-ab44-eb48cef742c0\",\"type\":\"BoxAnnotation\"},\"plot\":{\"id\":\"1fae314f-5af9-4416-9a56-9377734288d6\",\"subtype\":\"Figure\",\"type\":\"Plot\"}},\"id\":\"644a53d9-947a-4eb3-b895-182bd56504f5\",\"type\":\"BoxZoomTool\"},{\"attributes\":{\"callback\":null},\"id\":\"e052627a-3a30-4b9f-bace-02d45efb8926\",\"type\":\"DataRange1d\"},{\"attributes\":{\"plot\":{\"id\":\"7c69fc51-ca26-49f4-82db-5b913289350a\",\"subtype\":\"Figure\",\"type\":\"Plot\"}},\"id\":\"0d04b128-9cf6-4d41-9ed4-f8f49f68a3f0\",\"type\":\"ResetTool\"},{\"attributes\":{},\"id\":\"b819d39d-6208-4b92-980f-004725dcc7d8\",\"type\":\"BasicTicker\"},{\"attributes\":{\"plot\":{\"id\":\"f8103876-7f50-4c2f-9579-c7feedc99ec6\",\"subtype\":\"Figure\",\"type\":\"Plot\"}},\"id\":\"71eb8f75-550a-4b93-bd0e-3398ecd267b2\",\"type\":\"PreviewSaveTool\"},{\"attributes\":{\"plot\":{\"id\":\"f8103876-7f50-4c2f-9579-c7feedc99ec6\",\"subtype\":\"Figure\",\"type\":\"Plot\"}},\"id\":\"4f9802de-fdfa-442e-890d-0e89fb43dea9\",\"type\":\"PanTool\"},{\"attributes\":{},\"id\":\"17aeabab-427b-43d7-8c08-c707f796e2ab\",\"type\":\"BasicTicker\"}],\"root_ids\":[\"f8103876-7f50-4c2f-9579-c7feedc99ec6\",\"1fae314f-5af9-4416-9a56-9377734288d6\",\"7c69fc51-ca26-49f4-82db-5b913289350a\"]},\"title\":\"Bokeh Application\",\"version\":\"0.11.1\"}};\n",
       "            var render_items = [{\"docid\":\"8ca766e3-9fd4-41d9-8894-59fad76839b8\",\"elementid\":\"5499c85d-4a91-449a-aad6-096510223b51\",\"modelid\":\"7c69fc51-ca26-49f4-82db-5b913289350a\",\"notebook_comms_target\":\"847ac7a4-ee9d-4ca0-ad6a-660e6fe58c7e\"}];\n",
       "            \n",
       "            Bokeh.embed.embed_items(docs_json, render_items);\n",
       "        });\n",
       "      },\n",
       "      function(Bokeh) {\n",
       "      }\n",
       "    ];\n",
       "  \n",
       "    function run_inline_js() {\n",
       "      for (var i = 0; i < inline_js.length; i++) {\n",
       "        inline_js[i](window.Bokeh);\n",
       "      }\n",
       "    }\n",
       "  \n",
       "    if (window._bokeh_is_loading === 0) {\n",
       "      console.log(\"Bokeh: BokehJS loaded, going straight to plotting\");\n",
       "      run_inline_js();\n",
       "    } else {\n",
       "      load_libs(js_urls, function() {\n",
       "        console.log(\"Bokeh: BokehJS plotting callback run at\", now());\n",
       "        run_inline_js();\n",
       "      });\n",
       "    }\n",
       "  }(this));\n",
       "</script>"
      ]
     },
     "metadata": {},
     "output_type": "display_data"
    },
    {
     "data": {
      "text/html": [
       "<p><code>&lt;Bokeh Notebook handle for <strong>In[48]</strong>&gt;</code></p>"
      ],
      "text/plain": [
       "<bokeh.io._CommsHandle at 0x41b4d8d0>"
      ]
     },
     "execution_count": 48,
     "metadata": {},
     "output_type": "execute_result"
    }
   ],
   "source": [
    "tmp = players[cols]\n",
    "tmp['comp1'], tmp['comp2'] = tsne_comp[:,0], tsne_comp[:,1]\n",
    "tmp['potential_growth'] = tmp.potential - tmp.overall_rating\n",
    "tmp = tmp[(tmp.potential_growth >= 5) & (tmp.overall_rating >= 75)]\n",
    "\n",
    "_tools = 'box_zoom,pan,save,resize,reset,tap,wheel_zoom'\n",
    "fig = figure(tools=_tools, title='t-SNE of Potential Top Players (FIFA stats)', responsive=True,\n",
    "             x_axis_label='Component 1', y_axis_label='Component 2')\n",
    "\n",
    "source = ColumnDataSource(tmp)\n",
    "hover = HoverTool()\n",
    "hover.tooltips=[('Jogador','@player_name'),]\n",
    "fig.scatter(tmp['comp1'], tmp['comp2'], source=source, size=10, alpha=1,\n",
    "            line_color='blue', fill_color='blue')\n",
    "\n",
    "fig.add_tools(hover)\n",
    "\n",
    "show(fig)"
   ]
  },
  {
   "cell_type": "code",
   "execution_count": 49,
   "metadata": {
    "collapsed": false
   },
   "outputs": [
    {
     "data": {
      "text/html": [
       "<div>\n",
       "<table border=\"1\" class=\"dataframe\">\n",
       "  <thead>\n",
       "    <tr style=\"text-align: right;\">\n",
       "      <th></th>\n",
       "      <th>year</th>\n",
       "      <th>player_api_id</th>\n",
       "      <th>player_name</th>\n",
       "      <th>overall_rating</th>\n",
       "      <th>id</th>\n",
       "      <th>player_fifa_api_id</th>\n",
       "      <th>birthday</th>\n",
       "      <th>height</th>\n",
       "      <th>weight</th>\n",
       "      <th>ano_nasc</th>\n",
       "      <th>idade</th>\n",
       "      <th>idade_em_2007</th>\n",
       "    </tr>\n",
       "  </thead>\n",
       "  <tbody>\n",
       "    <tr>\n",
       "      <th>0</th>\n",
       "      <td>2007</td>\n",
       "      <td>19533</td>\n",
       "      <td>Neymar</td>\n",
       "      <td>73.0</td>\n",
       "      <td>7863</td>\n",
       "      <td>190871</td>\n",
       "      <td>1992-02-05 00:00:00</td>\n",
       "      <td>175.26</td>\n",
       "      <td>150</td>\n",
       "      <td>1992</td>\n",
       "      <td>24</td>\n",
       "      <td>15</td>\n",
       "    </tr>\n",
       "    <tr>\n",
       "      <th>1</th>\n",
       "      <td>2009</td>\n",
       "      <td>19533</td>\n",
       "      <td>Neymar</td>\n",
       "      <td>73.0</td>\n",
       "      <td>7863</td>\n",
       "      <td>190871</td>\n",
       "      <td>1992-02-05 00:00:00</td>\n",
       "      <td>175.26</td>\n",
       "      <td>150</td>\n",
       "      <td>1992</td>\n",
       "      <td>24</td>\n",
       "      <td>15</td>\n",
       "    </tr>\n",
       "    <tr>\n",
       "      <th>2</th>\n",
       "      <td>2010</td>\n",
       "      <td>19533</td>\n",
       "      <td>Neymar</td>\n",
       "      <td>77.5</td>\n",
       "      <td>7863</td>\n",
       "      <td>190871</td>\n",
       "      <td>1992-02-05 00:00:00</td>\n",
       "      <td>175.26</td>\n",
       "      <td>150</td>\n",
       "      <td>1992</td>\n",
       "      <td>24</td>\n",
       "      <td>15</td>\n",
       "    </tr>\n",
       "    <tr>\n",
       "      <th>3</th>\n",
       "      <td>2011</td>\n",
       "      <td>19533</td>\n",
       "      <td>Neymar</td>\n",
       "      <td>82.5</td>\n",
       "      <td>7863</td>\n",
       "      <td>190871</td>\n",
       "      <td>1992-02-05 00:00:00</td>\n",
       "      <td>175.26</td>\n",
       "      <td>150</td>\n",
       "      <td>1992</td>\n",
       "      <td>24</td>\n",
       "      <td>15</td>\n",
       "    </tr>\n",
       "    <tr>\n",
       "      <th>4</th>\n",
       "      <td>2012</td>\n",
       "      <td>19533</td>\n",
       "      <td>Neymar</td>\n",
       "      <td>85.0</td>\n",
       "      <td>7863</td>\n",
       "      <td>190871</td>\n",
       "      <td>1992-02-05 00:00:00</td>\n",
       "      <td>175.26</td>\n",
       "      <td>150</td>\n",
       "      <td>1992</td>\n",
       "      <td>24</td>\n",
       "      <td>15</td>\n",
       "    </tr>\n",
       "  </tbody>\n",
       "</table>\n",
       "</div>"
      ],
      "text/plain": [
       "   year  player_api_id player_name  overall_rating    id  player_fifa_api_id  \\\n",
       "0  2007          19533      Neymar            73.0  7863              190871   \n",
       "1  2009          19533      Neymar            73.0  7863              190871   \n",
       "2  2010          19533      Neymar            77.5  7863              190871   \n",
       "3  2011          19533      Neymar            82.5  7863              190871   \n",
       "4  2012          19533      Neymar            85.0  7863              190871   \n",
       "\n",
       "              birthday  height  weight  ano_nasc  idade  idade_em_2007  \n",
       "0  1992-02-05 00:00:00  175.26     150      1992     24             15  \n",
       "1  1992-02-05 00:00:00  175.26     150      1992     24             15  \n",
       "2  1992-02-05 00:00:00  175.26     150      1992     24             15  \n",
       "3  1992-02-05 00:00:00  175.26     150      1992     24             15  \n",
       "4  1992-02-05 00:00:00  175.26     150      1992     24             15  "
      ]
     },
     "execution_count": 49,
     "metadata": {},
     "output_type": "execute_result"
    }
   ],
   "source": [
    "renato = pd.merge(evolution, Player).sort_values('idade_em_2007', ascending=True)\n",
    "renato.head()"
   ]
  },
  {
   "cell_type": "code",
   "execution_count": 50,
   "metadata": {
    "collapsed": false
   },
   "outputs": [
    {
     "data": {
      "image/png": "[encoded data removed]",
      "text/plain": [
       "<matplotlib.figure.Figure at 0x15cc4630>"
      ]
     },
     "metadata": {},
     "output_type": "display_data"
    }
   ],
   "source": [
    "a = sns.factorplot(data=renato[renato.player_api_id.isin(ids[0:8])], x='year',\n",
    "                   y='overall_rating', hue='idade_em_2007', size=6, aspect=2,kind='point',orient='v',legend_out=True)"
   ]
  }
 ],
 "metadata": {
  "kernelspec": {
   "display_name": "Python 3",
   "language": "python",
   "name": "python3"
  },
  "language_info": {
   "codemirror_mode": {
    "name": "ipython",
    "version": 3
   },
   "file_extension": ".py",
   "mimetype": "text/x-python",
   "name": "python",
   "nbconvert_exporter": "python",
   "pygments_lexer": "ipython3",
   "version": "3.5.1"
  }
 },
 "nbformat": 4,
 "nbformat_minor": 0
}
